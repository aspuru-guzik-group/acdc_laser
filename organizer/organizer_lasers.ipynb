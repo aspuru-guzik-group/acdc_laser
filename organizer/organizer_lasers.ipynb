{
 "cells": [
  {
   "cell_type": "code",
   "execution_count": 22,
   "id": "18392a65",
   "metadata": {},
   "outputs": [
    {
     "name": "stdout",
     "output_type": "stream",
     "text": [
      "The autoreload extension is already loaded. To reload it, use:\n",
      "  %reload_ext autoreload\n"
     ]
    }
   ],
   "source": [
    "%load_ext autoreload\n",
    "%autoreload 2"
   ]
  },
  {
   "cell_type": "code",
   "execution_count": 23,
   "id": "126234a2",
   "metadata": {},
   "outputs": [],
   "source": [
    "import os, sys\n",
    "import time\n",
    "import pickle\n",
    "import numpy as np\n",
    "import pandas as pd\n",
    "import matplotlib.pyplot as plt\n",
    "import seaborn as sns\n",
    "\n",
    "import torch\n",
    "import gpytorch\n",
    "from scipy.stats import pearsonr, spearmanr\n",
    "from sklearn.metrics import mean_absolute_error\n",
    "\n",
    "import rdkit\n",
    "import rdkit.Chem as chem\n",
    "import rdkit.Chem.AllChem as allchem\n",
    "\n",
    "from ngboost import NGBRegressor\n",
    "\n",
    "from mordred import Calculator, descriptors\n",
    "\n",
    "from molar_interface import MolarInterface\n",
    "\n",
    "from sklearn.decomposition import PCA\n",
    "from sklearn.preprocessing import StandardScaler, MinMaxScaler"
   ]
  },
  {
   "cell_type": "markdown",
   "id": "d533d069",
   "metadata": {},
   "source": [
    "## Make connection to the MolarDB "
   ]
  },
  {
   "cell_type": "code",
   "execution_count": 24,
   "id": "05bc9fe0",
   "metadata": {},
   "outputs": [],
   "source": [
    "# define user details\n",
    "user_details = {\n",
    "    'email':'riley.hickman13@gmail.com',\n",
    "    'password':'az1$jH5v',\n",
    "}\n"
   ]
  },
  {
   "cell_type": "code",
   "execution_count": 25,
   "id": "caf7dc35",
   "metadata": {},
   "outputs": [
    {
     "data": {
      "text/plain": [
       "{'email': 'riley.hickman13@gmail.com',\n",
       " 'is_superuser': False,\n",
       " 'is_active': True,\n",
       " 'full_name': 'rileyhickman',\n",
       " 'created_on': '2022-01-18T19:16:33.241173',\n",
       " 'user_id': 3}"
      ]
     },
     "execution_count": 25,
     "metadata": {},
     "output_type": "execute_result"
    }
   ],
   "source": [
    "db = MolarInterface(user_details, database_name='organizer_laser') # client in client attribute\n",
    "db.client.test_token()"
   ]
  },
  {
   "cell_type": "markdown",
   "id": "5e13e765",
   "metadata": {},
   "source": [
    "## Retrieve the first set of molecules in the DB\n",
    "\n",
    "We use a filtered query to return all of the molecules for which we have tried to measure the optical properties. \n",
    "\n",
    "40 syntheses tested in total (33 success, 7 failed)\n",
    "\n",
    "\n",
    "properties listed include: \n",
    "\n",
    "* tau1 \n",
    "* tau2 \n",
    "* abs_end\n",
    "* abs_max\n",
    "* max_gain_wl\n",
    "* relative_QY\n",
    "* PL_lambda_max\n",
    "* abs_lambda_max\n",
    "* max_gain_factor\n",
    "* PL_max_intensity \n",
    "* validation_status (bool)\n",
    "* gain_cross_section \n",
    "* PL_degradation_rate\n",
    "* abs_degradation_rate\n",
    "\n",
    "\n",
    "The entire set of available C frags constitutes 133 structures, 40 of which have already been tested in the first round, therefore, there should be 93 heldout structures to chose form for the next round\n",
    "\n",
    "We will pick a batch of 40\n"
   ]
  },
  {
   "cell_type": "code",
   "execution_count": 26,
   "id": "4e48af48",
   "metadata": {},
   "outputs": [],
   "source": [
    "# custom query to get the molecules with the optical properties\n",
    "df = db.client.query_database(\n",
    "    [\n",
    "      'machine',\n",
    "      'lab',\n",
    "      'synthesis',\n",
    "      'molecule',\n",
    "      'molecule_molecule',\n",
    "      'molecule.optical_properties',\n",
    "    ],\n",
    "    joins = [\n",
    "      {\n",
    "        'type': 'molecule',\n",
    "        'on': {\n",
    "          'column1': 'molecule.molecule_id',\n",
    "          'column2': 'synthesis.molecule_id',\n",
    "            \n",
    "        },\n",
    "      },\n",
    "      {\n",
    "        'type': 'molecule_molecule',\n",
    "        'on': {\n",
    "          'column1': 'molecule_molecule.molecule_id',\n",
    "          'column2': 'molecule.molecule_id',\n",
    "        },\n",
    "      },\n",
    "      {\n",
    "        'type': 'machine',\n",
    "        'on': {\n",
    "          'column1': 'machine.machine_id',\n",
    "          'column2': 'synthesis.machine_id',\n",
    "        },\n",
    "      },\n",
    "      {\n",
    "        'type': 'lab',\n",
    "        'on': {\n",
    "          'column1': 'lab.lab_id',\n",
    "          'column2': 'synthesis.lab_id',\n",
    "        },\n",
    "      },\n",
    "    ],\n",
    "limit=1000)"
   ]
  },
  {
   "cell_type": "code",
   "execution_count": 27,
   "id": "5566c285",
   "metadata": {},
   "outputs": [
    {
     "name": "stdout",
     "output_type": "stream",
     "text": [
      "(40, 31)\n",
      "DONE      33\n",
      "FAILED     7\n",
      "Name: synthesis.status, dtype: int64\n"
     ]
    },
    {
     "data": {
      "text/html": [
       "<div>\n",
       "<style scoped>\n",
       "    .dataframe tbody tr th:only-of-type {\n",
       "        vertical-align: middle;\n",
       "    }\n",
       "\n",
       "    .dataframe tbody tr th {\n",
       "        vertical-align: top;\n",
       "    }\n",
       "\n",
       "    .dataframe thead th {\n",
       "        text-align: right;\n",
       "    }\n",
       "</style>\n",
       "<table border=\"1\" class=\"dataframe\">\n",
       "  <thead>\n",
       "    <tr style=\"text-align: right;\">\n",
       "      <th></th>\n",
       "      <th>machine.machine_id</th>\n",
       "      <th>machine.created_on</th>\n",
       "      <th>machine.updated_on</th>\n",
       "      <th>machine.name</th>\n",
       "      <th>machine.lab_id</th>\n",
       "      <th>lab.lab_id</th>\n",
       "      <th>lab.created_on</th>\n",
       "      <th>lab.updated_on</th>\n",
       "      <th>lab.name</th>\n",
       "      <th>synthesis.synthesis_id</th>\n",
       "      <th>...</th>\n",
       "      <th>molecule.optical_properties</th>\n",
       "      <th>molecule.commercially_available</th>\n",
       "      <th>molecule.molecule_type_id</th>\n",
       "      <th>molecule_molecule.molecule_molecule_id</th>\n",
       "      <th>molecule_molecule.created_on</th>\n",
       "      <th>molecule_molecule.updated_on</th>\n",
       "      <th>molecule_molecule.fragment_a</th>\n",
       "      <th>molecule_molecule.fragment_b</th>\n",
       "      <th>molecule_molecule.fragment_c</th>\n",
       "      <th>molecule_molecule.molecule_id</th>\n",
       "    </tr>\n",
       "  </thead>\n",
       "  <tbody>\n",
       "    <tr>\n",
       "      <th>0</th>\n",
       "      <td>5d75e30a-2508-4ec0-8cb7-5b4519ebe53a</td>\n",
       "      <td>2022-07-15T18:28:09.435840</td>\n",
       "      <td>2022-07-15T18:28:09.435840</td>\n",
       "      <td>ChemSpeed</td>\n",
       "      <td>8c71baef-6ffe-428e-b343-7bcd7f65a3e1</td>\n",
       "      <td>8c71baef-6ffe-428e-b343-7bcd7f65a3e1</td>\n",
       "      <td>2022-07-15T18:28:09.091567</td>\n",
       "      <td>2022-07-15T18:28:09.091567</td>\n",
       "      <td>Toronto</td>\n",
       "      <td>78a4835c-a444-4b43-a4a7-42fb16959d12</td>\n",
       "      <td>...</td>\n",
       "      <td>{'tau1': 1.167852587304393, 'tau2': None, 'abs...</td>\n",
       "      <td>False</td>\n",
       "      <td>a2fa8475-792e-4fea-930d-eb72d0f99fda</td>\n",
       "      <td>99c364fd-c0f8-4038-8c9c-14369d85740e</td>\n",
       "      <td>2022-07-24T14:20:49.997926</td>\n",
       "      <td>2022-07-24T14:20:49.997926</td>\n",
       "      <td>b559be9f-d69b-40e1-b6e7-8400b1209bf9</td>\n",
       "      <td>a5aee53d-425c-490d-9ed4-38118acb5eba</td>\n",
       "      <td>5631d850-f818-4905-8672-bfbc7db094c6</td>\n",
       "      <td>0bbc1f80-dda1-4b8f-9f99-6e9326ee70fb</td>\n",
       "    </tr>\n",
       "    <tr>\n",
       "      <th>1</th>\n",
       "      <td>5d75e30a-2508-4ec0-8cb7-5b4519ebe53a</td>\n",
       "      <td>2022-07-15T18:28:09.435840</td>\n",
       "      <td>2022-07-15T18:28:09.435840</td>\n",
       "      <td>ChemSpeed</td>\n",
       "      <td>8c71baef-6ffe-428e-b343-7bcd7f65a3e1</td>\n",
       "      <td>8c71baef-6ffe-428e-b343-7bcd7f65a3e1</td>\n",
       "      <td>2022-07-15T18:28:09.091567</td>\n",
       "      <td>2022-07-15T18:28:09.091567</td>\n",
       "      <td>Toronto</td>\n",
       "      <td>41b37ad8-66e2-4635-9682-1a6651837b29</td>\n",
       "      <td>...</td>\n",
       "      <td>{'tau1': 1.326106010239319, 'tau2': None, 'abs...</td>\n",
       "      <td>False</td>\n",
       "      <td>a2fa8475-792e-4fea-930d-eb72d0f99fda</td>\n",
       "      <td>4e0be5b8-5855-4435-ba50-6b573a381aca</td>\n",
       "      <td>2022-07-24T14:34:48.864338</td>\n",
       "      <td>2022-07-24T14:34:48.864338</td>\n",
       "      <td>b559be9f-d69b-40e1-b6e7-8400b1209bf9</td>\n",
       "      <td>a5aee53d-425c-490d-9ed4-38118acb5eba</td>\n",
       "      <td>206358a4-3e4e-4381-ab4f-9b061171ba37</td>\n",
       "      <td>dbd8d42a-d462-4a00-92e6-fa0a79bc583c</td>\n",
       "    </tr>\n",
       "    <tr>\n",
       "      <th>2</th>\n",
       "      <td>5d75e30a-2508-4ec0-8cb7-5b4519ebe53a</td>\n",
       "      <td>2022-07-15T18:28:09.435840</td>\n",
       "      <td>2022-07-15T18:28:09.435840</td>\n",
       "      <td>ChemSpeed</td>\n",
       "      <td>8c71baef-6ffe-428e-b343-7bcd7f65a3e1</td>\n",
       "      <td>8c71baef-6ffe-428e-b343-7bcd7f65a3e1</td>\n",
       "      <td>2022-07-15T18:28:09.091567</td>\n",
       "      <td>2022-07-15T18:28:09.091567</td>\n",
       "      <td>Toronto</td>\n",
       "      <td>4c111a7d-d086-44d6-8406-ca6d7ffbfaa6</td>\n",
       "      <td>...</td>\n",
       "      <td>{'tau1': 1.2432569989842444, 'tau2': None, 'ab...</td>\n",
       "      <td>False</td>\n",
       "      <td>a2fa8475-792e-4fea-930d-eb72d0f99fda</td>\n",
       "      <td>8e87a647-a56d-4fa0-89f1-a1a8532b5216</td>\n",
       "      <td>2022-07-24T14:34:58.914180</td>\n",
       "      <td>2022-07-24T14:34:58.914180</td>\n",
       "      <td>b559be9f-d69b-40e1-b6e7-8400b1209bf9</td>\n",
       "      <td>a5aee53d-425c-490d-9ed4-38118acb5eba</td>\n",
       "      <td>1e7bac53-a45a-4ab3-8a25-b3835a3b4c38</td>\n",
       "      <td>ce8505b9-7bd5-4ea1-9d90-bd2d8f0cb493</td>\n",
       "    </tr>\n",
       "    <tr>\n",
       "      <th>3</th>\n",
       "      <td>5d75e30a-2508-4ec0-8cb7-5b4519ebe53a</td>\n",
       "      <td>2022-07-15T18:28:09.435840</td>\n",
       "      <td>2022-07-15T18:28:09.435840</td>\n",
       "      <td>ChemSpeed</td>\n",
       "      <td>8c71baef-6ffe-428e-b343-7bcd7f65a3e1</td>\n",
       "      <td>8c71baef-6ffe-428e-b343-7bcd7f65a3e1</td>\n",
       "      <td>2022-07-15T18:28:09.091567</td>\n",
       "      <td>2022-07-15T18:28:09.091567</td>\n",
       "      <td>Toronto</td>\n",
       "      <td>77886175-2a6d-40c2-bce4-f5aecb305a13</td>\n",
       "      <td>...</td>\n",
       "      <td>{'tau1': 2.6058556280711582, 'tau2': None, 'ab...</td>\n",
       "      <td>False</td>\n",
       "      <td>a2fa8475-792e-4fea-930d-eb72d0f99fda</td>\n",
       "      <td>f1655c2a-6c6d-44e0-b8e1-589f5256ce60</td>\n",
       "      <td>2022-07-24T14:35:08.655682</td>\n",
       "      <td>2022-07-24T14:35:08.655682</td>\n",
       "      <td>b559be9f-d69b-40e1-b6e7-8400b1209bf9</td>\n",
       "      <td>a5aee53d-425c-490d-9ed4-38118acb5eba</td>\n",
       "      <td>c63f45da-0d55-4999-abec-9224c644ad27</td>\n",
       "      <td>3df2f8bf-9489-43b0-a701-43132e7ad7e1</td>\n",
       "    </tr>\n",
       "    <tr>\n",
       "      <th>4</th>\n",
       "      <td>5d75e30a-2508-4ec0-8cb7-5b4519ebe53a</td>\n",
       "      <td>2022-07-15T18:28:09.435840</td>\n",
       "      <td>2022-07-15T18:28:09.435840</td>\n",
       "      <td>ChemSpeed</td>\n",
       "      <td>8c71baef-6ffe-428e-b343-7bcd7f65a3e1</td>\n",
       "      <td>8c71baef-6ffe-428e-b343-7bcd7f65a3e1</td>\n",
       "      <td>2022-07-15T18:28:09.091567</td>\n",
       "      <td>2022-07-15T18:28:09.091567</td>\n",
       "      <td>Toronto</td>\n",
       "      <td>8ef90bde-659e-4703-b8f7-bbc2f9922227</td>\n",
       "      <td>...</td>\n",
       "      <td>{'tau1': 1.3049378623534678, 'tau2': 4.7068837...</td>\n",
       "      <td>False</td>\n",
       "      <td>a2fa8475-792e-4fea-930d-eb72d0f99fda</td>\n",
       "      <td>69a92ac6-2cea-440d-ace4-8a904ca8182b</td>\n",
       "      <td>2022-07-24T14:35:49.300613</td>\n",
       "      <td>2022-07-24T14:35:49.300613</td>\n",
       "      <td>b559be9f-d69b-40e1-b6e7-8400b1209bf9</td>\n",
       "      <td>a5aee53d-425c-490d-9ed4-38118acb5eba</td>\n",
       "      <td>c426c95f-4eeb-4b89-bff7-46001aea9ee7</td>\n",
       "      <td>9fea8c04-5fa4-4b05-bdd2-e01600ac0d30</td>\n",
       "    </tr>\n",
       "  </tbody>\n",
       "</table>\n",
       "<p>5 rows × 31 columns</p>\n",
       "</div>"
      ],
      "text/plain": [
       "                     machine.machine_id          machine.created_on  \\\n",
       "0  5d75e30a-2508-4ec0-8cb7-5b4519ebe53a  2022-07-15T18:28:09.435840   \n",
       "1  5d75e30a-2508-4ec0-8cb7-5b4519ebe53a  2022-07-15T18:28:09.435840   \n",
       "2  5d75e30a-2508-4ec0-8cb7-5b4519ebe53a  2022-07-15T18:28:09.435840   \n",
       "3  5d75e30a-2508-4ec0-8cb7-5b4519ebe53a  2022-07-15T18:28:09.435840   \n",
       "4  5d75e30a-2508-4ec0-8cb7-5b4519ebe53a  2022-07-15T18:28:09.435840   \n",
       "\n",
       "           machine.updated_on machine.name  \\\n",
       "0  2022-07-15T18:28:09.435840    ChemSpeed   \n",
       "1  2022-07-15T18:28:09.435840    ChemSpeed   \n",
       "2  2022-07-15T18:28:09.435840    ChemSpeed   \n",
       "3  2022-07-15T18:28:09.435840    ChemSpeed   \n",
       "4  2022-07-15T18:28:09.435840    ChemSpeed   \n",
       "\n",
       "                         machine.lab_id                            lab.lab_id  \\\n",
       "0  8c71baef-6ffe-428e-b343-7bcd7f65a3e1  8c71baef-6ffe-428e-b343-7bcd7f65a3e1   \n",
       "1  8c71baef-6ffe-428e-b343-7bcd7f65a3e1  8c71baef-6ffe-428e-b343-7bcd7f65a3e1   \n",
       "2  8c71baef-6ffe-428e-b343-7bcd7f65a3e1  8c71baef-6ffe-428e-b343-7bcd7f65a3e1   \n",
       "3  8c71baef-6ffe-428e-b343-7bcd7f65a3e1  8c71baef-6ffe-428e-b343-7bcd7f65a3e1   \n",
       "4  8c71baef-6ffe-428e-b343-7bcd7f65a3e1  8c71baef-6ffe-428e-b343-7bcd7f65a3e1   \n",
       "\n",
       "               lab.created_on              lab.updated_on lab.name  \\\n",
       "0  2022-07-15T18:28:09.091567  2022-07-15T18:28:09.091567  Toronto   \n",
       "1  2022-07-15T18:28:09.091567  2022-07-15T18:28:09.091567  Toronto   \n",
       "2  2022-07-15T18:28:09.091567  2022-07-15T18:28:09.091567  Toronto   \n",
       "3  2022-07-15T18:28:09.091567  2022-07-15T18:28:09.091567  Toronto   \n",
       "4  2022-07-15T18:28:09.091567  2022-07-15T18:28:09.091567  Toronto   \n",
       "\n",
       "                 synthesis.synthesis_id  ...  \\\n",
       "0  78a4835c-a444-4b43-a4a7-42fb16959d12  ...   \n",
       "1  41b37ad8-66e2-4635-9682-1a6651837b29  ...   \n",
       "2  4c111a7d-d086-44d6-8406-ca6d7ffbfaa6  ...   \n",
       "3  77886175-2a6d-40c2-bce4-f5aecb305a13  ...   \n",
       "4  8ef90bde-659e-4703-b8f7-bbc2f9922227  ...   \n",
       "\n",
       "                         molecule.optical_properties  \\\n",
       "0  {'tau1': 1.167852587304393, 'tau2': None, 'abs...   \n",
       "1  {'tau1': 1.326106010239319, 'tau2': None, 'abs...   \n",
       "2  {'tau1': 1.2432569989842444, 'tau2': None, 'ab...   \n",
       "3  {'tau1': 2.6058556280711582, 'tau2': None, 'ab...   \n",
       "4  {'tau1': 1.3049378623534678, 'tau2': 4.7068837...   \n",
       "\n",
       "  molecule.commercially_available             molecule.molecule_type_id  \\\n",
       "0                           False  a2fa8475-792e-4fea-930d-eb72d0f99fda   \n",
       "1                           False  a2fa8475-792e-4fea-930d-eb72d0f99fda   \n",
       "2                           False  a2fa8475-792e-4fea-930d-eb72d0f99fda   \n",
       "3                           False  a2fa8475-792e-4fea-930d-eb72d0f99fda   \n",
       "4                           False  a2fa8475-792e-4fea-930d-eb72d0f99fda   \n",
       "\n",
       "  molecule_molecule.molecule_molecule_id molecule_molecule.created_on  \\\n",
       "0   99c364fd-c0f8-4038-8c9c-14369d85740e   2022-07-24T14:20:49.997926   \n",
       "1   4e0be5b8-5855-4435-ba50-6b573a381aca   2022-07-24T14:34:48.864338   \n",
       "2   8e87a647-a56d-4fa0-89f1-a1a8532b5216   2022-07-24T14:34:58.914180   \n",
       "3   f1655c2a-6c6d-44e0-b8e1-589f5256ce60   2022-07-24T14:35:08.655682   \n",
       "4   69a92ac6-2cea-440d-ace4-8a904ca8182b   2022-07-24T14:35:49.300613   \n",
       "\n",
       "  molecule_molecule.updated_on          molecule_molecule.fragment_a  \\\n",
       "0   2022-07-24T14:20:49.997926  b559be9f-d69b-40e1-b6e7-8400b1209bf9   \n",
       "1   2022-07-24T14:34:48.864338  b559be9f-d69b-40e1-b6e7-8400b1209bf9   \n",
       "2   2022-07-24T14:34:58.914180  b559be9f-d69b-40e1-b6e7-8400b1209bf9   \n",
       "3   2022-07-24T14:35:08.655682  b559be9f-d69b-40e1-b6e7-8400b1209bf9   \n",
       "4   2022-07-24T14:35:49.300613  b559be9f-d69b-40e1-b6e7-8400b1209bf9   \n",
       "\n",
       "           molecule_molecule.fragment_b          molecule_molecule.fragment_c  \\\n",
       "0  a5aee53d-425c-490d-9ed4-38118acb5eba  5631d850-f818-4905-8672-bfbc7db094c6   \n",
       "1  a5aee53d-425c-490d-9ed4-38118acb5eba  206358a4-3e4e-4381-ab4f-9b061171ba37   \n",
       "2  a5aee53d-425c-490d-9ed4-38118acb5eba  1e7bac53-a45a-4ab3-8a25-b3835a3b4c38   \n",
       "3  a5aee53d-425c-490d-9ed4-38118acb5eba  c63f45da-0d55-4999-abec-9224c644ad27   \n",
       "4  a5aee53d-425c-490d-9ed4-38118acb5eba  c426c95f-4eeb-4b89-bff7-46001aea9ee7   \n",
       "\n",
       "          molecule_molecule.molecule_id  \n",
       "0  0bbc1f80-dda1-4b8f-9f99-6e9326ee70fb  \n",
       "1  dbd8d42a-d462-4a00-92e6-fa0a79bc583c  \n",
       "2  ce8505b9-7bd5-4ea1-9d90-bd2d8f0cb493  \n",
       "3  3df2f8bf-9489-43b0-a701-43132e7ad7e1  \n",
       "4  9fea8c04-5fa4-4b05-bdd2-e01600ac0d30  \n",
       "\n",
       "[5 rows x 31 columns]"
      ]
     },
     "execution_count": 27,
     "metadata": {},
     "output_type": "execute_result"
    }
   ],
   "source": [
    "print(df.shape)\n",
    "print(df['synthesis.status'].value_counts())\n",
    "df.head()"
   ]
  },
  {
   "cell_type": "code",
   "execution_count": 7,
   "id": "73a94def",
   "metadata": {
    "scrolled": true
   },
   "outputs": [],
   "source": [
    "target = 'gain_cross_section'\n",
    "frag_a_smiles, frag_b_smiles, frag_c_smiles = [], [], []\n",
    "targets = []\n",
    "failed_frag_c_smiles = []\n",
    "\n",
    "for _, row in df.iterrows():\n",
    "    row = row.to_dict()\n",
    "    frag_a_details = db.get_fragment_details(\n",
    "        row['molecule_molecule.fragment_a'], identifier_type='molecule_id'\n",
    "    )\n",
    "    frag_b_details = db.get_fragment_details(\n",
    "        row['molecule_molecule.fragment_b'], identifier_type='molecule_id'\n",
    "    )\n",
    "    frag_c_details = db.get_fragment_details(\n",
    "        row['molecule_molecule.fragment_c'], identifier_type='molecule_id'\n",
    "    )\n",
    "    props = row['molecule.optical_properties']\n",
    "    try:\n",
    "        targets.append(props[target])\n",
    "        frag_a_smiles.append(frag_a_details['smiles'])\n",
    "        frag_b_smiles.append(frag_b_details['smiles'])\n",
    "        frag_c_smiles.append(frag_c_details['smiles'])\n",
    "\n",
    "    except:\n",
    "        failed_frag_c_smiles.append(frag_c_details['smiles'])\n",
    "      \n",
    "        "
   ]
  },
  {
   "cell_type": "code",
   "execution_count": 8,
   "id": "b3dfa192",
   "metadata": {},
   "outputs": [
    {
     "name": "stdout",
     "output_type": "stream",
     "text": [
      "33 33 33\n",
      "33\n",
      "7\n"
     ]
    }
   ],
   "source": [
    "print(len(frag_a_smiles), len(frag_b_smiles), len(frag_c_smiles))\n",
    "print(len(targets))\n",
    "print(len(failed_frag_c_smiles))"
   ]
  },
  {
   "cell_type": "markdown",
   "id": "015ec2ba",
   "metadata": {},
   "source": [
    "## Get available (unmeasured) C frags"
   ]
  },
  {
   "cell_type": "code",
   "execution_count": 9,
   "id": "87372ecd",
   "metadata": {},
   "outputs": [
    {
     "name": "stdout",
     "output_type": "stream",
     "text": [
      "(135, 12)\n",
      "['9fe968ae-7627-4862-b08d-8f28245538ef'\n",
      " 'f9a2b546-d308-404c-846d-de52f96cb615'\n",
      " '6bfdedaf-6977-47a7-bbab-fe232f7626b8']\n"
     ]
    },
    {
     "data": {
      "text/html": [
       "<div>\n",
       "<style scoped>\n",
       "    .dataframe tbody tr th:only-of-type {\n",
       "        vertical-align: middle;\n",
       "    }\n",
       "\n",
       "    .dataframe tbody tr th {\n",
       "        vertical-align: top;\n",
       "    }\n",
       "\n",
       "    .dataframe thead th {\n",
       "        text-align: right;\n",
       "    }\n",
       "</style>\n",
       "<table border=\"1\" class=\"dataframe\">\n",
       "  <thead>\n",
       "    <tr style=\"text-align: right;\">\n",
       "      <th></th>\n",
       "      <th>lab_molecule.lab_molecule_id</th>\n",
       "      <th>lab_molecule.updated_on</th>\n",
       "      <th>lab_molecule.available</th>\n",
       "      <th>lab_molecule.lab_id</th>\n",
       "      <th>lab_molecule.molecule_id</th>\n",
       "      <th>lab.lab_id</th>\n",
       "      <th>lab.name</th>\n",
       "      <th>molecule.molecule_id</th>\n",
       "      <th>molecule.hid</th>\n",
       "      <th>molecule.smiles</th>\n",
       "      <th>molecule.commercially_available</th>\n",
       "      <th>molecule.molecule_type_id</th>\n",
       "    </tr>\n",
       "  </thead>\n",
       "  <tbody>\n",
       "    <tr>\n",
       "      <th>0</th>\n",
       "      <td>e558d3a1-cc48-4349-a0dd-f582f4a1dac1</td>\n",
       "      <td>2022-07-15T18:28:10.343041</td>\n",
       "      <td>True</td>\n",
       "      <td>8c71baef-6ffe-428e-b343-7bcd7f65a3e1</td>\n",
       "      <td>b559be9f-d69b-40e1-b6e7-8400b1209bf9</td>\n",
       "      <td>8c71baef-6ffe-428e-b343-7bcd7f65a3e1</td>\n",
       "      <td>Toronto</td>\n",
       "      <td>b559be9f-d69b-40e1-b6e7-8400b1209bf9</td>\n",
       "      <td>A001</td>\n",
       "      <td>CC1(C)OB(c2ccc(-n3c4ccccc4c4ccccc43)cc2)OC1(C)C</td>\n",
       "      <td>True</td>\n",
       "      <td>9fe968ae-7627-4862-b08d-8f28245538ef</td>\n",
       "    </tr>\n",
       "    <tr>\n",
       "      <th>1</th>\n",
       "      <td>e8eb31d9-6130-4554-8425-dd0649743379</td>\n",
       "      <td>2022-07-15T18:28:10.596874</td>\n",
       "      <td>True</td>\n",
       "      <td>8c71baef-6ffe-428e-b343-7bcd7f65a3e1</td>\n",
       "      <td>a5aee53d-425c-490d-9ed4-38118acb5eba</td>\n",
       "      <td>8c71baef-6ffe-428e-b343-7bcd7f65a3e1</td>\n",
       "      <td>Toronto</td>\n",
       "      <td>a5aee53d-425c-490d-9ed4-38118acb5eba</td>\n",
       "      <td>B003</td>\n",
       "      <td>C[N+]12CC(=O)O[B-]1(/C=C/Br)OC(=O)C2</td>\n",
       "      <td>True</td>\n",
       "      <td>f9a2b546-d308-404c-846d-de52f96cb615</td>\n",
       "    </tr>\n",
       "    <tr>\n",
       "      <th>2</th>\n",
       "      <td>a595d2d2-92bf-4019-ad3f-54b228117e3d</td>\n",
       "      <td>2022-07-15T18:28:10.853945</td>\n",
       "      <td>True</td>\n",
       "      <td>8c71baef-6ffe-428e-b343-7bcd7f65a3e1</td>\n",
       "      <td>5631d850-f818-4905-8672-bfbc7db094c6</td>\n",
       "      <td>8c71baef-6ffe-428e-b343-7bcd7f65a3e1</td>\n",
       "      <td>Toronto</td>\n",
       "      <td>5631d850-f818-4905-8672-bfbc7db094c6</td>\n",
       "      <td>C001</td>\n",
       "      <td>Brc1ccc(-c2ccc(Br)cc2)cc1</td>\n",
       "      <td>True</td>\n",
       "      <td>6bfdedaf-6977-47a7-bbab-fe232f7626b8</td>\n",
       "    </tr>\n",
       "    <tr>\n",
       "      <th>3</th>\n",
       "      <td>1b33304a-bc1d-411d-b327-27636375ff7b</td>\n",
       "      <td>2022-07-15T18:28:11.166084</td>\n",
       "      <td>True</td>\n",
       "      <td>8c71baef-6ffe-428e-b343-7bcd7f65a3e1</td>\n",
       "      <td>206358a4-3e4e-4381-ab4f-9b061171ba37</td>\n",
       "      <td>8c71baef-6ffe-428e-b343-7bcd7f65a3e1</td>\n",
       "      <td>Toronto</td>\n",
       "      <td>206358a4-3e4e-4381-ab4f-9b061171ba37</td>\n",
       "      <td>C002</td>\n",
       "      <td>Ic1ccc(I)cc1</td>\n",
       "      <td>True</td>\n",
       "      <td>6bfdedaf-6977-47a7-bbab-fe232f7626b8</td>\n",
       "    </tr>\n",
       "    <tr>\n",
       "      <th>4</th>\n",
       "      <td>fb03aac4-d1a0-42a5-b9b1-bb908c948d49</td>\n",
       "      <td>2022-07-15T18:28:11.433845</td>\n",
       "      <td>True</td>\n",
       "      <td>8c71baef-6ffe-428e-b343-7bcd7f65a3e1</td>\n",
       "      <td>1e7bac53-a45a-4ab3-8a25-b3835a3b4c38</td>\n",
       "      <td>8c71baef-6ffe-428e-b343-7bcd7f65a3e1</td>\n",
       "      <td>Toronto</td>\n",
       "      <td>1e7bac53-a45a-4ab3-8a25-b3835a3b4c38</td>\n",
       "      <td>C003</td>\n",
       "      <td>Cc1cc(Br)c(C)cc1Br</td>\n",
       "      <td>True</td>\n",
       "      <td>6bfdedaf-6977-47a7-bbab-fe232f7626b8</td>\n",
       "    </tr>\n",
       "  </tbody>\n",
       "</table>\n",
       "</div>"
      ],
      "text/plain": [
       "           lab_molecule.lab_molecule_id     lab_molecule.updated_on  \\\n",
       "0  e558d3a1-cc48-4349-a0dd-f582f4a1dac1  2022-07-15T18:28:10.343041   \n",
       "1  e8eb31d9-6130-4554-8425-dd0649743379  2022-07-15T18:28:10.596874   \n",
       "2  a595d2d2-92bf-4019-ad3f-54b228117e3d  2022-07-15T18:28:10.853945   \n",
       "3  1b33304a-bc1d-411d-b327-27636375ff7b  2022-07-15T18:28:11.166084   \n",
       "4  fb03aac4-d1a0-42a5-b9b1-bb908c948d49  2022-07-15T18:28:11.433845   \n",
       "\n",
       "   lab_molecule.available                   lab_molecule.lab_id  \\\n",
       "0                    True  8c71baef-6ffe-428e-b343-7bcd7f65a3e1   \n",
       "1                    True  8c71baef-6ffe-428e-b343-7bcd7f65a3e1   \n",
       "2                    True  8c71baef-6ffe-428e-b343-7bcd7f65a3e1   \n",
       "3                    True  8c71baef-6ffe-428e-b343-7bcd7f65a3e1   \n",
       "4                    True  8c71baef-6ffe-428e-b343-7bcd7f65a3e1   \n",
       "\n",
       "               lab_molecule.molecule_id                            lab.lab_id  \\\n",
       "0  b559be9f-d69b-40e1-b6e7-8400b1209bf9  8c71baef-6ffe-428e-b343-7bcd7f65a3e1   \n",
       "1  a5aee53d-425c-490d-9ed4-38118acb5eba  8c71baef-6ffe-428e-b343-7bcd7f65a3e1   \n",
       "2  5631d850-f818-4905-8672-bfbc7db094c6  8c71baef-6ffe-428e-b343-7bcd7f65a3e1   \n",
       "3  206358a4-3e4e-4381-ab4f-9b061171ba37  8c71baef-6ffe-428e-b343-7bcd7f65a3e1   \n",
       "4  1e7bac53-a45a-4ab3-8a25-b3835a3b4c38  8c71baef-6ffe-428e-b343-7bcd7f65a3e1   \n",
       "\n",
       "  lab.name                  molecule.molecule_id molecule.hid  \\\n",
       "0  Toronto  b559be9f-d69b-40e1-b6e7-8400b1209bf9         A001   \n",
       "1  Toronto  a5aee53d-425c-490d-9ed4-38118acb5eba         B003   \n",
       "2  Toronto  5631d850-f818-4905-8672-bfbc7db094c6         C001   \n",
       "3  Toronto  206358a4-3e4e-4381-ab4f-9b061171ba37         C002   \n",
       "4  Toronto  1e7bac53-a45a-4ab3-8a25-b3835a3b4c38         C003   \n",
       "\n",
       "                                   molecule.smiles  \\\n",
       "0  CC1(C)OB(c2ccc(-n3c4ccccc4c4ccccc43)cc2)OC1(C)C   \n",
       "1             C[N+]12CC(=O)O[B-]1(/C=C/Br)OC(=O)C2   \n",
       "2                        Brc1ccc(-c2ccc(Br)cc2)cc1   \n",
       "3                                     Ic1ccc(I)cc1   \n",
       "4                               Cc1cc(Br)c(C)cc1Br   \n",
       "\n",
       "   molecule.commercially_available             molecule.molecule_type_id  \n",
       "0                             True  9fe968ae-7627-4862-b08d-8f28245538ef  \n",
       "1                             True  f9a2b546-d308-404c-846d-de52f96cb615  \n",
       "2                             True  6bfdedaf-6977-47a7-bbab-fe232f7626b8  \n",
       "3                             True  6bfdedaf-6977-47a7-bbab-fe232f7626b8  \n",
       "4                             True  6bfdedaf-6977-47a7-bbab-fe232f7626b8  "
      ]
     },
     "execution_count": 9,
     "metadata": {},
     "output_type": "execute_result"
    }
   ],
   "source": [
    "frag_df = db.get_lab_avail_frags(lab='Toronto', available=True)\n",
    "print(frag_df.shape)\n",
    "print(frag_df['molecule.molecule_type_id'].unique())\n",
    "# C frag id = '6bfdedaf-6977-47a7-bbab-fe232f7626b8'\n",
    "frag_df.head()"
   ]
  },
  {
   "cell_type": "code",
   "execution_count": 10,
   "id": "7a5a5d94",
   "metadata": {},
   "outputs": [
    {
     "name": "stdout",
     "output_type": "stream",
     "text": [
      "(133, 12)\n"
     ]
    }
   ],
   "source": [
    "frag_df = frag_df[frag_df['molecule.molecule_type_id']=='6bfdedaf-6977-47a7-bbab-fe232f7626b8']\n",
    "print(frag_df.shape)"
   ]
  },
  {
   "cell_type": "code",
   "execution_count": 11,
   "id": "a835c448",
   "metadata": {},
   "outputs": [],
   "source": [
    "# get the smiles of all the C fragments\n",
    "all_frag_c_smiles = []\n",
    "\n",
    "for _, row in frag_df.iterrows():\n",
    "    row = row.to_dict()\n",
    "    frag_c_details = db.get_fragment_details(\n",
    "        row['molecule.molecule_id'], identifier_type='molecule_id'\n",
    "    )\n",
    "    all_frag_c_smiles.append(frag_c_details['smiles'])\n"
   ]
  },
  {
   "cell_type": "code",
   "execution_count": 12,
   "id": "1bcc9412",
   "metadata": {},
   "outputs": [],
   "source": [
    "# get unmeasured c fragments\n",
    "unmeas_frag_c_smiles = list(set(all_frag_c_smiles) - set(frag_c_smiles+failed_frag_c_smiles))"
   ]
  },
  {
   "cell_type": "code",
   "execution_count": 13,
   "id": "30fb5bbc",
   "metadata": {},
   "outputs": [
    {
     "name": "stdout",
     "output_type": "stream",
     "text": [
      "133\n"
     ]
    },
    {
     "data": {
      "text/plain": [
       "93"
      ]
     },
     "execution_count": 13,
     "metadata": {},
     "output_type": "execute_result"
    }
   ],
   "source": [
    "print(len(all_frag_c_smiles))\n",
    "len(unmeas_frag_c_smiles)"
   ]
  },
  {
   "cell_type": "markdown",
   "id": "34445520",
   "metadata": {},
   "source": [
    "## Generate Mordred descriptors for all the cores"
   ]
  },
  {
   "cell_type": "code",
   "execution_count": 14,
   "id": "37577f08",
   "metadata": {},
   "outputs": [],
   "source": [
    "def replace_halides(smiles):\n",
    "    rep_smiles = []\n",
    "    for smi in smiles:\n",
    "        if 'I' in smi:\n",
    "            mod_mol = chem.ReplaceSubstructs(\n",
    "                    chem.MolFromSmiles(smi),\n",
    "                    chem.MolFromSmiles('I'),\n",
    "                    chem.MolFromSmiles('C=C'),\n",
    "                    replaceAll=True,\n",
    "                )[0]\n",
    "        elif 'Br' in smi:\n",
    "            mod_mol = chem.ReplaceSubstructs(\n",
    "                    chem.MolFromSmiles(smi),\n",
    "                    chem.MolFromSmiles('Br'),\n",
    "                    chem.MolFromSmiles('C=C'),\n",
    "                    replaceAll=True,\n",
    "                )[0]\n",
    "        else:\n",
    "            raise ValueError\n",
    "        \n",
    "        rep_smiles.append(chem.MolToCXSmiles(mod_mol))\n",
    "        \n",
    "    return rep_smiles\n",
    "                "
   ]
  },
  {
   "cell_type": "code",
   "execution_count": 15,
   "id": "66327a71",
   "metadata": {},
   "outputs": [],
   "source": [
    "# replace the halide atoms with C=C\n",
    "frag_c_smiles_rep = replace_halides(frag_c_smiles)\n",
    "unmeas_frag_c_smiles_rep = replace_halides(unmeas_frag_c_smiles)\n",
    "\n",
    "# tmp so we know the indices (training set :33, test set 33:)\n",
    "c_smiles = frag_c_smiles_rep+unmeas_frag_c_smiles_rep\n",
    "c_mols = [chem.MolFromSmiles(s) for s in c_smiles]"
   ]
  },
  {
   "cell_type": "code",
   "execution_count": 16,
   "id": "d9987546",
   "metadata": {},
   "outputs": [
    {
     "name": "stdout",
     "output_type": "stream",
     "text": [
      "num desc : 1613\n"
     ]
    },
    {
     "name": "stderr",
     "output_type": "stream",
     "text": [
      "100%|█████████████████████████████████████████████████████████████████████████████████████████████████████████████████████████████████████████████████████████████| 126/126 [00:05<00:00, 24.85it/s]\n"
     ]
    }
   ],
   "source": [
    "# compute mordred descriptors\n",
    "calc = Calculator(descriptors, ignore_3D=True)\n",
    "print('num desc :', len(calc.descriptors))\n",
    "\n",
    "df_mord_tmp = calc.pandas(c_mols)"
   ]
  },
  {
   "cell_type": "code",
   "execution_count": 17,
   "id": "9eadeb3d",
   "metadata": {},
   "outputs": [
    {
     "name": "stdout",
     "output_type": "stream",
     "text": [
      ">>> removing incompatible data types...\n",
      "(126, 1350)\n",
      ">>> removing descriptors with zero variance...\n",
      "(126, 1141)\n"
     ]
    }
   ],
   "source": [
    "# remove inconpatible data types\n",
    "print('>>> removing incompatible data types...')\n",
    "df_mord_tmp = df_mord_tmp.select_dtypes(exclude=['O', 'bool'])\n",
    "\n",
    "print(df_mord_tmp.shape)\n",
    "\n",
    "# remove descriptors that have zero variance over all fragments\n",
    "print('>>> removing descriptors with zero variance...')\n",
    "num_unique = df_mord_tmp.apply(pd.Series.nunique)\n",
    "df_mord_tmp = df_mord_tmp.drop(num_unique[num_unique==1].index, axis=1)\n",
    "\n",
    "print(df_mord_tmp.shape)\n",
    "\n",
    "# add back the smiles and mol cols\n",
    "df_mord_tmp['smiles'] = c_smiles\n",
    "df_mord_tmp['mols'] = c_mols\n"
   ]
  },
  {
   "cell_type": "code",
   "execution_count": null,
   "id": "2643cfba",
   "metadata": {},
   "outputs": [],
   "source": []
  },
  {
   "cell_type": "markdown",
   "id": "11ca3ccc",
   "metadata": {},
   "source": [
    "## PCA analysis on fragment descriptors"
   ]
  },
  {
   "cell_type": "code",
   "execution_count": 18,
   "id": "dbeea158",
   "metadata": {},
   "outputs": [],
   "source": [
    "def make_pca_analysis(df, num_components=100, skipcols=3):\n",
    "    \n",
    "    X  = df.iloc[:, :-skipcols].values\n",
    "    #df_info = df.iloc[:, :skipcols]\n",
    "    smiles = df['smiles'].tolist()\n",
    "    #hids = df['hid'].tolist()\n",
    "    \n",
    "    #print(X.shape)\n",
    "    \n",
    "    scaler = MinMaxScaler()\n",
    "    #scaler = StandardScaler()\n",
    "    X_norm = scaler.fit_transform(X)\n",
    "    \n",
    "    pca = PCA(n_components=num_components)\n",
    "    X_red = pca.fit_transform(X_norm)\n",
    "    \n",
    "    #print(X_red.shape)\n",
    "    \n",
    "    exp_var = pca.explained_variance_ratio_\n",
    "    cum_exp_var = exp_var.cumsum()\n",
    "    \n",
    "    # return also a dataframe of the components\n",
    "    sub = pd.DataFrame(X_red, columns=[f'pc_{i}' for i in range(X_red.shape[1])])\n",
    "    sub['smiles'] = smiles\n",
    "    #cols = ['hid']+sub.columns.tolist()[:-1]\n",
    "    #sub = sub[cols]\n",
    "    \n",
    "    #df_red = pd.concat((df_info, sub), axis=1, ignore_index=True)\n",
    "    \n",
    "    #print(df_info.shape, sub.shape)\n",
    "    #print(df_red.shape)\n",
    "    #print(df_info.head())\n",
    "    #print(sub.head())\n",
    "    \n",
    "    return X_red, sub, exp_var, cum_exp_var\n",
    "    "
   ]
  },
  {
   "cell_type": "code",
   "execution_count": 19,
   "id": "658b5ce3",
   "metadata": {},
   "outputs": [],
   "source": [
    "X_red, df_red, exp_var, cum_exp_var = make_pca_analysis(df_mord_tmp, num_components=50, skipcols=2)"
   ]
  },
  {
   "cell_type": "code",
   "execution_count": 20,
   "id": "8b862bf3",
   "metadata": {},
   "outputs": [
    {
     "data": {
      "image/png": "[encoded data removed]",
      "text/plain": [
       "<Figure size 432x288 with 1 Axes>"
      ]
     },
     "metadata": {
      "needs_background": "light"
     },
     "output_type": "display_data"
    }
   ],
   "source": [
    "fig, ax = plt.subplots()\n",
    "\n",
    "ax.plot(np.arange(cum_exp_var.shape[0])+1, cum_exp_var, marker='o', markersize=4, label='C frags')\n",
    "\n",
    "ax.set_xlabel('# components', fontsize=12)\n",
    "ax.set_ylabel('cumulative explained\\nvariance ratio', fontsize=12)\n",
    "\n",
    "ax.legend(loc='lower right', fontsize=12)\n",
    "\n",
    "ax.set_facecolor('w')"
   ]
  },
  {
   "cell_type": "code",
   "execution_count": 21,
   "id": "91f33911",
   "metadata": {},
   "outputs": [
    {
     "data": {
      "text/plain": [
       "<matplotlib.legend.Legend at 0x7f2768e5a090>"
      ]
     },
     "execution_count": 21,
     "metadata": {},
     "output_type": "execute_result"
    },
    {
     "data": {
      "image/png": "[encoded data removed]",
      "text/plain": [
       "<Figure size 432x288 with 1 Axes>"
      ]
     },
     "metadata": {
      "needs_background": "light"
     },
     "output_type": "display_data"
    }
   ],
   "source": [
    "fig, ax = plt.subplots()\n",
    "\n",
    "train_red = X_red[:33, :]\n",
    "test_red  = X_red[33:, :]\n",
    "\n",
    "ax.scatter(train_red[:, 0], train_red[:, 1], c='#5D737E', label='train', alpha=0.8)\n",
    "ax.scatter(test_red[:, 0], test_red[:, 1], c='#7fc6a4', label='test', alpha=0.8)\n",
    "\n",
    "ax.set_xlabel('PCA 1')\n",
    "ax.set_ylabel('PCA 2')\n",
    "\n",
    "ax.legend()"
   ]
  },
  {
   "cell_type": "code",
   "execution_count": null,
   "id": "9b8399ba",
   "metadata": {},
   "outputs": [],
   "source": []
  },
  {
   "cell_type": "markdown",
   "id": "4622a7d3",
   "metadata": {},
   "source": [
    "## Make batch of recommendations with Gryffin"
   ]
  },
  {
   "cell_type": "code",
   "execution_count": null,
   "id": "ffa56f5c",
   "metadata": {},
   "outputs": [],
   "source": [
    "# make the gryffin observations"
   ]
  },
  {
   "cell_type": "code",
   "execution_count": null,
   "id": "852669ce",
   "metadata": {},
   "outputs": [],
   "source": [
    "# Gryffin config\n",
    "\n",
    "# generate descriptors\n",
    "\n",
    "config = {\n",
    "     \"general\": {\n",
    "             \"backend\": 'tensorflow',\n",
    "             \"num_cpus\": 4,\n",
    "             \"auto_desc_gen\": True, # dynamic Gryffin\n",
    "             \"batches\": 1,\n",
    "             \"sampling_strategies\": 40,\n",
    "             \"feas_approach\": 'fca',\n",
    "             \"feas_param\": 0.5,\n",
    "             \"boosted\":  True,\n",
    "             \"caching\": False,\n",
    "             \"random_seed\": 22031996,\n",
    "             \"acquisition_optimizer\": 'genetic',\n",
    "             \"verbosity\": 3\n",
    "                },\n",
    "    \"parameters\": [\n",
    "        {\"name\": \"frag_c\", \"type\": \"categorical\", \"category_details\": FRAG_C_DESC },\n",
    "      \n",
    "    ],\n",
    "    \"objectives\": [\n",
    "        {\"name\": \"obj\", \"goal\": \"max\"},\n",
    "    ]\n",
    "}"
   ]
  },
  {
   "cell_type": "code",
   "execution_count": null,
   "id": "5dc2e76b",
   "metadata": {},
   "outputs": [],
   "source": []
  },
  {
   "cell_type": "code",
   "execution_count": null,
   "id": "7fb06e36",
   "metadata": {},
   "outputs": [],
   "source": []
  },
  {
   "cell_type": "code",
   "execution_count": null,
   "id": "7c241e2f",
   "metadata": {},
   "outputs": [],
   "source": []
  },
  {
   "cell_type": "code",
   "execution_count": null,
   "id": "724890c9",
   "metadata": {},
   "outputs": [],
   "source": []
  },
  {
   "cell_type": "code",
   "execution_count": null,
   "id": "1cce0230",
   "metadata": {},
   "outputs": [],
   "source": []
  },
  {
   "cell_type": "code",
   "execution_count": null,
   "id": "d50736a0",
   "metadata": {},
   "outputs": [],
   "source": []
  },
  {
   "cell_type": "code",
   "execution_count": null,
   "id": "a5223e66",
   "metadata": {},
   "outputs": [],
   "source": []
  },
  {
   "cell_type": "code",
   "execution_count": null,
   "id": "7068e690",
   "metadata": {},
   "outputs": [],
   "source": []
  },
  {
   "cell_type": "markdown",
   "id": "548a6e1c",
   "metadata": {},
   "source": [
    "## Train NGBoost on the data"
   ]
  },
  {
   "cell_type": "code",
   "execution_count": 31,
   "id": "3a9b314f",
   "metadata": {},
   "outputs": [],
   "source": [
    "# do cross validation\n",
    "\n",
    "indices = np.arange(33)\n",
    "np.random.shuffle(indices)\n",
    "work_x = X_red[:33, :]\n",
    "work_y = np.log(np.array(targets))\n",
    "\n",
    "num_folds = 4\n",
    "fold_size = 8\n",
    "\n",
    "folds = []\n",
    "\n",
    "for num_fold in range(num_folds):\n",
    "    \n",
    "    fold_train_x = work_x[indices[fold_size:], :]\n",
    "    fold_train_y = work_y[indices[fold_size:]]\n",
    "    \n",
    "    fold_test_x = work_x[indices[:fold_size], :]\n",
    "    fold_test_y = work_y[indices[:fold_size]]\n",
    "    \n",
    "    \n",
    "    folds.append({\n",
    "        'train_x': fold_train_x,\n",
    "        'train_y': fold_train_y,\n",
    "        'test_x': fold_test_x,\n",
    "        'test_y': fold_test_y,\n",
    "    })\n",
    "    \n",
    "    indices = np.roll(indices, fold_size)"
   ]
  },
  {
   "cell_type": "code",
   "execution_count": 37,
   "id": "92244895",
   "metadata": {
    "scrolled": true
   },
   "outputs": [
    {
     "name": "stdout",
     "output_type": "stream",
     "text": [
      "[iter 0] loss=1.3979 val_loss=0.0000 scale=1.0000 norm=0.9882\n",
      "[iter 100] loss=1.2100 val_loss=0.0000 scale=1.0000 norm=0.8360\n",
      "[iter 200] loss=1.1080 val_loss=0.0000 scale=1.0000 norm=0.7675\n",
      "[iter 300] loss=0.9883 val_loss=0.0000 scale=2.0000 norm=1.3866\n",
      "[iter 400] loss=0.8724 val_loss=0.0000 scale=2.0000 norm=1.2649\n",
      "[iter 500] loss=0.7664 val_loss=0.0000 scale=2.0000 norm=1.1785\n",
      "[iter 600] loss=0.6689 val_loss=0.0000 scale=2.0000 norm=1.1176\n",
      "[iter 700] loss=0.5690 val_loss=0.0000 scale=2.0000 norm=1.0699\n",
      "[iter 800] loss=0.4704 val_loss=0.0000 scale=2.0000 norm=1.0359\n",
      "[iter 900] loss=0.3723 val_loss=0.0000 scale=2.0000 norm=1.0117\n",
      "[iter 1000] loss=0.2742 val_loss=0.0000 scale=2.0000 norm=0.9957\n",
      "[iter 1100] loss=0.1765 val_loss=0.0000 scale=2.0000 norm=0.9848\n",
      "[iter 1200] loss=0.0787 val_loss=0.0000 scale=2.0000 norm=0.9777\n",
      "[iter 1300] loss=-0.0190 val_loss=0.0000 scale=2.0000 norm=0.9736\n",
      "[iter 1400] loss=-0.1168 val_loss=0.0000 scale=2.0000 norm=0.9714\n",
      "[iter 1500] loss=-0.2145 val_loss=0.0000 scale=2.0000 norm=0.9704\n",
      "[iter 1600] loss=-0.3123 val_loss=0.0000 scale=2.0000 norm=0.9704\n",
      "[iter 1700] loss=-0.4101 val_loss=0.0000 scale=2.0000 norm=0.9707\n",
      "[iter 1800] loss=-0.5092 val_loss=0.0000 scale=2.0000 norm=0.9733\n",
      "[iter 1900] loss=-0.6079 val_loss=0.0000 scale=2.0000 norm=0.9752\n",
      "[iter 2000] loss=-0.7066 val_loss=0.0000 scale=2.0000 norm=0.9769\n",
      "[iter 2100] loss=-0.8058 val_loss=0.0000 scale=2.0000 norm=0.9793\n",
      "[iter 2200] loss=-0.9051 val_loss=0.0000 scale=2.0000 norm=0.9815\n",
      "[iter 2300] loss=-1.0044 val_loss=0.0000 scale=2.0000 norm=0.9836\n",
      "[iter 2400] loss=-1.1041 val_loss=0.0000 scale=2.0000 norm=0.9859\n",
      "[iter 2500] loss=-1.2038 val_loss=0.0000 scale=2.0000 norm=0.9876\n",
      "[iter 2600] loss=-1.3053 val_loss=0.0000 scale=4.0000 norm=1.9782\n",
      "[iter 2700] loss=-1.4210 val_loss=0.0000 scale=2.0000 norm=0.9907\n",
      "[iter 2800] loss=-1.5406 val_loss=0.0000 scale=2.0000 norm=0.9920\n",
      "[iter 2900] loss=-1.7220 val_loss=0.0000 scale=4.0000 norm=1.9867\n",
      "[iter 3000] loss=-1.9214 val_loss=0.0000 scale=4.0000 norm=1.9892\n",
      "[iter 3100] loss=-2.1210 val_loss=0.0000 scale=4.0000 norm=1.9915\n",
      "[iter 3200] loss=-2.3207 val_loss=0.0000 scale=4.0000 norm=1.9933\n",
      "[iter 3300] loss=-2.5205 val_loss=0.0000 scale=4.0000 norm=1.9948\n",
      "[iter 3400] loss=-2.7203 val_loss=0.0000 scale=4.0000 norm=1.9958\n",
      "[iter 3500] loss=-2.9201 val_loss=0.0000 scale=4.0000 norm=1.9967\n",
      "[iter 3600] loss=-3.1199 val_loss=0.0000 scale=4.0000 norm=1.9972\n",
      "[iter 3700] loss=-3.3198 val_loss=0.0000 scale=4.0000 norm=1.9976\n",
      "[iter 3800] loss=-3.5197 val_loss=0.0000 scale=4.0000 norm=1.9980\n",
      "[iter 3900] loss=-3.7195 val_loss=0.0000 scale=4.0000 norm=1.9979\n",
      "[iter 0] loss=1.4850 val_loss=0.0000 scale=1.0000 norm=1.0457\n",
      "[iter 100] loss=1.3165 val_loss=0.0000 scale=1.0000 norm=0.9049\n",
      "[iter 200] loss=1.2075 val_loss=0.0000 scale=1.0000 norm=0.8190\n",
      "[iter 300] loss=1.1375 val_loss=0.0000 scale=1.0000 norm=0.7674\n",
      "[iter 400] loss=1.0762 val_loss=0.0000 scale=1.0000 norm=0.7264\n",
      "[iter 500] loss=1.0068 val_loss=0.0000 scale=1.0000 norm=0.6844\n",
      "[iter 600] loss=0.9404 val_loss=0.0000 scale=1.0000 norm=0.6492\n",
      "[iter 700] loss=0.8761 val_loss=0.0000 scale=1.0000 norm=0.6197\n",
      "[iter 800] loss=0.8077 val_loss=0.0000 scale=1.0000 norm=0.5926\n",
      "[iter 900] loss=0.7352 val_loss=0.0000 scale=1.0000 norm=0.5683\n",
      "[iter 1000] loss=0.6415 val_loss=0.0000 scale=2.0000 norm=1.0860\n",
      "[iter 1100] loss=0.5467 val_loss=0.0000 scale=2.0000 norm=1.0463\n",
      "[iter 1200] loss=0.4530 val_loss=0.0000 scale=2.0000 norm=1.0156\n",
      "[iter 1300] loss=0.3568 val_loss=0.0000 scale=2.0000 norm=0.9961\n",
      "[iter 1400] loss=0.2603 val_loss=0.0000 scale=2.0000 norm=0.9826\n",
      "[iter 1500] loss=0.1626 val_loss=0.0000 scale=2.0000 norm=0.9740\n",
      "[iter 1600] loss=0.0647 val_loss=0.0000 scale=2.0000 norm=0.9694\n",
      "[iter 1700] loss=-0.0331 val_loss=0.0000 scale=2.0000 norm=0.9668\n",
      "[iter 1800] loss=-0.1313 val_loss=0.0000 scale=2.0000 norm=0.9662\n",
      "[iter 1900] loss=-0.2295 val_loss=0.0000 scale=2.0000 norm=0.9670\n",
      "[iter 2000] loss=-0.3279 val_loss=0.0000 scale=2.0000 norm=0.9684\n",
      "[iter 2100] loss=-0.4262 val_loss=0.0000 scale=2.0000 norm=0.9700\n",
      "[iter 2200] loss=-0.5246 val_loss=0.0000 scale=2.0000 norm=0.9717\n",
      "[iter 2300] loss=-0.6233 val_loss=0.0000 scale=2.0000 norm=0.9739\n",
      "[iter 2400] loss=-0.7220 val_loss=0.0000 scale=2.0000 norm=0.9759\n",
      "[iter 2500] loss=-0.8210 val_loss=0.0000 scale=2.0000 norm=0.9781\n",
      "[iter 2600] loss=-0.9201 val_loss=0.0000 scale=2.0000 norm=0.9802\n",
      "[iter 2700] loss=-1.0192 val_loss=0.0000 scale=2.0000 norm=0.9820\n",
      "[iter 2800] loss=-1.1183 val_loss=0.0000 scale=2.0000 norm=0.9836\n",
      "[iter 2900] loss=-1.2207 val_loss=0.0000 scale=2.0000 norm=0.9853\n",
      "[iter 3000] loss=-1.3260 val_loss=0.0000 scale=2.0000 norm=0.9869\n",
      "[iter 3100] loss=-1.4335 val_loss=0.0000 scale=2.0000 norm=0.9884\n",
      "[iter 3200] loss=-1.5390 val_loss=0.0000 scale=2.0000 norm=0.9898\n",
      "[iter 3300] loss=-1.6487 val_loss=0.0000 scale=2.0000 norm=0.9912\n",
      "[iter 3400] loss=-1.8032 val_loss=0.0000 scale=4.0000 norm=1.9854\n",
      "[iter 3500] loss=-2.0018 val_loss=0.0000 scale=4.0000 norm=1.9888\n",
      "[iter 3600] loss=-2.2015 val_loss=0.0000 scale=4.0000 norm=1.9914\n",
      "[iter 3700] loss=-2.4012 val_loss=0.0000 scale=4.0000 norm=1.9935\n",
      "[iter 3800] loss=-2.6010 val_loss=0.0000 scale=4.0000 norm=1.9950\n",
      "[iter 3900] loss=-2.8009 val_loss=0.0000 scale=4.0000 norm=1.9963\n",
      "[iter 0] loss=1.1466 val_loss=0.0000 scale=1.0000 norm=0.8446\n",
      "[iter 100] loss=1.0167 val_loss=0.0000 scale=1.0000 norm=0.7440\n",
      "[iter 200] loss=0.9299 val_loss=0.0000 scale=2.0000 norm=1.3728\n",
      "[iter 300] loss=0.8133 val_loss=0.0000 scale=2.0000 norm=1.2400\n",
      "[iter 400] loss=0.7174 val_loss=0.0000 scale=2.0000 norm=1.1503\n",
      "[iter 500] loss=0.6390 val_loss=0.0000 scale=2.0000 norm=1.0938\n",
      "[iter 600] loss=0.5694 val_loss=0.0000 scale=2.0000 norm=1.0543\n",
      "[iter 700] loss=0.4792 val_loss=0.0000 scale=2.0000 norm=1.0164\n",
      "[iter 800] loss=0.3788 val_loss=0.0000 scale=2.0000 norm=0.9885\n",
      "[iter 900] loss=0.2808 val_loss=0.0000 scale=2.0000 norm=0.9700\n",
      "[iter 1000] loss=0.1823 val_loss=0.0000 scale=2.0000 norm=0.9586\n",
      "[iter 1100] loss=0.0839 val_loss=0.0000 scale=2.0000 norm=0.9526\n",
      "[iter 1200] loss=-0.0141 val_loss=0.0000 scale=2.0000 norm=0.9504\n",
      "[iter 1300] loss=-0.1120 val_loss=0.0000 scale=2.0000 norm=0.9507\n",
      "[iter 1400] loss=-0.2100 val_loss=0.0000 scale=2.0000 norm=0.9526\n",
      "[iter 1500] loss=-0.3077 val_loss=0.0000 scale=2.0000 norm=0.9546\n",
      "[iter 1600] loss=-0.4051 val_loss=0.0000 scale=2.0000 norm=0.9566\n",
      "[iter 1700] loss=-0.5024 val_loss=0.0000 scale=2.0000 norm=0.9586\n",
      "[iter 1800] loss=-0.5998 val_loss=0.0000 scale=2.0000 norm=0.9606\n",
      "[iter 1900] loss=-0.6983 val_loss=0.0000 scale=2.0000 norm=0.9645\n",
      "[iter 2000] loss=-0.7972 val_loss=0.0000 scale=2.0000 norm=0.9685\n",
      "[iter 2100] loss=-0.8963 val_loss=0.0000 scale=2.0000 norm=0.9722\n",
      "[iter 2200] loss=-0.9954 val_loss=0.0000 scale=2.0000 norm=0.9753\n",
      "[iter 2300] loss=-1.0942 val_loss=0.0000 scale=2.0000 norm=0.9776\n",
      "[iter 2400] loss=-1.1933 val_loss=0.0000 scale=2.0000 norm=0.9799\n",
      "[iter 2500] loss=-1.2925 val_loss=0.0000 scale=2.0000 norm=0.9820\n",
      "[iter 2600] loss=-1.3917 val_loss=0.0000 scale=2.0000 norm=0.9838\n",
      "[iter 2700] loss=-1.4914 val_loss=0.0000 scale=2.0000 norm=0.9861\n",
      "[iter 2800] loss=-1.5910 val_loss=0.0000 scale=2.0000 norm=0.9879\n",
      "[iter 2900] loss=-1.6906 val_loss=0.0000 scale=2.0000 norm=0.9893\n",
      "[iter 3000] loss=-1.7982 val_loss=0.0000 scale=2.0000 norm=0.9907\n",
      "[iter 3100] loss=-1.9218 val_loss=0.0000 scale=2.0000 norm=0.9921\n",
      "[iter 3200] loss=-2.1093 val_loss=0.0000 scale=4.0000 norm=1.9874\n",
      "[iter 3300] loss=-2.3088 val_loss=0.0000 scale=4.0000 norm=1.9899\n",
      "[iter 3400] loss=-2.5084 val_loss=0.0000 scale=4.0000 norm=1.9919\n",
      "[iter 3500] loss=-2.7081 val_loss=0.0000 scale=4.0000 norm=1.9935\n",
      "[iter 3600] loss=-2.9078 val_loss=0.0000 scale=4.0000 norm=1.9947\n",
      "[iter 3700] loss=-3.1076 val_loss=0.0000 scale=4.0000 norm=1.9958\n",
      "[iter 3800] loss=-3.3074 val_loss=0.0000 scale=4.0000 norm=1.9966\n",
      "[iter 3900] loss=-3.5073 val_loss=0.0000 scale=4.0000 norm=1.9973\n",
      "[iter 0] loss=1.4932 val_loss=0.0000 scale=1.0000 norm=1.0542\n",
      "[iter 100] loss=1.3462 val_loss=0.0000 scale=1.0000 norm=0.9279\n",
      "[iter 200] loss=1.2584 val_loss=0.0000 scale=1.0000 norm=0.8554\n",
      "[iter 300] loss=1.1882 val_loss=0.0000 scale=1.0000 norm=0.8004\n",
      "[iter 400] loss=1.1029 val_loss=0.0000 scale=1.0000 norm=0.7381\n",
      "[iter 500] loss=1.0123 val_loss=0.0000 scale=2.0000 norm=1.3601\n"
     ]
    },
    {
     "name": "stdout",
     "output_type": "stream",
     "text": [
      "[iter 600] loss=0.9090 val_loss=0.0000 scale=2.0000 norm=1.2527\n",
      "[iter 700] loss=0.8104 val_loss=0.0000 scale=2.0000 norm=1.1731\n",
      "[iter 800] loss=0.7070 val_loss=0.0000 scale=2.0000 norm=1.1048\n",
      "[iter 900] loss=0.6056 val_loss=0.0000 scale=2.0000 norm=1.0570\n",
      "[iter 1000] loss=0.5070 val_loss=0.0000 scale=2.0000 norm=1.0251\n",
      "[iter 1100] loss=0.4078 val_loss=0.0000 scale=2.0000 norm=1.0041\n",
      "[iter 1200] loss=0.3087 val_loss=0.0000 scale=2.0000 norm=0.9907\n",
      "[iter 1300] loss=0.2095 val_loss=0.0000 scale=2.0000 norm=0.9828\n",
      "[iter 1400] loss=0.1102 val_loss=0.0000 scale=2.0000 norm=0.9787\n",
      "[iter 1500] loss=0.0110 val_loss=0.0000 scale=2.0000 norm=0.9770\n",
      "[iter 1600] loss=-0.0882 val_loss=0.0000 scale=2.0000 norm=0.9770\n",
      "[iter 1700] loss=-0.1875 val_loss=0.0000 scale=2.0000 norm=0.9779\n",
      "[iter 1800] loss=-0.2870 val_loss=0.0000 scale=2.0000 norm=0.9795\n",
      "[iter 1900] loss=-0.3864 val_loss=0.0000 scale=2.0000 norm=0.9813\n",
      "[iter 2000] loss=-0.4860 val_loss=0.0000 scale=2.0000 norm=0.9832\n",
      "[iter 2100] loss=-0.5856 val_loss=0.0000 scale=2.0000 norm=0.9851\n",
      "[iter 2200] loss=-0.6853 val_loss=0.0000 scale=2.0000 norm=0.9870\n",
      "[iter 2300] loss=-0.7850 val_loss=0.0000 scale=2.0000 norm=0.9886\n",
      "[iter 2400] loss=-0.8847 val_loss=0.0000 scale=2.0000 norm=0.9898\n",
      "[iter 2500] loss=-0.9843 val_loss=0.0000 scale=2.0000 norm=0.9910\n",
      "[iter 2600] loss=-1.0970 val_loss=0.0000 scale=2.0000 norm=0.9922\n",
      "[iter 2700] loss=-1.2816 val_loss=0.0000 scale=4.0000 norm=1.9876\n",
      "[iter 2800] loss=-1.4812 val_loss=0.0000 scale=4.0000 norm=1.9904\n",
      "[iter 2900] loss=-1.6809 val_loss=0.0000 scale=4.0000 norm=1.9926\n",
      "[iter 3000] loss=-1.8807 val_loss=0.0000 scale=4.0000 norm=1.9942\n",
      "[iter 3100] loss=-2.0805 val_loss=0.0000 scale=4.0000 norm=1.9955\n",
      "[iter 3200] loss=-2.2804 val_loss=0.0000 scale=4.0000 norm=1.9965\n",
      "[iter 3300] loss=-2.4802 val_loss=0.0000 scale=4.0000 norm=1.9971\n",
      "[iter 3400] loss=-2.6801 val_loss=0.0000 scale=4.0000 norm=1.9976\n",
      "[iter 3500] loss=-2.8800 val_loss=0.0000 scale=4.0000 norm=1.9981\n",
      "[iter 3600] loss=-3.0799 val_loss=0.0000 scale=4.0000 norm=1.9985\n",
      "[iter 3700] loss=-3.2798 val_loss=0.0000 scale=4.0000 norm=1.9988\n",
      "[iter 3800] loss=-3.4797 val_loss=0.0000 scale=4.0000 norm=1.9988\n",
      "[iter 3900] loss=-3.6855 val_loss=0.0000 scale=8.0000 norm=3.9971\n"
     ]
    }
   ],
   "source": [
    "# cross validation models\n",
    "for fold in folds:\n",
    "    \n",
    "    # create model \n",
    "    model = NGBRegressor(\n",
    "            n_estimators=4000,\n",
    "            random_state=42,\n",
    "            learning_rate=0.001,\n",
    "            tol=1e-4\n",
    "    )\n",
    "    \n",
    "    model.fit(\n",
    "        fold['train_x'],\n",
    "        fold['train_y'],\n",
    "    )\n",
    "    \n",
    "    # train set \n",
    "    pred_dists_train = model.pred_dist(fold['train_x'])\n",
    "    pred_loc_train = pred_dists_train.loc\n",
    "    pred_std_train = np.sqrt(pred_dists_train.var)\n",
    "    \n",
    "    # test set\n",
    "    pred_dists_test = model.pred_dist(fold['test_x'])\n",
    "    pred_loc_test = pred_dists_test.loc\n",
    "    pred_std_test = np.sqrt(pred_dists_test.var)\n",
    "    \n",
    "    \n",
    "    fold['pred_loc_train'] = pred_loc_train\n",
    "    fold['pred_std_train'] = pred_std_train\n",
    "    fold['pred_loc_test'] = pred_loc_test\n",
    "    fold['pred_std_test'] = pred_std_test\n",
    "    \n",
    "    "
   ]
  },
  {
   "cell_type": "code",
   "execution_count": 38,
   "id": "afcc3253",
   "metadata": {},
   "outputs": [
    {
     "name": "stdout",
     "output_type": "stream",
     "text": [
      "fold 0 pear 0.008179060785194356 mae 1.0822049469568622 \n",
      "fold 1 pear 0.11782291188757028 mae 1.18230045835005 \n",
      "fold 2 pear -0.2750548528010815 mae 1.2566750713370824 \n",
      "fold 3 pear -0.28359860512762425 mae 0.6896704703161411 \n"
     ]
    },
    {
     "data": {
      "text/plain": [
       "[<matplotlib.lines.Line2D at 0x7f3ce57a2510>]"
      ]
     },
     "execution_count": 38,
     "metadata": {},
     "output_type": "execute_result"
    },
    {
     "data": {
      "image/png": "[encoded data removed]",
      "text/plain": [
       "<Figure size 432x288 with 1 Axes>"
      ]
     },
     "metadata": {
      "needs_background": "light"
     },
     "output_type": "display_data"
    }
   ],
   "source": [
    "fig, ax = plt.subplots()\n",
    "\n",
    "for ix, fold in enumerate(folds):\n",
    "#     mape = mean_absolute_percentage_error(fold['test_y'], fold['pred_loc_test'])\n",
    "    mae  = mean_absolute_error(fold['test_y'], fold['pred_loc_test'])\n",
    "    pear = pearsonr(fold['test_y'], fold['pred_loc_test'])[0]\n",
    "    ax.scatter(fold['test_y'], fold['pred_loc_test'])\n",
    "    \n",
    "    print(f'fold {ix} pear {pear} mae {mae} ')\n",
    "    \n",
    "ax.set_ylabel('pred y')\n",
    "ax.set_xlabel('true y')\n",
    "\n",
    "# ax.set_xscale('log')\n",
    "# ax.set_yscale('log')\n",
    "\n",
    "min_, max_ = np.amin(work_y), np.amax(work_y)\n",
    "\n",
    "ax.plot([min_, max_], [min_, max_], c='k', lw=2, alpha=0.8)"
   ]
  },
  {
   "cell_type": "code",
   "execution_count": null,
   "id": "7c2060c4",
   "metadata": {},
   "outputs": [],
   "source": []
  },
  {
   "cell_type": "code",
   "execution_count": null,
   "id": "8c9b25e6",
   "metadata": {},
   "outputs": [],
   "source": []
  },
  {
   "cell_type": "code",
   "execution_count": null,
   "id": "decffa84",
   "metadata": {},
   "outputs": [],
   "source": []
  },
  {
   "cell_type": "code",
   "execution_count": null,
   "id": "9c1a8c2a",
   "metadata": {},
   "outputs": [],
   "source": []
  },
  {
   "cell_type": "code",
   "execution_count": null,
   "id": "1a5b5832",
   "metadata": {},
   "outputs": [],
   "source": []
  },
  {
   "cell_type": "code",
   "execution_count": null,
   "id": "c2e3eaa3",
   "metadata": {},
   "outputs": [],
   "source": []
  },
  {
   "cell_type": "code",
   "execution_count": null,
   "id": "047423e3",
   "metadata": {},
   "outputs": [],
   "source": []
  },
  {
   "cell_type": "code",
   "execution_count": null,
   "id": "3e1512c7",
   "metadata": {},
   "outputs": [],
   "source": []
  },
  {
   "cell_type": "markdown",
   "id": "fc5d0606",
   "metadata": {},
   "source": [
    "## Train GP on the data"
   ]
  },
  {
   "cell_type": "code",
   "execution_count": 30,
   "id": "93aa6117",
   "metadata": {},
   "outputs": [],
   "source": [
    "import torch\n",
    "import gpytorch\n",
    "from scipy.stats import pearsonr, spearmanr\n",
    "from sklearn.metrics import mean_absolute_error, mean_absolute_percentage_error"
   ]
  },
  {
   "cell_type": "code",
   "execution_count": 31,
   "id": "6d4f8f9d",
   "metadata": {},
   "outputs": [],
   "source": [
    "class RBFKernelModel(gpytorch.models.ExactGP):\n",
    "    def __init__(self, train_x, train_y, likelihood):\n",
    "        super(RBFKernelModel, self).__init__(train_x, train_y, likelihood)\n",
    "        self.mean_module = gpytorch.means.ConstantMean()\n",
    "        self.covar_module = gpytorch.kernels.ScaleKernel(gpytorch.kernels.RBFKernel())\n",
    "\n",
    "    def forward(self, x):\n",
    "        mean_x = self.mean_module(x)\n",
    "        covar_x = self.covar_module(x)\n",
    "        return gpytorch.distributions.MultivariateNormal(mean_x, covar_x)\n",
    "    \n",
    "    \n",
    "class MaternKernelModel(gpytorch.models.ExactGP):\n",
    "    def __init__(self, train_x, train_y, likelihood):\n",
    "        super(MaternKernelModel, self).__init__(train_x, train_y, likelihood)\n",
    "        self.mean_module = gpytorch.means.ConstantMean()\n",
    "        self.covar_module = gpytorch.kernels.ScaleKernel(gpytorch.kernels.MaternKernel())\n",
    "\n",
    "    def forward(self, x):\n",
    "        mean_x = self.mean_module(x)\n",
    "        covar_x = self.covar_module(x)\n",
    "        return gpytorch.distributions.MultivariateNormal(mean_x, covar_x)\n",
    "\n",
    "    "
   ]
  },
  {
   "cell_type": "code",
   "execution_count": 32,
   "id": "9a750b67",
   "metadata": {},
   "outputs": [],
   "source": [
    "# helper functions\n",
    "def train_model(model, likelihood, train_x, train_y, training_iter=20):\n",
    "\n",
    "    model.train()\n",
    "    likelihood.train()\n",
    "    \n",
    "    optimizer = torch.optim.Adam(model.parameters(), lr=0.005)  \n",
    "    \n",
    "    mll = gpytorch.mlls.ExactMarginalLogLikelihood(likelihood, model)\n",
    "\n",
    "\n",
    "    for i in range(training_iter):\n",
    "        optimizer.zero_grad()\n",
    "        output = model(train_x)\n",
    "        loss = -mll(output, train_y)\n",
    "        loss.backward()\n",
    "        if i % 100 == 0:\n",
    "            print(f'Iter : {i+1}/{training_iter} - Loss : {loss.item()}')\n",
    "        optimizer.step()\n",
    "        \n",
    "    return model, likelihood\n",
    "\n",
    "def predict_model(model, likelihood, test_x):\n",
    "    model.eval()\n",
    "    likelihood.eval()\n",
    "\n",
    "    with torch.no_grad(), gpytorch.settings.fast_pred_var():\n",
    "        observed_pred = likelihood(model(test_x))\n",
    "        \n",
    "    return observed_pred"
   ]
  },
  {
   "cell_type": "code",
   "execution_count": 33,
   "id": "636cf911",
   "metadata": {},
   "outputs": [],
   "source": [
    "def forward_standardize(data, means, stds):\n",
    "    ''' forward standardize the data\n",
    "    '''\n",
    "    return (data - means) / stds\n",
    "\n",
    "def reverse_standardize(data, means, stds):\n",
    "    ''' un-standardize the data\n",
    "    '''\n",
    "    return (data*stds) + means\n",
    "\n",
    "def forward_normalize(data, min_, max_):\n",
    "    ''' forward normalize the data\n",
    "    '''\n",
    "    ixs = np.where(np.abs(max_-min_)<1e-10)[0]\n",
    "    if not ixs.size == 0:\n",
    "        max_[ixs]=np.ones_like(ixs)\n",
    "        min_[ixs]=np.zeros_like(ixs)\n",
    "    return (data - min_) / (max_ - min_)\n",
    "\n",
    "def reverse_normalize(data, min_, max_):\n",
    "    ''' un-normlaize the data\n",
    "    '''\n",
    "    ixs = np.where(np.abs(max_-min_)<1e-10)[0]\n",
    "    if not ixs.size == 0:\n",
    "        max_[ixs]=np.ones_like(ixs)\n",
    "        min_[ixs]=np.zeros_like(ixs)\n",
    "    return data * (max_ - min_) + min_"
   ]
  },
  {
   "cell_type": "code",
   "execution_count": null,
   "id": "b8b09aec",
   "metadata": {},
   "outputs": [],
   "source": []
  },
  {
   "cell_type": "code",
   "execution_count": 47,
   "id": "25c6eef0",
   "metadata": {},
   "outputs": [],
   "source": [
    "# do cross validation\n",
    "\n",
    "indices = np.arange(33)\n",
    "np.random.shuffle(indices)\n",
    "work_x = X_red[:33, :]\n",
    "work_y = np.log(np.array(targets))\n",
    "\n",
    "num_folds = 4\n",
    "fold_size = 8\n",
    "\n",
    "folds = []\n",
    "\n",
    "for num_fold in range(num_folds):\n",
    "    \n",
    "    fold_train_x = work_x[indices[fold_size:], :]\n",
    "    fold_train_y = work_y[indices[fold_size:]]\n",
    "    \n",
    "    fold_test_x = work_x[indices[:fold_size], :]\n",
    "    fold_test_y = work_y[indices[:fold_size]]\n",
    "    \n",
    "    \n",
    "    folds.append({\n",
    "        'train_x': fold_train_x,\n",
    "        'train_y': fold_train_y,\n",
    "        'test_x': fold_test_x,\n",
    "        'test_y': fold_test_y,\n",
    "    })\n",
    "    \n",
    "    indices = np.roll(indices, fold_size)"
   ]
  },
  {
   "cell_type": "code",
   "execution_count": 48,
   "id": "276c2840",
   "metadata": {
    "scrolled": true
   },
   "outputs": [
    {
     "name": "stdout",
     "output_type": "stream",
     "text": [
      "[[-1.14402917e+00  1.91134999e+00 -1.04623439e+00 ... -2.41822386e-01\n",
      "  -1.54773625e-01 -1.16962391e-01]\n",
      " [-2.15294712e+00  1.86184268e+00 -1.09175729e+00 ...  3.34344932e-01\n",
      "  -4.62097479e-01 -1.86580805e-01]\n",
      " [-1.02828755e+00  1.03753921e+00 -1.14967812e+00 ... -1.07339279e-02\n",
      "  -1.82467782e-01 -9.10411088e-02]\n",
      " ...\n",
      " [-1.42236163e+00 -2.70939836e+00 -9.44852669e-01 ... -6.36533281e-03\n",
      "   9.79411479e-03  1.49521165e-01]\n",
      " [ 7.73699742e+00  4.83399295e-02  1.95177923e+00 ...  2.24294609e-02\n",
      "  -1.11780541e-01  6.50105309e-02]\n",
      " [ 1.06209922e+01 -1.49175044e+00  6.47498624e-01 ... -1.39006608e-01\n",
      "  -3.10739758e-01  2.20727674e-01]]\n",
      "Iter : 1/100 - Loss : 1.4435413330355322\n",
      "[[-2.68515895e-01 -1.45329611e+00  4.41762314e+00 ...  1.46376573e-01\n",
      "   5.43611622e-01 -2.78907431e-01]\n",
      " [-6.85731489e-01  1.49335455e+00  4.76151091e+00 ... -5.18206292e-02\n",
      "  -1.41988995e-01 -1.86906242e-01]\n",
      " [-2.40989151e+00 -3.12209285e+00 -8.96244669e-01 ...  2.61927619e-02\n",
      "   1.47607318e-01 -4.43343200e-04]\n",
      " ...\n",
      " [ 6.84310064e+00 -9.20514628e-01  1.88405234e+00 ... -1.54198820e-01\n",
      "   5.17192260e-01 -1.14817192e-01]\n",
      " [-6.75232996e-01  5.83039458e+00 -6.42078271e-01 ...  7.34565289e-01\n",
      "  -4.15581848e-01  1.05325766e-01]\n",
      " [ 8.66739485e+00  8.71837445e+00 -2.57796688e-01 ... -7.44349703e-02\n",
      "   2.19838921e-01 -2.75720151e-02]]\n",
      "Iter : 1/100 - Loss : 1.4623927797725558\n"
     ]
    },
    {
     "name": "stderr",
     "output_type": "stream",
     "text": [
      "/home/riley/Software/anaconda3/lib/python3.7/site-packages/gpytorch/models/exact_gp.py:275: GPInputWarning: The input matches the stored training data. Did you forget to call model.train()?\n",
      "  GPInputWarning,\n"
     ]
    },
    {
     "name": "stdout",
     "output_type": "stream",
     "text": [
      "[[ 2.29099235 -0.6508815   1.34551611 ... -0.02052539 -0.03018385\n",
      "  -0.17953917]\n",
      " [-0.28364803  0.67371355  4.49951468 ...  0.03774066 -0.23858087\n",
      "  -0.04196005]\n",
      " [-2.67471787 -2.05188472 -0.97439928 ... -0.10851176 -0.03358273\n",
      "  -0.13247507]\n",
      " ...\n",
      " [ 5.26070696  0.82987672  2.46021879 ...  0.11915127 -0.03485462\n",
      "  -0.14261764]\n",
      " [ 4.99251531 -0.61332784  3.57895178 ...  0.26292751  0.1399743\n",
      "  -0.36462338]\n",
      " [ 1.26925659 -2.05970558  1.60049947 ... -0.32200201 -0.01834342\n",
      "  -0.323717  ]]\n",
      "Iter : 1/100 - Loss : 1.4559035964659615\n",
      "[[ 3.69418397e-01 -8.39813241e-02  2.87019111e+00 ...  1.73081786e-01\n",
      "  -5.97698057e-02  4.47654646e-01]\n",
      " [-4.10050275e+00 -1.54885334e+00 -2.43834912e-01 ...  3.48339014e-02\n",
      "   1.38055228e-01 -2.25480219e-03]\n",
      " [-3.26424014e-01  5.00400316e-01  2.50833230e+00 ... -3.89348211e-01\n",
      "  -1.70532271e-01 -7.08876405e-02]\n",
      " ...\n",
      " [-2.13172269e+00  2.08691678e-01 -5.19027024e-01 ...  4.50882791e-02\n",
      "   5.77111962e-02 -2.03283963e-01]\n",
      " [ 1.23837564e+00 -2.03438379e+00  1.64913976e+00 ... -4.07539578e-01\n",
      "  -3.84924699e-02 -3.62915130e-01]\n",
      " [-1.14402917e+00  1.91134999e+00 -1.04623439e+00 ... -2.41822386e-01\n",
      "  -1.54773625e-01 -1.16962391e-01]]\n",
      "Iter : 1/100 - Loss : 1.4393317988441325\n"
     ]
    }
   ],
   "source": [
    "\n",
    "# train and predict on all the folds\n",
    "for fold in folds: \n",
    "    train_x = fold['train_x']\n",
    "    print(train_x)\n",
    "    _mins_x, _maxs_x = np.amin(train_x, axis=0), np.amax(train_x, axis=0)\n",
    "    train_x_scal = torch.tensor(\n",
    "        forward_normalize(train_x, _mins_x, _maxs_x)\n",
    "    )\n",
    "    \n",
    "    \n",
    "    train_y = fold['train_y']\n",
    "    _mean_y, _std_y = np.mean(train_y), np.std(train_y)\n",
    "    train_y_scal = torch.tensor(\n",
    "        forward_standardize(train_y, _mean_y, _std_y)\n",
    "    )\n",
    "    \n",
    "    test_x = fold['test_x']\n",
    "    test_x_scal = torch.tensor(\n",
    "        forward_normalize(test_x, _mins_x, _maxs_x)\n",
    "    )\n",
    "    \n",
    "    test_y = fold['test_y']\n",
    "    test_y_scal = torch.tensor(\n",
    "        forward_standardize(test_y, _mean_y, _std_y)\n",
    "    )\n",
    "    \n",
    "    mat_likelihood = gpytorch.likelihoods.GaussianLikelihood()\n",
    "    mat_model = RBFKernelModel(train_x_scal, train_y_scal, mat_likelihood)\n",
    "    #mat_model = MaternKernelModel(train_x_scal, train_y_scal, mat_likelihood)\n",
    "    \n",
    "    mat_model, mat_likelihood = train_model(\n",
    "        mat_model, mat_likelihood, train_x_scal, train_y_scal, training_iter=100\n",
    "    )\n",
    "\n",
    "    mat_pred = predict_model(mat_model, mat_likelihood, train_x_scal)\n",
    "    mat_mean_scal, mat_std = mat_pred.mean.detach().numpy(), torch.sqrt(mat_pred.variance).detach().numpy()\n",
    "    mat_mean = reverse_standardize(mat_mean_scal, _mean_y, _std_y )\n",
    "    \n",
    "    mat_pred_test = predict_model(mat_model, mat_likelihood, test_x_scal)\n",
    "    mat_mean_test_scal, mat_std_test = mat_pred_test.mean.detach().numpy(), torch.sqrt(mat_pred_test.variance).detach().numpy()\n",
    "    mat_mean_test = reverse_standardize(mat_mean_test_scal, _mean_y, _std_y )\n",
    "    \n",
    "    fold['mat_mean'] = mat_mean\n",
    "    fold['mat_std'] = mat_std\n",
    "    fold['mat_mean_test'] = mat_mean_test\n",
    "    fold['mat_std_test'] = mat_std_test\n",
    "    \n",
    "    \n",
    "\n",
    "    \n",
    "    "
   ]
  },
  {
   "cell_type": "code",
   "execution_count": 50,
   "id": "ec199d37",
   "metadata": {},
   "outputs": [
    {
     "name": "stdout",
     "output_type": "stream",
     "text": [
      "fold 0 pear -0.04761429937040501 mae 0.7715168672949488 mape 0.021138340954152755\n",
      "fold 1 pear 0.47376112700602635 mae 0.4864481824328477 mape 0.013398435674076285\n",
      "fold 2 pear -0.23833675979612162 mae 0.8532791514401783 mape 0.02218764870768218\n",
      "fold 3 pear -0.2531283921991798 mae 1.0932698011326325 mape 0.028751390282823728\n"
     ]
    },
    {
     "data": {
      "text/plain": [
       "[<matplotlib.lines.Line2D at 0x7f56d346b290>]"
      ]
     },
     "execution_count": 50,
     "metadata": {},
     "output_type": "execute_result"
    },
    {
     "data": {
      "image/png": "[encoded data removed]",
      "text/plain": [
       "<Figure size 432x288 with 1 Axes>"
      ]
     },
     "metadata": {
      "needs_background": "light"
     },
     "output_type": "display_data"
    }
   ],
   "source": [
    "fig, ax = plt.subplots()\n",
    "\n",
    "for ix, fold in enumerate(folds):\n",
    "    mape = mean_absolute_percentage_error(fold['test_y'], fold['mat_mean_test'])\n",
    "    mae  = mean_absolute_error(fold['test_y'], fold['mat_mean_test'])\n",
    "    pear = pearsonr(fold['test_y'], fold['mat_mean_test'])[0]\n",
    "    ax.scatter(fold['test_y'], fold['mat_mean_test'])\n",
    "    \n",
    "    print(f'fold {ix} pear {pear} mae {mae} mape {mape}')\n",
    "    \n",
    "ax.set_ylabel('pred y')\n",
    "ax.set_xlabel('true y')\n",
    "\n",
    "# ax.set_xscale('log')\n",
    "# ax.set_yscale('log')\n",
    "\n",
    "min_, max_ = np.amin(work_y), np.amax(work_y)\n",
    "\n",
    "ax.plot([min_, max_], [min_, max_], c='k', lw=2, alpha=0.8)"
   ]
  },
  {
   "cell_type": "markdown",
   "id": "5528c17a",
   "metadata": {},
   "source": [
    "## train the GP on the entire training set and make prediction on heldout set"
   ]
  },
  {
   "cell_type": "code",
   "execution_count": 51,
   "id": "91f49f16",
   "metadata": {},
   "outputs": [
    {
     "name": "stdout",
     "output_type": "stream",
     "text": [
      "torch.Size([33, 50]) (33,) torch.Size([93, 50])\n"
     ]
    }
   ],
   "source": [
    "train_x = torch.tensor(X_red[:33, :])\n",
    "train_y = np.array(np.log10(targets))\n",
    "_mean_y, _std_y = np.mean(train_y), np.std(train_y)\n",
    "train_y_scal_np = forward_standardize(train_y, _mean_y, _std_y)\n",
    "train_y_scal = torch.tensor(train_y_scal_np)\n",
    "\n",
    "\n",
    "test_x = torch.tensor(X_red[33:, :])\n",
    "\n",
    "print(train_x.shape, train_y.shape, test_x.shape)"
   ]
  },
  {
   "cell_type": "code",
   "execution_count": 52,
   "id": "625861fe",
   "metadata": {},
   "outputs": [],
   "source": [
    "mat_likelihood = gpytorch.likelihoods.GaussianLikelihood()\n",
    "mat_model = MaternKernelModel(train_x, train_y_scal, mat_likelihood)"
   ]
  },
  {
   "cell_type": "code",
   "execution_count": 53,
   "id": "d6ac7ade",
   "metadata": {},
   "outputs": [
    {
     "name": "stdout",
     "output_type": "stream",
     "text": [
      "Iter : 1/500 - Loss : 1.4479821670552717\n",
      "Iter : 101/500 - Loss : 1.422187793275986\n",
      "Iter : 201/500 - Loss : 1.4198143511815704\n",
      "Iter : 301/500 - Loss : 1.4192682198765163\n",
      "Iter : 401/500 - Loss : 1.4190961023970208\n"
     ]
    }
   ],
   "source": [
    "mat_model, mat_likelihood = train_model(mat_model, mat_likelihood, train_x, train_y_scal, training_iter=500)\n",
    "\n",
    "mat_pred = predict_model(mat_model, mat_likelihood, test_x)\n",
    "mat_mean_scal, mat_std = mat_pred.mean.detach().numpy(), torch.sqrt(mat_pred.variance).detach().numpy()\n",
    "\n",
    "#mat_mean = reverse_standardize(mat_mean_scal, _mean_y, _std_y )"
   ]
  },
  {
   "cell_type": "code",
   "execution_count": 54,
   "id": "55289c7e",
   "metadata": {},
   "outputs": [
    {
     "name": "stderr",
     "output_type": "stream",
     "text": [
      "/home/riley/Software/anaconda3/lib/python3.7/site-packages/seaborn/distributions.py:2619: FutureWarning: `distplot` is a deprecated function and will be removed in a future version. Please adapt your code to use either `displot` (a figure-level function with similar flexibility) or `histplot` (an axes-level function for histograms).\n",
      "  warnings.warn(msg, FutureWarning)\n"
     ]
    },
    {
     "data": {
      "text/plain": [
       "<AxesSubplot:ylabel='Density'>"
      ]
     },
     "execution_count": 54,
     "metadata": {},
     "output_type": "execute_result"
    },
    {
     "data": {
      "image/png": "[encoded data removed]",
      "text/plain": [
       "<Figure size 432x288 with 1 Axes>"
      ]
     },
     "metadata": {
      "needs_background": "light"
     },
     "output_type": "display_data"
    }
   ],
   "source": [
    "# visualize the test set predictions\n",
    "fig, ax = plt.subplots()\n",
    "sns.distplot(mat_mean_scal, ax=ax)\n",
    "#sns.distplot(train_y_scal_np, ax=ax)"
   ]
  },
  {
   "cell_type": "code",
   "execution_count": null,
   "id": "6a929d71",
   "metadata": {},
   "outputs": [],
   "source": [
    "#sns.histplot(train_y)\n",
    "sns.rugplot(train_y)\n",
    "plt.xscale('log')"
   ]
  },
  {
   "cell_type": "code",
   "execution_count": 55,
   "id": "cda07c0c",
   "metadata": {},
   "outputs": [
    {
     "data": {
      "text/plain": [
       "<AxesSubplot:>"
      ]
     },
     "execution_count": 55,
     "metadata": {},
     "output_type": "execute_result"
    },
    {
     "data": {
      "image/png": "[encoded data removed]",
      "text/plain": [
       "<Figure size 432x288 with 1 Axes>"
      ]
     },
     "metadata": {
      "needs_background": "light"
     },
     "output_type": "display_data"
    }
   ],
   "source": [
    "sns.rugplot(mat_mean_scal)"
   ]
  },
  {
   "cell_type": "code",
   "execution_count": null,
   "id": "355cc21d",
   "metadata": {},
   "outputs": [],
   "source": []
  },
  {
   "cell_type": "markdown",
   "id": "3cb8ee9d",
   "metadata": {},
   "source": [
    "## Visualize the structures of the training and test sets"
   ]
  },
  {
   "cell_type": "code",
   "execution_count": null,
   "id": "77306968",
   "metadata": {},
   "outputs": [],
   "source": [
    "frag_c_smiles"
   ]
  },
  {
   "cell_type": "code",
   "execution_count": null,
   "id": "5972b65f",
   "metadata": {},
   "outputs": [],
   "source": [
    "unmeas_frag_c_smiles"
   ]
  },
  {
   "cell_type": "code",
   "execution_count": null,
   "id": "7b77ea27",
   "metadata": {},
   "outputs": [],
   "source": [
    "smi = frag_c_smiles[0]\n",
    "mol = chem.MolFromSmiles(smi)"
   ]
  },
  {
   "cell_type": "code",
   "execution_count": null,
   "id": "f752f080",
   "metadata": {},
   "outputs": [],
   "source": [
    "mod_mol = chem.ReplaceSubstructs(\n",
    "            mol,\n",
    "            chem.MolFromSmiles('Br'),\n",
    "            chem.MolFromSmiles('C=C'),\n",
    "            replaceAll=True,\n",
    "        )[0]"
   ]
  },
  {
   "cell_type": "code",
   "execution_count": null,
   "id": "ac4c65ff",
   "metadata": {},
   "outputs": [],
   "source": [
    "mol"
   ]
  },
  {
   "cell_type": "code",
   "execution_count": null,
   "id": "391ac6d9",
   "metadata": {},
   "outputs": [],
   "source": [
    "mod_mol"
   ]
  },
  {
   "cell_type": "code",
   "execution_count": null,
   "id": "62c0de6b",
   "metadata": {},
   "outputs": [],
   "source": []
  }
 ],
 "metadata": {
  "kernelspec": {
   "display_name": "feas",
   "language": "python",
   "name": "feas"
  },
  "language_info": {
   "codemirror_mode": {
    "name": "ipython",
    "version": 3
   },
   "file_extension": ".py",
   "mimetype": "text/x-python",
   "name": "python",
   "nbconvert_exporter": "python",
   "pygments_lexer": "ipython3",
   "version": "3.7.11"
  }
 },
 "nbformat": 4,
 "nbformat_minor": 5
}
