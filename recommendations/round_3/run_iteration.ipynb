{
 "cells": [
  {
   "cell_type": "code",
   "execution_count": 36,
   "id": "87d90574",
   "metadata": {
    "pycharm": {
     "is_executing": true,
     "name": "#%%\n"
    }
   },
   "outputs": [
    {
     "name": "stdout",
     "output_type": "stream",
     "text": [
      "The autoreload extension is already loaded. To reload it, use:\n",
      "  %reload_ext autoreload\n"
     ]
    }
   ],
   "source": [
    "%load_ext autoreload\n",
    "%autoreload 2"
   ]
  },
  {
   "cell_type": "code",
   "execution_count": 46,
   "id": "7adfedfc",
   "metadata": {
    "pycharm": {
     "name": "#%%\n"
    }
   },
   "outputs": [],
   "source": [
    "import os, sys\n",
    "import time\n",
    "import pickle\n",
    "\n",
    "import numpy as np\n",
    "import pandas as pd\n",
    "\n",
    "import rdkit\n",
    "import rdkit.Chem as chem\n",
    "import rdkit.Chem.AllChem as allchem\n",
    "\n",
    "from gryffin import Gryffin\n",
    "\n",
    "from molar_interface import MolarInterface"
   ]
  },
  {
   "cell_type": "markdown",
   "id": "07668d40",
   "metadata": {
    "pycharm": {
     "name": "#%% md\n"
    }
   },
   "source": [
    "## Make connection to the MolarDB "
   ]
  },
  {
   "cell_type": "code",
   "execution_count": 47,
   "id": "3e30ae8d",
   "metadata": {
    "pycharm": {
     "name": "#%%\n"
    }
   },
   "outputs": [],
   "source": [
    "# define user details\n",
    "user_details = {\n",
    "    'email':'riley.hickman13@gmail.com',\n",
    "    'password':'az1$jH5v',\n",
    "}\n"
   ]
  },
  {
   "cell_type": "code",
   "execution_count": 48,
   "id": "d2796b63",
   "metadata": {
    "pycharm": {
     "name": "#%%\n"
    }
   },
   "outputs": [
    {
     "data": {
      "text/plain": [
       "{'email': 'riley.hickman13@gmail.com',\n",
       " 'is_superuser': False,\n",
       " 'is_active': True,\n",
       " 'full_name': 'rileyhickman',\n",
       " 'created_on': '2022-01-18T19:16:33.241173',\n",
       " 'user_id': 3}"
      ]
     },
     "execution_count": 48,
     "metadata": {},
     "output_type": "execute_result"
    }
   ],
   "source": [
    "db = MolarInterface(user_details, database_name='madness_laser') # client in client attribute\n",
    "db.client.test_token()"
   ]
  },
  {
   "cell_type": "markdown",
   "id": "f67f5408",
   "metadata": {
    "pycharm": {
     "name": "#%% md\n"
    }
   },
   "source": [
    "## Retrieve the first set of molecules in the DB\n",
    "\n",
    "We use a filtered query to return all of the molecules for which we have tried to measure the optical properties. "
   ]
  },
  {
   "cell_type": "code",
   "execution_count": 49,
   "id": "f79fb417",
   "metadata": {
    "pycharm": {
     "name": "#%%\n"
    }
   },
   "outputs": [],
   "source": [
    "# custom query to get the molecules with the optical properties\n",
    "df = db.client.query_database(\n",
    "    [\n",
    "      'machine',\n",
    "      'lab',\n",
    "      'synthesis',\n",
    "      'molecule',\n",
    "      'molecule_molecule',\n",
    "      'molecule.optical_properties',\n",
    "    ],\n",
    "    joins = [\n",
    "      {\n",
    "        'type': 'molecule',\n",
    "        'on': {\n",
    "          'column1': 'molecule.molecule_id',\n",
    "          'column2': 'synthesis.molecule_id',\n",
    "            \n",
    "        },\n",
    "      },\n",
    "      {\n",
    "        'type': 'molecule_molecule',\n",
    "        'on': {\n",
    "          'column1': 'molecule_molecule.molecule_id',\n",
    "          'column2': 'molecule.molecule_id',\n",
    "        },\n",
    "      },\n",
    "      {\n",
    "        'type': 'machine',\n",
    "        'on': {\n",
    "          'column1': 'machine.machine_id',\n",
    "          'column2': 'synthesis.machine_id',\n",
    "        },\n",
    "      },\n",
    "      {\n",
    "        'type': 'lab',\n",
    "        'on': {\n",
    "          'column1': 'lab.lab_id',\n",
    "          'column2': 'synthesis.lab_id',\n",
    "        },\n",
    "      },\n",
    "    ],\n",
    "limit=1000)"
   ]
  },
  {
   "cell_type": "code",
   "execution_count": 50,
   "id": "b75ae3f6",
   "metadata": {
    "pycharm": {
     "name": "#%%\n"
    }
   },
   "outputs": [
    {
     "name": "stdout",
     "output_type": "stream",
     "text": [
      "(187, 33)\n"
     ]
    },
    {
     "data": {
      "text/html": [
       "<div>\n",
       "<style scoped>\n",
       "    .dataframe tbody tr th:only-of-type {\n",
       "        vertical-align: middle;\n",
       "    }\n",
       "\n",
       "    .dataframe tbody tr th {\n",
       "        vertical-align: top;\n",
       "    }\n",
       "\n",
       "    .dataframe thead th {\n",
       "        text-align: right;\n",
       "    }\n",
       "</style>\n",
       "<table border=\"1\" class=\"dataframe\">\n",
       "  <thead>\n",
       "    <tr style=\"text-align: right;\">\n",
       "      <th></th>\n",
       "      <th>machine.machine_id</th>\n",
       "      <th>machine.created_on</th>\n",
       "      <th>machine.updated_on</th>\n",
       "      <th>machine.name</th>\n",
       "      <th>machine.lab_id</th>\n",
       "      <th>lab.lab_id</th>\n",
       "      <th>lab.created_on</th>\n",
       "      <th>lab.updated_on</th>\n",
       "      <th>lab.name</th>\n",
       "      <th>synthesis.synthesis_id</th>\n",
       "      <th>...</th>\n",
       "      <th>molecule_molecule.created_on</th>\n",
       "      <th>molecule_molecule.updated_on</th>\n",
       "      <th>molecule_molecule.fragment_a</th>\n",
       "      <th>molecule_molecule.fragment_b</th>\n",
       "      <th>molecule_molecule.fragment_c</th>\n",
       "      <th>molecule_molecule.molecule_id</th>\n",
       "      <th>synthesis.parcel_tracking_num</th>\n",
       "      <th>molecule.hid</th>\n",
       "      <th>molecule.commercially_available</th>\n",
       "      <th>molecule.molecule_type_id</th>\n",
       "    </tr>\n",
       "  </thead>\n",
       "  <tbody>\n",
       "    <tr>\n",
       "      <th>0</th>\n",
       "      <td>5600f641-b180-41b1-8043-921e66107744</td>\n",
       "      <td>2022-01-18T12:59:47.995614</td>\n",
       "      <td>2022-01-18T12:59:47.995614</td>\n",
       "      <td>The Machine</td>\n",
       "      <td>b65835e3-b908-45c6-9995-ec98d0caafe7</td>\n",
       "      <td>b65835e3-b908-45c6-9995-ec98d0caafe7</td>\n",
       "      <td>2022-01-18T12:59:47.145756</td>\n",
       "      <td>2022-01-18T12:59:47.145756</td>\n",
       "      <td>Illinois</td>\n",
       "      <td>8cf4e82b-6075-460d-a2ad-cb492f4c4b93</td>\n",
       "      <td>...</td>\n",
       "      <td>2022-02-03T14:24:29.817992</td>\n",
       "      <td>2022-02-03T14:24:29.817992</td>\n",
       "      <td>56471498-825e-47e7-a772-136f0f7bd817</td>\n",
       "      <td>d1bb232c-b83a-49cb-bcec-0e02558a6c41</td>\n",
       "      <td>fb544fb8-5588-41af-ab92-fcc8c3b4e052</td>\n",
       "      <td>b33b1cc9-81d8-4833-803f-466411581a4d</td>\n",
       "      <td>None</td>\n",
       "      <td>None</td>\n",
       "      <td>None</td>\n",
       "      <td>None</td>\n",
       "    </tr>\n",
       "    <tr>\n",
       "      <th>1</th>\n",
       "      <td>5600f641-b180-41b1-8043-921e66107744</td>\n",
       "      <td>2022-01-18T12:59:47.995614</td>\n",
       "      <td>2022-01-18T12:59:47.995614</td>\n",
       "      <td>The Machine</td>\n",
       "      <td>b65835e3-b908-45c6-9995-ec98d0caafe7</td>\n",
       "      <td>b65835e3-b908-45c6-9995-ec98d0caafe7</td>\n",
       "      <td>2022-01-18T12:59:47.145756</td>\n",
       "      <td>2022-01-18T12:59:47.145756</td>\n",
       "      <td>Illinois</td>\n",
       "      <td>43283ee2-6110-4460-aa57-08cedd716cbd</td>\n",
       "      <td>...</td>\n",
       "      <td>2022-02-09T22:03:57.061626</td>\n",
       "      <td>2022-02-09T22:03:57.061626</td>\n",
       "      <td>05ca4304-bea5-41b7-a7f1-c2bc46462153</td>\n",
       "      <td>d1bb232c-b83a-49cb-bcec-0e02558a6c41</td>\n",
       "      <td>b0ee7203-c40b-4f5b-9b32-c647bd61ddf1</td>\n",
       "      <td>322b8304-39b5-49bc-a307-99719f0d5911</td>\n",
       "      <td>775853526901</td>\n",
       "      <td>None</td>\n",
       "      <td>None</td>\n",
       "      <td>None</td>\n",
       "    </tr>\n",
       "    <tr>\n",
       "      <th>2</th>\n",
       "      <td>f158c26e-a94e-4994-9a95-de324aa1da23</td>\n",
       "      <td>2022-01-18T12:59:46.312079</td>\n",
       "      <td>2022-01-18T12:59:46.312079</td>\n",
       "      <td>ChemSpeed</td>\n",
       "      <td>08cc75ca-8d1e-4ead-9b56-ad1b6ba83a41</td>\n",
       "      <td>08cc75ca-8d1e-4ead-9b56-ad1b6ba83a41</td>\n",
       "      <td>2022-01-18T12:59:44.418607</td>\n",
       "      <td>2022-01-18T12:59:44.418607</td>\n",
       "      <td>Toronto</td>\n",
       "      <td>695c1c55-bf6a-4265-b68d-4655999a7b85</td>\n",
       "      <td>...</td>\n",
       "      <td>2022-02-11T16:19:41.240088</td>\n",
       "      <td>2022-02-11T16:19:41.240088</td>\n",
       "      <td>6bf2b5a1-c157-4b5a-8a80-bf0b44704273</td>\n",
       "      <td>45cb409f-376c-4f89-8ee7-79595d2668e7</td>\n",
       "      <td>2d83fadb-4b36-42a3-a29d-1ff30b8972d6</td>\n",
       "      <td>539c5e5e-25fa-457d-a2c0-ecf3f88c36f3</td>\n",
       "      <td>None</td>\n",
       "      <td>A001B003C001</td>\n",
       "      <td>False</td>\n",
       "      <td>a06a38b6-78b6-4fcc-8a61-3fe9d0af7cea</td>\n",
       "    </tr>\n",
       "    <tr>\n",
       "      <th>3</th>\n",
       "      <td>f158c26e-a94e-4994-9a95-de324aa1da23</td>\n",
       "      <td>2022-01-18T12:59:46.312079</td>\n",
       "      <td>2022-01-18T12:59:46.312079</td>\n",
       "      <td>ChemSpeed</td>\n",
       "      <td>08cc75ca-8d1e-4ead-9b56-ad1b6ba83a41</td>\n",
       "      <td>08cc75ca-8d1e-4ead-9b56-ad1b6ba83a41</td>\n",
       "      <td>2022-01-18T12:59:44.418607</td>\n",
       "      <td>2022-01-18T12:59:44.418607</td>\n",
       "      <td>Toronto</td>\n",
       "      <td>9a71f775-c341-42b1-ab7a-cd0917b5e80f</td>\n",
       "      <td>...</td>\n",
       "      <td>2022-02-11T16:19:42.453093</td>\n",
       "      <td>2022-02-11T16:19:42.453093</td>\n",
       "      <td>6bf2b5a1-c157-4b5a-8a80-bf0b44704273</td>\n",
       "      <td>45cb409f-376c-4f89-8ee7-79595d2668e7</td>\n",
       "      <td>d84002d6-88ab-4007-80e3-629404e64478</td>\n",
       "      <td>3275cec5-919c-4f18-bb4c-2ec941f7db3b</td>\n",
       "      <td>None</td>\n",
       "      <td>A001B003C002</td>\n",
       "      <td>False</td>\n",
       "      <td>a06a38b6-78b6-4fcc-8a61-3fe9d0af7cea</td>\n",
       "    </tr>\n",
       "    <tr>\n",
       "      <th>4</th>\n",
       "      <td>f158c26e-a94e-4994-9a95-de324aa1da23</td>\n",
       "      <td>2022-01-18T12:59:46.312079</td>\n",
       "      <td>2022-01-18T12:59:46.312079</td>\n",
       "      <td>ChemSpeed</td>\n",
       "      <td>08cc75ca-8d1e-4ead-9b56-ad1b6ba83a41</td>\n",
       "      <td>08cc75ca-8d1e-4ead-9b56-ad1b6ba83a41</td>\n",
       "      <td>2022-01-18T12:59:44.418607</td>\n",
       "      <td>2022-01-18T12:59:44.418607</td>\n",
       "      <td>Toronto</td>\n",
       "      <td>8cf70e33-a879-4ab7-879f-5284da51c300</td>\n",
       "      <td>...</td>\n",
       "      <td>2022-02-11T16:19:43.720683</td>\n",
       "      <td>2022-02-11T16:19:43.720683</td>\n",
       "      <td>6bf2b5a1-c157-4b5a-8a80-bf0b44704273</td>\n",
       "      <td>45cb409f-376c-4f89-8ee7-79595d2668e7</td>\n",
       "      <td>c995b067-f927-40cc-98ce-f067b07ef086</td>\n",
       "      <td>63bd1d6d-3e81-48ae-9535-e04dc6d9d32f</td>\n",
       "      <td>None</td>\n",
       "      <td>A001B003C003</td>\n",
       "      <td>False</td>\n",
       "      <td>a06a38b6-78b6-4fcc-8a61-3fe9d0af7cea</td>\n",
       "    </tr>\n",
       "  </tbody>\n",
       "</table>\n",
       "<p>5 rows × 33 columns</p>\n",
       "</div>"
      ],
      "text/plain": [
       "                     machine.machine_id          machine.created_on  \\\n",
       "0  5600f641-b180-41b1-8043-921e66107744  2022-01-18T12:59:47.995614   \n",
       "1  5600f641-b180-41b1-8043-921e66107744  2022-01-18T12:59:47.995614   \n",
       "2  f158c26e-a94e-4994-9a95-de324aa1da23  2022-01-18T12:59:46.312079   \n",
       "3  f158c26e-a94e-4994-9a95-de324aa1da23  2022-01-18T12:59:46.312079   \n",
       "4  f158c26e-a94e-4994-9a95-de324aa1da23  2022-01-18T12:59:46.312079   \n",
       "\n",
       "           machine.updated_on machine.name  \\\n",
       "0  2022-01-18T12:59:47.995614  The Machine   \n",
       "1  2022-01-18T12:59:47.995614  The Machine   \n",
       "2  2022-01-18T12:59:46.312079    ChemSpeed   \n",
       "3  2022-01-18T12:59:46.312079    ChemSpeed   \n",
       "4  2022-01-18T12:59:46.312079    ChemSpeed   \n",
       "\n",
       "                         machine.lab_id                            lab.lab_id  \\\n",
       "0  b65835e3-b908-45c6-9995-ec98d0caafe7  b65835e3-b908-45c6-9995-ec98d0caafe7   \n",
       "1  b65835e3-b908-45c6-9995-ec98d0caafe7  b65835e3-b908-45c6-9995-ec98d0caafe7   \n",
       "2  08cc75ca-8d1e-4ead-9b56-ad1b6ba83a41  08cc75ca-8d1e-4ead-9b56-ad1b6ba83a41   \n",
       "3  08cc75ca-8d1e-4ead-9b56-ad1b6ba83a41  08cc75ca-8d1e-4ead-9b56-ad1b6ba83a41   \n",
       "4  08cc75ca-8d1e-4ead-9b56-ad1b6ba83a41  08cc75ca-8d1e-4ead-9b56-ad1b6ba83a41   \n",
       "\n",
       "               lab.created_on              lab.updated_on  lab.name  \\\n",
       "0  2022-01-18T12:59:47.145756  2022-01-18T12:59:47.145756  Illinois   \n",
       "1  2022-01-18T12:59:47.145756  2022-01-18T12:59:47.145756  Illinois   \n",
       "2  2022-01-18T12:59:44.418607  2022-01-18T12:59:44.418607   Toronto   \n",
       "3  2022-01-18T12:59:44.418607  2022-01-18T12:59:44.418607   Toronto   \n",
       "4  2022-01-18T12:59:44.418607  2022-01-18T12:59:44.418607   Toronto   \n",
       "\n",
       "                 synthesis.synthesis_id  ... molecule_molecule.created_on  \\\n",
       "0  8cf4e82b-6075-460d-a2ad-cb492f4c4b93  ...   2022-02-03T14:24:29.817992   \n",
       "1  43283ee2-6110-4460-aa57-08cedd716cbd  ...   2022-02-09T22:03:57.061626   \n",
       "2  695c1c55-bf6a-4265-b68d-4655999a7b85  ...   2022-02-11T16:19:41.240088   \n",
       "3  9a71f775-c341-42b1-ab7a-cd0917b5e80f  ...   2022-02-11T16:19:42.453093   \n",
       "4  8cf70e33-a879-4ab7-879f-5284da51c300  ...   2022-02-11T16:19:43.720683   \n",
       "\n",
       "  molecule_molecule.updated_on          molecule_molecule.fragment_a  \\\n",
       "0   2022-02-03T14:24:29.817992  56471498-825e-47e7-a772-136f0f7bd817   \n",
       "1   2022-02-09T22:03:57.061626  05ca4304-bea5-41b7-a7f1-c2bc46462153   \n",
       "2   2022-02-11T16:19:41.240088  6bf2b5a1-c157-4b5a-8a80-bf0b44704273   \n",
       "3   2022-02-11T16:19:42.453093  6bf2b5a1-c157-4b5a-8a80-bf0b44704273   \n",
       "4   2022-02-11T16:19:43.720683  6bf2b5a1-c157-4b5a-8a80-bf0b44704273   \n",
       "\n",
       "           molecule_molecule.fragment_b          molecule_molecule.fragment_c  \\\n",
       "0  d1bb232c-b83a-49cb-bcec-0e02558a6c41  fb544fb8-5588-41af-ab92-fcc8c3b4e052   \n",
       "1  d1bb232c-b83a-49cb-bcec-0e02558a6c41  b0ee7203-c40b-4f5b-9b32-c647bd61ddf1   \n",
       "2  45cb409f-376c-4f89-8ee7-79595d2668e7  2d83fadb-4b36-42a3-a29d-1ff30b8972d6   \n",
       "3  45cb409f-376c-4f89-8ee7-79595d2668e7  d84002d6-88ab-4007-80e3-629404e64478   \n",
       "4  45cb409f-376c-4f89-8ee7-79595d2668e7  c995b067-f927-40cc-98ce-f067b07ef086   \n",
       "\n",
       "          molecule_molecule.molecule_id  synthesis.parcel_tracking_num  \\\n",
       "0  b33b1cc9-81d8-4833-803f-466411581a4d                           None   \n",
       "1  322b8304-39b5-49bc-a307-99719f0d5911                   775853526901   \n",
       "2  539c5e5e-25fa-457d-a2c0-ecf3f88c36f3                           None   \n",
       "3  3275cec5-919c-4f18-bb4c-2ec941f7db3b                           None   \n",
       "4  63bd1d6d-3e81-48ae-9535-e04dc6d9d32f                           None   \n",
       "\n",
       "   molecule.hid molecule.commercially_available  \\\n",
       "0          None                            None   \n",
       "1          None                            None   \n",
       "2  A001B003C001                           False   \n",
       "3  A001B003C002                           False   \n",
       "4  A001B003C003                           False   \n",
       "\n",
       "              molecule.molecule_type_id  \n",
       "0                                  None  \n",
       "1                                  None  \n",
       "2  a06a38b6-78b6-4fcc-8a61-3fe9d0af7cea  \n",
       "3  a06a38b6-78b6-4fcc-8a61-3fe9d0af7cea  \n",
       "4  a06a38b6-78b6-4fcc-8a61-3fe9d0af7cea  \n",
       "\n",
       "[5 rows x 33 columns]"
      ]
     },
     "execution_count": 50,
     "metadata": {},
     "output_type": "execute_result"
    }
   ],
   "source": [
    "print(df.shape)\n",
    "df.head()"
   ]
  },
  {
   "cell_type": "code",
   "execution_count": 80,
   "id": "130cdb50",
   "metadata": {
    "pycharm": {
     "name": "#%%\n"
    }
   },
   "outputs": [
    {
     "data": {
      "text/plain": [
       "array(['PROCESSING', 'RECEIVED', 'DONE', 'FAILED', 'SYNTHESIZED',\n",
       "       'ACQUIRED'], dtype=object)"
      ]
     },
     "execution_count": 80,
     "metadata": {},
     "output_type": "execute_result"
    }
   ],
   "source": [
    "df['synthesis.status'].unique()"
   ]
  },
  {
   "cell_type": "code",
   "execution_count": 81,
   "id": "05f806f9",
   "metadata": {
    "pycharm": {
     "name": "#%%\n"
    }
   },
   "outputs": [
    {
     "name": "stdout",
     "output_type": "stream",
     "text": [
      "NUM IN PROGRESS :  2\n",
      "NUM FINISHED :  173\n",
      "PERCENT DONE 0.106\n"
     ]
    },
    {
     "data": {
      "text/html": [
       "<div>\n",
       "<style scoped>\n",
       "    .dataframe tbody tr th:only-of-type {\n",
       "        vertical-align: middle;\n",
       "    }\n",
       "\n",
       "    .dataframe tbody tr th {\n",
       "        vertical-align: top;\n",
       "    }\n",
       "\n",
       "    .dataframe thead th {\n",
       "        text-align: right;\n",
       "    }\n",
       "</style>\n",
       "<table border=\"1\" class=\"dataframe\">\n",
       "  <thead>\n",
       "    <tr style=\"text-align: right;\">\n",
       "      <th></th>\n",
       "      <th>machine.machine_id</th>\n",
       "      <th>machine.created_on</th>\n",
       "      <th>machine.updated_on</th>\n",
       "      <th>machine.name</th>\n",
       "      <th>machine.lab_id</th>\n",
       "      <th>lab.lab_id</th>\n",
       "      <th>lab.created_on</th>\n",
       "      <th>lab.updated_on</th>\n",
       "      <th>lab.name</th>\n",
       "      <th>synthesis.synthesis_id</th>\n",
       "      <th>...</th>\n",
       "      <th>molecule_molecule.created_on</th>\n",
       "      <th>molecule_molecule.updated_on</th>\n",
       "      <th>molecule_molecule.fragment_a</th>\n",
       "      <th>molecule_molecule.fragment_b</th>\n",
       "      <th>molecule_molecule.fragment_c</th>\n",
       "      <th>molecule_molecule.molecule_id</th>\n",
       "      <th>synthesis.parcel_tracking_num</th>\n",
       "      <th>molecule.hid</th>\n",
       "      <th>molecule.commercially_available</th>\n",
       "      <th>molecule.molecule_type_id</th>\n",
       "    </tr>\n",
       "  </thead>\n",
       "  <tbody>\n",
       "    <tr>\n",
       "      <th>0</th>\n",
       "      <td>5600f641-b180-41b1-8043-921e66107744</td>\n",
       "      <td>2022-01-18T12:59:47.995614</td>\n",
       "      <td>2022-01-18T12:59:47.995614</td>\n",
       "      <td>The Machine</td>\n",
       "      <td>b65835e3-b908-45c6-9995-ec98d0caafe7</td>\n",
       "      <td>b65835e3-b908-45c6-9995-ec98d0caafe7</td>\n",
       "      <td>2022-01-18T12:59:47.145756</td>\n",
       "      <td>2022-01-18T12:59:47.145756</td>\n",
       "      <td>Illinois</td>\n",
       "      <td>8cf4e82b-6075-460d-a2ad-cb492f4c4b93</td>\n",
       "      <td>...</td>\n",
       "      <td>2022-02-03T14:24:29.817992</td>\n",
       "      <td>2022-02-03T14:24:29.817992</td>\n",
       "      <td>56471498-825e-47e7-a772-136f0f7bd817</td>\n",
       "      <td>d1bb232c-b83a-49cb-bcec-0e02558a6c41</td>\n",
       "      <td>fb544fb8-5588-41af-ab92-fcc8c3b4e052</td>\n",
       "      <td>b33b1cc9-81d8-4833-803f-466411581a4d</td>\n",
       "      <td>None</td>\n",
       "      <td>None</td>\n",
       "      <td>None</td>\n",
       "      <td>None</td>\n",
       "    </tr>\n",
       "    <tr>\n",
       "      <th>176</th>\n",
       "      <td>9db0b589-ae14-44bb-911f-457b0cd3b0d7</td>\n",
       "      <td>2022-01-18T12:59:49.708708</td>\n",
       "      <td>2022-01-18T12:59:49.708708</td>\n",
       "      <td>Chemputer</td>\n",
       "      <td>6678a008-deb4-4608-9cb2-d32981156538</td>\n",
       "      <td>6678a008-deb4-4608-9cb2-d32981156538</td>\n",
       "      <td>2022-01-18T12:59:48.810040</td>\n",
       "      <td>2022-01-18T12:59:48.810040</td>\n",
       "      <td>Glasgow</td>\n",
       "      <td>e1980582-3f9b-4b0c-832f-e238e11bccf5</td>\n",
       "      <td>...</td>\n",
       "      <td>2022-02-24T16:19:25.646748</td>\n",
       "      <td>2022-02-24T16:19:25.646748</td>\n",
       "      <td>8b25a7f2-4195-4ac9-889a-fb4638832aa9</td>\n",
       "      <td>None</td>\n",
       "      <td>None</td>\n",
       "      <td>fbb2014b-318e-4443-b764-8871663b6165</td>\n",
       "      <td>None</td>\n",
       "      <td>None</td>\n",
       "      <td>None</td>\n",
       "      <td>None</td>\n",
       "    </tr>\n",
       "  </tbody>\n",
       "</table>\n",
       "<p>2 rows × 33 columns</p>\n",
       "</div>"
      ],
      "text/plain": [
       "                       machine.machine_id          machine.created_on  \\\n",
       "0    5600f641-b180-41b1-8043-921e66107744  2022-01-18T12:59:47.995614   \n",
       "176  9db0b589-ae14-44bb-911f-457b0cd3b0d7  2022-01-18T12:59:49.708708   \n",
       "\n",
       "             machine.updated_on machine.name  \\\n",
       "0    2022-01-18T12:59:47.995614  The Machine   \n",
       "176  2022-01-18T12:59:49.708708    Chemputer   \n",
       "\n",
       "                           machine.lab_id  \\\n",
       "0    b65835e3-b908-45c6-9995-ec98d0caafe7   \n",
       "176  6678a008-deb4-4608-9cb2-d32981156538   \n",
       "\n",
       "                               lab.lab_id              lab.created_on  \\\n",
       "0    b65835e3-b908-45c6-9995-ec98d0caafe7  2022-01-18T12:59:47.145756   \n",
       "176  6678a008-deb4-4608-9cb2-d32981156538  2022-01-18T12:59:48.810040   \n",
       "\n",
       "                 lab.updated_on  lab.name  \\\n",
       "0    2022-01-18T12:59:47.145756  Illinois   \n",
       "176  2022-01-18T12:59:48.810040   Glasgow   \n",
       "\n",
       "                   synthesis.synthesis_id  ... molecule_molecule.created_on  \\\n",
       "0    8cf4e82b-6075-460d-a2ad-cb492f4c4b93  ...   2022-02-03T14:24:29.817992   \n",
       "176  e1980582-3f9b-4b0c-832f-e238e11bccf5  ...   2022-02-24T16:19:25.646748   \n",
       "\n",
       "    molecule_molecule.updated_on          molecule_molecule.fragment_a  \\\n",
       "0     2022-02-03T14:24:29.817992  56471498-825e-47e7-a772-136f0f7bd817   \n",
       "176   2022-02-24T16:19:25.646748  8b25a7f2-4195-4ac9-889a-fb4638832aa9   \n",
       "\n",
       "             molecule_molecule.fragment_b  \\\n",
       "0    d1bb232c-b83a-49cb-bcec-0e02558a6c41   \n",
       "176                                  None   \n",
       "\n",
       "             molecule_molecule.fragment_c  \\\n",
       "0    fb544fb8-5588-41af-ab92-fcc8c3b4e052   \n",
       "176                                  None   \n",
       "\n",
       "            molecule_molecule.molecule_id  synthesis.parcel_tracking_num  \\\n",
       "0    b33b1cc9-81d8-4833-803f-466411581a4d                           None   \n",
       "176  fbb2014b-318e-4443-b764-8871663b6165                           None   \n",
       "\n",
       "    molecule.hid molecule.commercially_available molecule.molecule_type_id  \n",
       "0           None                            None                      None  \n",
       "176         None                            None                      None  \n",
       "\n",
       "[2 rows x 33 columns]"
      ]
     },
     "execution_count": 81,
     "metadata": {},
     "output_type": "execute_result"
    }
   ],
   "source": [
    "# get the sub dataframe of all molecules that are either SHIPPED OR IN PROCESSING\n",
    "# these will be constrained in the Gryffin acquisition\n",
    "df_proc = df[df['synthesis.status'].isin(['SHIPPED', 'PROCESSING'])]\n",
    "print('NUM IN PROGRESS : ', df_proc.shape[0])\n",
    "\n",
    "# get all the entries for which the status is DONE\n",
    "df_done = df[df['synthesis.status'].isin(['DONE', 'FAILED'])]\n",
    "print('NUM FINISHED : ', df_done.shape[0])\n",
    "\n",
    "print(f'PERCENT DONE {(df_done.shape[0] / (33*30*165) *100):.3f}')  # TODO: Make space calculaiton automatic from DB?\n",
    "\n",
    "df_proc"
   ]
  },
  {
   "cell_type": "code",
   "execution_count": 82,
   "metadata": {},
   "outputs": [
    {
     "data": {
      "text/html": [
       "<div>\n",
       "<style scoped>\n",
       "    .dataframe tbody tr th:only-of-type {\n",
       "        vertical-align: middle;\n",
       "    }\n",
       "\n",
       "    .dataframe tbody tr th {\n",
       "        vertical-align: top;\n",
       "    }\n",
       "\n",
       "    .dataframe thead th {\n",
       "        text-align: right;\n",
       "    }\n",
       "</style>\n",
       "<table border=\"1\" class=\"dataframe\">\n",
       "  <thead>\n",
       "    <tr style=\"text-align: right;\">\n",
       "      <th></th>\n",
       "      <th>machine.machine_id</th>\n",
       "      <th>machine.created_on</th>\n",
       "      <th>machine.updated_on</th>\n",
       "      <th>machine.name</th>\n",
       "      <th>machine.lab_id</th>\n",
       "      <th>lab.lab_id</th>\n",
       "      <th>lab.created_on</th>\n",
       "      <th>lab.updated_on</th>\n",
       "      <th>lab.name</th>\n",
       "      <th>synthesis.synthesis_id</th>\n",
       "      <th>...</th>\n",
       "      <th>molecule_molecule.created_on</th>\n",
       "      <th>molecule_molecule.updated_on</th>\n",
       "      <th>molecule_molecule.fragment_a</th>\n",
       "      <th>molecule_molecule.fragment_b</th>\n",
       "      <th>molecule_molecule.fragment_c</th>\n",
       "      <th>molecule_molecule.molecule_id</th>\n",
       "      <th>synthesis.parcel_tracking_num</th>\n",
       "      <th>molecule.hid</th>\n",
       "      <th>molecule.commercially_available</th>\n",
       "      <th>molecule.molecule_type_id</th>\n",
       "    </tr>\n",
       "  </thead>\n",
       "  <tbody>\n",
       "    <tr>\n",
       "      <th>0</th>\n",
       "      <td>5600f641-b180-41b1-8043-921e66107744</td>\n",
       "      <td>2022-01-18T12:59:47.995614</td>\n",
       "      <td>2022-01-18T12:59:47.995614</td>\n",
       "      <td>The Machine</td>\n",
       "      <td>b65835e3-b908-45c6-9995-ec98d0caafe7</td>\n",
       "      <td>b65835e3-b908-45c6-9995-ec98d0caafe7</td>\n",
       "      <td>2022-01-18T12:59:47.145756</td>\n",
       "      <td>2022-01-18T12:59:47.145756</td>\n",
       "      <td>Illinois</td>\n",
       "      <td>8cf4e82b-6075-460d-a2ad-cb492f4c4b93</td>\n",
       "      <td>...</td>\n",
       "      <td>2022-02-03T14:24:29.817992</td>\n",
       "      <td>2022-02-03T14:24:29.817992</td>\n",
       "      <td>56471498-825e-47e7-a772-136f0f7bd817</td>\n",
       "      <td>d1bb232c-b83a-49cb-bcec-0e02558a6c41</td>\n",
       "      <td>fb544fb8-5588-41af-ab92-fcc8c3b4e052</td>\n",
       "      <td>b33b1cc9-81d8-4833-803f-466411581a4d</td>\n",
       "      <td>None</td>\n",
       "      <td>None</td>\n",
       "      <td>None</td>\n",
       "      <td>None</td>\n",
       "    </tr>\n",
       "  </tbody>\n",
       "</table>\n",
       "<p>1 rows × 33 columns</p>\n",
       "</div>"
      ],
      "text/plain": [
       "                     machine.machine_id          machine.created_on  \\\n",
       "0  5600f641-b180-41b1-8043-921e66107744  2022-01-18T12:59:47.995614   \n",
       "\n",
       "           machine.updated_on machine.name  \\\n",
       "0  2022-01-18T12:59:47.995614  The Machine   \n",
       "\n",
       "                         machine.lab_id                            lab.lab_id  \\\n",
       "0  b65835e3-b908-45c6-9995-ec98d0caafe7  b65835e3-b908-45c6-9995-ec98d0caafe7   \n",
       "\n",
       "               lab.created_on              lab.updated_on  lab.name  \\\n",
       "0  2022-01-18T12:59:47.145756  2022-01-18T12:59:47.145756  Illinois   \n",
       "\n",
       "                 synthesis.synthesis_id  ... molecule_molecule.created_on  \\\n",
       "0  8cf4e82b-6075-460d-a2ad-cb492f4c4b93  ...   2022-02-03T14:24:29.817992   \n",
       "\n",
       "  molecule_molecule.updated_on          molecule_molecule.fragment_a  \\\n",
       "0   2022-02-03T14:24:29.817992  56471498-825e-47e7-a772-136f0f7bd817   \n",
       "\n",
       "           molecule_molecule.fragment_b          molecule_molecule.fragment_c  \\\n",
       "0  d1bb232c-b83a-49cb-bcec-0e02558a6c41  fb544fb8-5588-41af-ab92-fcc8c3b4e052   \n",
       "\n",
       "          molecule_molecule.molecule_id  synthesis.parcel_tracking_num  \\\n",
       "0  b33b1cc9-81d8-4833-803f-466411581a4d                           None   \n",
       "\n",
       "  molecule.hid molecule.commercially_available molecule.molecule_type_id  \n",
       "0         None                            None                      None  \n",
       "\n",
       "[1 rows x 33 columns]"
      ]
     },
     "execution_count": 82,
     "metadata": {},
     "output_type": "execute_result"
    }
   ],
   "source": [
    "# ATTN: Dropping 176 because of issues with fragment IDs (and attributed to Chemputer...)\n",
    "df_proc.drop(176, inplace=True)\n",
    "df_proc"
   ]
  },
  {
   "cell_type": "code",
   "execution_count": 83,
   "id": "87857491",
   "metadata": {
    "pycharm": {
     "name": "#%%\n"
    }
   },
   "outputs": [],
   "source": [
    "# get the fragment details for the fragments\n",
    "\n",
    "def make_gryffin_observations(df_done):\n",
    "    ''' prepare typical list of dictionary-style observations for Gryffin. This function\n",
    "    considers all failed experiments as nan-valued objectives. We do not consider the cause\n",
    "    for failure here (future improvement). This function is quite slow with all the calls to \n",
    "    the db about the fragments - make more efficient\n",
    "    '''\n",
    "    # prepare observation list for Gryffin\n",
    "    observations = []\n",
    "\n",
    "    for _, row in df_done.iterrows():\n",
    "        row = row.to_dict()\n",
    "        frag_a_hid = db.get_fragment_details(\n",
    "                    row['molecule_molecule.fragment_a'], identifier_type='molecule_id'\n",
    "            )['id']\n",
    "        frag_b_hid = db.get_fragment_details(\n",
    "                    row['molecule_molecule.fragment_b'], identifier_type='molecule_id'\n",
    "            )['id']\n",
    "        frag_c_hid = db.get_fragment_details(\n",
    "                    row['molecule_molecule.fragment_c'], identifier_type='molecule_id'\n",
    "            )['id']\n",
    "        opt_prop = row['molecule.optical_properties']\n",
    "\n",
    "        if row['synthesis.status']=='DONE':\n",
    "            # we should have some optical properties, we can use this data to train Gryffin\n",
    "            assert opt_prop!={}\n",
    "            obj = opt_prop['gain_cross_section']\n",
    "            assert type(obj)==float\n",
    "\n",
    "        elif row['synthesis.status']=='FAILED':\n",
    "            # failed experiment, pass value to gryffin with nan objective value\n",
    "            obj = np.nan\n",
    "        else:\n",
    "            raise NotImplementedError\n",
    "        observations.append(\n",
    "            {'frag_a': frag_a_hid, 'frag_b': frag_b_hid, 'frag_c': frag_c_hid, 'obj': obj}\n",
    "        )\n",
    "        \n",
    "    return observations\n",
    "\n",
    "\n",
    "    \n",
    "def get_processing_molecules(df_proc):\n",
    "    ''' prepare a list of molecule hids which are in progress\n",
    "    '''\n",
    "    proc_hids = []\n",
    "    for _, row in df_proc.iterrows():\n",
    "        row = row.to_dict()\n",
    "        frag_a_hid = db.get_fragment_details(\n",
    "                    row['molecule_molecule.fragment_a'], identifier_type='molecule_id'\n",
    "            )['id']\n",
    "        frag_b_hid = db.get_fragment_details(\n",
    "                    row['molecule_molecule.fragment_b'], identifier_type='molecule_id'\n",
    "            )['id']\n",
    "        frag_c_hid = db.get_fragment_details(\n",
    "                    row['molecule_molecule.fragment_c'], identifier_type='molecule_id'\n",
    "            )['id']\n",
    "        mol_hid = ''.join([frag_a_hid, frag_b_hid, frag_c_hid])\n",
    "        proc_hids.append(mol_hid)\n",
    "    return proc_hids\n",
    "    \n",
    "def known_constraints(param):\n",
    "    ''' known constraint that the suggested molecule must not be either shipping or\n",
    "    in progress. Avoids redundant suggestions\n",
    "    '''\n",
    "    # check if the param is within the known molecules\n",
    "    query_hid = ''.join([param['frag_a'], param['frag_b'], param['frag_c']])\n",
    "    crit1 = query_hid in proc_hids\n",
    "    \n",
    "    # check to see if the sample can be made in at least one single location\n",
    "    crit2 = False\n",
    "    # TODO: this in only for the first batch, constrain to Toronto ONLY!\n",
    "    for lab_frags in [toronto_frags, uiuc_frags]:\n",
    "        if (\n",
    "            (param['frag_a'] in lab_frags['frag_a']) & (param['frag_b'] in lab_frags['frag_b']) & (param['frag_c'] in lab_frags['frag_c'])):\n",
    "            crit2=True\n",
    "            \n",
    "    return (not(crit1))&crit2\n"
   ]
  },
  {
   "cell_type": "code",
   "execution_count": 84,
   "id": "58c31a09",
   "metadata": {
    "pycharm": {
     "name": "#%%\n"
    }
   },
   "outputs": [
    {
     "data": {
      "text/plain": [
       "['A012B025C130']"
      ]
     },
     "execution_count": 84,
     "metadata": {},
     "output_type": "execute_result"
    }
   ],
   "source": [
    "# get hids of molecules in process\n",
    "proc_hids = get_processing_molecules(df_proc)\n",
    "proc_hids"
   ]
  },
  {
   "cell_type": "code",
   "execution_count": 85,
   "id": "de320377",
   "metadata": {
    "pycharm": {
     "name": "#%%\n"
    }
   },
   "outputs": [],
   "source": [
    "# get gryffin observations\n",
    "observations = make_gryffin_observations(df_done)"
   ]
  },
  {
   "cell_type": "code",
   "execution_count": 86,
   "id": "6b861cd3",
   "metadata": {
    "pycharm": {
     "name": "#%%\n"
    }
   },
   "outputs": [],
   "source": [
    "# get all the unique frags in the previous observations to add onto the available \n",
    "# fragments (otherwise Gryffin will crash)\n",
    "a_prev_hids = list(set([o['frag_a'] for o in observations]))\n",
    "b_prev_hids = list(set([o['frag_b'] for o in observations]))\n",
    "c_prev_hids = list(set([o['frag_c'] for o in observations]))"
   ]
  },
  {
   "cell_type": "code",
   "execution_count": 87,
   "id": "0e3bb1fb",
   "metadata": {
    "pycharm": {
     "name": "#%%\n"
    }
   },
   "outputs": [],
   "source": [
    "def get_lab_frags(lab):\n",
    "    ''' returns the set of available fragments for a specific laboratory\n",
    "    '''\n",
    "    frags=db.get_lab_avail_frags(lab=lab)\n",
    "    a_hids = frags[frags['molecule.hid'].str.contains('A')]['molecule.hid'].tolist()\n",
    "    b_hids = frags[frags['molecule.hid'].str.contains('B')]['molecule.hid'].tolist()\n",
    "    c_hids = frags[frags['molecule.hid'].str.contains('C')]['molecule.hid'].tolist()\n",
    "    \n",
    "    return {'frag_a': a_hids, 'frag_b': b_hids, 'frag_c': c_hids}\n",
    "\n",
    "def get_frags(strategy='set'):\n",
    "    ''' return all the unique molecules across all labs\n",
    "    '''\n",
    "    a_hids_all = []\n",
    "    b_hids_all = []\n",
    "    c_hids_all = []\n",
    "    \n",
    "    for lab in ['Toronto', 'Illinois']:\n",
    "        lab_frags = get_lab_frags(lab)\n",
    "        a_hids_all.extend(lab_frags['frag_a'])\n",
    "        b_hids_all.extend(lab_frags['frag_b'])\n",
    "        c_hids_all.extend(lab_frags['frag_c'])\n",
    "    \n",
    "    a_hids_all = list(set(a_hids_all))\n",
    "    b_hids_all = list(set(b_hids_all))\n",
    "    c_hids_all = list(set(c_hids_all))\n",
    "    \n",
    "    return a_hids_all, b_hids_all, c_hids_all\n",
    "    "
   ]
  },
  {
   "cell_type": "code",
   "execution_count": 88,
   "id": "1150b009",
   "metadata": {
    "pycharm": {
     "name": "#%%\n"
    }
   },
   "outputs": [
    {
     "name": "stdout",
     "output_type": "stream",
     "text": [
      "NUM A FRAGS :  33\n",
      "NUM B FRAGS :  55\n",
      "NUM C FRAGS :  161\n",
      "NUM ACCESSIBLE MOLS :  292215\n"
     ]
    }
   ],
   "source": [
    "\n",
    "a_hids_all, b_hids_all, c_hids_all = get_frags()\n",
    "\n",
    "# add fragments from previous iterations\n",
    "a_hids_all = list(set(a_hids_all + a_prev_hids))\n",
    "b_hids_all = list(set(b_hids_all + b_prev_hids))\n",
    "c_hids_all = list(set(c_hids_all + c_prev_hids))\n",
    "\n",
    "print('NUM A FRAGS : ', len(a_hids_all))\n",
    "print('NUM B FRAGS : ', len(b_hids_all))\n",
    "print('NUM C FRAGS : ', len(c_hids_all))\n",
    "\n",
    "print('NUM ACCESSIBLE MOLS : ', len(a_hids_all)*len(b_hids_all)*len(c_hids_all))"
   ]
  },
  {
   "cell_type": "code",
   "execution_count": 89,
   "id": "45dc2711",
   "metadata": {
    "pycharm": {
     "name": "#%%\n"
    }
   },
   "outputs": [],
   "source": [
    "# get toronto and UIUC available frags\n",
    "toronto_frags = get_lab_frags('Toronto')\n",
    "uiuc_frags = get_lab_frags('Illinois')"
   ]
  },
  {
   "cell_type": "markdown",
   "id": "96afbd85",
   "metadata": {
    "pycharm": {
     "name": "#%% md\n"
    }
   },
   "source": [
    "## Build Gryffin "
   ]
  },
  {
   "cell_type": "code",
   "execution_count": 90,
   "id": "1476b963",
   "metadata": {
    "pycharm": {
     "name": "#%%\n"
    }
   },
   "outputs": [],
   "source": [
    "def get_descriptors(hid, descriptors):\n",
    "    ''' looks up and returns descriptors for a particular fragment\n",
    "    \n",
    "    Args:\n",
    "        hid (str): human readable identifier of the fragment\n",
    "        descriptors (pd.DataFrame): dataframe corresponding to the type of fragment\n",
    "    '''\n",
    "    return descriptors[descriptors.hid==hid].iloc[0, 1:].values.astype(np.float).tolist()\n",
    "\n",
    "def mol_hid_from_params(params):\n",
    "    mol_hids = []\n",
    "    for param in params:\n",
    "        mol_hids.append(''.join([param['frag_a'], param['frag_b'], param['frag_c']]))\n",
    "    \n",
    "    return mol_hids\n",
    "        "
   ]
  },
  {
   "cell_type": "code",
   "execution_count": 91,
   "id": "f3e7785a",
   "metadata": {
    "pycharm": {
     "name": "#%%\n"
    }
   },
   "outputs": [
    {
     "name": "stdout",
     "output_type": "stream",
     "text": [
      "NUM DESC A  30\n",
      "NUM DESC B  30\n",
      "NUM DESC C  35\n"
     ]
    }
   ],
   "source": [
    "# load descriptors from disk\n",
    "pca_desc_a = pd.read_csv('descriptors/gen2_pca_desc_a.csv', index_col=None)\n",
    "pca_desc_b = pd.read_csv('descriptors/gen2_pca_desc_b.csv', index_col=None)\n",
    "pca_desc_c = pd.read_csv('descriptors/gen2_pca_desc_c.csv', index_col=None)\n",
    "print('NUM DESC A ', pca_desc_a.shape[1]-1)\n",
    "print('NUM DESC B ', pca_desc_b.shape[1]-1)\n",
    "print('NUM DESC C ', pca_desc_c.shape[1]-1)"
   ]
  },
  {
   "cell_type": "code",
   "execution_count": 92,
   "id": "4c5d87c2",
   "metadata": {
    "pycharm": {
     "name": "#%%\n"
    }
   },
   "outputs": [
    {
     "name": "stdout",
     "output_type": "stream",
     "text": [
      "NUM AVAIL FRAGS A :  33\n",
      "NUM AVAIL FRAGS B :  55\n",
      "NUM AVAIL FRAGS C :  161\n"
     ]
    }
   ],
   "source": [
    "# set the available fragments to make the Gryffin search space \n",
    "# TODO: change this to only those available\n",
    "avail_frags_a = a_hids_all # pca_desc_a['hid'].tolist()\n",
    "avail_frags_b = b_hids_all # pca_desc_b['hid'].tolist()\n",
    "avail_frags_c = c_hids_all # pca_desc_c['hid'].tolist()\n",
    "print('NUM AVAIL FRAGS A : ', len(avail_frags_a))\n",
    "print('NUM AVAIL FRAGS B : ', len(avail_frags_b))\n",
    "print('NUM AVAIL FRAGS C : ', len(avail_frags_c))"
   ]
  },
  {
   "cell_type": "code",
   "execution_count": 93,
   "id": "a402d1ba",
   "metadata": {
    "pycharm": {
     "name": "#%%\n"
    }
   },
   "outputs": [],
   "source": [
    "# Gryffin config\n",
    "\n",
    "#sampling_strategies = np.linspace(-1, 1, 40)\n",
    "sampling_strategies_1 = np.linspace(0.6, 1, 30)\n",
    "sampling_strategies_2 = np.linspace(-1, 0.5, 10)\n",
    "sampling_strategies = np.concatenate((sampling_strategies_1, sampling_strategies_2))\n",
    "#sampling_strategies = np.linspace(-1, 0.45, 20)\n",
    "\n",
    "# generate descritptors\n",
    "# FRAG_A_DESC = {i: get_descriptors(i, pca_desc_a) for i in avail_frags_a}\n",
    "# FRAG_B_DESC = {i: get_descriptors(i, pca_desc_b) for i in avail_frags_b}\n",
    "# FRAG_C_DESC = {i: get_descriptors(i, pca_desc_c) for i in avail_frags_c}\n",
    "\n",
    "FRAG_A_DESC = {i: None for i in avail_frags_a}\n",
    "FRAG_B_DESC = {i: None for i in avail_frags_b}\n",
    "FRAG_C_DESC = {i: None for i in avail_frags_c}\n",
    "\n",
    "# fwa = feasibility-weighted acquisition\n",
    "# fia = feasibility-interpolated acquisition\n",
    "# fca = feasibility-constrained acquisition --> use, param=0.2 ish works best on cat benchmarks\n",
    "\n",
    "config = {\n",
    "     \"general\": {\n",
    "             \"backend\": 'tensorflow',\n",
    "             \"num_cpus\": 4,\n",
    "             \"auto_desc_gen\": False, # dynamic Gryffin\n",
    "             \"batches\": 1,\n",
    "             \"sampling_strategies\": 1,\n",
    "             \"feas_approach\": 'fca',\n",
    "             \"feas_param\": 0.2,\n",
    "             \"boosted\":  True,\n",
    "             \"caching\": False,\n",
    "             \"random_seed\": 22031996,\n",
    "             \"acquisition_optimizer\": 'genetic',\n",
    "             \"verbosity\": 3\n",
    "                },\n",
    "    \"parameters\": [\n",
    "        {\"name\": \"frag_a\", \"type\": \"categorical\", \"category_details\": FRAG_A_DESC },\n",
    "        {\"name\": \"frag_b\", \"type\": \"categorical\", \"category_details\": FRAG_B_DESC },\n",
    "        {\"name\": \"frag_c\", \"type\": \"categorical\", \"category_details\": FRAG_C_DESC },\n",
    "      \n",
    "    ],\n",
    "    \"objectives\": [\n",
    "        {\"name\": \"obj\", \"goal\": \"max\"},\n",
    "    ]\n",
    "}"
   ]
  },
  {
   "cell_type": "code",
   "execution_count": 94,
   "id": "c4d0fd1d",
   "metadata": {
    "pycharm": {
     "name": "#%%\n"
    }
   },
   "outputs": [],
   "source": [
    "# instantiate gryffin\n",
    "gryffin = Gryffin(config_dict=config, known_constraints=known_constraints)"
   ]
  },
  {
   "cell_type": "code",
   "execution_count": 95,
   "id": "dd066138",
   "metadata": {
    "pycharm": {
     "is_executing": true,
     "name": "#%%\n"
    },
    "scrolled": true
   },
   "outputs": [
    {
     "data": {
      "text/html": [
       "<pre style=\"white-space:pre;overflow-x:auto;line-height:normal;font-family:Menlo,'DejaVu Sans Mono',consolas,'Courier New',monospace\"><span style=\"color: #008080; text-decoration-color: #008080; font-weight: bold\">173</span> observations found\n",
       "</pre>\n"
      ],
      "text/plain": [
       "\u001b[1;36m173\u001b[0m observations found\n"
      ]
     },
     "metadata": {},
     "output_type": "display_data"
    },
    {
     "name": "stderr",
     "output_type": "stream",
     "text": [
      "2022-08-14 18:03:46.773820: I tensorflow/core/platform/cpu_feature_guard.cc:193] This TensorFlow binary is optimized with oneAPI Deep Neural Network Library (oneDNN) to use the following CPU instructions in performance-critical operations:  AVX2 FMA\n",
      "To enable them in other operations, rebuild TensorFlow with the appropriate compiler flags.\n",
      "2022-08-14 18:03:46.777380: I tensorflow/stream_executor/cuda/cuda_gpu_executor.cc:975] successful NUMA node read from SysFS had negative value (-1), but there must be at least one NUMA node, so returning NUMA node zero\n",
      "2022-08-14 18:03:46.777830: W tensorflow/stream_executor/platform/default/dso_loader.cc:64] Could not load dynamic library 'libcudart.so.11.0'; dlerror: libcudart.so.11.0: cannot open shared object file: No such file or directory; LD_LIBRARY_PATH: :/usr/local/cuda/lib64\n",
      "2022-08-14 18:03:46.777897: W tensorflow/stream_executor/platform/default/dso_loader.cc:64] Could not load dynamic library 'libcublas.so.11'; dlerror: libcublas.so.11: cannot open shared object file: No such file or directory; LD_LIBRARY_PATH: :/usr/local/cuda/lib64\n",
      "2022-08-14 18:03:46.777951: W tensorflow/stream_executor/platform/default/dso_loader.cc:64] Could not load dynamic library 'libcublasLt.so.11'; dlerror: libcublasLt.so.11: cannot open shared object file: No such file or directory; LD_LIBRARY_PATH: :/usr/local/cuda/lib64\n",
      "2022-08-14 18:03:46.778005: W tensorflow/stream_executor/platform/default/dso_loader.cc:64] Could not load dynamic library 'libcufft.so.10'; dlerror: libcufft.so.10: cannot open shared object file: No such file or directory; LD_LIBRARY_PATH: :/usr/local/cuda/lib64\n",
      "2022-08-14 18:03:46.778056: W tensorflow/stream_executor/platform/default/dso_loader.cc:64] Could not load dynamic library 'libcurand.so.10'; dlerror: libcurand.so.10: cannot open shared object file: No such file or directory; LD_LIBRARY_PATH: :/usr/local/cuda/lib64\n",
      "2022-08-14 18:03:46.778107: W tensorflow/stream_executor/platform/default/dso_loader.cc:64] Could not load dynamic library 'libcusolver.so.11'; dlerror: libcusolver.so.11: cannot open shared object file: No such file or directory; LD_LIBRARY_PATH: :/usr/local/cuda/lib64\n",
      "2022-08-14 18:03:46.778160: W tensorflow/stream_executor/platform/default/dso_loader.cc:64] Could not load dynamic library 'libcusparse.so.11'; dlerror: libcusparse.so.11: cannot open shared object file: No such file or directory; LD_LIBRARY_PATH: :/usr/local/cuda/lib64\n",
      "2022-08-14 18:03:46.778208: W tensorflow/stream_executor/platform/default/dso_loader.cc:64] Could not load dynamic library 'libcudnn.so.8'; dlerror: libcudnn.so.8: cannot open shared object file: No such file or directory; LD_LIBRARY_PATH: :/usr/local/cuda/lib64\n",
      "2022-08-14 18:03:46.778217: W tensorflow/core/common_runtime/gpu/gpu_device.cc:1850] Cannot dlopen some GPU libraries. Please make sure the missing libraries mentioned above are installed properly if you would like to use GPU. Follow the guide at https://www.tensorflow.org/install/gpu for how to download and setup the required libraries for your platform.\n",
      "Skipping registering GPU devices...\n",
      "2022-08-14 18:03:46.856391: I tensorflow/stream_executor/cuda/cuda_gpu_executor.cc:975] successful NUMA node read from SysFS had negative value (-1), but there must be at least one NUMA node, so returning NUMA node zero\n",
      "2022-08-14 18:03:46.860533: W tensorflow/core/common_runtime/gpu/gpu_device.cc:1850] Cannot dlopen some GPU libraries. Please make sure the missing libraries mentioned above are installed properly if you would like to use GPU. Follow the guide at https://www.tensorflow.org/install/gpu for how to download and setup the required libraries for your platform.\n",
      "Skipping registering GPU devices...\n",
      "2022-08-14 18:03:47.029480: I tensorflow/stream_executor/cuda/cuda_gpu_executor.cc:975] successful NUMA node read from SysFS had negative value (-1), but there must be at least one NUMA node, so returning NUMA node zero\n",
      "2022-08-14 18:03:47.029862: W tensorflow/core/common_runtime/gpu/gpu_device.cc:1850] Cannot dlopen some GPU libraries. Please make sure the missing libraries mentioned above are installed properly if you would like to use GPU. Follow the guide at https://www.tensorflow.org/install/gpu for how to download and setup the required libraries for your platform.\n",
      "Skipping registering GPU devices...\n",
      "2022-08-14 18:03:47.619216: I tensorflow/compiler/mlir/mlir_graph_optimization_pass.cc:354] MLIR V1 optimization pass is not enabled\n",
      "2022-08-14 18:03:58.993935: I tensorflow/stream_executor/cuda/cuda_gpu_executor.cc:975] successful NUMA node read from SysFS had negative value (-1), but there must be at least one NUMA node, so returning NUMA node zero\n",
      "2022-08-14 18:03:58.994327: W tensorflow/core/common_runtime/gpu/gpu_device.cc:1850] Cannot dlopen some GPU libraries. Please make sure the missing libraries mentioned above are installed properly if you would like to use GPU. Follow the guide at https://www.tensorflow.org/install/gpu for how to download and setup the required libraries for your platform.\n",
      "Skipping registering GPU devices...\n",
      "2022-08-14 18:03:59.003041: I tensorflow/stream_executor/cuda/cuda_gpu_executor.cc:975] successful NUMA node read from SysFS had negative value (-1), but there must be at least one NUMA node, so returning NUMA node zero\n",
      "2022-08-14 18:03:59.003417: W tensorflow/core/common_runtime/gpu/gpu_device.cc:1850] Cannot dlopen some GPU libraries. Please make sure the missing libraries mentioned above are installed properly if you would like to use GPU. Follow the guide at https://www.tensorflow.org/install/gpu for how to download and setup the required libraries for your platform.\n",
      "Skipping registering GPU devices...\n",
      "2022-08-14 18:04:10.827171: I tensorflow/stream_executor/cuda/cuda_gpu_executor.cc:975] successful NUMA node read from SysFS had negative value (-1), but there must be at least one NUMA node, so returning NUMA node zero\n",
      "2022-08-14 18:04:10.828001: W tensorflow/core/common_runtime/gpu/gpu_device.cc:1850] Cannot dlopen some GPU libraries. Please make sure the missing libraries mentioned above are installed properly if you would like to use GPU. Follow the guide at https://www.tensorflow.org/install/gpu for how to download and setup the required libraries for your platform.\n",
      "Skipping registering GPU devices...\n",
      "2022-08-14 18:04:10.836499: I tensorflow/stream_executor/cuda/cuda_gpu_executor.cc:975] successful NUMA node read from SysFS had negative value (-1), but there must be at least one NUMA node, so returning NUMA node zero\n",
      "2022-08-14 18:04:10.836892: W tensorflow/core/common_runtime/gpu/gpu_device.cc:1850] Cannot dlopen some GPU libraries. Please make sure the missing libraries mentioned above are installed properly if you would like to use GPU. Follow the guide at https://www.tensorflow.org/install/gpu for how to download and setup the required libraries for your platform.\n",
      "Skipping registering GPU devices...\n",
      "2022-08-14 18:04:22.166458: I tensorflow/stream_executor/cuda/cuda_gpu_executor.cc:975] successful NUMA node read from SysFS had negative value (-1), but there must be at least one NUMA node, so returning NUMA node zero\n",
      "2022-08-14 18:04:22.167039: W tensorflow/core/common_runtime/gpu/gpu_device.cc:1850] Cannot dlopen some GPU libraries. Please make sure the missing libraries mentioned above are installed properly if you would like to use GPU. Follow the guide at https://www.tensorflow.org/install/gpu for how to download and setup the required libraries for your platform.\n",
      "Skipping registering GPU devices...\n",
      "2022-08-14 18:04:22.175810: I tensorflow/stream_executor/cuda/cuda_gpu_executor.cc:975] successful NUMA node read from SysFS had negative value (-1), but there must be at least one NUMA node, so returning NUMA node zero\n",
      "2022-08-14 18:04:22.176380: W tensorflow/core/common_runtime/gpu/gpu_device.cc:1850] Cannot dlopen some GPU libraries. Please make sure the missing libraries mentioned above are installed properly if you would like to use GPU. Follow the guide at https://www.tensorflow.org/install/gpu for how to download and setup the required libraries for your platform.\n",
      "Skipping registering GPU devices...\n"
     ]
    },
    {
     "data": {
      "text/html": [
       "<pre style=\"white-space:pre;overflow-x:auto;line-height:normal;font-family:Menlo,'DejaVu Sans Mono',consolas,'Courier New',monospace\">Bayesian neural network trained in <span style=\"color: #008080; text-decoration-color: #008080; font-weight: bold\">48.9</span> s\n",
       "</pre>\n"
      ],
      "text/plain": [
       "Bayesian neural network trained in \u001b[1;36m48.9\u001b[0m s\n"
      ]
     },
     "metadata": {},
     "output_type": "display_data"
    },
    {
     "data": {
      "text/html": [
       "<pre style=\"white-space:pre;overflow-x:auto;line-height:normal;font-family:Menlo,'DejaVu Sans Mono',consolas,'Courier New',monospace\"><span style=\"color: #008080; text-decoration-color: #008080; font-weight: bold\">1200</span> random proposals drawn in <span style=\"color: #008080; text-decoration-color: #008080; font-weight: bold\">33.0</span> s\n",
       "</pre>\n"
      ],
      "text/plain": [
       "\u001b[1;36m1200\u001b[0m random proposals drawn in \u001b[1;36m33.0\u001b[0m s\n"
      ]
     },
     "metadata": {},
     "output_type": "display_data"
    },
    {
     "name": "stdout",
     "output_type": "stream",
     "text": [
      "package \"deap\" required by GeneticOptimizer not found, please install\n"
     ]
    },
    {
     "name": "stderr",
     "output_type": "stream",
     "text": [
      "Process Process-8:\n"
     ]
    },
    {
     "name": "stdout",
     "output_type": "stream",
     "text": [
      "package \"deap\" required by GeneticOptimizer not found, please install\n"
     ]
    },
    {
     "name": "stderr",
     "output_type": "stream",
     "text": [
      "Traceback (most recent call last):\n",
      "  File \"/home/chefos/anaconda3/envs/acdc_lasers/lib/python3.7/multiprocessing/process.py\", line 297, in _bootstrap\n",
      "    self.run()\n"
     ]
    },
    {
     "name": "stdout",
     "output_type": "stream",
     "text": [
      "package \"deap\" required by GeneticOptimizer not found, please install"
     ]
    },
    {
     "name": "stderr",
     "output_type": "stream",
     "text": [
      "Process Process-9:\n",
      "  File \"/home/chefos/anaconda3/envs/acdc_lasers/lib/python3.7/multiprocessing/process.py\", line 99, in run\n",
      "    self._target(*self._args, **self._kwargs)\n",
      "Traceback (most recent call last):\n"
     ]
    },
    {
     "name": "stdout",
     "output_type": "stream",
     "text": [
      "\n"
     ]
    },
    {
     "name": "stderr",
     "output_type": "stream",
     "text": [
      "  File \"/home/chefos/sw/gryffin/src/gryffin/acquisition/acquisition.py\", line 171, in _proposal_optimization_thread\n",
      "    local_optimizer = self._load_optimizer(acquisition_constraints=acquisition_constraints)\n",
      "  File \"/home/chefos/anaconda3/envs/acdc_lasers/lib/python3.7/multiprocessing/process.py\", line 297, in _bootstrap\n",
      "    self.run()\n",
      "  File \"/home/chefos/sw/gryffin/src/gryffin/acquisition/acquisition.py\", line 356, in _load_optimizer\n",
      "    from .genetic_optimizer import GeneticOptimizer\n",
      "Process Process-10:\n",
      "  File \"/home/chefos/sw/gryffin/src/gryffin/acquisition/genetic_optimizer/__init__.py\", line 8, in <module>\n",
      "    from .genetic_optimizer import GeneticOptimizer\n"
     ]
    },
    {
     "name": "stdout",
     "output_type": "stream",
     "text": [
      "package \"deap\" required by GeneticOptimizer not found, please install"
     ]
    },
    {
     "name": "stderr",
     "output_type": "stream",
     "text": [
      "  File \"/home/chefos/anaconda3/envs/acdc_lasers/lib/python3.7/multiprocessing/process.py\", line 99, in run\n",
      "    self._target(*self._args, **self._kwargs)\n",
      "Traceback (most recent call last):\n",
      "  File \"/home/chefos/sw/gryffin/src/gryffin/acquisition/acquisition.py\", line 171, in _proposal_optimization_thread\n",
      "    local_optimizer = self._load_optimizer(acquisition_constraints=acquisition_constraints)\n",
      "  File \"/home/chefos/sw/gryffin/src/gryffin/acquisition/genetic_optimizer/genetic_optimizer.py\", line 9, in <module>\n",
      "    from deap import base, creator, tools\n"
     ]
    },
    {
     "name": "stdout",
     "output_type": "stream",
     "text": [
      "\n"
     ]
    },
    {
     "name": "stderr",
     "output_type": "stream",
     "text": [
      "ModuleNotFoundError: No module named 'deap'\n",
      "  File \"/home/chefos/anaconda3/envs/acdc_lasers/lib/python3.7/multiprocessing/process.py\", line 297, in _bootstrap\n",
      "    self.run()\n",
      "  File \"/home/chefos/anaconda3/envs/acdc_lasers/lib/python3.7/multiprocessing/process.py\", line 99, in run\n",
      "    self._target(*self._args, **self._kwargs)\n",
      "  File \"/home/chefos/sw/gryffin/src/gryffin/acquisition/acquisition.py\", line 171, in _proposal_optimization_thread\n",
      "    local_optimizer = self._load_optimizer(acquisition_constraints=acquisition_constraints)\n",
      "  File \"/home/chefos/sw/gryffin/src/gryffin/acquisition/acquisition.py\", line 356, in _load_optimizer\n",
      "    from .genetic_optimizer import GeneticOptimizer\n",
      "  File \"/home/chefos/sw/gryffin/src/gryffin/acquisition/genetic_optimizer/__init__.py\", line 8, in <module>\n",
      "    from .genetic_optimizer import GeneticOptimizer\n",
      "  File \"/home/chefos/sw/gryffin/src/gryffin/acquisition/genetic_optimizer/genetic_optimizer.py\", line 9, in <module>\n",
      "    from deap import base, creator, tools\n",
      "ModuleNotFoundError: No module named 'deap'\n",
      "  File \"/home/chefos/sw/gryffin/src/gryffin/acquisition/acquisition.py\", line 356, in _load_optimizer\n",
      "    from .genetic_optimizer import GeneticOptimizer\n",
      "Process Process-11:\n",
      "Traceback (most recent call last):\n",
      "  File \"/home/chefos/anaconda3/envs/acdc_lasers/lib/python3.7/multiprocessing/process.py\", line 297, in _bootstrap\n",
      "    self.run()\n",
      "  File \"/home/chefos/anaconda3/envs/acdc_lasers/lib/python3.7/multiprocessing/process.py\", line 99, in run\n",
      "    self._target(*self._args, **self._kwargs)\n",
      "  File \"/home/chefos/sw/gryffin/src/gryffin/acquisition/acquisition.py\", line 171, in _proposal_optimization_thread\n",
      "    local_optimizer = self._load_optimizer(acquisition_constraints=acquisition_constraints)\n",
      "  File \"/home/chefos/sw/gryffin/src/gryffin/acquisition/acquisition.py\", line 356, in _load_optimizer\n",
      "    from .genetic_optimizer import GeneticOptimizer\n",
      "  File \"/home/chefos/sw/gryffin/src/gryffin/acquisition/genetic_optimizer/__init__.py\", line 8, in <module>\n",
      "    from .genetic_optimizer import GeneticOptimizer\n",
      "  File \"/home/chefos/sw/gryffin/src/gryffin/acquisition/genetic_optimizer/genetic_optimizer.py\", line 9, in <module>\n",
      "    from deap import base, creator, tools\n",
      "ModuleNotFoundError: No module named 'deap'\n",
      "  File \"/home/chefos/sw/gryffin/src/gryffin/acquisition/genetic_optimizer/__init__.py\", line 8, in <module>\n",
      "    from .genetic_optimizer import GeneticOptimizer\n",
      "  File \"/home/chefos/sw/gryffin/src/gryffin/acquisition/genetic_optimizer/genetic_optimizer.py\", line 9, in <module>\n",
      "    from deap import base, creator, tools\n",
      "ModuleNotFoundError: No module named 'deap'\n"
     ]
    },
    {
     "ename": "KeyError",
     "evalue": "0",
     "output_type": "error",
     "traceback": [
      "\u001b[0;31m---------------------------------------------------------------------------\u001b[0m",
      "\u001b[0;31mKeyError\u001b[0m                                  Traceback (most recent call last)",
      "\u001b[0;32m/tmp/ipykernel_10921/3721324033.py\u001b[0m in \u001b[0;36m<module>\u001b[0;34m\u001b[0m\n\u001b[1;32m      3\u001b[0m \u001b[0;32mfor\u001b[0m \u001b[0mix\u001b[0m\u001b[0;34m,\u001b[0m \u001b[0msampling_strat\u001b[0m \u001b[0;32min\u001b[0m \u001b[0menumerate\u001b[0m\u001b[0;34m(\u001b[0m\u001b[0msampling_strategies\u001b[0m\u001b[0;34m)\u001b[0m\u001b[0;34m:\u001b[0m\u001b[0;34m\u001b[0m\u001b[0;34m\u001b[0m\u001b[0m\n\u001b[1;32m      4\u001b[0m \u001b[0;34m\u001b[0m\u001b[0m\n\u001b[0;32m----> 5\u001b[0;31m     \u001b[0msample\u001b[0m \u001b[0;34m=\u001b[0m \u001b[0mgryffin\u001b[0m\u001b[0;34m.\u001b[0m\u001b[0mrecommend\u001b[0m\u001b[0;34m(\u001b[0m\u001b[0mobservations\u001b[0m\u001b[0;34m,\u001b[0m \u001b[0msampling_strategies\u001b[0m\u001b[0;34m=\u001b[0m\u001b[0;34m[\u001b[0m\u001b[0msampling_strat\u001b[0m\u001b[0;34m]\u001b[0m\u001b[0;34m)\u001b[0m\u001b[0;34m\u001b[0m\u001b[0;34m\u001b[0m\u001b[0m\n\u001b[0m\u001b[1;32m      6\u001b[0m     \u001b[0mprint\u001b[0m\u001b[0;34m(\u001b[0m\u001b[0;34mf'\\nSAMPLING STRATEGY : {sampling_strat} SAMPLE : {sample}\\n'\u001b[0m\u001b[0;34m)\u001b[0m\u001b[0;34m\u001b[0m\u001b[0;34m\u001b[0m\u001b[0m\n\u001b[1;32m      7\u001b[0m     \u001b[0msamples\u001b[0m\u001b[0;34m.\u001b[0m\u001b[0mextend\u001b[0m\u001b[0;34m(\u001b[0m\u001b[0msample\u001b[0m\u001b[0;34m)\u001b[0m\u001b[0;34m\u001b[0m\u001b[0;34m\u001b[0m\u001b[0m\n",
      "\u001b[0;32m~/sw/gryffin/src/gryffin/gryffin.py\u001b[0m in \u001b[0;36mrecommend\u001b[0;34m(self, observations, sampling_strategies, num_batches, as_array)\u001b[0m\n\u001b[1;32m    360\u001b[0m                                                       \u001b[0mnum_samples_per_dim\u001b[0m\u001b[0;34m=\u001b[0m\u001b[0mnum_samples_per_dim\u001b[0m\u001b[0;34m,\u001b[0m\u001b[0;34m\u001b[0m\u001b[0;34m\u001b[0m\u001b[0m\n\u001b[1;32m    361\u001b[0m                                                       \u001b[0mdominant_samples\u001b[0m\u001b[0;34m=\u001b[0m\u001b[0mconstraining_samples\u001b[0m\u001b[0;34m,\u001b[0m\u001b[0;34m\u001b[0m\u001b[0;34m\u001b[0m\u001b[0m\n\u001b[0;32m--> 362\u001b[0;31m                                                       timings_dict=self.timings)\n\u001b[0m\u001b[1;32m    363\u001b[0m \u001b[0;34m\u001b[0m\u001b[0m\n\u001b[1;32m    364\u001b[0m             \u001b[0mself\u001b[0m\u001b[0;34m.\u001b[0m\u001b[0mlog_chapter\u001b[0m\u001b[0;34m(\u001b[0m\u001b[0;34m'Sample Selector'\u001b[0m\u001b[0;34m)\u001b[0m\u001b[0;34m\u001b[0m\u001b[0;34m\u001b[0m\u001b[0m\n",
      "\u001b[0;32m~/sw/gryffin/src/gryffin/acquisition/acquisition.py\u001b[0m in \u001b[0;36mpropose\u001b[0;34m(self, best_params, bayesian_network, sampling_param_values, num_samples_per_dim, dominant_samples, timings_dict)\u001b[0m\n\u001b[1;32m    440\u001b[0m         optimized_proposals = self._optimize_proposals(random_proposals,\n\u001b[1;32m    441\u001b[0m                                                        \u001b[0macquisition_constraints\u001b[0m\u001b[0;34m=\u001b[0m\u001b[0macquisition_constraints\u001b[0m\u001b[0;34m,\u001b[0m\u001b[0;34m\u001b[0m\u001b[0;34m\u001b[0m\u001b[0m\n\u001b[0;32m--> 442\u001b[0;31m                                                        dominant_samples=dominant_samples)\n\u001b[0m\u001b[1;32m    443\u001b[0m         \u001b[0mend_opt\u001b[0m \u001b[0;34m=\u001b[0m \u001b[0mtime\u001b[0m\u001b[0;34m.\u001b[0m\u001b[0mtime\u001b[0m\u001b[0;34m(\u001b[0m\u001b[0;34m)\u001b[0m\u001b[0;34m\u001b[0m\u001b[0;34m\u001b[0m\u001b[0m\n\u001b[1;32m    444\u001b[0m \u001b[0;34m\u001b[0m\u001b[0m\n",
      "\u001b[0;32m~/sw/gryffin/src/gryffin/acquisition/acquisition.py\u001b[0m in \u001b[0;36m_optimize_proposals\u001b[0;34m(self, random_proposals, acquisition_constraints, dominant_samples)\u001b[0m\n\u001b[1;32m    325\u001b[0m                 \u001b[0moptimized_batch_samples\u001b[0m \u001b[0;34m=\u001b[0m \u001b[0;34m[\u001b[0m\u001b[0;34m]\u001b[0m\u001b[0;34m\u001b[0m\u001b[0;34m\u001b[0m\u001b[0m\n\u001b[1;32m    326\u001b[0m                 \u001b[0;32mfor\u001b[0m \u001b[0midx\u001b[0m \u001b[0;32min\u001b[0m \u001b[0mrange\u001b[0m\u001b[0;34m(\u001b[0m\u001b[0mlen\u001b[0m\u001b[0;34m(\u001b[0m\u001b[0mrandom_proposals_splits\u001b[0m\u001b[0;34m)\u001b[0m\u001b[0;34m)\u001b[0m\u001b[0;34m:\u001b[0m\u001b[0;34m\u001b[0m\u001b[0;34m\u001b[0m\u001b[0m\n\u001b[0;32m--> 327\u001b[0;31m                     \u001b[0moptimized_batch_samples\u001b[0m\u001b[0;34m.\u001b[0m\u001b[0mextend\u001b[0m\u001b[0;34m(\u001b[0m\u001b[0mreturn_dict\u001b[0m\u001b[0;34m[\u001b[0m\u001b[0midx\u001b[0m\u001b[0;34m]\u001b[0m\u001b[0;34m)\u001b[0m\u001b[0;34m\u001b[0m\u001b[0;34m\u001b[0m\u001b[0m\n\u001b[0m\u001b[1;32m    328\u001b[0m \u001b[0;34m\u001b[0m\u001b[0m\n\u001b[1;32m    329\u001b[0m             \u001b[0;31m# ---------------------\u001b[0m\u001b[0;34m\u001b[0m\u001b[0;34m\u001b[0m\u001b[0;34m\u001b[0m\u001b[0m\n",
      "\u001b[0;32m<string>\u001b[0m in \u001b[0;36m__getitem__\u001b[0;34m(self, *args, **kwds)\u001b[0m\n",
      "\u001b[0;32m~/anaconda3/envs/acdc_lasers/lib/python3.7/multiprocessing/managers.py\u001b[0m in \u001b[0;36m_callmethod\u001b[0;34m(self, methodname, args, kwds)\u001b[0m\n\u001b[1;32m    832\u001b[0m             \u001b[0mdispatch\u001b[0m\u001b[0;34m(\u001b[0m\u001b[0mconn\u001b[0m\u001b[0;34m,\u001b[0m \u001b[0;32mNone\u001b[0m\u001b[0;34m,\u001b[0m \u001b[0;34m'decref'\u001b[0m\u001b[0;34m,\u001b[0m \u001b[0;34m(\u001b[0m\u001b[0mtoken\u001b[0m\u001b[0;34m.\u001b[0m\u001b[0mid\u001b[0m\u001b[0;34m,\u001b[0m\u001b[0;34m)\u001b[0m\u001b[0;34m)\u001b[0m\u001b[0;34m\u001b[0m\u001b[0;34m\u001b[0m\u001b[0m\n\u001b[1;32m    833\u001b[0m             \u001b[0;32mreturn\u001b[0m \u001b[0mproxy\u001b[0m\u001b[0;34m\u001b[0m\u001b[0;34m\u001b[0m\u001b[0m\n\u001b[0;32m--> 834\u001b[0;31m         \u001b[0;32mraise\u001b[0m \u001b[0mconvert_to_error\u001b[0m\u001b[0;34m(\u001b[0m\u001b[0mkind\u001b[0m\u001b[0;34m,\u001b[0m \u001b[0mresult\u001b[0m\u001b[0;34m)\u001b[0m\u001b[0;34m\u001b[0m\u001b[0;34m\u001b[0m\u001b[0m\n\u001b[0m\u001b[1;32m    835\u001b[0m \u001b[0;34m\u001b[0m\u001b[0m\n\u001b[1;32m    836\u001b[0m     \u001b[0;32mdef\u001b[0m \u001b[0m_getvalue\u001b[0m\u001b[0;34m(\u001b[0m\u001b[0mself\u001b[0m\u001b[0;34m)\u001b[0m\u001b[0;34m:\u001b[0m\u001b[0;34m\u001b[0m\u001b[0;34m\u001b[0m\u001b[0m\n",
      "\u001b[0;31mKeyError\u001b[0m: 0"
     ]
    }
   ],
   "source": [
    "# recommend a batch of samples\n",
    "samples = []\n",
    "for ix, sampling_strat in enumerate(sampling_strategies):\n",
    "    \n",
    "    sample = gryffin.recommend(observations, sampling_strategies=[sampling_strat])\n",
    "    print(f'\\nSAMPLING STRATEGY : {sampling_strat} SAMPLE : {sample}\\n')\n",
    "    samples.extend(sample) \n",
    "    "
   ]
  },
  {
   "cell_type": "code",
   "execution_count": 27,
   "id": "a9d5a594",
   "metadata": {
    "pycharm": {
     "name": "#%%\n"
    }
   },
   "outputs": [],
   "source": [
    "def check_duplicates(samples, observations):\n",
    "    ''' returns True if there are duplicates, False if there are none\n",
    "    '''\n",
    "    sample_hids = [''.join([s['frag_a'],s['frag_b'],s['frag_c']]) for s in samples]\n",
    "    observ_hids = [''.join([o['frag_a'],o['frag_b'],o['frag_c']]) for o in observations]\n",
    "    \n",
    "    # check duplicates over previous observations \n",
    "    is_obs_dup = any(s in observ_hids for s in sample_hids)\n",
    "    \n",
    "    # check duplicates within the batch\n",
    "    is_samp_dup = len(set(sample_hids))<len(sample_hids)\n",
    "    \n",
    "    return is_obs_dup, is_samp_dup"
   ]
  },
  {
   "cell_type": "code",
   "execution_count": 28,
   "id": "ece03d6c",
   "metadata": {
    "pycharm": {
     "name": "#%%\n"
    }
   },
   "outputs": [
    {
     "data": {
      "text/plain": [
       "(False, False)"
      ]
     },
     "execution_count": 28,
     "metadata": {},
     "output_type": "execute_result"
    }
   ],
   "source": [
    "check_duplicates(samples, observations)"
   ]
  },
  {
   "cell_type": "code",
   "execution_count": 29,
   "id": "d017e982",
   "metadata": {
    "pycharm": {
     "name": "#%%\n"
    }
   },
   "outputs": [
    {
     "data": {
      "text/plain": [
       "[{'frag_a': 'A011', 'frag_b': 'B028', 'frag_c': 'C148'},\n",
       " {'frag_a': 'A017', 'frag_b': 'B002', 'frag_c': 'C133'},\n",
       " {'frag_a': 'A017', 'frag_b': 'B023', 'frag_c': 'C114'},\n",
       " {'frag_a': 'A011', 'frag_b': 'B008', 'frag_c': 'C103'},\n",
       " {'frag_a': 'A011', 'frag_b': 'B008', 'frag_c': 'C132'},\n",
       " {'frag_a': 'A010', 'frag_b': 'B004', 'frag_c': 'C114'},\n",
       " {'frag_a': 'A010', 'frag_b': 'B011', 'frag_c': 'C144'},\n",
       " {'frag_a': 'A011', 'frag_b': 'B004', 'frag_c': 'C126'},\n",
       " {'frag_a': 'A015', 'frag_b': 'B003', 'frag_c': 'C160'},\n",
       " {'frag_a': 'A016', 'frag_b': 'B011', 'frag_c': 'C082'},\n",
       " {'frag_a': 'A012', 'frag_b': 'B003', 'frag_c': 'C158'},\n",
       " {'frag_a': 'A015', 'frag_b': 'B002', 'frag_c': 'C031'},\n",
       " {'frag_a': 'A016', 'frag_b': 'B004', 'frag_c': 'C074'},\n",
       " {'frag_a': 'A017', 'frag_b': 'B007', 'frag_c': 'C050'},\n",
       " {'frag_a': 'A014', 'frag_b': 'B004', 'frag_c': 'C155'},\n",
       " {'frag_a': 'A001', 'frag_b': 'B012', 'frag_c': 'C005'},\n",
       " {'frag_a': 'A015', 'frag_b': 'B001', 'frag_c': 'C028'},\n",
       " {'frag_a': 'A010', 'frag_b': 'B004', 'frag_c': 'C068'},\n",
       " {'frag_a': 'A010', 'frag_b': 'B015', 'frag_c': 'C156'},\n",
       " {'frag_a': 'A001', 'frag_b': 'B001', 'frag_c': 'C044'},\n",
       " {'frag_a': 'A012', 'frag_b': 'B001', 'frag_c': 'C003'},\n",
       " {'frag_a': 'A001', 'frag_b': 'B013', 'frag_c': 'C018'},\n",
       " {'frag_a': 'A001', 'frag_b': 'B020', 'frag_c': 'C005'},\n",
       " {'frag_a': 'A001', 'frag_b': 'B001', 'frag_c': 'C011'},\n",
       " {'frag_a': 'A014', 'frag_b': 'B020', 'frag_c': 'C027'},\n",
       " {'frag_a': 'A001', 'frag_b': 'B001', 'frag_c': 'C030'},\n",
       " {'frag_a': 'A017', 'frag_b': 'B023', 'frag_c': 'C032'},\n",
       " {'frag_a': 'A001', 'frag_b': 'B022', 'frag_c': 'C025'},\n",
       " {'frag_a': 'A010', 'frag_b': 'B004', 'frag_c': 'C042'},\n",
       " {'frag_a': 'A001', 'frag_b': 'B020', 'frag_c': 'C003'},\n",
       " {'frag_a': 'A010', 'frag_b': 'B008', 'frag_c': 'C052'},\n",
       " {'frag_a': 'A017', 'frag_b': 'B005', 'frag_c': 'C099'},\n",
       " {'frag_a': 'A017', 'frag_b': 'B028', 'frag_c': 'C157'},\n",
       " {'frag_a': 'A011', 'frag_b': 'B028', 'frag_c': 'C046'},\n",
       " {'frag_a': 'A011', 'frag_b': 'B023', 'frag_c': 'C089'},\n",
       " {'frag_a': 'A010', 'frag_b': 'B028', 'frag_c': 'C136'},\n",
       " {'frag_a': 'A032', 'frag_b': 'B020', 'frag_c': 'C037'},\n",
       " {'frag_a': 'A012', 'frag_b': 'B019', 'frag_c': 'C069'},\n",
       " {'frag_a': 'A015', 'frag_b': 'B028', 'frag_c': 'C158'},\n",
       " {'frag_a': 'A010', 'frag_b': 'B028', 'frag_c': 'C072'}]"
      ]
     },
     "execution_count": 29,
     "metadata": {},
     "output_type": "execute_result"
    }
   ],
   "source": [
    "samples"
   ]
  },
  {
   "cell_type": "code",
   "execution_count": 30,
   "id": "e5f1b511",
   "metadata": {
    "pycharm": {
     "name": "#%%\n"
    }
   },
   "outputs": [],
   "source": [
    "rxn_transmut = allchem.ReactionFromSmarts(\"[*:1][Br,I]>>[*:1][Po]\")\n",
    "rxn_b_c = allchem.ReactionFromSmarts(\n",
    "    \"[Br,I][*:1].C[N+]12CC(=O)O[B-]1([*:2])OC(=O)C2>>[*:1]-[*:2]\"\n",
    ")\n",
    "rxn_a_b_c = allchem.ReactionFromSmarts(\"CC1(C)OB([*:1])OC1(C)C.[*:2][Po]>>[*:1]-[*:2]\")\n",
    "rxn_a_b_c2 = allchem.ReactionFromSmarts(\"[*:1]B(O)O.[*:2][Po]>>[*:1]-[*:2]\")\n",
    "\n",
    "\n",
    "def assemble_fragments(hid_a, hid_b, hid_c):\n",
    "    smiles_a = db.get_fragment_details(hid_a, identifier_type='hid')['smiles']\n",
    "    smiles_b = db.get_fragment_details(hid_b, identifier_type='hid')['smiles']\n",
    "    smiles_c = db.get_fragment_details(hid_c, identifier_type='hid')['smiles']\n",
    "\n",
    "    a = chem.MolFromSmiles(smiles_a)\n",
    "    b = chem.MolFromSmiles(smiles_b)\n",
    "    c = chem.MolFromSmiles(smiles_c)\n",
    "    if a is None or b is None or c is None:\n",
    "        raise ValueError(\"Invalid SMILES\")\n",
    "\n",
    "    # Building the molecule... there is probably a better way\n",
    "    b_transmut = rxn_transmut.RunReactants([b])[0][0]\n",
    "    b_c = rxn_b_c.RunReactants([c, b_transmut])[0][0]\n",
    "    b_c_b = rxn_b_c.RunReactants([b_c, b_transmut])[0][0]\n",
    "    try:\n",
    "        a_b_c_b = rxn_a_b_c.RunReactants([a, b_c_b])[0][0]\n",
    "        a_b_c_b_a = rxn_a_b_c.RunReactants([a, a_b_c_b])[0][0]\n",
    "    except:\n",
    "        a_b_c_b = rxn_a_b_c2.RunReactants([a, b_c_b])[0][0]\n",
    "        a_b_c_b_a = rxn_a_b_c2.RunReactants([a, a_b_c_b])[0][0]\n",
    "    return chem.MolToSmiles(a_b_c_b_a)"
   ]
  },
  {
   "cell_type": "code",
   "execution_count": 31,
   "id": "d087bea2",
   "metadata": {
    "pycharm": {
     "name": "#%%\n"
    }
   },
   "outputs": [],
   "source": [
    "molecule_smiles = []\n",
    "molecule_hids = []\n",
    "\n",
    "for sample in samples:\n",
    "    molecule_hids.append(''.join([sample['frag_a'],sample['frag_b'],sample['frag_c']]))\n",
    "    molecule_smiles.append(assemble_fragments(sample['frag_a'], sample['frag_b'], sample['frag_c']))\n",
    "    "
   ]
  },
  {
   "cell_type": "code",
   "execution_count": 32,
   "id": "27556cbf",
   "metadata": {
    "pycharm": {
     "name": "#%%\n"
    }
   },
   "outputs": [],
   "source": [
    "molecule_mols = [chem.MolFromSmiles(s) for s in molecule_smiles]\n"
   ]
  },
  {
   "cell_type": "code",
   "execution_count": 33,
   "metadata": {
    "collapsed": false,
    "pycharm": {
     "name": "#%%\n"
    }
   },
   "outputs": [],
   "source": [
    "img = chem.Draw.MolsToGridImage(\n",
    "    molecule_mols, molsPerRow=5, subImgSize=(400,400), returnPNG=False, legends=molecule_hids,\n",
    ")\n",
    "img.save('round_3_samples_all.png')"
   ]
  },
  {
   "cell_type": "code",
   "execution_count": 34,
   "metadata": {
    "collapsed": false,
    "pycharm": {
     "name": "#%%\n"
    }
   },
   "outputs": [],
   "source": [
    "with open('round_3_samples_all.txt', 'w') as f:\n",
    "    for smile, hid in zip(molecule_smiles, molecule_hids):\n",
    "        f.write(f'{smile}\\t{hid}\\n')\n"
   ]
  },
  {
   "cell_type": "markdown",
   "metadata": {
    "collapsed": false,
    "pycharm": {
     "name": "#%% md\n"
    }
   },
   "source": [
    "## Write the new target molecules/syntheses to the DB"
   ]
  },
  {
   "cell_type": "code",
   "execution_count": 35,
   "metadata": {
    "collapsed": false,
    "pycharm": {
     "name": "#%%\n"
    }
   },
   "outputs": [
    {
     "name": "stdout",
     "output_type": "stream",
     "text": [
      ">> Creating DB entry for sample A011 B028 C148...\n",
      ">> Creating DB entry for sample A017 B002 C133...\n",
      ">> Creating DB entry for sample A017 B023 C114...\n",
      ">> Creating DB entry for sample A011 B008 C103...\n",
      ">> Creating DB entry for sample A011 B008 C132...\n",
      ">> Creating DB entry for sample A010 B004 C114...\n",
      ">> Creating DB entry for sample A010 B011 C144...\n",
      ">> Creating DB entry for sample A011 B004 C126...\n",
      ">> Creating DB entry for sample A015 B003 C160...\n",
      ">> Creating DB entry for sample A016 B011 C082...\n",
      ">> Creating DB entry for sample A012 B003 C158...\n",
      ">> Creating DB entry for sample A015 B002 C031...\n",
      ">> Creating DB entry for sample A016 B004 C074...\n",
      ">> Creating DB entry for sample A017 B007 C050...\n",
      ">> Creating DB entry for sample A014 B004 C155...\n",
      ">> Creating DB entry for sample A001 B012 C005...\n",
      ">> Creating DB entry for sample A015 B001 C028...\n",
      ">> Creating DB entry for sample A010 B004 C068...\n",
      ">> Creating DB entry for sample A010 B015 C156...\n",
      ">> Creating DB entry for sample A001 B001 C044...\n",
      ">> Creating DB entry for sample A012 B001 C003...\n",
      ">> Creating DB entry for sample A001 B013 C018...\n",
      ">> Creating DB entry for sample A001 B020 C005...\n",
      ">> Creating DB entry for sample A001 B001 C011...\n",
      ">> Creating DB entry for sample A014 B020 C027...\n",
      ">> Creating DB entry for sample A001 B001 C030...\n",
      ">> Creating DB entry for sample A017 B023 C032...\n",
      ">> Creating DB entry for sample A001 B022 C025...\n",
      ">> Creating DB entry for sample A010 B004 C042...\n",
      ">> Creating DB entry for sample A001 B020 C003...\n",
      ">> Creating DB entry for sample A010 B008 C052...\n",
      ">> Creating DB entry for sample A017 B005 C099...\n",
      ">> Creating DB entry for sample A017 B028 C157...\n",
      ">> Creating DB entry for sample A011 B028 C046...\n",
      ">> Creating DB entry for sample A011 B023 C089...\n",
      ">> Creating DB entry for sample A010 B028 C136...\n",
      ">> Creating DB entry for sample A032 B020 C037...\n",
      ">> Creating DB entry for sample A012 B019 C069...\n",
      ">> Creating DB entry for sample A015 B028 C158...\n",
      ">> Creating DB entry for sample A010 B028 C072...\n"
     ]
    }
   ],
   "source": [
    "for sample, smi in zip(samples, molecule_smiles):\n",
    "    print(f'>> Creating DB entry for sample {sample[\"frag_a\"]} {sample[\"frag_b\"]} {sample[\"frag_c\"]}...')\n",
    "    db.create_target_compound(\n",
    "            smiles=smi,\n",
    "            fragment_a=sample['frag_a'],\n",
    "            fragment_b=sample['frag_b'],\n",
    "            fragment_c=sample['frag_c'],\n",
    "            fragment_identifier='hid',\n",
    "    )"
   ]
  },
  {
   "cell_type": "code",
   "execution_count": 36,
   "metadata": {
    "collapsed": false,
    "pycharm": {
     "name": "#%%\n"
    }
   },
   "outputs": [
    {
     "data": {
      "text/plain": [
       "{'id': 'A011',\n",
       " 'smiles': 'OB(O)c1ccc2c3ccccc3n(-c3ccccc3)c2c1',\n",
       " 'CAS': '1001911-63-2',\n",
       " 'molecule_id': 'b230ce95-ad00-4920-9cd3-5d344ea521b6'}"
      ]
     },
     "execution_count": 36,
     "metadata": {},
     "output_type": "execute_result"
    }
   ],
   "source": [
    "# db.get_fragment_details('A011', identifier_type='hid')"
   ]
  },
  {
   "cell_type": "code",
   "execution_count": 37,
   "id": "0d5ac31d",
   "metadata": {
    "pycharm": {
     "name": "#%%\n"
    }
   },
   "outputs": [
    {
     "data": {
      "text/html": [
       "<div>\n",
       "<style scoped>\n",
       "    .dataframe tbody tr th:only-of-type {\n",
       "        vertical-align: middle;\n",
       "    }\n",
       "\n",
       "    .dataframe tbody tr th {\n",
       "        vertical-align: top;\n",
       "    }\n",
       "\n",
       "    .dataframe thead th {\n",
       "        text-align: right;\n",
       "    }\n",
       "</style>\n",
       "<table border=\"1\" class=\"dataframe\">\n",
       "  <thead>\n",
       "    <tr style=\"text-align: right;\">\n",
       "      <th></th>\n",
       "      <th>synthesis_id</th>\n",
       "      <th>created_on</th>\n",
       "      <th>updated_on</th>\n",
       "      <th>status</th>\n",
       "      <th>lab_id</th>\n",
       "      <th>molecule_id</th>\n",
       "      <th>machine_id</th>\n",
       "      <th>parcel_tracking_num</th>\n",
       "    </tr>\n",
       "  </thead>\n",
       "  <tbody>\n",
       "    <tr>\n",
       "      <th>0</th>\n",
       "      <td>8cf4e82b-6075-460d-a2ad-cb492f4c4b93</td>\n",
       "      <td>2022-02-03T14:24:29.904436</td>\n",
       "      <td>2022-02-03T14:24:29.904436</td>\n",
       "      <td>PROCESSING</td>\n",
       "      <td>b65835e3-b908-45c6-9995-ec98d0caafe7</td>\n",
       "      <td>b33b1cc9-81d8-4833-803f-466411581a4d</td>\n",
       "      <td>5600f641-b180-41b1-8043-921e66107744</td>\n",
       "      <td>None</td>\n",
       "    </tr>\n",
       "    <tr>\n",
       "      <th>1</th>\n",
       "      <td>695c1c55-bf6a-4265-b68d-4655999a7b85</td>\n",
       "      <td>2022-02-11T16:19:41.358733</td>\n",
       "      <td>2022-02-11T16:19:41.861241</td>\n",
       "      <td>DONE</td>\n",
       "      <td>08cc75ca-8d1e-4ead-9b56-ad1b6ba83a41</td>\n",
       "      <td>539c5e5e-25fa-457d-a2c0-ecf3f88c36f3</td>\n",
       "      <td>f158c26e-a94e-4994-9a95-de324aa1da23</td>\n",
       "      <td>None</td>\n",
       "    </tr>\n",
       "    <tr>\n",
       "      <th>2</th>\n",
       "      <td>9a71f775-c341-42b1-ab7a-cd0917b5e80f</td>\n",
       "      <td>2022-02-11T16:19:42.607900</td>\n",
       "      <td>2022-02-11T16:19:43.118409</td>\n",
       "      <td>DONE</td>\n",
       "      <td>08cc75ca-8d1e-4ead-9b56-ad1b6ba83a41</td>\n",
       "      <td>3275cec5-919c-4f18-bb4c-2ec941f7db3b</td>\n",
       "      <td>f158c26e-a94e-4994-9a95-de324aa1da23</td>\n",
       "      <td>None</td>\n",
       "    </tr>\n",
       "    <tr>\n",
       "      <th>3</th>\n",
       "      <td>8cf70e33-a879-4ab7-879f-5284da51c300</td>\n",
       "      <td>2022-02-11T16:19:43.835325</td>\n",
       "      <td>2022-02-11T16:19:44.321553</td>\n",
       "      <td>DONE</td>\n",
       "      <td>08cc75ca-8d1e-4ead-9b56-ad1b6ba83a41</td>\n",
       "      <td>63bd1d6d-3e81-48ae-9535-e04dc6d9d32f</td>\n",
       "      <td>f158c26e-a94e-4994-9a95-de324aa1da23</td>\n",
       "      <td>None</td>\n",
       "    </tr>\n",
       "    <tr>\n",
       "      <th>4</th>\n",
       "      <td>512b328b-6a19-4f7d-9cc1-a136edc9f344</td>\n",
       "      <td>2022-02-11T16:19:44.945428</td>\n",
       "      <td>2022-02-11T16:19:45.454695</td>\n",
       "      <td>DONE</td>\n",
       "      <td>08cc75ca-8d1e-4ead-9b56-ad1b6ba83a41</td>\n",
       "      <td>a5e39076-8b93-40f8-93b0-8b5edc65ef53</td>\n",
       "      <td>f158c26e-a94e-4994-9a95-de324aa1da23</td>\n",
       "      <td>None</td>\n",
       "    </tr>\n",
       "    <tr>\n",
       "      <th>...</th>\n",
       "      <td>...</td>\n",
       "      <td>...</td>\n",
       "      <td>...</td>\n",
       "      <td>...</td>\n",
       "      <td>...</td>\n",
       "      <td>...</td>\n",
       "      <td>...</td>\n",
       "      <td>...</td>\n",
       "    </tr>\n",
       "    <tr>\n",
       "      <th>214</th>\n",
       "      <td>b414b396-c3ad-437f-946e-8c7e3cc0c328</td>\n",
       "      <td>2022-02-18T20:37:14.432821</td>\n",
       "      <td>2022-02-18T20:37:14.432821</td>\n",
       "      <td>AVAILABLE</td>\n",
       "      <td>None</td>\n",
       "      <td>4aa34cf2-3fc8-4a9c-9658-87c52c21d21c</td>\n",
       "      <td>None</td>\n",
       "      <td>None</td>\n",
       "    </tr>\n",
       "    <tr>\n",
       "      <th>215</th>\n",
       "      <td>5d1c5c57-9189-44c8-998f-ff7679ec3159</td>\n",
       "      <td>2022-02-18T20:37:16.198965</td>\n",
       "      <td>2022-02-18T20:37:16.198965</td>\n",
       "      <td>AVAILABLE</td>\n",
       "      <td>None</td>\n",
       "      <td>2e52d545-2522-41f1-a90b-b22809e1f4b0</td>\n",
       "      <td>None</td>\n",
       "      <td>None</td>\n",
       "    </tr>\n",
       "    <tr>\n",
       "      <th>216</th>\n",
       "      <td>7ed71312-09de-4e73-aaac-b678b55054f6</td>\n",
       "      <td>2022-02-18T20:37:18.146182</td>\n",
       "      <td>2022-02-18T20:37:18.146182</td>\n",
       "      <td>AVAILABLE</td>\n",
       "      <td>None</td>\n",
       "      <td>cabc11d1-67ea-485c-bd9f-71a3004c004a</td>\n",
       "      <td>None</td>\n",
       "      <td>None</td>\n",
       "    </tr>\n",
       "    <tr>\n",
       "      <th>217</th>\n",
       "      <td>becaa60f-c923-4ac0-a4e3-0c31e333a12a</td>\n",
       "      <td>2022-02-18T20:37:19.989069</td>\n",
       "      <td>2022-02-18T20:37:19.989069</td>\n",
       "      <td>AVAILABLE</td>\n",
       "      <td>None</td>\n",
       "      <td>bbec210f-bf95-4f0c-8cb6-323d88c1c52d</td>\n",
       "      <td>None</td>\n",
       "      <td>None</td>\n",
       "    </tr>\n",
       "    <tr>\n",
       "      <th>218</th>\n",
       "      <td>1c7a3235-900c-471d-ac43-5554a12a0883</td>\n",
       "      <td>2022-02-18T20:37:21.627245</td>\n",
       "      <td>2022-02-18T20:37:21.627245</td>\n",
       "      <td>AVAILABLE</td>\n",
       "      <td>None</td>\n",
       "      <td>611f23f7-98de-4e46-8683-cce035cc8f79</td>\n",
       "      <td>None</td>\n",
       "      <td>None</td>\n",
       "    </tr>\n",
       "  </tbody>\n",
       "</table>\n",
       "<p>219 rows × 8 columns</p>\n",
       "</div>"
      ],
      "text/plain": [
       "                             synthesis_id                  created_on  \\\n",
       "0    8cf4e82b-6075-460d-a2ad-cb492f4c4b93  2022-02-03T14:24:29.904436   \n",
       "1    695c1c55-bf6a-4265-b68d-4655999a7b85  2022-02-11T16:19:41.358733   \n",
       "2    9a71f775-c341-42b1-ab7a-cd0917b5e80f  2022-02-11T16:19:42.607900   \n",
       "3    8cf70e33-a879-4ab7-879f-5284da51c300  2022-02-11T16:19:43.835325   \n",
       "4    512b328b-6a19-4f7d-9cc1-a136edc9f344  2022-02-11T16:19:44.945428   \n",
       "..                                    ...                         ...   \n",
       "214  b414b396-c3ad-437f-946e-8c7e3cc0c328  2022-02-18T20:37:14.432821   \n",
       "215  5d1c5c57-9189-44c8-998f-ff7679ec3159  2022-02-18T20:37:16.198965   \n",
       "216  7ed71312-09de-4e73-aaac-b678b55054f6  2022-02-18T20:37:18.146182   \n",
       "217  becaa60f-c923-4ac0-a4e3-0c31e333a12a  2022-02-18T20:37:19.989069   \n",
       "218  1c7a3235-900c-471d-ac43-5554a12a0883  2022-02-18T20:37:21.627245   \n",
       "\n",
       "                     updated_on      status  \\\n",
       "0    2022-02-03T14:24:29.904436  PROCESSING   \n",
       "1    2022-02-11T16:19:41.861241        DONE   \n",
       "2    2022-02-11T16:19:43.118409        DONE   \n",
       "3    2022-02-11T16:19:44.321553        DONE   \n",
       "4    2022-02-11T16:19:45.454695        DONE   \n",
       "..                          ...         ...   \n",
       "214  2022-02-18T20:37:14.432821   AVAILABLE   \n",
       "215  2022-02-18T20:37:16.198965   AVAILABLE   \n",
       "216  2022-02-18T20:37:18.146182   AVAILABLE   \n",
       "217  2022-02-18T20:37:19.989069   AVAILABLE   \n",
       "218  2022-02-18T20:37:21.627245   AVAILABLE   \n",
       "\n",
       "                                   lab_id  \\\n",
       "0    b65835e3-b908-45c6-9995-ec98d0caafe7   \n",
       "1    08cc75ca-8d1e-4ead-9b56-ad1b6ba83a41   \n",
       "2    08cc75ca-8d1e-4ead-9b56-ad1b6ba83a41   \n",
       "3    08cc75ca-8d1e-4ead-9b56-ad1b6ba83a41   \n",
       "4    08cc75ca-8d1e-4ead-9b56-ad1b6ba83a41   \n",
       "..                                    ...   \n",
       "214                                  None   \n",
       "215                                  None   \n",
       "216                                  None   \n",
       "217                                  None   \n",
       "218                                  None   \n",
       "\n",
       "                              molecule_id  \\\n",
       "0    b33b1cc9-81d8-4833-803f-466411581a4d   \n",
       "1    539c5e5e-25fa-457d-a2c0-ecf3f88c36f3   \n",
       "2    3275cec5-919c-4f18-bb4c-2ec941f7db3b   \n",
       "3    63bd1d6d-3e81-48ae-9535-e04dc6d9d32f   \n",
       "4    a5e39076-8b93-40f8-93b0-8b5edc65ef53   \n",
       "..                                    ...   \n",
       "214  4aa34cf2-3fc8-4a9c-9658-87c52c21d21c   \n",
       "215  2e52d545-2522-41f1-a90b-b22809e1f4b0   \n",
       "216  cabc11d1-67ea-485c-bd9f-71a3004c004a   \n",
       "217  bbec210f-bf95-4f0c-8cb6-323d88c1c52d   \n",
       "218  611f23f7-98de-4e46-8683-cce035cc8f79   \n",
       "\n",
       "                               machine_id parcel_tracking_num  \n",
       "0    5600f641-b180-41b1-8043-921e66107744                None  \n",
       "1    f158c26e-a94e-4994-9a95-de324aa1da23                None  \n",
       "2    f158c26e-a94e-4994-9a95-de324aa1da23                None  \n",
       "3    f158c26e-a94e-4994-9a95-de324aa1da23                None  \n",
       "4    f158c26e-a94e-4994-9a95-de324aa1da23                None  \n",
       "..                                    ...                 ...  \n",
       "214                                  None                None  \n",
       "215                                  None                None  \n",
       "216                                  None                None  \n",
       "217                                  None                None  \n",
       "218                                  None                None  \n",
       "\n",
       "[219 rows x 8 columns]"
      ]
     },
     "execution_count": 37,
     "metadata": {},
     "output_type": "execute_result"
    }
   ],
   "source": [
    "# db.client.query_database('synthesis', limit=1000)"
   ]
  },
  {
   "cell_type": "code",
   "execution_count": 6,
   "id": "d0adc131",
   "metadata": {
    "pycharm": {
     "name": "#%%\n"
    }
   },
   "outputs": [],
   "source": [
    "# # load molecules from the first bacth\n",
    "# with open('first_batch_smiles_uoft_only.txt', 'r') as f:\n",
    "#     smiles_ = f.readlines()\n",
    "    "
   ]
  },
  {
   "cell_type": "code",
   "execution_count": 19,
   "id": "4fa26279",
   "metadata": {
    "pycharm": {
     "name": "#%%\n"
    }
   },
   "outputs": [],
   "source": [
    "# smiles = []\n",
    "# hids = []\n",
    "# for line in smiles_:\n",
    "#\n",
    "#     split = line.split('\\t')\n",
    "#     smiles.append(split[0])\n",
    "#     hids.append(split[1].strip())"
   ]
  },
  {
   "cell_type": "code",
   "execution_count": 21,
   "id": "39f2953a",
   "metadata": {
    "pycharm": {
     "name": "#%%\n"
    }
   },
   "outputs": [],
   "source": [
    "# mols = [chem.MolFromSmiles(s) for s in smiles]"
   ]
  },
  {
   "cell_type": "code",
   "execution_count": 22,
   "id": "47cf4157",
   "metadata": {
    "pycharm": {
     "name": "#%%\n"
    }
   },
   "outputs": [],
   "source": [
    "# img = chem.Draw.MolsToGridImage(\n",
    "#     mols, molsPerRow=10, subImgSize=(400,400), returnPNG=False, legends=hids,\n",
    "# )\n",
    "# img.save('first_round_samples_uoft_only_landscape.png')"
   ]
  }
 ],
 "metadata": {
  "kernelspec": {
   "display_name": "Python 3.7.13 ('acdc_lasers')",
   "language": "python",
   "name": "python3"
  },
  "language_info": {
   "codemirror_mode": {
    "name": "ipython",
    "version": 3
   },
   "file_extension": ".py",
   "mimetype": "text/x-python",
   "name": "python",
   "nbconvert_exporter": "python",
   "pygments_lexer": "ipython3",
   "version": "3.7.13"
  },
  "vscode": {
   "interpreter": {
    "hash": "1282b83e0cb17e60c6533d53d9f5aa1cd7e7df4ed361b2ac837ce7830e0841c2"
   }
  }
 },
 "nbformat": 4,
 "nbformat_minor": 5
}
