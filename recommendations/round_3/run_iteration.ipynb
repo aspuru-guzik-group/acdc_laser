{
 "cells": [
  {
   "cell_type": "code",
   "execution_count": null,
   "id": "87d90574",
   "metadata": {
    "pycharm": {
     "name": "#%%\n"
    }
   },
   "outputs": [],
   "source": [
    "%load_ext autoreload\n",
    "%autoreload 2"
   ]
  },
  {
   "cell_type": "code",
   "execution_count": 1,
   "id": "7adfedfc",
   "metadata": {
    "pycharm": {
     "name": "#%%\n"
    }
   },
   "outputs": [],
   "source": [
    "import os, sys\n",
    "import time\n",
    "import pickle\n",
    "\n",
    "import numpy as np\n",
    "import pandas as pd\n",
    "\n",
    "import rdkit\n",
    "import rdkit.Chem as chem\n",
    "import rdkit.Chem.AllChem as allchem\n",
    "\n",
    "from gryffin import Gryffin\n",
    "\n",
    "from MolarInterface import MolarInterface"
   ]
  },
  {
   "cell_type": "markdown",
   "id": "07668d40",
   "metadata": {
    "pycharm": {
     "name": "#%% md\n"
    }
   },
   "source": [
    "## Make connection to the MolarDB"
   ]
  },
  {
   "cell_type": "code",
   "execution_count": 3,
   "id": "d2796b63",
   "metadata": {
    "pycharm": {
     "name": "#%%\n"
    }
   },
   "outputs": [],
   "source": [
    "db = MolarInterface(\n",
    "    db_name=\"madness_laser\",\n",
    "    fragments=(\"fragment_a\", \"fragment_b\", \"fragment_c\")\n",
    ")"
   ]
  },
  {
   "cell_type": "markdown",
   "id": "f67f5408",
   "metadata": {
    "pycharm": {
     "name": "#%% md\n"
    }
   },
   "source": [
    "## Retrieve the first set of molecules in the DB\n",
    "\n",
    "We use a filtered query to return all of the molecules for which we have tried to measure the optical properties. "
   ]
  },
  {
   "cell_type": "code",
   "execution_count": 4,
   "id": "f79fb417",
   "metadata": {
    "pycharm": {
     "name": "#%%\n"
    }
   },
   "outputs": [],
   "source": [
    "previous_syntheses = db.get_all_syntheses()"
   ]
  },
  {
   "cell_type": "code",
   "execution_count": 5,
   "id": "b75ae3f6",
   "metadata": {
    "pycharm": {
     "name": "#%%\n"
    }
   },
   "outputs": [
    {
     "name": "stdout",
     "output_type": "stream",
     "text": [
      "(236, 12)\n"
     ]
    },
    {
     "data": {
      "text/plain": "    product.hid                                     product.smiles  \\\n0  A001B046C003  Cc1cc(-c2cc(F)cc(-c3ccc(-n4c5ccccc5c5ccccc54)c...   \n1  A041B058C100  Cn1cnc2ccc(-c3ccc(C=Cc4cnc(C=Cc5ccc(-c6ccc7ncn...   \n2  A001B031C021  Cc1cc(-c2ccc(-c3cc(C)c(-c4ccc(-n5c6ccccc6c6ccc...   \n3  A028B038C085  CCCCCCCCCCCCc1cc(-c2ccccc2-c2ccc(N3c4ccccc4CCc...   \n4  A039B060C079  CCn1c2ccccc2c2cc(-c3ccccc3-c3ccccc3-c3ccc(C)c(...   \n\n  product.optical_properties fragment_a.hid  \\\n0                         {}           A001   \n1                         {}           A041   \n2                         {}           A001   \n3                         {}           A028   \n4                         {}           A039   \n\n                                  fragment_a.smiles fragment_b.hid  \\\n0   CC1(C)OB(c2ccc(-n3c4ccccc4c4ccccc43)cc2)OC1(C)C           B046   \n1               Cn1cnc2ccc(B3OC(C)(C)C(C)(C)O3)cc21           B058   \n2   CC1(C)OB(c2ccc(-n3c4ccccc4c4ccccc43)cc2)OC1(C)C           B031   \n3  CC1(C)OB(c2ccc(N3c4ccccc4CCc4ccccc43)cc2)OC1(C)C           B038   \n4        CCn1c2ccccc2c2cc(B3OC(C)(C)C(C)(C)O3)ccc21           B060   \n\n                                   fragment_b.smiles fragment_c.hid  \\\n0  CC1(C)C(=O)O[B-]2(c3cc(F)cc(Br)c3)OC(=O)C(C)(C...           C003   \n1  CC1(C)C(=O)O[B-]2(/C=C/c3ccc(Br)cc3)OC(=O)C(C)...           C100   \n2  Cc1cc([B-]23OC(=O)C(C)(C)[N+]2(C)C(C)(C)C(=O)O...           C021   \n3  CC1(C)C(=O)O[B-]2(c3ccccc3Br)OC(=O)C(C)(C)[N+]21C           C085   \n4  CC1(C)C(=O)O[B-]2(c3ccccc3-c3ccccc3Br)OC(=O)C(...           C079   \n\n           fragment_c.smiles                synthesis.synthesis_id  \\\n0         Cc1cc(Br)c(C)cc1Br  4f21e4b4-5259-42e3-ae43-f6a276e563f6   \n1              Brc1cnc(Br)s1  63bea729-df1c-43ca-8078-90ba52716ffd   \n2     FC(F)(F)c1cc(Br)ccc1Br  97b29bb5-16fb-4b5c-9fe8-ffdd6a869ebe   \n3  CCCCCCCCCCCCc1cc(Br)sc1Br  9839e50f-d7dc-4f63-a682-5feb2f99579b   \n4            Cc1ccc(Br)cc1Br  df641953-a3eb-4c88-9d04-a8b024e4a502   \n\n  synthesis.status                 synthesis.molecule_id  \n0        AVAILABLE  ced41854-1953-4071-b48e-1dd1189f3a9e  \n1        AVAILABLE  e9b6f686-e5d5-4a2e-a21d-e52cca5036dd  \n2        AVAILABLE  50db756f-a682-4e30-b39c-e3af5f2b111d  \n3        AVAILABLE  b8e0476d-00d2-45df-9f0b-5c9b2029d1a2  \n4        AVAILABLE  5963ac30-5d0c-479b-a11c-86c95a56adc5  ",
      "text/html": "<div>\n<style scoped>\n    .dataframe tbody tr th:only-of-type {\n        vertical-align: middle;\n    }\n\n    .dataframe tbody tr th {\n        vertical-align: top;\n    }\n\n    .dataframe thead th {\n        text-align: right;\n    }\n</style>\n<table border=\"1\" class=\"dataframe\">\n  <thead>\n    <tr style=\"text-align: right;\">\n      <th></th>\n      <th>product.hid</th>\n      <th>product.smiles</th>\n      <th>product.optical_properties</th>\n      <th>fragment_a.hid</th>\n      <th>fragment_a.smiles</th>\n      <th>fragment_b.hid</th>\n      <th>fragment_b.smiles</th>\n      <th>fragment_c.hid</th>\n      <th>fragment_c.smiles</th>\n      <th>synthesis.synthesis_id</th>\n      <th>synthesis.status</th>\n      <th>synthesis.molecule_id</th>\n    </tr>\n  </thead>\n  <tbody>\n    <tr>\n      <th>0</th>\n      <td>A001B046C003</td>\n      <td>Cc1cc(-c2cc(F)cc(-c3ccc(-n4c5ccccc5c5ccccc54)c...</td>\n      <td>{}</td>\n      <td>A001</td>\n      <td>CC1(C)OB(c2ccc(-n3c4ccccc4c4ccccc43)cc2)OC1(C)C</td>\n      <td>B046</td>\n      <td>CC1(C)C(=O)O[B-]2(c3cc(F)cc(Br)c3)OC(=O)C(C)(C...</td>\n      <td>C003</td>\n      <td>Cc1cc(Br)c(C)cc1Br</td>\n      <td>4f21e4b4-5259-42e3-ae43-f6a276e563f6</td>\n      <td>AVAILABLE</td>\n      <td>ced41854-1953-4071-b48e-1dd1189f3a9e</td>\n    </tr>\n    <tr>\n      <th>1</th>\n      <td>A041B058C100</td>\n      <td>Cn1cnc2ccc(-c3ccc(C=Cc4cnc(C=Cc5ccc(-c6ccc7ncn...</td>\n      <td>{}</td>\n      <td>A041</td>\n      <td>Cn1cnc2ccc(B3OC(C)(C)C(C)(C)O3)cc21</td>\n      <td>B058</td>\n      <td>CC1(C)C(=O)O[B-]2(/C=C/c3ccc(Br)cc3)OC(=O)C(C)...</td>\n      <td>C100</td>\n      <td>Brc1cnc(Br)s1</td>\n      <td>63bea729-df1c-43ca-8078-90ba52716ffd</td>\n      <td>AVAILABLE</td>\n      <td>e9b6f686-e5d5-4a2e-a21d-e52cca5036dd</td>\n    </tr>\n    <tr>\n      <th>2</th>\n      <td>A001B031C021</td>\n      <td>Cc1cc(-c2ccc(-c3cc(C)c(-c4ccc(-n5c6ccccc6c6ccc...</td>\n      <td>{}</td>\n      <td>A001</td>\n      <td>CC1(C)OB(c2ccc(-n3c4ccccc4c4ccccc43)cc2)OC1(C)C</td>\n      <td>B031</td>\n      <td>Cc1cc([B-]23OC(=O)C(C)(C)[N+]2(C)C(C)(C)C(=O)O...</td>\n      <td>C021</td>\n      <td>FC(F)(F)c1cc(Br)ccc1Br</td>\n      <td>97b29bb5-16fb-4b5c-9fe8-ffdd6a869ebe</td>\n      <td>AVAILABLE</td>\n      <td>50db756f-a682-4e30-b39c-e3af5f2b111d</td>\n    </tr>\n    <tr>\n      <th>3</th>\n      <td>A028B038C085</td>\n      <td>CCCCCCCCCCCCc1cc(-c2ccccc2-c2ccc(N3c4ccccc4CCc...</td>\n      <td>{}</td>\n      <td>A028</td>\n      <td>CC1(C)OB(c2ccc(N3c4ccccc4CCc4ccccc43)cc2)OC1(C)C</td>\n      <td>B038</td>\n      <td>CC1(C)C(=O)O[B-]2(c3ccccc3Br)OC(=O)C(C)(C)[N+]21C</td>\n      <td>C085</td>\n      <td>CCCCCCCCCCCCc1cc(Br)sc1Br</td>\n      <td>9839e50f-d7dc-4f63-a682-5feb2f99579b</td>\n      <td>AVAILABLE</td>\n      <td>b8e0476d-00d2-45df-9f0b-5c9b2029d1a2</td>\n    </tr>\n    <tr>\n      <th>4</th>\n      <td>A039B060C079</td>\n      <td>CCn1c2ccccc2c2cc(-c3ccccc3-c3ccccc3-c3ccc(C)c(...</td>\n      <td>{}</td>\n      <td>A039</td>\n      <td>CCn1c2ccccc2c2cc(B3OC(C)(C)C(C)(C)O3)ccc21</td>\n      <td>B060</td>\n      <td>CC1(C)C(=O)O[B-]2(c3ccccc3-c3ccccc3Br)OC(=O)C(...</td>\n      <td>C079</td>\n      <td>Cc1ccc(Br)cc1Br</td>\n      <td>df641953-a3eb-4c88-9d04-a8b024e4a502</td>\n      <td>AVAILABLE</td>\n      <td>5963ac30-5d0c-479b-a11c-86c95a56adc5</td>\n    </tr>\n  </tbody>\n</table>\n</div>"
     },
     "execution_count": 5,
     "metadata": {},
     "output_type": "execute_result"
    }
   ],
   "source": [
    "print(previous_syntheses.shape)\n",
    "previous_syntheses.head()"
   ]
  },
  {
   "cell_type": "code",
   "execution_count": 6,
   "id": "05f806f9",
   "metadata": {
    "pycharm": {
     "name": "#%%\n"
    }
   },
   "outputs": [
    {
     "name": "stdout",
     "output_type": "stream",
     "text": [
      "NUM IN PROGRESS :  13\n",
      "NUM FINISHED :  188\n",
      "PERCENT DONE 0.115\n"
     ]
    },
    {
     "data": {
      "text/plain": "      product.hid                                     product.smiles  \\\n13           None  CCCCCCN1c2ccc(-c3ccc(-c4ccc5c(c4)c4ccccc4n5CC)...   \n14           None  CN(C)c1ccc(-c2ccc(-c3csc(C(=O)O)c3-c3ccc(-c4cc...   \n136          None  c1ccc(-c2nc3ccccc3n2-c2ccc(-c3cncc(-c4cc(-c5cn...   \n139          None  CCCCCCN1c2ccc(-c3ccc(-c4ccc5c(ccn5C)c4)s3)cc2S...   \n150  A001B012C005  CC1(C)c2cc(-c3cc(F)cc(-c4ccc(-n5c6ccccc6c6cccc...   \n162  A015B001C028  CN(C)c1ccc(-c2ccc(C=Cc3cc(F)c(C=Cc4ccc(-c5ccc(...   \n190  A012B003C158  CCn1c2ccccc2c2cc(C=Cc3cc(C(=O)OC)c(C=Cc4ccc5c(...   \n191  A015B002C031  CN(C)c1ccc(-c2ccsc2-c2ccc(-c3sccc3-c3ccc(N(C)C...   \n192  A016B004C074  Cc1cc(-c2cccnc2-c2ccc3ncn(C)c3c2)cc(-c2cccnc2-...   \n205  A012B001C003  CCn1c2ccccc2c2cc(-c3ccc(C=Cc4cc(C)c(C=Cc5ccc(-...   \n206  A001B020C005  CC1(C)c2cc(-c3c(F)cccc3-c3ccc(-n4c5ccccc5c5ccc...   \n207  A001B020C003  Cc1cc(-c2c(F)cccc2-c2ccc(-n3c4ccccc4c4ccccc43)...   \n225  A015B028C158  COC(=O)c1cc(-c2cc(-c3ccc(N(C)C)c4ccccc34)no2)o...   \n\n                            product.optical_properties fragment_a.hid  \\\n13                                                  {}           A012   \n14                                                  {}           A015   \n136  {'MS': {'data': [[0, 100.0687, 994.79614257812...           A013   \n139  {'MS': {'data': [[0, 100.076, 2040.015625], [1...           A017   \n150                                                 {}           A001   \n162                                                 {}           A015   \n190                                                 {}           A012   \n191                                                 {}           A015   \n192                                                 {}           A016   \n205                                                 {}           A012   \n206                                                 {}           A001   \n207                                                 {}           A001   \n225                                                 {}           A015   \n\n                                   fragment_a.smiles fragment_b.hid  \\\n13                      CCn1c2ccccc2c2cc(B(O)O)ccc21           B025   \n14          CN(C)c1ccc(B2OC(C)(C)C(C)(C)O2)c2ccccc12           B025   \n136         OB(O)c1ccc(-n2c(-c3ccccc3)nc3ccccc32)cc1           B005   \n139                            Cn1ccc2cc(B(O)O)ccc21           B025   \n150  CC1(C)OB(c2ccc(-n3c4ccccc4c4ccccc43)cc2)OC1(C)C           B012   \n162         CN(C)c1ccc(B2OC(C)(C)C(C)(C)O2)c2ccccc12           B001   \n190                     CCn1c2ccccc2c2cc(B(O)O)ccc21           B003   \n191         CN(C)c1ccc(B2OC(C)(C)C(C)(C)O2)c2ccccc12           B002   \n192                            Cn1cnc2ccc(B(O)O)cc21           B004   \n205                     CCn1c2ccccc2c2cc(B(O)O)ccc21           B001   \n206  CC1(C)OB(c2ccc(-n3c4ccccc4c4ccccc43)cc2)OC1(C)C           B020   \n207  CC1(C)OB(c2ccc(-n3c4ccccc4c4ccccc43)cc2)OC1(C)C           B020   \n225         CN(C)c1ccc(B2OC(C)(C)C(C)(C)O2)c2ccccc12           B028   \n\n                                  fragment_b.smiles fragment_c.hid  \\\n13         C[N+]12CC(=O)O[B-]1(c1ccc(Br)s1)OC(=O)C2           C130   \n14         C[N+]12CC(=O)O[B-]1(c1ccc(Br)s1)OC(=O)C2           C116   \n136       C[N+]12CC(=O)O[B-]1(c1cncc(Br)c1)OC(=O)C2           C154   \n139        C[N+]12CC(=O)O[B-]1(c1ccc(Br)s1)OC(=O)C2           C130   \n150    C[N+]12CC(=O)O[B-]1(c1cc(F)cc(Br)c1)OC(=O)C2           C005   \n162  C[N+]12CC(=O)O[B-]1(/C=C/c1ccc(Br)cc1)OC(=O)C2           C028   \n190            C[N+]12CC(=O)O[B-]1(/C=C/Br)OC(=O)C2           C158   \n191          C[N+]12CC(=O)O[B-]1(c1sccc1Br)OC(=O)C2           C031   \n192         C[N+]12CC(=O)O[B-]1(c1cccnc1Br)OC(=O)C2           C074   \n205  C[N+]12CC(=O)O[B-]1(/C=C/c1ccc(Br)cc1)OC(=O)C2           C003   \n206      C[N+]12CC(=O)O[B-]1(c1c(F)cccc1Br)OC(=O)C2           C005   \n207      C[N+]12CC(=O)O[B-]1(c1c(F)cccc1Br)OC(=O)C2           C003   \n225        C[N+]12CC(=O)O[B-]1(c1cc(Br)no1)OC(=O)C2           C158   \n\n                      fragment_c.smiles                synthesis.synthesis_id  \\\n13   CCCCCCN1c2ccc(Br)cc2Sc2cc(Br)ccc21  8cf4e82b-6075-460d-a2ad-cb492f4c4b93   \n14                  O=C(O)c1scc(Br)c1Br  43283ee2-6110-4460-aa57-08cedd716cbd   \n136    Brc1cc(Br)cc(N2CCC3(CC2)OCCO3)c1  c74040cf-8e5f-4f3f-8e06-e77363663672   \n139  CCCCCCN1c2ccc(Br)cc2Sc2cc(Br)ccc21  649fe653-970e-4b7e-9571-c944032aef39   \n150    CC1(C)c2cc(Br)ccc2-c2ccc(Br)cc21  5e6ce632-3571-46ba-b25c-718274b3dd05   \n162                  Fc1cc(Br)c(F)cc1Br  936d4d55-a669-48ed-a5ec-c41300c7ff64   \n190                COC(=O)c1cc(Br)oc1Br  05f4ee39-f0b8-4b5f-969e-4fcdb07da878   \n191                      Brc1ccc(Br)nn1  fecae425-531a-478e-ab03-9f7ff26cca24   \n192                  Cc1cc(Br)cc(Br)c1O  c6191dcf-5f49-4a66-836b-b8474a14c269   \n205                  Cc1cc(Br)c(C)cc1Br  7809efa1-062f-4b61-a410-083cf01a29ad   \n206    CC1(C)c2cc(Br)ccc2-c2ccc(Br)cc21  1d211a94-d351-47e0-b976-87aadb957eb6   \n207                  Cc1cc(Br)c(C)cc1Br  048f2bd1-8c80-4069-86b6-26311ae4f1ca   \n225                COC(=O)c1cc(Br)oc1Br  becaa60f-c923-4ac0-a4e3-0c31e333a12a   \n\n    synthesis.status                 synthesis.molecule_id  \n13        PROCESSING  b33b1cc9-81d8-4833-803f-466411581a4d  \n14          RECEIVED  322b8304-39b5-49bc-a307-99719f0d5911  \n136      SYNTHESIZED  036ef848-5792-4501-b904-63301e6f1027  \n139         RECEIVED  416db1b2-15d6-4a2b-b2d2-a0e688f0dce4  \n150         ACQUIRED  c08b6d18-3a1d-4b8a-91e8-ec7fa281cf8e  \n162         ACQUIRED  f336bff6-b429-4d4b-9202-af690e1eacc1  \n190         ACQUIRED  d77e729b-2284-4282-b2c4-78e55928364b  \n191         ACQUIRED  5a14f557-6ba2-4afe-b48a-4a56040822f4  \n192         ACQUIRED  57427931-f0bc-4b77-98e8-1959255f7c4c  \n205         ACQUIRED  8ac8aa07-c5cd-4334-9c63-983b5a4a50d1  \n206         ACQUIRED  f02fc641-b6fc-4e17-bf8d-7a4a405b9035  \n207         ACQUIRED  d19b4245-7ed6-4d41-8bb9-eaa29a3e5e3e  \n225         ACQUIRED  bbec210f-bf95-4f0c-8cb6-323d88c1c52d  ",
      "text/html": "<div>\n<style scoped>\n    .dataframe tbody tr th:only-of-type {\n        vertical-align: middle;\n    }\n\n    .dataframe tbody tr th {\n        vertical-align: top;\n    }\n\n    .dataframe thead th {\n        text-align: right;\n    }\n</style>\n<table border=\"1\" class=\"dataframe\">\n  <thead>\n    <tr style=\"text-align: right;\">\n      <th></th>\n      <th>product.hid</th>\n      <th>product.smiles</th>\n      <th>product.optical_properties</th>\n      <th>fragment_a.hid</th>\n      <th>fragment_a.smiles</th>\n      <th>fragment_b.hid</th>\n      <th>fragment_b.smiles</th>\n      <th>fragment_c.hid</th>\n      <th>fragment_c.smiles</th>\n      <th>synthesis.synthesis_id</th>\n      <th>synthesis.status</th>\n      <th>synthesis.molecule_id</th>\n    </tr>\n  </thead>\n  <tbody>\n    <tr>\n      <th>13</th>\n      <td>None</td>\n      <td>CCCCCCN1c2ccc(-c3ccc(-c4ccc5c(c4)c4ccccc4n5CC)...</td>\n      <td>{}</td>\n      <td>A012</td>\n      <td>CCn1c2ccccc2c2cc(B(O)O)ccc21</td>\n      <td>B025</td>\n      <td>C[N+]12CC(=O)O[B-]1(c1ccc(Br)s1)OC(=O)C2</td>\n      <td>C130</td>\n      <td>CCCCCCN1c2ccc(Br)cc2Sc2cc(Br)ccc21</td>\n      <td>8cf4e82b-6075-460d-a2ad-cb492f4c4b93</td>\n      <td>PROCESSING</td>\n      <td>b33b1cc9-81d8-4833-803f-466411581a4d</td>\n    </tr>\n    <tr>\n      <th>14</th>\n      <td>None</td>\n      <td>CN(C)c1ccc(-c2ccc(-c3csc(C(=O)O)c3-c3ccc(-c4cc...</td>\n      <td>{}</td>\n      <td>A015</td>\n      <td>CN(C)c1ccc(B2OC(C)(C)C(C)(C)O2)c2ccccc12</td>\n      <td>B025</td>\n      <td>C[N+]12CC(=O)O[B-]1(c1ccc(Br)s1)OC(=O)C2</td>\n      <td>C116</td>\n      <td>O=C(O)c1scc(Br)c1Br</td>\n      <td>43283ee2-6110-4460-aa57-08cedd716cbd</td>\n      <td>RECEIVED</td>\n      <td>322b8304-39b5-49bc-a307-99719f0d5911</td>\n    </tr>\n    <tr>\n      <th>136</th>\n      <td>None</td>\n      <td>c1ccc(-c2nc3ccccc3n2-c2ccc(-c3cncc(-c4cc(-c5cn...</td>\n      <td>{'MS': {'data': [[0, 100.0687, 994.79614257812...</td>\n      <td>A013</td>\n      <td>OB(O)c1ccc(-n2c(-c3ccccc3)nc3ccccc32)cc1</td>\n      <td>B005</td>\n      <td>C[N+]12CC(=O)O[B-]1(c1cncc(Br)c1)OC(=O)C2</td>\n      <td>C154</td>\n      <td>Brc1cc(Br)cc(N2CCC3(CC2)OCCO3)c1</td>\n      <td>c74040cf-8e5f-4f3f-8e06-e77363663672</td>\n      <td>SYNTHESIZED</td>\n      <td>036ef848-5792-4501-b904-63301e6f1027</td>\n    </tr>\n    <tr>\n      <th>139</th>\n      <td>None</td>\n      <td>CCCCCCN1c2ccc(-c3ccc(-c4ccc5c(ccn5C)c4)s3)cc2S...</td>\n      <td>{'MS': {'data': [[0, 100.076, 2040.015625], [1...</td>\n      <td>A017</td>\n      <td>Cn1ccc2cc(B(O)O)ccc21</td>\n      <td>B025</td>\n      <td>C[N+]12CC(=O)O[B-]1(c1ccc(Br)s1)OC(=O)C2</td>\n      <td>C130</td>\n      <td>CCCCCCN1c2ccc(Br)cc2Sc2cc(Br)ccc21</td>\n      <td>649fe653-970e-4b7e-9571-c944032aef39</td>\n      <td>RECEIVED</td>\n      <td>416db1b2-15d6-4a2b-b2d2-a0e688f0dce4</td>\n    </tr>\n    <tr>\n      <th>150</th>\n      <td>A001B012C005</td>\n      <td>CC1(C)c2cc(-c3cc(F)cc(-c4ccc(-n5c6ccccc6c6cccc...</td>\n      <td>{}</td>\n      <td>A001</td>\n      <td>CC1(C)OB(c2ccc(-n3c4ccccc4c4ccccc43)cc2)OC1(C)C</td>\n      <td>B012</td>\n      <td>C[N+]12CC(=O)O[B-]1(c1cc(F)cc(Br)c1)OC(=O)C2</td>\n      <td>C005</td>\n      <td>CC1(C)c2cc(Br)ccc2-c2ccc(Br)cc21</td>\n      <td>5e6ce632-3571-46ba-b25c-718274b3dd05</td>\n      <td>ACQUIRED</td>\n      <td>c08b6d18-3a1d-4b8a-91e8-ec7fa281cf8e</td>\n    </tr>\n    <tr>\n      <th>162</th>\n      <td>A015B001C028</td>\n      <td>CN(C)c1ccc(-c2ccc(C=Cc3cc(F)c(C=Cc4ccc(-c5ccc(...</td>\n      <td>{}</td>\n      <td>A015</td>\n      <td>CN(C)c1ccc(B2OC(C)(C)C(C)(C)O2)c2ccccc12</td>\n      <td>B001</td>\n      <td>C[N+]12CC(=O)O[B-]1(/C=C/c1ccc(Br)cc1)OC(=O)C2</td>\n      <td>C028</td>\n      <td>Fc1cc(Br)c(F)cc1Br</td>\n      <td>936d4d55-a669-48ed-a5ec-c41300c7ff64</td>\n      <td>ACQUIRED</td>\n      <td>f336bff6-b429-4d4b-9202-af690e1eacc1</td>\n    </tr>\n    <tr>\n      <th>190</th>\n      <td>A012B003C158</td>\n      <td>CCn1c2ccccc2c2cc(C=Cc3cc(C(=O)OC)c(C=Cc4ccc5c(...</td>\n      <td>{}</td>\n      <td>A012</td>\n      <td>CCn1c2ccccc2c2cc(B(O)O)ccc21</td>\n      <td>B003</td>\n      <td>C[N+]12CC(=O)O[B-]1(/C=C/Br)OC(=O)C2</td>\n      <td>C158</td>\n      <td>COC(=O)c1cc(Br)oc1Br</td>\n      <td>05f4ee39-f0b8-4b5f-969e-4fcdb07da878</td>\n      <td>ACQUIRED</td>\n      <td>d77e729b-2284-4282-b2c4-78e55928364b</td>\n    </tr>\n    <tr>\n      <th>191</th>\n      <td>A015B002C031</td>\n      <td>CN(C)c1ccc(-c2ccsc2-c2ccc(-c3sccc3-c3ccc(N(C)C...</td>\n      <td>{}</td>\n      <td>A015</td>\n      <td>CN(C)c1ccc(B2OC(C)(C)C(C)(C)O2)c2ccccc12</td>\n      <td>B002</td>\n      <td>C[N+]12CC(=O)O[B-]1(c1sccc1Br)OC(=O)C2</td>\n      <td>C031</td>\n      <td>Brc1ccc(Br)nn1</td>\n      <td>fecae425-531a-478e-ab03-9f7ff26cca24</td>\n      <td>ACQUIRED</td>\n      <td>5a14f557-6ba2-4afe-b48a-4a56040822f4</td>\n    </tr>\n    <tr>\n      <th>192</th>\n      <td>A016B004C074</td>\n      <td>Cc1cc(-c2cccnc2-c2ccc3ncn(C)c3c2)cc(-c2cccnc2-...</td>\n      <td>{}</td>\n      <td>A016</td>\n      <td>Cn1cnc2ccc(B(O)O)cc21</td>\n      <td>B004</td>\n      <td>C[N+]12CC(=O)O[B-]1(c1cccnc1Br)OC(=O)C2</td>\n      <td>C074</td>\n      <td>Cc1cc(Br)cc(Br)c1O</td>\n      <td>c6191dcf-5f49-4a66-836b-b8474a14c269</td>\n      <td>ACQUIRED</td>\n      <td>57427931-f0bc-4b77-98e8-1959255f7c4c</td>\n    </tr>\n    <tr>\n      <th>205</th>\n      <td>A012B001C003</td>\n      <td>CCn1c2ccccc2c2cc(-c3ccc(C=Cc4cc(C)c(C=Cc5ccc(-...</td>\n      <td>{}</td>\n      <td>A012</td>\n      <td>CCn1c2ccccc2c2cc(B(O)O)ccc21</td>\n      <td>B001</td>\n      <td>C[N+]12CC(=O)O[B-]1(/C=C/c1ccc(Br)cc1)OC(=O)C2</td>\n      <td>C003</td>\n      <td>Cc1cc(Br)c(C)cc1Br</td>\n      <td>7809efa1-062f-4b61-a410-083cf01a29ad</td>\n      <td>ACQUIRED</td>\n      <td>8ac8aa07-c5cd-4334-9c63-983b5a4a50d1</td>\n    </tr>\n    <tr>\n      <th>206</th>\n      <td>A001B020C005</td>\n      <td>CC1(C)c2cc(-c3c(F)cccc3-c3ccc(-n4c5ccccc5c5ccc...</td>\n      <td>{}</td>\n      <td>A001</td>\n      <td>CC1(C)OB(c2ccc(-n3c4ccccc4c4ccccc43)cc2)OC1(C)C</td>\n      <td>B020</td>\n      <td>C[N+]12CC(=O)O[B-]1(c1c(F)cccc1Br)OC(=O)C2</td>\n      <td>C005</td>\n      <td>CC1(C)c2cc(Br)ccc2-c2ccc(Br)cc21</td>\n      <td>1d211a94-d351-47e0-b976-87aadb957eb6</td>\n      <td>ACQUIRED</td>\n      <td>f02fc641-b6fc-4e17-bf8d-7a4a405b9035</td>\n    </tr>\n    <tr>\n      <th>207</th>\n      <td>A001B020C003</td>\n      <td>Cc1cc(-c2c(F)cccc2-c2ccc(-n3c4ccccc4c4ccccc43)...</td>\n      <td>{}</td>\n      <td>A001</td>\n      <td>CC1(C)OB(c2ccc(-n3c4ccccc4c4ccccc43)cc2)OC1(C)C</td>\n      <td>B020</td>\n      <td>C[N+]12CC(=O)O[B-]1(c1c(F)cccc1Br)OC(=O)C2</td>\n      <td>C003</td>\n      <td>Cc1cc(Br)c(C)cc1Br</td>\n      <td>048f2bd1-8c80-4069-86b6-26311ae4f1ca</td>\n      <td>ACQUIRED</td>\n      <td>d19b4245-7ed6-4d41-8bb9-eaa29a3e5e3e</td>\n    </tr>\n    <tr>\n      <th>225</th>\n      <td>A015B028C158</td>\n      <td>COC(=O)c1cc(-c2cc(-c3ccc(N(C)C)c4ccccc34)no2)o...</td>\n      <td>{}</td>\n      <td>A015</td>\n      <td>CN(C)c1ccc(B2OC(C)(C)C(C)(C)O2)c2ccccc12</td>\n      <td>B028</td>\n      <td>C[N+]12CC(=O)O[B-]1(c1cc(Br)no1)OC(=O)C2</td>\n      <td>C158</td>\n      <td>COC(=O)c1cc(Br)oc1Br</td>\n      <td>becaa60f-c923-4ac0-a4e3-0c31e333a12a</td>\n      <td>ACQUIRED</td>\n      <td>bbec210f-bf95-4f0c-8cb6-323d88c1c52d</td>\n    </tr>\n  </tbody>\n</table>\n</div>"
     },
     "execution_count": 6,
     "metadata": {},
     "output_type": "execute_result"
    }
   ],
   "source": [
    "# get the sub dataframe of all molecules that are either SHIPPED OR IN PROCESSING\n",
    "# these will be constrained in the Gryffin acquisition\n",
    "df_proc = previous_syntheses[previous_syntheses['synthesis.status'].isin([\"ACQUIRED\", \"PROCESSING\", \"SYNTHESIZED\", \"SHIPPED\", \"RECEIVED\"])]\n",
    "print('NUM IN PROGRESS : ', df_proc.shape[0])\n",
    "\n",
    "# get all the entries for which the status is DONE\n",
    "df_done = previous_syntheses[previous_syntheses['synthesis.status'].isin(['DONE', 'FAILED'])]\n",
    "print('NUM FINISHED : ', df_done.shape[0])\n",
    "\n",
    "print(f'PERCENT DONE {(df_done.shape[0] / (33*30*165) *100):.3f}')  # TODO: Make space calculaiton automatic from DB?\n",
    "\n",
    "df_proc"
   ]
  },
  {
   "cell_type": "code",
   "execution_count": 7,
   "id": "87857491",
   "metadata": {
    "pycharm": {
     "name": "#%%\n"
    }
   },
   "outputs": [],
   "source": [
    "# get the fragment details for the fragments\n",
    "\n",
    "def make_gryffin_observations(df_done):\n",
    "    \"\"\"\n",
    "    prepare typical list of dictionary-style observations for Gryffin. This function\n",
    "    considers all failed experiments as nan-valued objectives. We do not consider the cause\n",
    "    for failure here (future improvement). This function is quite slow with all the calls to \n",
    "    the db about the fragments - make more efficient\n",
    "    \"\"\"\n",
    "    # prepare observation list for Gryffin\n",
    "    observations = []\n",
    "\n",
    "    for _, row in df_done.iterrows():\n",
    "        row = row.to_dict()\n",
    "\n",
    "        if row[\"synthesis.status\"]=='DONE':\n",
    "            try:\n",
    "                gain_cross_section = row[\"product.optical_properties\"][\"gain_cross_section\"]\n",
    "            except KeyError:\n",
    "                print(f\"Target property could not be found for {row['hid']}\")\n",
    "\n",
    "        elif row['synthesis.status']=='FAILED':\n",
    "            # failed experiment, pass value to gryffin with nan objective value\n",
    "            gain_cross_section = np.nan\n",
    "\n",
    "        else:\n",
    "            raise NotImplementedError\n",
    "\n",
    "        observations.append(\n",
    "            {\n",
    "                'fragment': row[\"fragment_a.hid\"],\n",
    "                'fragment_b': row[\"fragment_b.hid\"],\n",
    "                'fragment_c': row[\"fragment_c.hid\"],\n",
    "                'obj': gain_cross_section\n",
    "            }\n",
    "        )\n",
    "        \n",
    "    return observations\n",
    "\n",
    "def known_constraints(param):\n",
    "    '''\n",
    "    known constraint that the suggested molecule must not be either shipping or\n",
    "    in progress. Avoids redundant suggestions\n",
    "    '''\n",
    "    # check if the param is within the known molecules\n",
    "    query_hid = ''.join([param['fragment_a'], param['fragment_b'], param['fragment_c']])\n",
    "    crit1 = query_hid not in proc_hids\n",
    "    \n",
    "    # check to see if the sample can be made in at least one single location\n",
    "    crit2 = False\n",
    "    # TODO: this in only for the first batch, constrain to Toronto ONLY!\n",
    "    for lab_frags in [toronto_frags, uiuc_frags]:\n",
    "        if (\n",
    "            (param['fragment_a'] in lab_frags['fragment_a']) & (param['fragment_b'] in lab_frags['fragment_b']) & (param['fragment_c'] in lab_frags['fragment_c'])):\n",
    "            crit2=True\n",
    "            \n",
    "    return crit1 & crit2\n"
   ]
  },
  {
   "cell_type": "code",
   "execution_count": 8,
   "id": "58c31a09",
   "metadata": {
    "pycharm": {
     "name": "#%%\n"
    }
   },
   "outputs": [
    {
     "data": {
      "text/plain": "[None,\n None,\n None,\n None,\n 'A001B012C005',\n 'A015B001C028',\n 'A012B003C158',\n 'A015B002C031',\n 'A016B004C074',\n 'A012B001C003',\n 'A001B020C005',\n 'A001B020C003',\n 'A015B028C158']"
     },
     "execution_count": 8,
     "metadata": {},
     "output_type": "execute_result"
    }
   ],
   "source": [
    "\n",
    "# get hids of molecules in process\n",
    "proc_hids = df_proc[\"product.hid\"].tolist()\n",
    "proc_hids"
   ]
  },
  {
   "cell_type": "code",
   "execution_count": 9,
   "id": "de320377",
   "metadata": {
    "pycharm": {
     "name": "#%%\n"
    }
   },
   "outputs": [
    {
     "data": {
      "text/plain": "[{'frag_a': 'A001', 'frag_b': 'B003', 'frag_c': 'C001', 'obj': 1.869e-16},\n {'frag_a': 'A001', 'frag_b': 'B003', 'frag_c': 'C002', 'obj': 1.968e-16},\n {'frag_a': 'A001', 'frag_b': 'B003', 'frag_c': 'C003', 'obj': 2.309e-16},\n {'frag_a': 'A001', 'frag_b': 'B003', 'frag_c': 'C004', 'obj': 6.72e-17},\n {'frag_a': 'A001',\n  'frag_b': 'B003',\n  'frag_c': 'C005',\n  'obj': 2.6859999999999997e-16},\n {'frag_a': 'A001', 'frag_b': 'B003', 'frag_c': 'C006', 'obj': 1.19e-17},\n {'frag_a': 'A001', 'frag_b': 'B003', 'frag_c': 'C008', 'obj': 1.89e-17},\n {'frag_a': 'A001', 'frag_b': 'B003', 'frag_c': 'C011', 'obj': 2.442e-16},\n {'frag_a': 'A001', 'frag_b': 'B003', 'frag_c': 'C015', 'obj': 2.63e-17},\n {'frag_a': 'A001', 'frag_b': 'B003', 'frag_c': 'C017', 'obj': 1.212e-16},\n {'frag_a': 'A001', 'frag_b': 'B003', 'frag_c': 'C018', 'obj': 1.649e-16},\n {'frag_a': 'A001',\n  'frag_b': 'B003',\n  'frag_c': 'C019',\n  'obj': 9.330000000000001e-17},\n {'frag_a': 'A001', 'frag_b': 'B003', 'frag_c': 'C021', 'obj': 1.421e-16},\n {'frag_a': 'A001',\n  'frag_b': 'B003',\n  'frag_c': 'C024',\n  'obj': 9.619999999999999e-17},\n {'frag_a': 'A001', 'frag_b': 'B003', 'frag_c': 'C028', 'obj': 1.462e-16},\n {'frag_a': 'A001',\n  'frag_b': 'B003',\n  'frag_c': 'C030',\n  'obj': 1.2490000000000002e-16},\n {'frag_a': 'A001', 'frag_b': 'B003', 'frag_c': 'C033', 'obj': 1.5e-18},\n {'frag_a': 'A001', 'frag_b': 'B003', 'frag_c': 'C032', 'obj': 1.177e-16},\n {'frag_a': 'A001', 'frag_b': 'B003', 'frag_c': 'C034', 'obj': 2.13e-17},\n {'frag_a': 'A001',\n  'frag_b': 'B003',\n  'frag_c': 'C037',\n  'obj': 5.739999999999999e-17},\n {'frag_a': 'A001', 'frag_b': 'B003', 'frag_c': 'C039', 'obj': 6.89e-17},\n {'frag_a': 'A001', 'frag_b': 'B003', 'frag_c': 'C040', 'obj': 6.57e-17},\n {'frag_a': 'A001',\n  'frag_b': 'B024',\n  'frag_c': 'C001',\n  'obj': 1.8870226199561358e-16},\n {'frag_a': 'A001',\n  'frag_b': 'B024',\n  'frag_c': 'C004',\n  'obj': 9.538077329332945e-17},\n {'frag_a': 'A001',\n  'frag_b': 'B001',\n  'frag_c': 'C002',\n  'obj': 2.839195275716423e-16},\n {'frag_a': 'A001', 'frag_b': 'B024', 'frag_c': 'C042', 'obj': nan},\n {'frag_a': 'A001', 'frag_b': 'B003', 'frag_c': 'C007', 'obj': 2.669e-16},\n {'frag_a': 'A001', 'frag_b': 'B003', 'frag_c': 'C010', 'obj': 1.925e-16},\n {'frag_a': 'A001',\n  'frag_b': 'B003',\n  'frag_c': 'C012',\n  'obj': 1.0249999999999999e-16},\n {'frag_a': 'A001', 'frag_b': 'B003', 'frag_c': 'C013', 'obj': 6.35e-17},\n {'frag_a': 'A001', 'frag_b': 'B003', 'frag_c': 'C020', 'obj': 2.021e-16},\n {'frag_a': 'A001',\n  'frag_b': 'B003',\n  'frag_c': 'C022',\n  'obj': 1.0949999999999999e-16},\n {'frag_a': 'A001',\n  'frag_b': 'B003',\n  'frag_c': 'C023',\n  'obj': 1.0429999999999999e-16},\n {'frag_a': 'A001', 'frag_b': 'B003', 'frag_c': 'C027', 'obj': 1.159e-16},\n {'frag_a': 'A001', 'frag_b': 'B003', 'frag_c': 'C029', 'obj': 2.108e-16},\n {'frag_a': 'A001', 'frag_b': 'B003', 'frag_c': 'C035', 'obj': 2.98e-17},\n {'frag_a': 'A001',\n  'frag_b': 'B024',\n  'frag_c': 'C002',\n  'obj': 7.799349032872396e-17},\n {'frag_a': 'A001',\n  'frag_b': 'B024',\n  'frag_c': 'C003',\n  'obj': 1.1411368497993406e-16},\n {'frag_a': 'A001',\n  'frag_b': 'B001',\n  'frag_c': 'C001',\n  'obj': 1.6663578688743284e-16},\n {'frag_a': 'A001',\n  'frag_b': 'B001',\n  'frag_c': 'C003',\n  'obj': 3.1948201629442367e-16},\n {'frag_a': 'A001',\n  'frag_b': 'B001',\n  'frag_c': 'C004',\n  'obj': 4.7901330144404335e-17},\n {'frag_a': 'A001',\n  'frag_b': 'B024',\n  'frag_c': 'C005',\n  'obj': 3.135808244483309e-16},\n {'frag_a': 'A001',\n  'frag_b': 'B024',\n  'frag_c': 'C006',\n  'obj': 1.689465788881972e-16},\n {'frag_a': 'A001',\n  'frag_b': 'B024',\n  'frag_c': 'C008',\n  'obj': 3.0358494982642504e-17},\n {'frag_a': 'A001',\n  'frag_b': 'B024',\n  'frag_c': 'C010',\n  'obj': 8.019337116721302e-17},\n {'frag_a': 'A001',\n  'frag_b': 'B001',\n  'frag_c': 'C007',\n  'obj': 1.833494300540071e-16},\n {'frag_a': 'A001',\n  'frag_b': 'B024',\n  'frag_c': 'C007',\n  'obj': 1.764808735613602e-16},\n {'frag_a': 'A001',\n  'frag_b': 'B024',\n  'frag_c': 'C009',\n  'obj': 8.782873926807519e-17},\n {'frag_a': 'A001', 'frag_b': 'B001', 'frag_c': 'C005', 'obj': nan},\n {'frag_a': 'A001',\n  'frag_b': 'B001',\n  'frag_c': 'C006',\n  'obj': 1.5796210254473297e-17},\n {'frag_a': 'A001',\n  'frag_b': 'B001',\n  'frag_c': 'C008',\n  'obj': 2.564931620759565e-17},\n {'frag_a': 'A001',\n  'frag_b': 'B001',\n  'frag_c': 'C009',\n  'obj': 2.783403255397691e-17},\n {'frag_a': 'A001',\n  'frag_b': 'B001',\n  'frag_c': 'C010',\n  'obj': 1.4350151858010136e-16},\n {'frag_a': 'A001', 'frag_b': 'B024', 'frag_c': 'C012', 'obj': nan},\n {'frag_a': 'A001',\n  'frag_b': 'B024',\n  'frag_c': 'C020',\n  'obj': 2.1126617779616634e-16},\n {'frag_a': 'A001',\n  'frag_b': 'B001',\n  'frag_c': 'C013',\n  'obj': 5.4898487710362706e-17},\n {'frag_a': 'A001',\n  'frag_b': 'B024',\n  'frag_c': 'C014',\n  'obj': 8.27039807268337e-17},\n {'frag_a': 'A001',\n  'frag_b': 'B024',\n  'frag_c': 'C016',\n  'obj': 5.020111342447057e-18},\n {'frag_a': 'A001',\n  'frag_b': 'B024',\n  'frag_c': 'C017',\n  'obj': 3.389972606091482e-17},\n {'frag_a': 'A001',\n  'frag_b': 'B024',\n  'frag_c': 'C015',\n  'obj': 6.101046643898326e-17},\n {'frag_a': 'A001', 'frag_b': 'B024', 'frag_c': 'C013', 'obj': nan},\n {'frag_a': 'A001',\n  'frag_b': 'B001',\n  'frag_c': 'C012',\n  'obj': 1.0391874034650129e-16},\n {'frag_a': 'A017', 'frag_b': 'B012', 'frag_c': 'C014', 'obj': nan},\n {'frag_a': 'A012',\n  'frag_b': 'B006',\n  'frag_c': 'C017',\n  'obj': 7.830060269642066e-17},\n {'frag_a': 'A012',\n  'frag_b': 'B025',\n  'frag_c': 'C007',\n  'obj': 6.0148947648980065e-18},\n {'frag_a': 'A014',\n  'frag_b': 'B021',\n  'frag_c': 'C026',\n  'obj': 4.3830299289320585e-18},\n {'frag_a': 'A014', 'frag_b': 'B017', 'frag_c': 'C027', 'obj': nan},\n {'frag_a': 'A001',\n  'frag_b': 'B001',\n  'frag_c': 'C015',\n  'obj': 9.826850946704687e-17},\n {'frag_a': 'A001',\n  'frag_b': 'B001',\n  'frag_c': 'C016',\n  'obj': 1.545974068292758e-17},\n {'frag_a': 'A015', 'frag_b': 'B016', 'frag_c': 'C020', 'obj': nan},\n {'frag_a': 'A017', 'frag_b': 'B016', 'frag_c': 'C034', 'obj': nan},\n {'frag_a': 'A001',\n  'frag_b': 'B024',\n  'frag_c': 'C018',\n  'obj': 1.2738719012641579e-17},\n {'frag_a': 'A004', 'frag_b': 'B026', 'frag_c': 'C013', 'obj': nan},\n {'frag_a': 'A016', 'frag_b': 'B011', 'frag_c': 'C032', 'obj': nan},\n {'frag_a': 'A001',\n  'frag_b': 'B001',\n  'frag_c': 'C017',\n  'obj': 6.08174462298923e-18},\n {'frag_a': 'A016', 'frag_b': 'B016', 'frag_c': 'C030', 'obj': nan},\n {'frag_a': 'A014', 'frag_b': 'B017', 'frag_c': 'C004', 'obj': nan},\n {'frag_a': 'A014', 'frag_b': 'B021', 'frag_c': 'C014', 'obj': nan},\n {'frag_a': 'A001',\n  'frag_b': 'B024',\n  'frag_c': 'C019',\n  'obj': 2.273971941204006e-17},\n {'frag_a': 'A014',\n  'frag_b': 'B014',\n  'frag_c': 'C027',\n  'obj': 3.694213515548072e-17},\n {'frag_a': 'A014', 'frag_b': 'B013', 'frag_c': 'C017', 'obj': nan},\n {'frag_a': 'A015',\n  'frag_b': 'B026',\n  'frag_c': 'C039',\n  'obj': 3.78925555720498e-18},\n {'frag_a': 'A017',\n  'frag_b': 'B024',\n  'frag_c': 'C027',\n  'obj': 1.0246242686484186e-16},\n {'frag_a': 'A014',\n  'frag_b': 'B024',\n  'frag_c': 'C034',\n  'obj': 5.261111543826998e-18},\n {'frag_a': 'A001',\n  'frag_b': 'B024',\n  'frag_c': 'C021',\n  'obj': 5.774149693561629e-17},\n {'frag_a': 'A014', 'frag_b': 'B014', 'frag_c': 'C022', 'obj': nan},\n {'frag_a': 'A014',\n  'frag_b': 'B025',\n  'frag_c': 'C027',\n  'obj': 3.7577682225114775e-18},\n {'frag_a': 'A012',\n  'frag_b': 'B014',\n  'frag_c': 'C007',\n  'obj': 1.18646011743689e-16},\n {'frag_a': 'A002',\n  'frag_b': 'B021',\n  'frag_c': 'C039',\n  'obj': 4.237611907237047e-17},\n {'frag_a': 'A010', 'frag_b': 'B026', 'frag_c': 'C032', 'obj': nan},\n {'frag_a': 'A002', 'frag_b': 'B021', 'frag_c': 'C004', 'obj': nan},\n {'frag_a': 'A016', 'frag_b': 'B022', 'frag_c': 'C043', 'obj': nan},\n {'frag_a': 'A014', 'frag_b': 'B016', 'frag_c': 'C042', 'obj': nan},\n {'frag_a': 'A010', 'frag_b': 'B011', 'frag_c': 'C004', 'obj': nan},\n {'frag_a': 'A014', 'frag_b': 'B017', 'frag_c': 'C026', 'obj': nan},\n {'frag_a': 'A017', 'frag_b': 'B017', 'frag_c': 'C027', 'obj': nan},\n {'frag_a': 'A002',\n  'frag_b': 'B026',\n  'frag_c': 'C013',\n  'obj': 8.359460322246241e-17},\n {'frag_a': 'A014', 'frag_b': 'B016', 'frag_c': 'C011', 'obj': nan},\n {'frag_a': 'A002', 'frag_b': 'B011', 'frag_c': 'C039', 'obj': nan},\n {'frag_a': 'A014',\n  'frag_b': 'B012',\n  'frag_c': 'C004',\n  'obj': 4.651911176165383e-17},\n {'frag_a': 'A016',\n  'frag_b': 'B024',\n  'frag_c': 'C032',\n  'obj': 6.738964119838765e-18},\n {'frag_a': 'A014',\n  'frag_b': 'B006',\n  'frag_c': 'C005',\n  'obj': 6.679155177965171e-17},\n {'frag_a': 'A016', 'frag_b': 'B026', 'frag_c': 'C017', 'obj': nan},\n {'frag_a': 'A017',\n  'frag_b': 'B024',\n  'frag_c': 'C034',\n  'obj': 1.4131711981022327e-17},\n {'frag_a': 'A015', 'frag_b': 'B010', 'frag_c': 'C014', 'obj': nan},\n {'frag_a': 'A014', 'frag_b': 'B013', 'frag_c': 'C005', 'obj': nan},\n {'frag_a': 'A014', 'frag_b': 'B024', 'frag_c': 'C007', 'obj': nan},\n {'frag_a': 'A014',\n  'frag_b': 'B006',\n  'frag_c': 'C014',\n  'obj': 6.525903364971338e-18},\n {'frag_a': 'A017', 'frag_b': 'B024', 'frag_c': 'C023', 'obj': nan},\n {'frag_a': 'A014', 'frag_b': 'B002', 'frag_c': 'C013', 'obj': nan},\n {'frag_a': 'A016', 'frag_b': 'B005', 'frag_c': 'C032', 'obj': nan},\n {'frag_a': 'A007', 'frag_b': 'B026', 'frag_c': 'C032', 'obj': nan},\n {'frag_a': 'A017',\n  'frag_b': 'B024',\n  'frag_c': 'C022',\n  'obj': 1.3451843195023162e-17},\n {'frag_a': 'A011', 'frag_b': 'B007', 'frag_c': 'C027', 'obj': nan},\n {'frag_a': 'A017',\n  'frag_b': 'B007',\n  'frag_c': 'C015',\n  'obj': 9.206727195235754e-18},\n {'frag_a': 'A014',\n  'frag_b': 'B006',\n  'frag_c': 'C013',\n  'obj': 7.923815265915032e-18},\n {'frag_a': 'A002', 'frag_b': 'B007', 'frag_c': 'C025', 'obj': nan},\n {'frag_a': 'A032', 'frag_b': 'B016', 'frag_c': 'C025', 'obj': nan},\n {'frag_a': 'A002', 'frag_b': 'B016', 'frag_c': 'C025', 'obj': nan},\n {'frag_a': 'A015',\n  'frag_b': 'B023',\n  'frag_c': 'C036',\n  'obj': 1.754540316783665e-17},\n {'frag_a': 'A015', 'frag_b': 'B020', 'frag_c': 'C036', 'obj': nan},\n {'frag_a': 'A012',\n  'frag_b': 'B011',\n  'frag_c': 'C011',\n  'obj': 6.40921915834097e-17},\n {'frag_a': 'A015',\n  'frag_b': 'B002',\n  'frag_c': 'C041',\n  'obj': 5.730015594568486e-19},\n {'frag_a': 'A012',\n  'frag_b': 'B007',\n  'frag_c': 'C001',\n  'obj': 9.244598780085763e-17},\n {'frag_a': 'A012',\n  'frag_b': 'B009',\n  'frag_c': 'C010',\n  'obj': 6.846003907017119e-17},\n {'frag_a': 'A001', 'frag_b': 'B006', 'frag_c': 'C014', 'obj': nan},\n {'frag_a': 'A001', 'frag_b': 'B023', 'frag_c': 'C042', 'obj': nan},\n {'frag_a': 'A011',\n  'frag_b': 'B006',\n  'frag_c': 'C007',\n  'obj': 7.731345439360771e-17},\n {'frag_a': 'A016', 'frag_b': 'B011', 'frag_c': 'C017', 'obj': nan},\n {'frag_a': 'A015',\n  'frag_b': 'B001',\n  'frag_c': 'C014',\n  'obj': 2.523547276948713e-17},\n {'frag_a': 'A012',\n  'frag_b': 'B016',\n  'frag_c': 'C025',\n  'obj': 1.00314069049024e-16},\n {'frag_a': 'A017',\n  'frag_b': 'B012',\n  'frag_c': 'C026',\n  'obj': 4.950532097586806e-18},\n {'frag_a': 'A010',\n  'frag_b': 'B010',\n  'frag_c': 'C020',\n  'obj': 1.0083667809612752e-17},\n {'frag_a': 'A016', 'frag_b': 'B021', 'frag_c': 'C006', 'obj': nan},\n {'frag_a': 'A010', 'frag_b': 'B015', 'frag_c': 'C058', 'obj': nan},\n {'frag_a': 'A001', 'frag_b': 'B001', 'frag_c': 'C026', 'obj': nan},\n {'frag_a': 'A001', 'frag_b': 'B001', 'frag_c': 'C043', 'obj': nan},\n {'frag_a': 'A014',\n  'frag_b': 'B008',\n  'frag_c': 'C022',\n  'obj': 6.112709672620424e-18},\n {'frag_a': 'A011',\n  'frag_b': 'B022',\n  'frag_c': 'C043',\n  'obj': 2.9033219264089226e-17},\n {'frag_a': 'A032',\n  'frag_b': 'B022',\n  'frag_c': 'C034',\n  'obj': 3.303392062973488e-17},\n {'frag_a': 'A001',\n  'frag_b': 'B024',\n  'frag_c': 'C026',\n  'obj': 5.533548486096295e-17},\n {'frag_a': 'A001',\n  'frag_b': 'B024',\n  'frag_c': 'C023',\n  'obj': 8.889847034437943e-17},\n {'frag_a': 'A001',\n  'frag_b': 'B001',\n  'frag_c': 'C024',\n  'obj': 1.4220443754121085e-16},\n {'frag_a': 'A002',\n  'frag_b': 'B026',\n  'frag_c': 'C035',\n  'obj': 4.201224852544019e-17},\n {'frag_a': 'A011',\n  'frag_b': 'B016',\n  'frag_c': 'C025',\n  'obj': 1.0106786073004218e-16},\n {'frag_a': 'A001',\n  'frag_b': 'B018',\n  'frag_c': 'C032',\n  'obj': 5.693911247335016e-17},\n {'frag_a': 'A017',\n  'frag_b': 'B002',\n  'frag_c': 'C032',\n  'obj': 1.0966663481608477e-17},\n {'frag_a': 'A012',\n  'frag_b': 'B002',\n  'frag_c': 'C041',\n  'obj': 2.921517766345191e-17},\n {'frag_a': 'A001',\n  'frag_b': 'B007',\n  'frag_c': 'C006',\n  'obj': 9.004995950322481e-18},\n {'frag_a': 'A011',\n  'frag_b': 'B016',\n  'frag_c': 'C036',\n  'obj': 8.765202846540386e-17},\n {'frag_a': 'A017',\n  'frag_b': 'B018',\n  'frag_c': 'C023',\n  'obj': 1.5526620557867162e-17},\n {'frag_a': 'A016',\n  'frag_b': 'B019',\n  'frag_c': 'C058',\n  'obj': 8.19820155674067e-17},\n {'frag_a': 'A015',\n  'frag_b': 'B008',\n  'frag_c': 'C036',\n  'obj': 4.6124037317905746e-18},\n {'frag_a': 'A002', 'frag_b': 'B004', 'frag_c': 'C042', 'obj': nan},\n {'frag_a': 'A011', 'frag_b': 'B001', 'frag_c': 'C043', 'obj': nan},\n {'frag_a': 'A001',\n  'frag_b': 'B001',\n  'frag_c': 'C028',\n  'obj': 1.4483124197741937e-16},\n {'frag_a': 'A017',\n  'frag_b': 'B025',\n  'frag_c': 'C032',\n  'obj': 1.2990177468957796e-16},\n {'frag_a': 'A001', 'frag_b': 'B024', 'frag_c': 'C022', 'obj': nan},\n {'frag_a': 'A001',\n  'frag_b': 'B001',\n  'frag_c': 'C025',\n  'obj': 1.0523847768248343e-16},\n {'frag_a': 'A001', 'frag_b': 'B001', 'frag_c': 'C022', 'obj': nan},\n {'frag_a': 'A001',\n  'frag_b': 'B024',\n  'frag_c': 'C043',\n  'obj': 7.808046333127821e-17},\n {'frag_a': 'A001',\n  'frag_b': 'B024',\n  'frag_c': 'C024',\n  'obj': 6.468748207729169e-17},\n {'frag_a': 'A001',\n  'frag_b': 'B001',\n  'frag_c': 'C018',\n  'obj': 2.09633619724748e-16},\n {'frag_a': 'A001',\n  'frag_b': 'B001',\n  'frag_c': 'C019',\n  'obj': 8.236931948493235e-17},\n {'frag_a': 'A001',\n  'frag_b': 'B001',\n  'frag_c': 'C023',\n  'obj': 1.2548463592385985e-16},\n {'frag_a': 'A001',\n  'frag_b': 'B001',\n  'frag_c': 'C020',\n  'obj': 2.1298908476023633e-16},\n {'frag_a': 'A001',\n  'frag_b': 'B001',\n  'frag_c': 'C021',\n  'obj': 1.4618306676436623e-16},\n {'frag_a': 'A001',\n  'frag_b': 'B024',\n  'frag_c': 'C025',\n  'obj': 1.189922738375221e-16},\n {'frag_a': 'A001',\n  'frag_b': 'B024',\n  'frag_c': 'C028',\n  'obj': 1.281002844906603e-16},\n {'frag_a': 'A001', 'frag_b': 'B001', 'frag_c': 'C011', 'obj': nan},\n {'frag_a': 'A032', 'frag_b': 'B020', 'frag_c': 'C037', 'obj': nan},\n {'frag_a': 'A017', 'frag_b': 'B023', 'frag_c': 'C032', 'obj': nan},\n {'frag_a': 'A010', 'frag_b': 'B004', 'frag_c': 'C042', 'obj': nan},\n {'frag_a': 'A001',\n  'frag_b': 'B001',\n  'frag_c': 'C030',\n  'obj': 4.384016890595388e-17},\n {'frag_a': 'A014', 'frag_b': 'B002', 'frag_c': 'C017', 'obj': nan},\n {'frag_a': 'A014',\n  'frag_b': 'B020',\n  'frag_c': 'C027',\n  'obj': 1.0739333166057634e-17},\n {'frag_a': 'A001',\n  'frag_b': 'B013',\n  'frag_c': 'C018',\n  'obj': 3.967021469424605e-17},\n {'frag_a': 'A001',\n  'frag_b': 'B022',\n  'frag_c': 'C025',\n  'obj': 8.580904666671667e-17},\n {'frag_a': 'A001',\n  'frag_b': 'B001',\n  'frag_c': 'C042',\n  'obj': 1.5779875470119115e-16},\n {'frag_a': 'A015', 'frag_b': 'B022', 'frag_c': 'C010', 'obj': nan},\n {'frag_a': 'A011', 'frag_b': 'B008', 'frag_c': 'C020', 'obj': nan},\n {'frag_a': 'A016', 'frag_b': 'B017', 'frag_c': 'C043', 'obj': nan},\n {'frag_a': 'A016', 'frag_b': 'B018', 'frag_c': 'C017', 'obj': nan},\n {'frag_a': 'A016', 'frag_b': 'B026', 'frag_c': 'C016', 'obj': nan},\n {'frag_a': 'A001',\n  'frag_b': 'B001',\n  'frag_c': 'C044',\n  'obj': 1.5754107488570007e-16},\n {'frag_a': 'A017',\n  'frag_b': 'B013',\n  'frag_c': 'C005',\n  'obj': 1.5061609372299598e-17},\n {'frag_a': 'A001',\n  'frag_b': 'B001',\n  'frag_c': 'C014',\n  'obj': 3.0894372345716633e-17},\n {'frag_a': 'A014', 'frag_b': 'B017', 'frag_c': 'C031', 'obj': nan}]"
     },
     "execution_count": 9,
     "metadata": {},
     "output_type": "execute_result"
    }
   ],
   "source": [
    "# get gryffin observations\n",
    "observations = make_gryffin_observations(df_done)\n",
    "\n",
    "observations"
   ]
  },
  {
   "cell_type": "code",
   "execution_count": 10,
   "id": "6b861cd3",
   "metadata": {
    "pycharm": {
     "name": "#%%\n"
    }
   },
   "outputs": [],
   "source": [
    "# get all the unique frags in the previous observations to add onto the available \n",
    "# fragments (otherwise Gryffin will crash)\n",
    "a_prev_hids = list(set([o['fragment_a'] for o in observations]))\n",
    "b_prev_hids = list(set([o['fragment_b'] for o in observations]))\n",
    "c_prev_hids = list(set([o['fragment_c'] for o in observations]))"
   ]
  },
  {
   "cell_type": "code",
   "execution_count": 11,
   "id": "0e3bb1fb",
   "metadata": {
    "pycharm": {
     "name": "#%%\n"
    }
   },
   "outputs": [],
   "source": [
    "def get_lab_frags(lab):\n",
    "    ''' returns the set of available fragments for a specific laboratory\n",
    "    '''\n",
    "    a_hids = db.get_available_fragments(\"fragment_a\", lab)[\"molecule.hid\"].tolist()\n",
    "    b_hids = db.get_available_fragments(\"fragment_b\", lab)[\"molecule.hid\"].tolist()\n",
    "    c_hids = db.get_available_fragments(\"fragment_c\", lab)[\"molecule.hid\"].tolist()\n",
    "    \n",
    "    return {'fragment_a': a_hids, 'fragment_b': b_hids, 'fragment_c': c_hids}\n",
    "\n",
    "def get_frags():\n",
    "    ''' return all the unique molecules across all labs\n",
    "    '''\n",
    "    a_hids_all = []\n",
    "    b_hids_all = []\n",
    "    c_hids_all = []\n",
    "    \n",
    "    for lab in ['Toronto', 'Illinois']:\n",
    "        lab_frags = get_lab_frags(lab)\n",
    "        a_hids_all.extend(lab_frags['fragment_a'])\n",
    "        b_hids_all.extend(lab_frags['fragment_b'])\n",
    "        c_hids_all.extend(lab_frags['fragment_c'])\n",
    "    \n",
    "    a_hids_all = list(set(a_hids_all))\n",
    "    b_hids_all = list(set(b_hids_all))\n",
    "    c_hids_all = list(set(c_hids_all))\n",
    "    \n",
    "    return a_hids_all, b_hids_all, c_hids_all\n",
    "    "
   ]
  },
  {
   "cell_type": "code",
   "execution_count": 12,
   "id": "1150b009",
   "metadata": {
    "pycharm": {
     "name": "#%%\n"
    }
   },
   "outputs": [
    {
     "name": "stdout",
     "output_type": "stream",
     "text": [
      "NUM A FRAGS :  33\n",
      "NUM B FRAGS :  55\n",
      "NUM C FRAGS :  161\n",
      "NUM ACCESSIBLE MOLS :  292215\n"
     ]
    }
   ],
   "source": [
    "a_hids_all, b_hids_all, c_hids_all = get_frags()\n",
    "\n",
    "# add fragments from previous iterations\n",
    "a_hids_all = list(set(a_hids_all + a_prev_hids))\n",
    "b_hids_all = list(set(b_hids_all + b_prev_hids))\n",
    "c_hids_all = list(set(c_hids_all + c_prev_hids))\n",
    "\n",
    "print('NUM A FRAGS : ', len(a_hids_all))\n",
    "print('NUM B FRAGS : ', len(b_hids_all))\n",
    "print('NUM C FRAGS : ', len(c_hids_all))\n",
    "\n",
    "print('NUM ACCESSIBLE MOLS : ', len(a_hids_all)*len(b_hids_all)*len(c_hids_all))"
   ]
  },
  {
   "cell_type": "code",
   "execution_count": 15,
   "id": "45dc2711",
   "metadata": {
    "pycharm": {
     "name": "#%%\n"
    }
   },
   "outputs": [
    {
     "data": {
      "text/plain": "{'frag_a': ['A014',\n  'A015',\n  'A018',\n  'A021',\n  'A020',\n  'A002',\n  'A004',\n  'A003',\n  'A022',\n  'A023',\n  'A024',\n  'A029',\n  'A028',\n  'A027',\n  'A026',\n  'A032',\n  'A001',\n  'A008',\n  'A034',\n  'A035',\n  'A036',\n  'A038',\n  'A039',\n  'A040',\n  'A042'],\n 'frag_b': ['B033',\n  'B031',\n  'B043',\n  'B049',\n  'B051',\n  'B047',\n  'B057',\n  'B059',\n  'B038',\n  'B042',\n  'B054',\n  'B068',\n  'B036',\n  'B035',\n  'B032',\n  'B055',\n  'B037',\n  'B039',\n  'B044',\n  'B046',\n  'B048',\n  'B052',\n  'B058',\n  'B060',\n  'B062',\n  'B063'],\n 'frag_c': ['C002',\n  'C003',\n  'C004',\n  'C005',\n  'C006',\n  'C007',\n  'C001',\n  'C008',\n  'C009',\n  'C012',\n  'C013',\n  'C010',\n  'C011',\n  'C014',\n  'C015',\n  'C016',\n  'C017',\n  'C018',\n  'C019',\n  'C020',\n  'C021',\n  'C022',\n  'C023',\n  'C024',\n  'C025',\n  'C026',\n  'C028',\n  'C029',\n  'C030',\n  'C031',\n  'C032',\n  'C035',\n  'C036',\n  'C034',\n  'C037',\n  'C038',\n  'C039',\n  'C040',\n  'C041',\n  'C042',\n  'C043',\n  'C044',\n  'C047',\n  'C062',\n  'C064',\n  'C067',\n  'C072',\n  'C073',\n  'C074',\n  'C075',\n  'C076',\n  'C078',\n  'C079',\n  'C080',\n  'C082',\n  'C084',\n  'C087',\n  'C088',\n  'C089',\n  'C085',\n  'C086',\n  'C090',\n  'C091',\n  'C092',\n  'C094',\n  'C095',\n  'C096',\n  'C097',\n  'C098',\n  'C099',\n  'C100',\n  'C101',\n  'C102',\n  'C103',\n  'C104',\n  'C105',\n  'C111',\n  'C114',\n  'C115',\n  'C116',\n  'C117',\n  'C119',\n  'C120',\n  'C121',\n  'C122',\n  'C110',\n  'C107',\n  'C108',\n  'C109',\n  'C112',\n  'C123',\n  'C124',\n  'C125',\n  'C126',\n  'C128',\n  'C129',\n  'C131',\n  'C132',\n  'C133',\n  'C134',\n  'C135',\n  'C136',\n  'C137',\n  'C144',\n  'C145',\n  'C146',\n  'C150',\n  'C151',\n  'C152',\n  'C157',\n  'C148',\n  'C149',\n  'C153',\n  'C027',\n  'C046',\n  'C081',\n  'C106',\n  'C138',\n  'C139',\n  'C140',\n  'C141',\n  'C142',\n  'C143',\n  'C058',\n  'C147',\n  'C154',\n  'C158',\n  'C159',\n  'C161',\n  'C155',\n  'C160']}"
     },
     "execution_count": 15,
     "metadata": {},
     "output_type": "execute_result"
    }
   ],
   "source": [
    "# get toronto and UIUC available frags\n",
    "toronto_frags = get_lab_frags('Toronto')\n",
    "uiuc_frags = get_lab_frags('Illinois')"
   ]
  },
  {
   "cell_type": "markdown",
   "id": "96afbd85",
   "metadata": {
    "pycharm": {
     "name": "#%% md\n"
    }
   },
   "source": [
    "## Build Gryffin "
   ]
  },
  {
   "cell_type": "code",
   "execution_count": null,
   "id": "1476b963",
   "metadata": {
    "pycharm": {
     "name": "#%%\n"
    }
   },
   "outputs": [],
   "source": [
    "def get_descriptors(hid, descriptors):\n",
    "    ''' looks up and returns descriptors for a particular fragment\n",
    "    \n",
    "    Args:\n",
    "        hid (str): human readable identifier of the fragment\n",
    "        descriptors (pd.DataFrame): dataframe corresponding to the type of fragment\n",
    "    '''\n",
    "    return descriptors[descriptors.hid==hid].iloc[0, 1:].values.astype(np.float).tolist()\n",
    "\n",
    "def mol_hid_from_params(params):\n",
    "    mol_hids = []\n",
    "    for param in params:\n",
    "        mol_hids.append(''.join([param['fragment_a'], param['fragment_b'], param['fragment_c']]))\n",
    "    \n",
    "    return mol_hids\n",
    "        "
   ]
  },
  {
   "cell_type": "code",
   "execution_count": 16,
   "id": "f3e7785a",
   "metadata": {
    "pycharm": {
     "name": "#%%\n"
    }
   },
   "outputs": [
    {
     "name": "stdout",
     "output_type": "stream",
     "text": [
      "NUM DESC A  30\n",
      "NUM DESC B  30\n",
      "NUM DESC C  35\n"
     ]
    }
   ],
   "source": [
    "# load descriptors from disk\n",
    "pca_desc_a = pd.read_csv('descriptors/gen2_pca_desc_a.csv', index_col=None)\n",
    "pca_desc_b = pd.read_csv('descriptors/gen2_pca_desc_b.csv', index_col=None)\n",
    "pca_desc_c = pd.read_csv('descriptors/gen2_pca_desc_c.csv', index_col=None)\n",
    "print('NUM DESC A ', pca_desc_a.shape[1]-1)\n",
    "print('NUM DESC B ', pca_desc_b.shape[1]-1)\n",
    "print('NUM DESC C ', pca_desc_c.shape[1]-1)"
   ]
  },
  {
   "cell_type": "code",
   "execution_count": 17,
   "id": "4c5d87c2",
   "metadata": {
    "pycharm": {
     "name": "#%%\n"
    }
   },
   "outputs": [
    {
     "name": "stdout",
     "output_type": "stream",
     "text": [
      "NUM AVAIL FRAGS A :  33\n",
      "NUM AVAIL FRAGS B :  55\n",
      "NUM AVAIL FRAGS C :  161\n"
     ]
    }
   ],
   "source": [
    "# set the available fragments to make the Gryffin search space \n",
    "# TODO: change this to only those available\n",
    "avail_frags_a = a_hids_all\n",
    "avail_frags_b = b_hids_all\n",
    "avail_frags_c = c_hids_all\n",
    "print('NUM AVAIL FRAGS A : ', len(avail_frags_a))\n",
    "print('NUM AVAIL FRAGS B : ', len(avail_frags_b))\n",
    "print('NUM AVAIL FRAGS C : ', len(avail_frags_c))"
   ]
  },
  {
   "cell_type": "code",
   "execution_count": null,
   "id": "a402d1ba",
   "metadata": {
    "pycharm": {
     "name": "#%%\n"
    }
   },
   "outputs": [],
   "source": [
    "# Gryffin config\n",
    "\n",
    "#sampling_strategies = np.linspace(-1, 1, 40)\n",
    "sampling_strategies_1 = np.linspace(0.6, 1, 30)\n",
    "sampling_strategies_2 = np.linspace(-1, 0.5, 10)\n",
    "sampling_strategies = np.concatenate((sampling_strategies_1, sampling_strategies_2))\n",
    "#sampling_strategies = np.linspace(-1, 0.45, 20)\n",
    "\n",
    "# generate descriptors\n",
    "FRAG_A_DESC = {i: get_descriptors(i, pca_desc_a) for i in avail_frags_a}\n",
    "FRAG_B_DESC = {i: get_descriptors(i, pca_desc_b) for i in avail_frags_b}\n",
    "FRAG_C_DESC = {i: get_descriptors(i, pca_desc_c) for i in avail_frags_c}\n",
    "\n",
    "# FRAG_A_DESC = {i: None for i in avail_frags_a}\n",
    "# FRAG_B_DESC = {i: None for i in avail_frags_b}\n",
    "# FRAG_C_DESC = {i: None for i in avail_frags_c}\n",
    "\n",
    "# fwa = feasibility-weighted acquisition\n",
    "# fia = feasibility-interpolated acquisition\n",
    "# fca = feasibility-constrained acquisition --> use, param=0.2 ish works best on cat benchmarks\n",
    "\n",
    "config = {\n",
    "     \"general\": {\n",
    "             \"backend\": 'tensorflow',\n",
    "             \"num_cpus\": 4,\n",
    "             \"auto_desc_gen\": False, # dynamic Gryffin\n",
    "             \"batches\": 1,\n",
    "             \"sampling_strategies\": 1,\n",
    "             \"feas_approach\": 'fca',\n",
    "             \"feas_param\": 0.2,\n",
    "             \"boosted\":  True,\n",
    "             \"caching\": False,\n",
    "             \"random_seed\": 22031996,\n",
    "             \"acquisition_optimizer\": 'genetic',\n",
    "             \"verbosity\": 3\n",
    "                },\n",
    "    \"parameters\": [\n",
    "        {\"name\": \"fragment_a\", \"type\": \"categorical\", \"category_details\": FRAG_A_DESC },\n",
    "        {\"name\": \"fragment_b\", \"type\": \"categorical\", \"category_details\": FRAG_B_DESC },\n",
    "        {\"name\": \"fragment_c\", \"type\": \"categorical\", \"category_details\": FRAG_C_DESC },\n",
    "      \n",
    "    ],\n",
    "    \"objectives\": [\n",
    "        {\"name\": \"obj\", \"goal\": \"max\"},\n",
    "    ]\n",
    "}"
   ]
  },
  {
   "cell_type": "code",
   "execution_count": null,
   "id": "c4d0fd1d",
   "metadata": {
    "pycharm": {
     "name": "#%%\n"
    }
   },
   "outputs": [],
   "source": [
    "# instantiate gryffin\n",
    "gryffin = Gryffin(config_dict=config, known_constraints=known_constraints)"
   ]
  },
  {
   "cell_type": "code",
   "execution_count": null,
   "id": "dd066138",
   "metadata": {
    "pycharm": {
     "name": "#%%\n"
    },
    "scrolled": true
   },
   "outputs": [],
   "source": [
    "# recommend a batch of samples\n",
    "samples = []\n",
    "for ix, sampling_strat in enumerate(sampling_strategies):\n",
    "    \n",
    "    sample = gryffin.recommend(observations, sampling_strategies=[sampling_strat])\n",
    "    print(f'\\nSAMPLING STRATEGY : {sampling_strat} SAMPLE : {sample}\\n')\n",
    "    samples.extend(sample) \n",
    "    "
   ]
  },
  {
   "cell_type": "code",
   "execution_count": null,
   "id": "a9d5a594",
   "metadata": {
    "pycharm": {
     "name": "#%%\n"
    }
   },
   "outputs": [],
   "source": [
    "def check_duplicates(samples, observations):\n",
    "    ''' returns True if there are duplicates, False if there are none\n",
    "    '''\n",
    "    sample_hids = [''.join([s['fragment_a'],s['fragment_b'],s['fragment_c']]) for s in samples]\n",
    "    observ_hids = [''.join([o['fragment_a'],o['fragment_b'],o['fragment_c']]) for o in observations]\n",
    "    \n",
    "    # check duplicates over previous observations \n",
    "    is_obs_dup = any(s in observ_hids for s in sample_hids)\n",
    "    \n",
    "    # check duplicates within the batch\n",
    "    is_samp_dup = len(set(sample_hids))<len(sample_hids)\n",
    "    \n",
    "    return is_obs_dup, is_samp_dup"
   ]
  },
  {
   "cell_type": "code",
   "execution_count": null,
   "id": "ece03d6c",
   "metadata": {
    "pycharm": {
     "name": "#%%\n"
    }
   },
   "outputs": [],
   "source": [
    "check_duplicates(samples, observations)"
   ]
  },
  {
   "cell_type": "code",
   "execution_count": null,
   "id": "d017e982",
   "metadata": {
    "pycharm": {
     "name": "#%%\n"
    }
   },
   "outputs": [],
   "source": [
    "samples"
   ]
  },
  {
   "cell_type": "code",
   "execution_count": null,
   "id": "e5f1b511",
   "metadata": {
    "pycharm": {
     "name": "#%%\n"
    }
   },
   "outputs": [],
   "source": [
    "rxn_transmut = allchem.ReactionFromSmarts(\"[*:1][Br,I]>>[*:1][Po]\")\n",
    "rxn_b_c = allchem.ReactionFromSmarts(\n",
    "    \"[Br,I][*:1].C[N+]12CC(=O)O[B-]1([*:2])OC(=O)C2>>[*:1]-[*:2]\"\n",
    ")\n",
    "rxn_a_b_c = allchem.ReactionFromSmarts(\"CC1(C)OB([*:1])OC1(C)C.[*:2][Po]>>[*:1]-[*:2]\")\n",
    "rxn_a_b_c2 = allchem.ReactionFromSmarts(\"[*:1]B(O)O.[*:2][Po]>>[*:1]-[*:2]\")\n",
    "\n",
    "\n",
    "def assemble_fragments(hid_a, hid_b, hid_c):\n",
    "    smiles_a = db.get_fragment_details(hid_a, identifier_type='hid')['smiles']\n",
    "    smiles_b = db.get_fragment_details(hid_b, identifier_type='hid')['smiles']\n",
    "    smiles_c = db.get_fragment_details(hid_c, identifier_type='hid')['smiles']\n",
    "\n",
    "    a = chem.MolFromSmiles(smiles_a)\n",
    "    b = chem.MolFromSmiles(smiles_b)\n",
    "    c = chem.MolFromSmiles(smiles_c)\n",
    "    if a is None or b is None or c is None:\n",
    "        raise ValueError(\"Invalid SMILES\")\n",
    "\n",
    "    # Building the molecule... there is probably a better way\n",
    "    b_transmut = rxn_transmut.RunReactants([b])[0][0]\n",
    "    b_c = rxn_b_c.RunReactants([c, b_transmut])[0][0]\n",
    "    b_c_b = rxn_b_c.RunReactants([b_c, b_transmut])[0][0]\n",
    "    try:\n",
    "        a_b_c_b = rxn_a_b_c.RunReactants([a, b_c_b])[0][0]\n",
    "        a_b_c_b_a = rxn_a_b_c.RunReactants([a, a_b_c_b])[0][0]\n",
    "    except:\n",
    "        a_b_c_b = rxn_a_b_c2.RunReactants([a, b_c_b])[0][0]\n",
    "        a_b_c_b_a = rxn_a_b_c2.RunReactants([a, a_b_c_b])[0][0]\n",
    "    return chem.MolToSmiles(a_b_c_b_a)"
   ]
  },
  {
   "cell_type": "code",
   "execution_count": null,
   "id": "d087bea2",
   "metadata": {
    "pycharm": {
     "name": "#%%\n"
    }
   },
   "outputs": [],
   "source": [
    "molecule_smiles = []\n",
    "molecule_hids = []\n",
    "\n",
    "for sample in samples:\n",
    "    molecule_hids.append(''.join([sample['fragment_a'],sample['fragment_b'],sample['fragment_c']]))\n",
    "    molecule_smiles.append(assemble_fragments(sample['fragment_a'], sample['fragment_b'], sample['fragment_c']))\n",
    "    "
   ]
  },
  {
   "cell_type": "code",
   "execution_count": null,
   "id": "27556cbf",
   "metadata": {
    "pycharm": {
     "name": "#%%\n"
    }
   },
   "outputs": [],
   "source": [
    "molecule_mols = [chem.MolFromSmiles(s) for s in molecule_smiles]\n",
    "\n",
    "img = chem.Draw.MolsToGridImage(\n",
    "    molecule_mols, molsPerRow=5, subImgSize=(400,400), returnPNG=False, legends=molecule_hids,\n",
    ")\n",
    "img.save('round_3_samples_all.png')"
   ]
  },
  {
   "cell_type": "code",
   "execution_count": null,
   "metadata": {
    "collapsed": false,
    "pycharm": {
     "name": "#%%\n"
    }
   },
   "outputs": [],
   "source": [
    "with open('round_3_samples_all.txt', 'w') as f:\n",
    "    for smile, hid in zip(molecule_smiles, molecule_hids):\n",
    "        f.write(f'{smile}\\t{hid}\\n')\n"
   ]
  },
  {
   "cell_type": "markdown",
   "metadata": {
    "collapsed": false,
    "pycharm": {
     "name": "#%% md\n"
    }
   },
   "source": [
    "## Write the new target molecules/syntheses to the DB"
   ]
  },
  {
   "cell_type": "code",
   "execution_count": null,
   "metadata": {
    "collapsed": false,
    "pycharm": {
     "name": "#%%\n"
    }
   },
   "outputs": [],
   "source": [
    "for sample, smi in zip(samples, molecule_smiles):\n",
    "    print(f'>> Creating DB entry for sample {sample[\"fragment_a\"]} {sample[\"fragment_b\"]} {sample[\"fragment_c\"]}...')\n",
    "    db.create_target_compound(\n",
    "        fragments=[sample[\"fragment_a\"], sample[\"fragment_b\"], sample[\"fragment_c\"]],\n",
    "        smiles=smi\n",
    "    )"
   ]
  },
  {
   "cell_type": "code",
   "execution_count": null,
   "metadata": {
    "collapsed": false,
    "pycharm": {
     "name": "#%%\n"
    }
   },
   "outputs": [],
   "source": [
    "# db.get_fragment_details('A011', identifier_type='hid')"
   ]
  },
  {
   "cell_type": "code",
   "execution_count": null,
   "id": "0d5ac31d",
   "metadata": {
    "pycharm": {
     "name": "#%%\n"
    }
   },
   "outputs": [],
   "source": [
    "# db.client.query_database('synthesis', limit=1000)"
   ]
  },
  {
   "cell_type": "code",
   "execution_count": null,
   "id": "d0adc131",
   "metadata": {
    "pycharm": {
     "name": "#%%\n"
    }
   },
   "outputs": [],
   "source": [
    "# # load molecules from the first bacth\n",
    "# with open('first_batch_smiles_uoft_only.txt', 'r') as f:\n",
    "#     smiles_ = f.readlines()\n",
    "    "
   ]
  },
  {
   "cell_type": "code",
   "execution_count": null,
   "id": "4fa26279",
   "metadata": {
    "pycharm": {
     "name": "#%%\n"
    }
   },
   "outputs": [],
   "source": [
    "# smiles = []\n",
    "# hids = []\n",
    "# for line in smiles_:\n",
    "#\n",
    "#     split = line.split('\\t')\n",
    "#     smiles.append(split[0])\n",
    "#     hids.append(split[1].strip())"
   ]
  },
  {
   "cell_type": "code",
   "execution_count": null,
   "id": "39f2953a",
   "metadata": {
    "pycharm": {
     "name": "#%%\n"
    }
   },
   "outputs": [],
   "source": [
    "# mols = [chem.MolFromSmiles(s) for s in smiles]"
   ]
  },
  {
   "cell_type": "code",
   "execution_count": null,
   "id": "47cf4157",
   "metadata": {
    "pycharm": {
     "name": "#%%\n"
    }
   },
   "outputs": [],
   "source": [
    "# img = chem.Draw.MolsToGridImage(\n",
    "#     mols, molsPerRow=10, subImgSize=(400,400), returnPNG=False, legends=hids,\n",
    "# )\n",
    "# img.save('first_round_samples_uoft_only_landscape.png')"
   ]
  }
 ],
 "metadata": {
  "kernelspec": {
   "display_name": "Python 3.7.13 ('acdc_lasers')",
   "language": "python",
   "name": "python3"
  },
  "language_info": {
   "codemirror_mode": {
    "name": "ipython",
    "version": 3
   },
   "file_extension": ".py",
   "mimetype": "text/x-python",
   "name": "python",
   "nbconvert_exporter": "python",
   "pygments_lexer": "ipython3",
   "version": "3.7.13"
  },
  "vscode": {
   "interpreter": {
    "hash": "1282b83e0cb17e60c6533d53d9f5aa1cd7e7df4ed361b2ac837ce7830e0841c2"
   }
  }
 },
 "nbformat": 4,
 "nbformat_minor": 5
}