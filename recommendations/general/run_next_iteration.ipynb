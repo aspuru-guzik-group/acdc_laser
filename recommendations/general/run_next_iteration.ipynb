{
 "cells": [
  {
   "cell_type": "code",
   "execution_count": 1,
   "metadata": {
    "collapsed": true,
    "pycharm": {
     "name": "#%%\n"
    }
   },
   "outputs": [],
   "source": [
    "from typing import Union\n",
    "import numpy as np\n",
    "import pandas as pd\n",
    "\n",
    "from gryffin import Gryffin\n",
    "from LaserDataHandler import LaserDataHandler, run_two_step_suzuki"
   ]
  },
  {
   "cell_type": "markdown",
   "source": [
    "## Establish the Database Connection and Process all Previous Data\n",
    "\n",
    "- log in to the database through the LaserDataHandler\n",
    "- load all previous data\n",
    "- process all completed experiments and generate the observations for Gryffin"
   ],
   "metadata": {
    "collapsed": false,
    "pycharm": {
     "name": "#%% md\n"
    }
   }
  },
  {
   "cell_type": "code",
   "execution_count": 2,
   "outputs": [],
   "source": [
    "iteration = 3\n",
    "labs = (\"Toronto\", \"Illinois\")\n",
    "fragments = (\"fragment_a\", \"fragment_b\", \"fragment_c\")\n",
    "\n",
    "data_handler = LaserDataHandler(\n",
    "    db_name=\"madness_laser\",\n",
    "    fragments=fragments,\n",
    "    active_labs=labs\n",
    ")"
   ],
   "metadata": {
    "collapsed": false,
    "pycharm": {
     "name": "#%%\n"
    }
   }
  },
  {
   "cell_type": "code",
   "execution_count": 3,
   "outputs": [
    {
     "name": "stdout",
     "output_type": "stream",
     "text": [
      "Currently in Progress: 0\n",
      "Completed Experiments: 188\n"
     ]
    }
   ],
   "source": [
    "in_progress, completed = data_handler.load_previous_results()\n",
    "\n",
    "print(f\"Currently in Progress: {in_progress.shape[0]}\")\n",
    "print(f\"Completed Experiments: {completed.shape[0]}\")"
   ],
   "metadata": {
    "collapsed": false,
    "pycharm": {
     "name": "#%%\n"
    }
   }
  },
  {
   "cell_type": "code",
   "execution_count": 4,
   "outputs": [
    {
     "name": "stdout",
     "output_type": "stream",
     "text": [
      "188 Observations were created for Gryffin.\n",
      "Used Fragments: fragment_a (12), fragment_b (26), fragment_c (44)\n"
     ]
    }
   ],
   "source": [
    "observations, used_fragments = data_handler.process_previous_results(\n",
    "    previous_results=completed,\n",
    "    get_target_property=lambda x: x.get(\"product.optical_properties\").get(\"gain_cross_section\")\n",
    ")\n",
    "\n",
    "print(f\"{len(observations)} Observations were created for Gryffin.\")\n",
    "print(f\"Used Fragments:\", \", \".join([f\"{frag} ({len(used_fragments[frag])})\" for frag in used_fragments]))"
   ],
   "metadata": {
    "collapsed": false,
    "pycharm": {
     "name": "#%%\n"
    }
   }
  },
  {
   "cell_type": "markdown",
   "source": [
    "## Prepare the Fragment Space\n",
    "\n",
    "- load all available fragments to the LaserDataHandler\n",
    "- load all descriptors (currently from a file on the hard drive)"
   ],
   "metadata": {
    "collapsed": false,
    "pycharm": {
     "name": "#%% md\n"
    }
   }
  },
  {
   "cell_type": "code",
   "execution_count": 5,
   "outputs": [
    {
     "name": "stdout",
     "output_type": "stream",
     "text": [
      "Available Fragments: fragment_a (27), fragment_b (29), fragment_c (160)\n",
      "Total Fragments:     fragment_a (33), fragment_b (55), fragment_c (161)\n"
     ]
    }
   ],
   "source": [
    "available_fragments = data_handler.get_all_available_fragments()\n",
    "\n",
    "all_fragments = {frag: available_fragments[frag] | used_fragments[frag] for frag in fragments}\n",
    "\n",
    "print(\"Available Fragments:\", \", \".join([f\"{frag} ({len(available_fragments[frag])})\" for frag in fragments]))\n",
    "print(\"Total Fragments:    \", \", \".join([f\"{frag} ({len(all_fragments[frag])})\" for frag in fragments]))"
   ],
   "metadata": {
    "collapsed": false,
    "pycharm": {
     "name": "#%%\n"
    }
   }
  },
  {
   "cell_type": "code",
   "execution_count": 6,
   "outputs": [
    {
     "ename": "FileNotFoundError",
     "evalue": "[Errno 2] No such file or directory: 'descriptors/gen2_pca_desc_a.csv'",
     "output_type": "error",
     "traceback": [
      "\u001B[0;31m---------------------------------------------------------------------------\u001B[0m",
      "\u001B[0;31mFileNotFoundError\u001B[0m                         Traceback (most recent call last)",
      "Input \u001B[0;32mIn [6]\u001B[0m, in \u001B[0;36m<cell line: 2>\u001B[0;34m()\u001B[0m\n\u001B[1;32m      1\u001B[0m descriptors \u001B[38;5;241m=\u001B[39m {\n\u001B[0;32m----> 2\u001B[0m     \u001B[38;5;124m\"\u001B[39m\u001B[38;5;124mfragment_a\u001B[39m\u001B[38;5;124m\"\u001B[39m: \u001B[43mpd\u001B[49m\u001B[38;5;241;43m.\u001B[39;49m\u001B[43mread_csv\u001B[49m\u001B[43m(\u001B[49m\u001B[38;5;124;43m\"\u001B[39;49m\u001B[38;5;124;43mdescriptors/gen2_pca_desc_a.csv\u001B[39;49m\u001B[38;5;124;43m\"\u001B[39;49m\u001B[43m,\u001B[49m\u001B[43m \u001B[49m\u001B[43mindex_col\u001B[49m\u001B[38;5;241;43m=\u001B[39;49m\u001B[38;5;28;43;01mNone\u001B[39;49;00m\u001B[43m)\u001B[49m,\n\u001B[1;32m      3\u001B[0m     \u001B[38;5;124m\"\u001B[39m\u001B[38;5;124mfragment_b\u001B[39m\u001B[38;5;124m\"\u001B[39m: pd\u001B[38;5;241m.\u001B[39mread_csv(\u001B[38;5;124m\"\u001B[39m\u001B[38;5;124mdescriptors/gen2_pca_desc_b.csv\u001B[39m\u001B[38;5;124m\"\u001B[39m, index_col\u001B[38;5;241m=\u001B[39m\u001B[38;5;28;01mNone\u001B[39;00m),\n\u001B[1;32m      4\u001B[0m     \u001B[38;5;124m\"\u001B[39m\u001B[38;5;124mfragment_c\u001B[39m\u001B[38;5;124m\"\u001B[39m: pd\u001B[38;5;241m.\u001B[39mread_csv(\u001B[38;5;124m\"\u001B[39m\u001B[38;5;124mdescriptors/gen2_pca_desc_c.csv\u001B[39m\u001B[38;5;124m\"\u001B[39m, index_col\u001B[38;5;241m=\u001B[39m\u001B[38;5;28;01mNone\u001B[39;00m)\n\u001B[1;32m      5\u001B[0m }\n\u001B[1;32m      7\u001B[0m all_fragments_with_descriptors \u001B[38;5;241m=\u001B[39m {\n\u001B[1;32m      8\u001B[0m     frag_type: {\n\u001B[1;32m      9\u001B[0m         frag: descriptors[frag_type][descriptors[frag_type]\u001B[38;5;241m.\u001B[39mhid \u001B[38;5;241m==\u001B[39m frag]\u001B[38;5;241m.\u001B[39miloc[\u001B[38;5;241m0\u001B[39m, \u001B[38;5;241m1\u001B[39m:]\u001B[38;5;241m.\u001B[39mvalues\u001B[38;5;241m.\u001B[39mastype(np\u001B[38;5;241m.\u001B[39mfloat)\u001B[38;5;241m.\u001B[39mtolist()\n\u001B[0;32m   (...)\u001B[0m\n\u001B[1;32m     12\u001B[0m     \u001B[38;5;28;01mfor\u001B[39;00m frag_type \u001B[38;5;129;01min\u001B[39;00m fragments\n\u001B[1;32m     13\u001B[0m }\n\u001B[1;32m     15\u001B[0m \u001B[38;5;28mprint\u001B[39m(\u001B[38;5;124m\"\u001B[39m\u001B[38;5;124mLoaded Descriptors:\u001B[39m\u001B[38;5;124m\"\u001B[39m, \u001B[38;5;124m\"\u001B[39m\u001B[38;5;124m, \u001B[39m\u001B[38;5;124m\"\u001B[39m\u001B[38;5;241m.\u001B[39mjoin([\u001B[38;5;124mf\u001B[39m\u001B[38;5;124m\"\u001B[39m\u001B[38;5;132;01m{\u001B[39;00mfrag\u001B[38;5;132;01m}\u001B[39;00m\u001B[38;5;124m (\u001B[39m\u001B[38;5;132;01m{\u001B[39;00mdescriptors[frag]\u001B[38;5;241m.\u001B[39mshape[\u001B[38;5;241m1\u001B[39m]\u001B[38;5;241m-\u001B[39m\u001B[38;5;241m1\u001B[39m\u001B[38;5;132;01m}\u001B[39;00m\u001B[38;5;124m)\u001B[39m\u001B[38;5;124m\"\u001B[39m \u001B[38;5;28;01mfor\u001B[39;00m frag \u001B[38;5;129;01min\u001B[39;00m fragments]))\n",
      "File \u001B[0;32m/opt/homebrew/Caskroom/miniforge/base/envs/organizer/lib/python3.9/site-packages/pandas/util/_decorators.py:311\u001B[0m, in \u001B[0;36mdeprecate_nonkeyword_arguments.<locals>.decorate.<locals>.wrapper\u001B[0;34m(*args, **kwargs)\u001B[0m\n\u001B[1;32m    305\u001B[0m \u001B[38;5;28;01mif\u001B[39;00m \u001B[38;5;28mlen\u001B[39m(args) \u001B[38;5;241m>\u001B[39m num_allow_args:\n\u001B[1;32m    306\u001B[0m     warnings\u001B[38;5;241m.\u001B[39mwarn(\n\u001B[1;32m    307\u001B[0m         msg\u001B[38;5;241m.\u001B[39mformat(arguments\u001B[38;5;241m=\u001B[39marguments),\n\u001B[1;32m    308\u001B[0m         \u001B[38;5;167;01mFutureWarning\u001B[39;00m,\n\u001B[1;32m    309\u001B[0m         stacklevel\u001B[38;5;241m=\u001B[39mstacklevel,\n\u001B[1;32m    310\u001B[0m     )\n\u001B[0;32m--> 311\u001B[0m \u001B[38;5;28;01mreturn\u001B[39;00m \u001B[43mfunc\u001B[49m\u001B[43m(\u001B[49m\u001B[38;5;241;43m*\u001B[39;49m\u001B[43margs\u001B[49m\u001B[43m,\u001B[49m\u001B[43m \u001B[49m\u001B[38;5;241;43m*\u001B[39;49m\u001B[38;5;241;43m*\u001B[39;49m\u001B[43mkwargs\u001B[49m\u001B[43m)\u001B[49m\n",
      "File \u001B[0;32m/opt/homebrew/Caskroom/miniforge/base/envs/organizer/lib/python3.9/site-packages/pandas/io/parsers/readers.py:680\u001B[0m, in \u001B[0;36mread_csv\u001B[0;34m(filepath_or_buffer, sep, delimiter, header, names, index_col, usecols, squeeze, prefix, mangle_dupe_cols, dtype, engine, converters, true_values, false_values, skipinitialspace, skiprows, skipfooter, nrows, na_values, keep_default_na, na_filter, verbose, skip_blank_lines, parse_dates, infer_datetime_format, keep_date_col, date_parser, dayfirst, cache_dates, iterator, chunksize, compression, thousands, decimal, lineterminator, quotechar, quoting, doublequote, escapechar, comment, encoding, encoding_errors, dialect, error_bad_lines, warn_bad_lines, on_bad_lines, delim_whitespace, low_memory, memory_map, float_precision, storage_options)\u001B[0m\n\u001B[1;32m    665\u001B[0m kwds_defaults \u001B[38;5;241m=\u001B[39m _refine_defaults_read(\n\u001B[1;32m    666\u001B[0m     dialect,\n\u001B[1;32m    667\u001B[0m     delimiter,\n\u001B[0;32m   (...)\u001B[0m\n\u001B[1;32m    676\u001B[0m     defaults\u001B[38;5;241m=\u001B[39m{\u001B[38;5;124m\"\u001B[39m\u001B[38;5;124mdelimiter\u001B[39m\u001B[38;5;124m\"\u001B[39m: \u001B[38;5;124m\"\u001B[39m\u001B[38;5;124m,\u001B[39m\u001B[38;5;124m\"\u001B[39m},\n\u001B[1;32m    677\u001B[0m )\n\u001B[1;32m    678\u001B[0m kwds\u001B[38;5;241m.\u001B[39mupdate(kwds_defaults)\n\u001B[0;32m--> 680\u001B[0m \u001B[38;5;28;01mreturn\u001B[39;00m \u001B[43m_read\u001B[49m\u001B[43m(\u001B[49m\u001B[43mfilepath_or_buffer\u001B[49m\u001B[43m,\u001B[49m\u001B[43m \u001B[49m\u001B[43mkwds\u001B[49m\u001B[43m)\u001B[49m\n",
      "File \u001B[0;32m/opt/homebrew/Caskroom/miniforge/base/envs/organizer/lib/python3.9/site-packages/pandas/io/parsers/readers.py:575\u001B[0m, in \u001B[0;36m_read\u001B[0;34m(filepath_or_buffer, kwds)\u001B[0m\n\u001B[1;32m    572\u001B[0m _validate_names(kwds\u001B[38;5;241m.\u001B[39mget(\u001B[38;5;124m\"\u001B[39m\u001B[38;5;124mnames\u001B[39m\u001B[38;5;124m\"\u001B[39m, \u001B[38;5;28;01mNone\u001B[39;00m))\n\u001B[1;32m    574\u001B[0m \u001B[38;5;66;03m# Create the parser.\u001B[39;00m\n\u001B[0;32m--> 575\u001B[0m parser \u001B[38;5;241m=\u001B[39m \u001B[43mTextFileReader\u001B[49m\u001B[43m(\u001B[49m\u001B[43mfilepath_or_buffer\u001B[49m\u001B[43m,\u001B[49m\u001B[43m \u001B[49m\u001B[38;5;241;43m*\u001B[39;49m\u001B[38;5;241;43m*\u001B[39;49m\u001B[43mkwds\u001B[49m\u001B[43m)\u001B[49m\n\u001B[1;32m    577\u001B[0m \u001B[38;5;28;01mif\u001B[39;00m chunksize \u001B[38;5;129;01mor\u001B[39;00m iterator:\n\u001B[1;32m    578\u001B[0m     \u001B[38;5;28;01mreturn\u001B[39;00m parser\n",
      "File \u001B[0;32m/opt/homebrew/Caskroom/miniforge/base/envs/organizer/lib/python3.9/site-packages/pandas/io/parsers/readers.py:934\u001B[0m, in \u001B[0;36mTextFileReader.__init__\u001B[0;34m(self, f, engine, **kwds)\u001B[0m\n\u001B[1;32m    931\u001B[0m     \u001B[38;5;28mself\u001B[39m\u001B[38;5;241m.\u001B[39moptions[\u001B[38;5;124m\"\u001B[39m\u001B[38;5;124mhas_index_names\u001B[39m\u001B[38;5;124m\"\u001B[39m] \u001B[38;5;241m=\u001B[39m kwds[\u001B[38;5;124m\"\u001B[39m\u001B[38;5;124mhas_index_names\u001B[39m\u001B[38;5;124m\"\u001B[39m]\n\u001B[1;32m    933\u001B[0m \u001B[38;5;28mself\u001B[39m\u001B[38;5;241m.\u001B[39mhandles: IOHandles \u001B[38;5;241m|\u001B[39m \u001B[38;5;28;01mNone\u001B[39;00m \u001B[38;5;241m=\u001B[39m \u001B[38;5;28;01mNone\u001B[39;00m\n\u001B[0;32m--> 934\u001B[0m \u001B[38;5;28mself\u001B[39m\u001B[38;5;241m.\u001B[39m_engine \u001B[38;5;241m=\u001B[39m \u001B[38;5;28;43mself\u001B[39;49m\u001B[38;5;241;43m.\u001B[39;49m\u001B[43m_make_engine\u001B[49m\u001B[43m(\u001B[49m\u001B[43mf\u001B[49m\u001B[43m,\u001B[49m\u001B[43m \u001B[49m\u001B[38;5;28;43mself\u001B[39;49m\u001B[38;5;241;43m.\u001B[39;49m\u001B[43mengine\u001B[49m\u001B[43m)\u001B[49m\n",
      "File \u001B[0;32m/opt/homebrew/Caskroom/miniforge/base/envs/organizer/lib/python3.9/site-packages/pandas/io/parsers/readers.py:1218\u001B[0m, in \u001B[0;36mTextFileReader._make_engine\u001B[0;34m(self, f, engine)\u001B[0m\n\u001B[1;32m   1214\u001B[0m     mode \u001B[38;5;241m=\u001B[39m \u001B[38;5;124m\"\u001B[39m\u001B[38;5;124mrb\u001B[39m\u001B[38;5;124m\"\u001B[39m\n\u001B[1;32m   1215\u001B[0m \u001B[38;5;66;03m# error: No overload variant of \"get_handle\" matches argument types\u001B[39;00m\n\u001B[1;32m   1216\u001B[0m \u001B[38;5;66;03m# \"Union[str, PathLike[str], ReadCsvBuffer[bytes], ReadCsvBuffer[str]]\"\u001B[39;00m\n\u001B[1;32m   1217\u001B[0m \u001B[38;5;66;03m# , \"str\", \"bool\", \"Any\", \"Any\", \"Any\", \"Any\", \"Any\"\u001B[39;00m\n\u001B[0;32m-> 1218\u001B[0m \u001B[38;5;28mself\u001B[39m\u001B[38;5;241m.\u001B[39mhandles \u001B[38;5;241m=\u001B[39m \u001B[43mget_handle\u001B[49m\u001B[43m(\u001B[49m\u001B[43m  \u001B[49m\u001B[38;5;66;43;03m# type: ignore[call-overload]\u001B[39;49;00m\n\u001B[1;32m   1219\u001B[0m \u001B[43m    \u001B[49m\u001B[43mf\u001B[49m\u001B[43m,\u001B[49m\n\u001B[1;32m   1220\u001B[0m \u001B[43m    \u001B[49m\u001B[43mmode\u001B[49m\u001B[43m,\u001B[49m\n\u001B[1;32m   1221\u001B[0m \u001B[43m    \u001B[49m\u001B[43mencoding\u001B[49m\u001B[38;5;241;43m=\u001B[39;49m\u001B[38;5;28;43mself\u001B[39;49m\u001B[38;5;241;43m.\u001B[39;49m\u001B[43moptions\u001B[49m\u001B[38;5;241;43m.\u001B[39;49m\u001B[43mget\u001B[49m\u001B[43m(\u001B[49m\u001B[38;5;124;43m\"\u001B[39;49m\u001B[38;5;124;43mencoding\u001B[39;49m\u001B[38;5;124;43m\"\u001B[39;49m\u001B[43m,\u001B[49m\u001B[43m \u001B[49m\u001B[38;5;28;43;01mNone\u001B[39;49;00m\u001B[43m)\u001B[49m\u001B[43m,\u001B[49m\n\u001B[1;32m   1222\u001B[0m \u001B[43m    \u001B[49m\u001B[43mcompression\u001B[49m\u001B[38;5;241;43m=\u001B[39;49m\u001B[38;5;28;43mself\u001B[39;49m\u001B[38;5;241;43m.\u001B[39;49m\u001B[43moptions\u001B[49m\u001B[38;5;241;43m.\u001B[39;49m\u001B[43mget\u001B[49m\u001B[43m(\u001B[49m\u001B[38;5;124;43m\"\u001B[39;49m\u001B[38;5;124;43mcompression\u001B[39;49m\u001B[38;5;124;43m\"\u001B[39;49m\u001B[43m,\u001B[49m\u001B[43m \u001B[49m\u001B[38;5;28;43;01mNone\u001B[39;49;00m\u001B[43m)\u001B[49m\u001B[43m,\u001B[49m\n\u001B[1;32m   1223\u001B[0m \u001B[43m    \u001B[49m\u001B[43mmemory_map\u001B[49m\u001B[38;5;241;43m=\u001B[39;49m\u001B[38;5;28;43mself\u001B[39;49m\u001B[38;5;241;43m.\u001B[39;49m\u001B[43moptions\u001B[49m\u001B[38;5;241;43m.\u001B[39;49m\u001B[43mget\u001B[49m\u001B[43m(\u001B[49m\u001B[38;5;124;43m\"\u001B[39;49m\u001B[38;5;124;43mmemory_map\u001B[39;49m\u001B[38;5;124;43m\"\u001B[39;49m\u001B[43m,\u001B[49m\u001B[43m \u001B[49m\u001B[38;5;28;43;01mFalse\u001B[39;49;00m\u001B[43m)\u001B[49m\u001B[43m,\u001B[49m\n\u001B[1;32m   1224\u001B[0m \u001B[43m    \u001B[49m\u001B[43mis_text\u001B[49m\u001B[38;5;241;43m=\u001B[39;49m\u001B[43mis_text\u001B[49m\u001B[43m,\u001B[49m\n\u001B[1;32m   1225\u001B[0m \u001B[43m    \u001B[49m\u001B[43merrors\u001B[49m\u001B[38;5;241;43m=\u001B[39;49m\u001B[38;5;28;43mself\u001B[39;49m\u001B[38;5;241;43m.\u001B[39;49m\u001B[43moptions\u001B[49m\u001B[38;5;241;43m.\u001B[39;49m\u001B[43mget\u001B[49m\u001B[43m(\u001B[49m\u001B[38;5;124;43m\"\u001B[39;49m\u001B[38;5;124;43mencoding_errors\u001B[39;49m\u001B[38;5;124;43m\"\u001B[39;49m\u001B[43m,\u001B[49m\u001B[43m \u001B[49m\u001B[38;5;124;43m\"\u001B[39;49m\u001B[38;5;124;43mstrict\u001B[39;49m\u001B[38;5;124;43m\"\u001B[39;49m\u001B[43m)\u001B[49m\u001B[43m,\u001B[49m\n\u001B[1;32m   1226\u001B[0m \u001B[43m    \u001B[49m\u001B[43mstorage_options\u001B[49m\u001B[38;5;241;43m=\u001B[39;49m\u001B[38;5;28;43mself\u001B[39;49m\u001B[38;5;241;43m.\u001B[39;49m\u001B[43moptions\u001B[49m\u001B[38;5;241;43m.\u001B[39;49m\u001B[43mget\u001B[49m\u001B[43m(\u001B[49m\u001B[38;5;124;43m\"\u001B[39;49m\u001B[38;5;124;43mstorage_options\u001B[39;49m\u001B[38;5;124;43m\"\u001B[39;49m\u001B[43m,\u001B[49m\u001B[43m \u001B[49m\u001B[38;5;28;43;01mNone\u001B[39;49;00m\u001B[43m)\u001B[49m\u001B[43m,\u001B[49m\n\u001B[1;32m   1227\u001B[0m \u001B[43m\u001B[49m\u001B[43m)\u001B[49m\n\u001B[1;32m   1228\u001B[0m \u001B[38;5;28;01massert\u001B[39;00m \u001B[38;5;28mself\u001B[39m\u001B[38;5;241m.\u001B[39mhandles \u001B[38;5;129;01mis\u001B[39;00m \u001B[38;5;129;01mnot\u001B[39;00m \u001B[38;5;28;01mNone\u001B[39;00m\n\u001B[1;32m   1229\u001B[0m f \u001B[38;5;241m=\u001B[39m \u001B[38;5;28mself\u001B[39m\u001B[38;5;241m.\u001B[39mhandles\u001B[38;5;241m.\u001B[39mhandle\n",
      "File \u001B[0;32m/opt/homebrew/Caskroom/miniforge/base/envs/organizer/lib/python3.9/site-packages/pandas/io/common.py:786\u001B[0m, in \u001B[0;36mget_handle\u001B[0;34m(path_or_buf, mode, encoding, compression, memory_map, is_text, errors, storage_options)\u001B[0m\n\u001B[1;32m    781\u001B[0m \u001B[38;5;28;01melif\u001B[39;00m \u001B[38;5;28misinstance\u001B[39m(handle, \u001B[38;5;28mstr\u001B[39m):\n\u001B[1;32m    782\u001B[0m     \u001B[38;5;66;03m# Check whether the filename is to be opened in binary mode.\u001B[39;00m\n\u001B[1;32m    783\u001B[0m     \u001B[38;5;66;03m# Binary mode does not support 'encoding' and 'newline'.\u001B[39;00m\n\u001B[1;32m    784\u001B[0m     \u001B[38;5;28;01mif\u001B[39;00m ioargs\u001B[38;5;241m.\u001B[39mencoding \u001B[38;5;129;01mand\u001B[39;00m \u001B[38;5;124m\"\u001B[39m\u001B[38;5;124mb\u001B[39m\u001B[38;5;124m\"\u001B[39m \u001B[38;5;129;01mnot\u001B[39;00m \u001B[38;5;129;01min\u001B[39;00m ioargs\u001B[38;5;241m.\u001B[39mmode:\n\u001B[1;32m    785\u001B[0m         \u001B[38;5;66;03m# Encoding\u001B[39;00m\n\u001B[0;32m--> 786\u001B[0m         handle \u001B[38;5;241m=\u001B[39m \u001B[38;5;28;43mopen\u001B[39;49m\u001B[43m(\u001B[49m\n\u001B[1;32m    787\u001B[0m \u001B[43m            \u001B[49m\u001B[43mhandle\u001B[49m\u001B[43m,\u001B[49m\n\u001B[1;32m    788\u001B[0m \u001B[43m            \u001B[49m\u001B[43mioargs\u001B[49m\u001B[38;5;241;43m.\u001B[39;49m\u001B[43mmode\u001B[49m\u001B[43m,\u001B[49m\n\u001B[1;32m    789\u001B[0m \u001B[43m            \u001B[49m\u001B[43mencoding\u001B[49m\u001B[38;5;241;43m=\u001B[39;49m\u001B[43mioargs\u001B[49m\u001B[38;5;241;43m.\u001B[39;49m\u001B[43mencoding\u001B[49m\u001B[43m,\u001B[49m\n\u001B[1;32m    790\u001B[0m \u001B[43m            \u001B[49m\u001B[43merrors\u001B[49m\u001B[38;5;241;43m=\u001B[39;49m\u001B[43merrors\u001B[49m\u001B[43m,\u001B[49m\n\u001B[1;32m    791\u001B[0m \u001B[43m            \u001B[49m\u001B[43mnewline\u001B[49m\u001B[38;5;241;43m=\u001B[39;49m\u001B[38;5;124;43m\"\u001B[39;49m\u001B[38;5;124;43m\"\u001B[39;49m\u001B[43m,\u001B[49m\n\u001B[1;32m    792\u001B[0m \u001B[43m        \u001B[49m\u001B[43m)\u001B[49m\n\u001B[1;32m    793\u001B[0m     \u001B[38;5;28;01melse\u001B[39;00m:\n\u001B[1;32m    794\u001B[0m         \u001B[38;5;66;03m# Binary mode\u001B[39;00m\n\u001B[1;32m    795\u001B[0m         handle \u001B[38;5;241m=\u001B[39m \u001B[38;5;28mopen\u001B[39m(handle, ioargs\u001B[38;5;241m.\u001B[39mmode)\n",
      "\u001B[0;31mFileNotFoundError\u001B[0m: [Errno 2] No such file or directory: 'descriptors/gen2_pca_desc_a.csv'"
     ]
    }
   ],
   "source": [
    "descriptors = {\n",
    "    \"fragment_a\": pd.read_csv(\"descriptors/gen2_pca_desc_a.csv\", index_col=None),\n",
    "    \"fragment_b\": pd.read_csv(\"descriptors/gen2_pca_desc_b.csv\", index_col=None),\n",
    "    \"fragment_c\": pd.read_csv(\"descriptors/gen2_pca_desc_c.csv\", index_col=None)\n",
    "}\n",
    "\n",
    "all_fragments_with_descriptors = {\n",
    "    frag_type: {\n",
    "        frag: descriptors[frag_type][descriptors[frag_type].hid == frag].iloc[0, 1:].values.astype(np.float).tolist()\n",
    "        for frag in all_fragments[frag_type]\n",
    "    }\n",
    "    for frag_type in fragments\n",
    "}\n",
    "\n",
    "print(\"Loaded Descriptors:\", \", \".join([f\"{frag} ({descriptors[frag].shape[1]-1})\" for frag in fragments]))"
   ],
   "metadata": {
    "collapsed": false,
    "pycharm": {
     "name": "#%%\n"
    }
   }
  },
  {
   "cell_type": "markdown",
   "source": [
    "## Instantiate and Run Gryffin"
   ],
   "metadata": {
    "collapsed": false,
    "pycharm": {
     "name": "#%% md\n"
    }
   }
  },
  {
   "cell_type": "code",
   "execution_count": 7,
   "outputs": [
    {
     "ename": "NameError",
     "evalue": "name 'all_fragments_with_descriptors' is not defined",
     "output_type": "error",
     "traceback": [
      "\u001B[0;31m---------------------------------------------------------------------------\u001B[0m",
      "\u001B[0;31mNameError\u001B[0m                                 Traceback (most recent call last)",
      "Input \u001B[0;32mIn [7]\u001B[0m, in \u001B[0;36m<cell line: 7>\u001B[0;34m()\u001B[0m\n\u001B[1;32m      1\u001B[0m sampling_strategies \u001B[38;5;241m=\u001B[39m np\u001B[38;5;241m.\u001B[39mconcatenate((np\u001B[38;5;241m.\u001B[39mlinspace(\u001B[38;5;241m0.6\u001B[39m, \u001B[38;5;241m1\u001B[39m, \u001B[38;5;241m30\u001B[39m), np\u001B[38;5;241m.\u001B[39mlinspace(\u001B[38;5;241m-\u001B[39m\u001B[38;5;241m1\u001B[39m, \u001B[38;5;241m0.5\u001B[39m, \u001B[38;5;241m10\u001B[39m)))\n\u001B[1;32m      3\u001B[0m constraints \u001B[38;5;241m=\u001B[39m \u001B[38;5;28;01mlambda\u001B[39;00m x: (data_handler\u001B[38;5;241m.\u001B[39mtarget_is_makable(x) \u001B[38;5;129;01mand\u001B[39;00m data_handler\u001B[38;5;241m.\u001B[39mtarget_is_novel(x))\n\u001B[1;32m      5\u001B[0m config \u001B[38;5;241m=\u001B[39m {\n\u001B[1;32m      6\u001B[0m      \u001B[38;5;124m\"\u001B[39m\u001B[38;5;124mgeneral\u001B[39m\u001B[38;5;124m\"\u001B[39m: {\n\u001B[1;32m      7\u001B[0m              \u001B[38;5;124m\"\u001B[39m\u001B[38;5;124mbackend\u001B[39m\u001B[38;5;124m\"\u001B[39m: \u001B[38;5;124m'\u001B[39m\u001B[38;5;124mtensorflow\u001B[39m\u001B[38;5;124m'\u001B[39m,\n\u001B[1;32m      8\u001B[0m              \u001B[38;5;124m\"\u001B[39m\u001B[38;5;124mnum_cpus\u001B[39m\u001B[38;5;124m\"\u001B[39m: \u001B[38;5;241m4\u001B[39m,\n\u001B[1;32m      9\u001B[0m              \u001B[38;5;124m\"\u001B[39m\u001B[38;5;124mauto_desc_gen\u001B[39m\u001B[38;5;124m\"\u001B[39m: \u001B[38;5;28;01mFalse\u001B[39;00m, \u001B[38;5;66;03m# dynamic Gryffin\u001B[39;00m\n\u001B[1;32m     10\u001B[0m              \u001B[38;5;124m\"\u001B[39m\u001B[38;5;124mbatches\u001B[39m\u001B[38;5;124m\"\u001B[39m: \u001B[38;5;241m1\u001B[39m,\n\u001B[1;32m     11\u001B[0m              \u001B[38;5;124m\"\u001B[39m\u001B[38;5;124msampling_strategies\u001B[39m\u001B[38;5;124m\"\u001B[39m: \u001B[38;5;241m1\u001B[39m,\n\u001B[1;32m     12\u001B[0m              \u001B[38;5;124m\"\u001B[39m\u001B[38;5;124mfeas_approach\u001B[39m\u001B[38;5;124m\"\u001B[39m: \u001B[38;5;124m'\u001B[39m\u001B[38;5;124mfca\u001B[39m\u001B[38;5;124m'\u001B[39m,\n\u001B[1;32m     13\u001B[0m              \u001B[38;5;124m\"\u001B[39m\u001B[38;5;124mfeas_param\u001B[39m\u001B[38;5;124m\"\u001B[39m: \u001B[38;5;241m0.2\u001B[39m,\n\u001B[1;32m     14\u001B[0m              \u001B[38;5;124m\"\u001B[39m\u001B[38;5;124mboosted\u001B[39m\u001B[38;5;124m\"\u001B[39m:  \u001B[38;5;28;01mTrue\u001B[39;00m,\n\u001B[1;32m     15\u001B[0m              \u001B[38;5;124m\"\u001B[39m\u001B[38;5;124mcaching\u001B[39m\u001B[38;5;124m\"\u001B[39m: \u001B[38;5;28;01mFalse\u001B[39;00m,\n\u001B[1;32m     16\u001B[0m              \u001B[38;5;124m\"\u001B[39m\u001B[38;5;124mrandom_seed\u001B[39m\u001B[38;5;124m\"\u001B[39m: \u001B[38;5;241m22031996\u001B[39m,\n\u001B[1;32m     17\u001B[0m              \u001B[38;5;124m\"\u001B[39m\u001B[38;5;124macquisition_optimizer\u001B[39m\u001B[38;5;124m\"\u001B[39m: \u001B[38;5;124m'\u001B[39m\u001B[38;5;124mgenetic\u001B[39m\u001B[38;5;124m'\u001B[39m,\n\u001B[1;32m     18\u001B[0m              \u001B[38;5;124m\"\u001B[39m\u001B[38;5;124mverbosity\u001B[39m\u001B[38;5;124m\"\u001B[39m: \u001B[38;5;241m3\u001B[39m\n\u001B[1;32m     19\u001B[0m                 },\n\u001B[0;32m---> 20\u001B[0m     \u001B[38;5;124m\"\u001B[39m\u001B[38;5;124mparameters\u001B[39m\u001B[38;5;124m\"\u001B[39m: [\n\u001B[1;32m     21\u001B[0m         {\u001B[38;5;124m\"\u001B[39m\u001B[38;5;124mname\u001B[39m\u001B[38;5;124m\"\u001B[39m: frag_type, \u001B[38;5;124m\"\u001B[39m\u001B[38;5;124mtype\u001B[39m\u001B[38;5;124m\"\u001B[39m: \u001B[38;5;124m\"\u001B[39m\u001B[38;5;124mcategorical\u001B[39m\u001B[38;5;124m\"\u001B[39m, \u001B[38;5;124m\"\u001B[39m\u001B[38;5;124mcategory_details\u001B[39m\u001B[38;5;124m\"\u001B[39m: all_fragments_with_descriptors[frag_type]}\n\u001B[1;32m     22\u001B[0m         \u001B[38;5;28;01mfor\u001B[39;00m frag_type \u001B[38;5;129;01min\u001B[39;00m fragments\n\u001B[1;32m     23\u001B[0m     ],\n\u001B[1;32m     24\u001B[0m     \u001B[38;5;124m\"\u001B[39m\u001B[38;5;124mobjectives\u001B[39m\u001B[38;5;124m\"\u001B[39m: [\n\u001B[1;32m     25\u001B[0m         {\u001B[38;5;124m\"\u001B[39m\u001B[38;5;124mname\u001B[39m\u001B[38;5;124m\"\u001B[39m: \u001B[38;5;124m\"\u001B[39m\u001B[38;5;124mobj\u001B[39m\u001B[38;5;124m\"\u001B[39m, \u001B[38;5;124m\"\u001B[39m\u001B[38;5;124mgoal\u001B[39m\u001B[38;5;124m\"\u001B[39m: \u001B[38;5;124m\"\u001B[39m\u001B[38;5;124mmax\u001B[39m\u001B[38;5;124m\"\u001B[39m},\n\u001B[1;32m     26\u001B[0m     ]\n\u001B[1;32m     27\u001B[0m }\n",
      "Input \u001B[0;32mIn [7]\u001B[0m, in \u001B[0;36m<listcomp>\u001B[0;34m(.0)\u001B[0m\n\u001B[1;32m      1\u001B[0m sampling_strategies \u001B[38;5;241m=\u001B[39m np\u001B[38;5;241m.\u001B[39mconcatenate((np\u001B[38;5;241m.\u001B[39mlinspace(\u001B[38;5;241m0.6\u001B[39m, \u001B[38;5;241m1\u001B[39m, \u001B[38;5;241m30\u001B[39m), np\u001B[38;5;241m.\u001B[39mlinspace(\u001B[38;5;241m-\u001B[39m\u001B[38;5;241m1\u001B[39m, \u001B[38;5;241m0.5\u001B[39m, \u001B[38;5;241m10\u001B[39m)))\n\u001B[1;32m      3\u001B[0m constraints \u001B[38;5;241m=\u001B[39m \u001B[38;5;28;01mlambda\u001B[39;00m x: (data_handler\u001B[38;5;241m.\u001B[39mtarget_is_makable(x) \u001B[38;5;129;01mand\u001B[39;00m data_handler\u001B[38;5;241m.\u001B[39mtarget_is_novel(x))\n\u001B[1;32m      5\u001B[0m config \u001B[38;5;241m=\u001B[39m {\n\u001B[1;32m      6\u001B[0m      \u001B[38;5;124m\"\u001B[39m\u001B[38;5;124mgeneral\u001B[39m\u001B[38;5;124m\"\u001B[39m: {\n\u001B[1;32m      7\u001B[0m              \u001B[38;5;124m\"\u001B[39m\u001B[38;5;124mbackend\u001B[39m\u001B[38;5;124m\"\u001B[39m: \u001B[38;5;124m'\u001B[39m\u001B[38;5;124mtensorflow\u001B[39m\u001B[38;5;124m'\u001B[39m,\n\u001B[1;32m      8\u001B[0m              \u001B[38;5;124m\"\u001B[39m\u001B[38;5;124mnum_cpus\u001B[39m\u001B[38;5;124m\"\u001B[39m: \u001B[38;5;241m4\u001B[39m,\n\u001B[1;32m      9\u001B[0m              \u001B[38;5;124m\"\u001B[39m\u001B[38;5;124mauto_desc_gen\u001B[39m\u001B[38;5;124m\"\u001B[39m: \u001B[38;5;28;01mFalse\u001B[39;00m, \u001B[38;5;66;03m# dynamic Gryffin\u001B[39;00m\n\u001B[1;32m     10\u001B[0m              \u001B[38;5;124m\"\u001B[39m\u001B[38;5;124mbatches\u001B[39m\u001B[38;5;124m\"\u001B[39m: \u001B[38;5;241m1\u001B[39m,\n\u001B[1;32m     11\u001B[0m              \u001B[38;5;124m\"\u001B[39m\u001B[38;5;124msampling_strategies\u001B[39m\u001B[38;5;124m\"\u001B[39m: \u001B[38;5;241m1\u001B[39m,\n\u001B[1;32m     12\u001B[0m              \u001B[38;5;124m\"\u001B[39m\u001B[38;5;124mfeas_approach\u001B[39m\u001B[38;5;124m\"\u001B[39m: \u001B[38;5;124m'\u001B[39m\u001B[38;5;124mfca\u001B[39m\u001B[38;5;124m'\u001B[39m,\n\u001B[1;32m     13\u001B[0m              \u001B[38;5;124m\"\u001B[39m\u001B[38;5;124mfeas_param\u001B[39m\u001B[38;5;124m\"\u001B[39m: \u001B[38;5;241m0.2\u001B[39m,\n\u001B[1;32m     14\u001B[0m              \u001B[38;5;124m\"\u001B[39m\u001B[38;5;124mboosted\u001B[39m\u001B[38;5;124m\"\u001B[39m:  \u001B[38;5;28;01mTrue\u001B[39;00m,\n\u001B[1;32m     15\u001B[0m              \u001B[38;5;124m\"\u001B[39m\u001B[38;5;124mcaching\u001B[39m\u001B[38;5;124m\"\u001B[39m: \u001B[38;5;28;01mFalse\u001B[39;00m,\n\u001B[1;32m     16\u001B[0m              \u001B[38;5;124m\"\u001B[39m\u001B[38;5;124mrandom_seed\u001B[39m\u001B[38;5;124m\"\u001B[39m: \u001B[38;5;241m22031996\u001B[39m,\n\u001B[1;32m     17\u001B[0m              \u001B[38;5;124m\"\u001B[39m\u001B[38;5;124macquisition_optimizer\u001B[39m\u001B[38;5;124m\"\u001B[39m: \u001B[38;5;124m'\u001B[39m\u001B[38;5;124mgenetic\u001B[39m\u001B[38;5;124m'\u001B[39m,\n\u001B[1;32m     18\u001B[0m              \u001B[38;5;124m\"\u001B[39m\u001B[38;5;124mverbosity\u001B[39m\u001B[38;5;124m\"\u001B[39m: \u001B[38;5;241m3\u001B[39m\n\u001B[1;32m     19\u001B[0m                 },\n\u001B[1;32m     20\u001B[0m     \u001B[38;5;124m\"\u001B[39m\u001B[38;5;124mparameters\u001B[39m\u001B[38;5;124m\"\u001B[39m: [\n\u001B[0;32m---> 21\u001B[0m         {\u001B[38;5;124m\"\u001B[39m\u001B[38;5;124mname\u001B[39m\u001B[38;5;124m\"\u001B[39m: frag_type, \u001B[38;5;124m\"\u001B[39m\u001B[38;5;124mtype\u001B[39m\u001B[38;5;124m\"\u001B[39m: \u001B[38;5;124m\"\u001B[39m\u001B[38;5;124mcategorical\u001B[39m\u001B[38;5;124m\"\u001B[39m, \u001B[38;5;124m\"\u001B[39m\u001B[38;5;124mcategory_details\u001B[39m\u001B[38;5;124m\"\u001B[39m: \u001B[43mall_fragments_with_descriptors\u001B[49m[frag_type]}\n\u001B[1;32m     22\u001B[0m         \u001B[38;5;28;01mfor\u001B[39;00m frag_type \u001B[38;5;129;01min\u001B[39;00m fragments\n\u001B[1;32m     23\u001B[0m     ],\n\u001B[1;32m     24\u001B[0m     \u001B[38;5;124m\"\u001B[39m\u001B[38;5;124mobjectives\u001B[39m\u001B[38;5;124m\"\u001B[39m: [\n\u001B[1;32m     25\u001B[0m         {\u001B[38;5;124m\"\u001B[39m\u001B[38;5;124mname\u001B[39m\u001B[38;5;124m\"\u001B[39m: \u001B[38;5;124m\"\u001B[39m\u001B[38;5;124mobj\u001B[39m\u001B[38;5;124m\"\u001B[39m, \u001B[38;5;124m\"\u001B[39m\u001B[38;5;124mgoal\u001B[39m\u001B[38;5;124m\"\u001B[39m: \u001B[38;5;124m\"\u001B[39m\u001B[38;5;124mmax\u001B[39m\u001B[38;5;124m\"\u001B[39m},\n\u001B[1;32m     26\u001B[0m     ]\n\u001B[1;32m     27\u001B[0m }\n",
      "\u001B[0;31mNameError\u001B[0m: name 'all_fragments_with_descriptors' is not defined"
     ]
    }
   ],
   "source": [
    "sampling_strategies = np.concatenate((np.linspace(0.6, 1, 30), np.linspace(-1, 0.5, 10)))\n",
    "\n",
    "config = {\n",
    "     \"general\": {\n",
    "             \"backend\": 'tensorflow',\n",
    "             \"num_cpus\": 4,\n",
    "             \"auto_desc_gen\": False, # dynamic Gryffin\n",
    "             \"batches\": 1,\n",
    "             \"sampling_strategies\": 1,\n",
    "             \"feas_approach\": 'fca',\n",
    "             \"feas_param\": 0.2,\n",
    "             \"boosted\":  True,\n",
    "             \"caching\": False,\n",
    "             \"random_seed\": 22031996,\n",
    "             \"acquisition_optimizer\": 'genetic',\n",
    "             \"verbosity\": 3\n",
    "                },\n",
    "    \"parameters\": [\n",
    "        {\"name\": frag_type, \"type\": \"categorical\", \"category_details\": all_fragments_with_descriptors[frag_type]}\n",
    "        for frag_type in fragments\n",
    "    ],\n",
    "    \"objectives\": [\n",
    "        {\"name\": \"obj\", \"goal\": \"max\"},\n",
    "    ]\n",
    "}"
   ],
   "metadata": {
    "collapsed": false,
    "pycharm": {
     "name": "#%%\n"
    }
   }
  },
  {
   "cell_type": "code",
   "execution_count": 8,
   "outputs": [
    {
     "ename": "NameError",
     "evalue": "name 'config' is not defined",
     "output_type": "error",
     "traceback": [
      "\u001B[0;31m---------------------------------------------------------------------------\u001B[0m",
      "\u001B[0;31mNameError\u001B[0m                                 Traceback (most recent call last)",
      "Input \u001B[0;32mIn [8]\u001B[0m, in \u001B[0;36m<cell line: 1>\u001B[0;34m()\u001B[0m\n\u001B[0;32m----> 1\u001B[0m gryffin \u001B[38;5;241m=\u001B[39m Gryffin(config_dict\u001B[38;5;241m=\u001B[39m\u001B[43mconfig\u001B[49m, known_constraints\u001B[38;5;241m=\u001B[39mconstraints)\n\u001B[1;32m      3\u001B[0m recommendations \u001B[38;5;241m=\u001B[39m []\n\u001B[1;32m      4\u001B[0m \u001B[38;5;28;01mfor\u001B[39;00m strategy \u001B[38;5;129;01min\u001B[39;00m sampling_strategies:\n",
      "\u001B[0;31mNameError\u001B[0m: name 'config' is not defined"
     ]
    }
   ],
   "source": [
    "lab: Union[str, tuple] = \"Toronto\"  # Illinois\n",
    "\n",
    "gryffin = Gryffin(\n",
    "    config_dict=config,\n",
    "    known_constraints=lambda x: (data_handler.target_is_makable(x, lab) and data_handler.target_is_novel(x))\n",
    ")\n",
    "\n",
    "recommendations = []\n",
    "for strategy in sampling_strategies:\n",
    "    sample = gryffin.recommend(observations, sampling_strategies=[strategy])\n",
    "    print(f\"\\n Sampling Strategy {strategy} --- {sample}\")\n",
    "    recommendations.extend(sample)\n",
    "\n",
    "print(f\"{len(recommendations)} Recommendations Generated.\")\n",
    "recommendations = list(set(recommendations))\n",
    "print(f\"{len(recommendations)} Recommendations Remaining after Duplicate Removal.\")"
   ],
   "metadata": {
    "collapsed": false,
    "pycharm": {
     "name": "#%%\n"
    }
   }
  },
  {
   "cell_type": "markdown",
   "source": [
    "## Visualize and Upload Recommendations\n",
    "\n",
    "- generate hid and SMILES of the target molecules\n",
    "- create the synthesis entries in the database\n",
    "- save the recommendations as .png and .txt"
   ],
   "metadata": {
    "collapsed": false,
    "pycharm": {
     "name": "#%% md\n"
    }
   }
  },
  {
   "cell_type": "code",
   "execution_count": null,
   "outputs": [],
   "source": [
    "for entry in recommendations:\n",
    "    frag_smiles = [data_handler.get_molecule(entry[frag]).at[0, \"smiles\"] for frag in fragments]\n",
    "    entry[\"smiles\"] = run_two_step_suzuki(*frag_smiles)\n",
    "    entry[\"hid\"] = \"\".join([entry[frag] for frag in fragments])\n",
    "\n",
    "    data_handler.create_target_compound(\n",
    "        fragments=[entry[frag] for frag in fragments],\n",
    "        smiles=entry[\"smiles\"]\n",
    "    )"
   ],
   "metadata": {
    "collapsed": false,
    "pycharm": {
     "name": "#%%\n"
    }
   }
  },
  {
   "cell_type": "code",
   "execution_count": null,
   "outputs": [],
   "source": [
    "img = Chem.Draw.MolsToGridImage(\n",
    "    [Chem.MolFromSmiles(rec[\"smiles\"]) for rec in recommendations],\n",
    "    molsPerRow=5,\n",
    "    sugImgSize=(400,400),\n",
    "    returnPNG=False,\n",
    "    legend=[rec[\"hid\"] for rec in recommendations]\n",
    ")\n",
    "img.save(f\"Iteration_{iteration}_all_samples.png\")"
   ],
   "metadata": {
    "collapsed": false,
    "pycharm": {
     "name": "#%%\n"
    }
   }
  },
  {
   "cell_type": "code",
   "execution_count": null,
   "outputs": [],
   "source": [
    "with open(f\"Iteration_{iteration}_all_samples.txt\") as file:\n",
    "    for entry in recommendations:\n",
    "        file.write(f\"{entry['hid']},{entry['smiles']}\\n\")"
   ],
   "metadata": {
    "collapsed": false,
    "pycharm": {
     "name": "#%%\n"
    }
   }
  }
 ],
 "metadata": {
  "kernelspec": {
   "display_name": "Python 3",
   "language": "python",
   "name": "python3"
  },
  "language_info": {
   "codemirror_mode": {
    "name": "ipython",
    "version": 2
   },
   "file_extension": ".py",
   "mimetype": "text/x-python",
   "name": "python",
   "nbconvert_exporter": "python",
   "pygments_lexer": "ipython2",
   "version": "2.7.6"
  }
 },
 "nbformat": 4,
 "nbformat_minor": 0
}