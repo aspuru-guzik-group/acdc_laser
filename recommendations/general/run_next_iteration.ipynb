{
 "cells": [
  {
   "cell_type": "code",
   "execution_count": 1,
   "metadata": {
    "collapsed": true,
    "pycharm": {
     "name": "#%%\n"
    }
   },
   "outputs": [],
   "source": [
    "import datetime\n",
    "import numpy as np\n",
    "from rdkit import Chem\n",
    "\n",
    "from gryffin import Gryffin\n",
    "from LaserDataHandler import LaserDataHandler, run_two_step_suzuki"
   ]
  },
  {
   "cell_type": "markdown",
   "source": [
    "## Establish the Database Connection and Process all Previous Data\n",
    "\n",
    "- log in to the database through the LaserDataHandler\n",
    "- load all previous data\n",
    "- process all completed experiments and generate the observations for Gryffin"
   ],
   "metadata": {
    "collapsed": false,
    "pycharm": {
     "name": "#%% md\n"
    }
   }
  },
  {
   "cell_type": "code",
   "execution_count": 2,
   "outputs": [],
   "source": [
    "iteration = datetime.date.today().strftime(\"%Y%m%d\")\n",
    "no_samples = 12\n",
    "labs = [\"Illinois\"] # Toronto?\n",
    "fragments = (\"fragment_a\", \"fragment_b\", \"fragment_c\")\n",
    "\n",
    "data_handler = LaserDataHandler(\n",
    "    db_name=\"madness_laser\",\n",
    "    fragments=fragments,\n",
    "    active_labs=labs\n",
    ")"
   ],
   "metadata": {
    "collapsed": false,
    "pycharm": {
     "name": "#%%\n"
    }
   }
  },
  {
   "cell_type": "code",
   "execution_count": 3,
   "outputs": [
    {
     "name": "stdout",
     "output_type": "stream",
     "text": [
      "Currently in Progress: 28\n",
      "Completed Experiments: 258\n"
     ]
    }
   ],
   "source": [
    "in_progress, completed = data_handler.load_previous_results()\n",
    "\n",
    "print(f\"Currently in Progress: {in_progress.shape[0]}\")\n",
    "print(f\"Completed Experiments: {completed.shape[0]}\")"
   ],
   "metadata": {
    "collapsed": false,
    "pycharm": {
     "name": "#%%\n"
    }
   }
  },
  {
   "cell_type": "code",
   "execution_count": 4,
   "outputs": [
    {
     "name": "stdout",
     "output_type": "stream",
     "text": [
      "258 Observations were created for Gryffin.\n",
      "Used Fragments: fragment_a (29), fragment_b (47), fragment_c (52)\n"
     ]
    }
   ],
   "source": [
    "observations, used_fragments = data_handler.process_previous_results(\n",
    "    previous_results=completed,\n",
    "    get_target_property=lambda x: x.get(\"product.optical_properties\").get(\"gain_cross_section\")\n",
    ")\n",
    "\n",
    "print(f\"{len(observations)} Observations were created for Gryffin.\")\n",
    "print(f\"Used Fragments:\", \", \".join([f\"{frag} ({len(used_fragments[frag])})\" for frag in used_fragments]))"
   ],
   "metadata": {
    "collapsed": false,
    "pycharm": {
     "name": "#%%\n"
    }
   }
  },
  {
   "cell_type": "markdown",
   "source": [
    "## Prepare the Fragment Space\n",
    "\n",
    "- load all available fragments to the LaserDataHandler\n",
    "- load all descriptors (currently from a file on the hard drive)"
   ],
   "metadata": {
    "collapsed": false,
    "pycharm": {
     "name": "#%% md\n"
    }
   }
  },
  {
   "cell_type": "code",
   "execution_count": 5,
   "outputs": [
    {
     "name": "stdout",
     "output_type": "stream",
     "text": [
      "Available Fragments: fragment_a (7), fragment_b (20), fragment_c (117)\n",
      "Total Fragments:     fragment_a (31), fragment_b (55), fragment_c (161)\n"
     ]
    }
   ],
   "source": [
    "available_fragments = data_handler.get_all_available_fragments()\n",
    "\n",
    "all_fragments = {frag: available_fragments[frag] | used_fragments[frag] for frag in fragments}\n",
    "\n",
    "print(\"Available Fragments:\", \", \".join([f\"{frag} ({len(available_fragments[frag])})\" for frag in fragments]))\n",
    "print(\"Total Fragments:    \", \", \".join([f\"{frag} ({len(all_fragments[frag])})\" for frag in fragments]))"
   ],
   "metadata": {
    "collapsed": false,
    "pycharm": {
     "name": "#%%\n"
    }
   }
  },
  {
   "cell_type": "code",
   "execution_count": 6,
   "outputs": [
    {
     "name": "stdout",
     "output_type": "stream",
     "text": [
      "Descriptors Successfully Loaded for all 247 Fragments\n"
     ]
    }
   ],
   "source": [
    "all_fragments_with_descriptors = {frag_type: dict() for frag_type in fragments}\n",
    "\n",
    "for frag_type in fragments:\n",
    "    for frag in all_fragments[frag_type]:\n",
    "        descriptors = list(data_handler.get_molecule(frag).at[0, \"descriptors\"].values())\n",
    "\n",
    "        if not descriptors:\n",
    "            raise ValueError(f\"No descriptors loaded for fragment {frag}!!!\")\n",
    "\n",
    "        all_fragments_with_descriptors[frag_type][frag] = descriptors\n",
    "\n",
    "print(f\"Descriptors Successfully Loaded for all {sum([len(all_fragments_with_descriptors[frag_type]) for frag_type in fragments])} Fragments\")"
   ],
   "metadata": {
    "collapsed": false,
    "pycharm": {
     "name": "#%%\n"
    }
   }
  },
  {
   "cell_type": "markdown",
   "source": [
    "## Instantiate and Run Gryffin"
   ],
   "metadata": {
    "collapsed": false,
    "pycharm": {
     "name": "#%% md\n"
    }
   }
  },
  {
   "cell_type": "code",
   "execution_count": 7,
   "outputs": [],
   "source": [
    "exploitation_samples: int = int(0.75*no_samples)\n",
    "exploration_samples: int = no_samples - exploitation_samples\n",
    "\n",
    "sampling_strategies = np.concatenate((np.linspace(0.6, 1, exploitation_samples), np.linspace(-1, 0.5, exploration_samples)))\n",
    "\n",
    "config = {\n",
    "     \"general\": {\n",
    "             \"backend\": 'tensorflow',\n",
    "             \"num_cpus\": 1,\n",
    "             \"auto_desc_gen\": False, # dynamic Gryffin\n",
    "             \"batches\": 1,\n",
    "             \"sampling_strategies\": 1,\n",
    "             \"feas_approach\": 'fca',\n",
    "             \"feas_param\": 0.2,\n",
    "             \"boosted\":  True,\n",
    "             \"caching\": False,\n",
    "             \"random_seed\": 22031996,\n",
    "             \"acquisition_optimizer\": 'genetic',\n",
    "             \"verbosity\": 3\n",
    "                },\n",
    "    \"parameters\": [\n",
    "        {\"name\": frag_type, \"type\": \"categorical\", \"category_details\": all_fragments_with_descriptors[frag_type]}\n",
    "        for frag_type in fragments\n",
    "    ],\n",
    "    \"objectives\": [\n",
    "        {\"name\": \"obj\", \"goal\": \"max\"},\n",
    "    ]\n",
    "}"
   ],
   "metadata": {
    "collapsed": false,
    "pycharm": {
     "name": "#%%\n"
    }
   }
  },
  {
   "cell_type": "code",
   "execution_count": 8,
   "outputs": [
    {
     "data": {
      "text/plain": "\u001B[1;36m258\u001B[0m observations found\n",
      "text/html": "<pre style=\"white-space:pre;overflow-x:auto;line-height:normal;font-family:Menlo,'DejaVu Sans Mono',consolas,'Courier New',monospace\"><span style=\"color: #008080; text-decoration-color: #008080; font-weight: bold\">258</span> observations found\n</pre>\n"
     },
     "metadata": {},
     "output_type": "display_data"
    },
    {
     "name": "stderr",
     "output_type": "stream",
     "text": [
      "/Users/felix/Documents/Postdoc_Toronto/Research/Gryffin-Test/gryffin/src/gryffin/utilities/config_parser.py:299: VisibleDeprecationWarning: Creating an ndarray from ragged nested sequences (which is a list-or-tuple of lists-or-tuples-or ndarrays with different lengths or shapes) is deprecated. If you meant to do this, you must specify 'dtype=object' when creating the ndarray.\n",
      "  return np.array(descriptors)\n"
     ]
    },
    {
     "data": {
      "text/plain": "Bayesian neural network trained in \u001B[1;36m27.1\u001B[0m s\n",
      "text/html": "<pre style=\"white-space:pre;overflow-x:auto;line-height:normal;font-family:Menlo,'DejaVu Sans Mono',consolas,'Courier New',monospace\">Bayesian neural network trained in <span style=\"color: #008080; text-decoration-color: #008080; font-weight: bold\">27.1</span> s\n</pre>\n"
     },
     "metadata": {},
     "output_type": "display_data"
    },
    {
     "data": {
      "text/plain": "\u001B[1;36m1200\u001B[0m random proposals drawn in \u001B[1;36m1\u001B[0m min \u001B[1;36m9\u001B[0m s\n",
      "text/html": "<pre style=\"white-space:pre;overflow-x:auto;line-height:normal;font-family:Menlo,'DejaVu Sans Mono',consolas,'Courier New',monospace\"><span style=\"color: #008080; text-decoration-color: #008080; font-weight: bold\">1200</span> random proposals drawn in <span style=\"color: #008080; text-decoration-color: #008080; font-weight: bold\">1</span> min <span style=\"color: #008080; text-decoration-color: #008080; font-weight: bold\">9</span> s\n</pre>\n"
     },
     "metadata": {},
     "output_type": "display_data"
    },
    {
     "data": {
      "text/plain": "\u001B[1;36m1200\u001B[0m proposals optimized in \u001B[1;36m15.7\u001B[0m s using \u001B[1;36m1\u001B[0m CPUs\n",
      "text/html": "<pre style=\"white-space:pre;overflow-x:auto;line-height:normal;font-family:Menlo,'DejaVu Sans Mono',consolas,'Courier New',monospace\"><span style=\"color: #008080; text-decoration-color: #008080; font-weight: bold\">1200</span> proposals optimized in <span style=\"color: #008080; text-decoration-color: #008080; font-weight: bold\">15.7</span> s using <span style=\"color: #008080; text-decoration-color: #008080; font-weight: bold\">1</span> CPUs\n</pre>\n"
     },
     "metadata": {},
     "output_type": "display_data"
    },
    {
     "data": {
      "text/plain": "\u001B[1;36m1200\u001B[0m proposals optimized in \u001B[1;36m15.9\u001B[0m s using \u001B[1;36m1\u001B[0m CPUs\n",
      "text/html": "<pre style=\"white-space:pre;overflow-x:auto;line-height:normal;font-family:Menlo,'DejaVu Sans Mono',consolas,'Courier New',monospace\"><span style=\"color: #008080; text-decoration-color: #008080; font-weight: bold\">1200</span> proposals optimized in <span style=\"color: #008080; text-decoration-color: #008080; font-weight: bold\">15.9</span> s using <span style=\"color: #008080; text-decoration-color: #008080; font-weight: bold\">1</span> CPUs\n</pre>\n"
     },
     "metadata": {},
     "output_type": "display_data"
    },
    {
     "data": {
      "text/plain": "\u001B[1;36m1200\u001B[0m proposals optimized in \u001B[1;36m15.7\u001B[0m s using \u001B[1;36m1\u001B[0m CPUs\n",
      "text/html": "<pre style=\"white-space:pre;overflow-x:auto;line-height:normal;font-family:Menlo,'DejaVu Sans Mono',consolas,'Courier New',monospace\"><span style=\"color: #008080; text-decoration-color: #008080; font-weight: bold\">1200</span> proposals optimized in <span style=\"color: #008080; text-decoration-color: #008080; font-weight: bold\">15.7</span> s using <span style=\"color: #008080; text-decoration-color: #008080; font-weight: bold\">1</span> CPUs\n</pre>\n"
     },
     "metadata": {},
     "output_type": "display_data"
    },
    {
     "data": {
      "text/plain": "\u001B[1;36m1200\u001B[0m proposals optimized in \u001B[1;36m15.5\u001B[0m s using \u001B[1;36m1\u001B[0m CPUs\n",
      "text/html": "<pre style=\"white-space:pre;overflow-x:auto;line-height:normal;font-family:Menlo,'DejaVu Sans Mono',consolas,'Courier New',monospace\"><span style=\"color: #008080; text-decoration-color: #008080; font-weight: bold\">1200</span> proposals optimized in <span style=\"color: #008080; text-decoration-color: #008080; font-weight: bold\">15.5</span> s using <span style=\"color: #008080; text-decoration-color: #008080; font-weight: bold\">1</span> CPUs\n</pre>\n"
     },
     "metadata": {},
     "output_type": "display_data"
    },
    {
     "data": {
      "text/plain": "\u001B[1;36m1200\u001B[0m proposals optimized in \u001B[1;36m15.8\u001B[0m s using \u001B[1;36m1\u001B[0m CPUs\n",
      "text/html": "<pre style=\"white-space:pre;overflow-x:auto;line-height:normal;font-family:Menlo,'DejaVu Sans Mono',consolas,'Courier New',monospace\"><span style=\"color: #008080; text-decoration-color: #008080; font-weight: bold\">1200</span> proposals optimized in <span style=\"color: #008080; text-decoration-color: #008080; font-weight: bold\">15.8</span> s using <span style=\"color: #008080; text-decoration-color: #008080; font-weight: bold\">1</span> CPUs\n</pre>\n"
     },
     "metadata": {},
     "output_type": "display_data"
    },
    {
     "data": {
      "text/plain": "\u001B[1;36m1200\u001B[0m proposals optimized in \u001B[1;36m15.9\u001B[0m s using \u001B[1;36m1\u001B[0m CPUs\n",
      "text/html": "<pre style=\"white-space:pre;overflow-x:auto;line-height:normal;font-family:Menlo,'DejaVu Sans Mono',consolas,'Courier New',monospace\"><span style=\"color: #008080; text-decoration-color: #008080; font-weight: bold\">1200</span> proposals optimized in <span style=\"color: #008080; text-decoration-color: #008080; font-weight: bold\">15.9</span> s using <span style=\"color: #008080; text-decoration-color: #008080; font-weight: bold\">1</span> CPUs\n</pre>\n"
     },
     "metadata": {},
     "output_type": "display_data"
    },
    {
     "data": {
      "text/plain": "\u001B[1;36m1200\u001B[0m proposals optimized in \u001B[1;36m15.7\u001B[0m s using \u001B[1;36m1\u001B[0m CPUs\n",
      "text/html": "<pre style=\"white-space:pre;overflow-x:auto;line-height:normal;font-family:Menlo,'DejaVu Sans Mono',consolas,'Courier New',monospace\"><span style=\"color: #008080; text-decoration-color: #008080; font-weight: bold\">1200</span> proposals optimized in <span style=\"color: #008080; text-decoration-color: #008080; font-weight: bold\">15.7</span> s using <span style=\"color: #008080; text-decoration-color: #008080; font-weight: bold\">1</span> CPUs\n</pre>\n"
     },
     "metadata": {},
     "output_type": "display_data"
    },
    {
     "data": {
      "text/plain": "\u001B[1;36m1200\u001B[0m proposals optimized in \u001B[1;36m14.7\u001B[0m s using \u001B[1;36m1\u001B[0m CPUs\n",
      "text/html": "<pre style=\"white-space:pre;overflow-x:auto;line-height:normal;font-family:Menlo,'DejaVu Sans Mono',consolas,'Courier New',monospace\"><span style=\"color: #008080; text-decoration-color: #008080; font-weight: bold\">1200</span> proposals optimized in <span style=\"color: #008080; text-decoration-color: #008080; font-weight: bold\">14.7</span> s using <span style=\"color: #008080; text-decoration-color: #008080; font-weight: bold\">1</span> CPUs\n</pre>\n"
     },
     "metadata": {},
     "output_type": "display_data"
    },
    {
     "data": {
      "text/plain": "\u001B[1;36m1200\u001B[0m proposals optimized in \u001B[1;36m15.1\u001B[0m s using \u001B[1;36m1\u001B[0m CPUs\n",
      "text/html": "<pre style=\"white-space:pre;overflow-x:auto;line-height:normal;font-family:Menlo,'DejaVu Sans Mono',consolas,'Courier New',monospace\"><span style=\"color: #008080; text-decoration-color: #008080; font-weight: bold\">1200</span> proposals optimized in <span style=\"color: #008080; text-decoration-color: #008080; font-weight: bold\">15.1</span> s using <span style=\"color: #008080; text-decoration-color: #008080; font-weight: bold\">1</span> CPUs\n</pre>\n"
     },
     "metadata": {},
     "output_type": "display_data"
    },
    {
     "data": {
      "text/plain": "\u001B[1;36m1200\u001B[0m proposals optimized in \u001B[1;36m16.1\u001B[0m s using \u001B[1;36m1\u001B[0m CPUs\n",
      "text/html": "<pre style=\"white-space:pre;overflow-x:auto;line-height:normal;font-family:Menlo,'DejaVu Sans Mono',consolas,'Courier New',monospace\"><span style=\"color: #008080; text-decoration-color: #008080; font-weight: bold\">1200</span> proposals optimized in <span style=\"color: #008080; text-decoration-color: #008080; font-weight: bold\">16.1</span> s using <span style=\"color: #008080; text-decoration-color: #008080; font-weight: bold\">1</span> CPUs\n</pre>\n"
     },
     "metadata": {},
     "output_type": "display_data"
    },
    {
     "data": {
      "text/plain": "\u001B[1;36m1200\u001B[0m proposals optimized in \u001B[1;36m15.2\u001B[0m s using \u001B[1;36m1\u001B[0m CPUs\n",
      "text/html": "<pre style=\"white-space:pre;overflow-x:auto;line-height:normal;font-family:Menlo,'DejaVu Sans Mono',consolas,'Courier New',monospace\"><span style=\"color: #008080; text-decoration-color: #008080; font-weight: bold\">1200</span> proposals optimized in <span style=\"color: #008080; text-decoration-color: #008080; font-weight: bold\">15.2</span> s using <span style=\"color: #008080; text-decoration-color: #008080; font-weight: bold\">1</span> CPUs\n</pre>\n"
     },
     "metadata": {},
     "output_type": "display_data"
    },
    {
     "data": {
      "text/plain": "\u001B[1;36m1200\u001B[0m proposals optimized in \u001B[1;36m14.9\u001B[0m s using \u001B[1;36m1\u001B[0m CPUs\n",
      "text/html": "<pre style=\"white-space:pre;overflow-x:auto;line-height:normal;font-family:Menlo,'DejaVu Sans Mono',consolas,'Courier New',monospace\"><span style=\"color: #008080; text-decoration-color: #008080; font-weight: bold\">1200</span> proposals optimized in <span style=\"color: #008080; text-decoration-color: #008080; font-weight: bold\">14.9</span> s using <span style=\"color: #008080; text-decoration-color: #008080; font-weight: bold\">1</span> CPUs\n</pre>\n"
     },
     "metadata": {},
     "output_type": "display_data"
    },
    {
     "data": {
      "text/plain": "Acquisition tasks for \u001B[1;36m12\u001B[0m sampling strategies performed in \u001B[1;36m4\u001B[0m min \u001B[1;36m17\u001B[0m s\n",
      "text/html": "<pre style=\"white-space:pre;overflow-x:auto;line-height:normal;font-family:Menlo,'DejaVu Sans Mono',consolas,'Courier New',monospace\">Acquisition tasks for <span style=\"color: #008080; text-decoration-color: #008080; font-weight: bold\">12</span> sampling strategies performed in <span style=\"color: #008080; text-decoration-color: #008080; font-weight: bold\">4</span> min <span style=\"color: #008080; text-decoration-color: #008080; font-weight: bold\">17</span> s\n</pre>\n"
     },
     "metadata": {},
     "output_type": "display_data"
    },
    {
     "data": {
      "text/plain": "\u001B[1;36m12\u001B[0m samples selected in \u001B[1;36m11.6\u001B[0m s\n",
      "text/html": "<pre style=\"white-space:pre;overflow-x:auto;line-height:normal;font-family:Menlo,'DejaVu Sans Mono',consolas,'Courier New',monospace\"><span style=\"color: #008080; text-decoration-color: #008080; font-weight: bold\">12</span> samples selected in <span style=\"color: #008080; text-decoration-color: #008080; font-weight: bold\">11.6</span> s\n</pre>\n"
     },
     "metadata": {},
     "output_type": "display_data"
    },
    {
     "data": {
      "text/plain": "Memory usage: \u001B[1;36m6\u001B[0m GB, \u001B[1;36m6718\u001B[0m MB, \u001B[1;36m881\u001B[0m kB\n",
      "text/html": "<pre style=\"white-space:pre;overflow-x:auto;line-height:normal;font-family:Menlo,'DejaVu Sans Mono',consolas,'Courier New',monospace\">Memory usage: <span style=\"color: #008080; text-decoration-color: #008080; font-weight: bold\">6</span> GB, <span style=\"color: #008080; text-decoration-color: #008080; font-weight: bold\">6718</span> MB, <span style=\"color: #008080; text-decoration-color: #008080; font-weight: bold\">881</span> kB\n</pre>\n"
     },
     "metadata": {},
     "output_type": "display_data"
    },
    {
     "data": {
      "text/plain": "Overall time required: \u001B[1;36m4\u001B[0m min \u001B[1;36m60\u001B[0m s\n",
      "text/html": "<pre style=\"white-space:pre;overflow-x:auto;line-height:normal;font-family:Menlo,'DejaVu Sans Mono',consolas,'Courier New',monospace\">Overall time required: <span style=\"color: #008080; text-decoration-color: #008080; font-weight: bold\">4</span> min <span style=\"color: #008080; text-decoration-color: #008080; font-weight: bold\">60</span> s\n</pre>\n"
     },
     "metadata": {},
     "output_type": "display_data"
    },
    {
     "name": "stdout",
     "output_type": "stream",
     "text": [
      "12 Recommendations Generated.\n"
     ]
    }
   ],
   "source": [
    "gryffin = Gryffin(\n",
    "    config_dict=config,\n",
    "    known_constraints=lambda x: (data_handler.target_is_makable(x, *labs) and data_handler.target_is_novel(x))\n",
    ")\n",
    "\n",
    "recommendations = gryffin.recommend(observations, sampling_strategies=sampling_strategies)\n",
    "\n",
    "print(f\"{len(recommendations)} Recommendations Generated.\")"
   ],
   "metadata": {
    "collapsed": false,
    "pycharm": {
     "name": "#%%\n"
    }
   }
  },
  {
   "cell_type": "markdown",
   "source": [
    "## Visualize and Upload Recommendations\n",
    "\n",
    "- generate hid and SMILES of the target molecules\n",
    "- create the synthesis entries in the database\n",
    "- save the recommendations as .png and .txt"
   ],
   "metadata": {
    "collapsed": false,
    "pycharm": {
     "name": "#%% md\n"
    }
   }
  },
  {
   "cell_type": "code",
   "execution_count": 9,
   "outputs": [],
   "source": [
    "for entry in recommendations:\n",
    "    frag_smiles = [data_handler.get_molecule(entry[frag]).at[0, \"smiles\"] for frag in fragments]\n",
    "    entry[\"smiles\"] = run_two_step_suzuki(*frag_smiles)\n",
    "    entry[\"hid\"] = \"\".join([entry[frag] for frag in fragments])\n",
    "\n",
    "img = Chem.Draw.MolsToGridImage(\n",
    "    [Chem.MolFromSmiles(rec[\"smiles\"]) for rec in recommendations],\n",
    "    molsPerRow=5,\n",
    "    subImgSize=(800,800),\n",
    "    legends=[rec[\"hid\"] for rec in recommendations],\n",
    "    returnPNG=False\n",
    ")\n",
    "img.save(f\"Iteration_{iteration}_{'_'.join(labs)}_all_samples.png\")"
   ],
   "metadata": {
    "collapsed": false,
    "pycharm": {
     "name": "#%%\n"
    }
   }
  },
  {
   "cell_type": "code",
   "execution_count": 10,
   "outputs": [],
   "source": [
    "with open(f\"Iteration_{iteration}_{'_'.join(labs)}_all_samples.txt\", \"w\") as file:\n",
    "    for entry in recommendations:\n",
    "        file.write(f\"{entry['hid']},{entry['smiles']}\\n\")\n",
    "\n",
    "        data_handler.create_target_compound(\n",
    "            fragments=[entry[frag] for frag in fragments],\n",
    "            smiles=entry[\"smiles\"]\n",
    "        )"
   ],
   "metadata": {
    "collapsed": false,
    "pycharm": {
     "name": "#%%\n"
    }
   }
  },
  {
   "cell_type": "code",
   "execution_count": null,
   "outputs": [],
   "source": [],
   "metadata": {
    "collapsed": false,
    "pycharm": {
     "name": "#%%\n"
    }
   }
  }
 ],
 "metadata": {
  "kernelspec": {
   "display_name": "Python 3",
   "language": "python",
   "name": "python3"
  },
  "language_info": {
   "codemirror_mode": {
    "name": "ipython",
    "version": 2
   },
   "file_extension": ".py",
   "mimetype": "text/x-python",
   "name": "python",
   "nbconvert_exporter": "python",
   "pygments_lexer": "ipython2",
   "version": "2.7.6"
  }
 },
 "nbformat": 4,
 "nbformat_minor": 0
}