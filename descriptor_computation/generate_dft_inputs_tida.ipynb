{
 "cells": [
  {
   "cell_type": "code",
   "execution_count": 24,
   "metadata": {},
   "outputs": [],
   "source": [
    "import glob\n",
    "import numpy as np\n",
    "import pandas as pd"
   ]
  },
  {
   "cell_type": "markdown",
   "metadata": {},
   "source": [
    "### Generate input files\n",
    "\n",
    "possible basis sets  : 631G*\n",
    "\n",
    "possible functionals : B3LYP"
   ]
  },
  {
   "cell_type": "code",
   "execution_count": 25,
   "metadata": {},
   "outputs": [],
   "source": [
    "def load_xyz(filename):\n",
    "    with open(filename, 'r') as content:\n",
    "        xyz = content.readlines()[2:]\n",
    "        #xyz = [_.strip('\\n') for _ in xyz]\n",
    "    return xyz\n",
    "\n",
    "def opt_input(filename, xyz, **kwargs):\n",
    "    charge = 0\n",
    "    mult   = 1\n",
    "\n",
    "    s = f'$molecule\\n{charge} {mult}\\n'\n",
    "    for line in xyz:\n",
    "        s += f' {line}'\n",
    "    s += '$end\\n\\n'\n",
    "    s += '$rem\\n'\n",
    "    s += f' BASIS = 6-31G*\\n'\n",
    "    s += f' GUI = 2\\n'\n",
    "    s += f' JOBTYPE = Optimization\\n'\n",
    "    s += f' METHOD = B3LYP\\n'\n",
    "    s += f' MOLDEN_FORMAT false\\n'\n",
    "    s += f'$end'\n",
    "    \n",
    "    with open(filename, 'w') as f:\n",
    "        f.write(s)\n",
    "    f.close()\n",
    "    \n",
    "\n",
    "def spe_input(filename, xyz, **kwargs):\n",
    "    charge, mult = 0, 1\n",
    "    s = f'$molecule\\n{charge} {mult}\\n'\n",
    "    for line in xyz:\n",
    "        s += f' {line}'\n",
    "    s += '$end\\n\\n'\n",
    "    s += '$rem\\n'\n",
    "    s += f' BASIS = 6-31G*\\n'\n",
    "    s += f' GUI = 2\\n'\n",
    "    s += f' METHOD = B3LYP\\n'\n",
    "    s += f' PRINT_ORBITALS false\\n'\n",
    "    s += f' MOLDEN_FORMAT false\\n'\n",
    "    s += f'$end'\n",
    "    \n",
    "    with open(filename, 'w') as f:\n",
    "        f.write(s)\n",
    "    f.close()\n",
    "    \n",
    "def tddft_input(filename, xyz, **kwargs):\n",
    "    charge, mult = 0, 1\n",
    "    s = f'$molecule\\n{charge} {mult}\\n'\n",
    "    for line in xyz:\n",
    "        s += f' {line}'\n",
    "    s += '$end\\n\\n'\n",
    "    s += '$rem\\n'\n",
    "    s += f' BASIS = 6-31G*\\n'\n",
    "    s += f' GUI = 2\\n'\n",
    "    s += f' METHOD = B3LYP\\n'\n",
    "    s += f' PRINT_ORBITALS false\\n'\n",
    "    s += f' MOLDEN_FORMAT false\\n'\n",
    "    s += f'$end'\n",
    "    \n",
    "    with open(filename, 'w') as f:\n",
    "        f.write(s)\n",
    "    f.close()\n",
    "    \n",
    "    \n",
    "# def generate_input_qchem(filename, xyz, charge, mult, omega,\n",
    "#                          functional = 'LRC-wPBE', basis_set = 'def2-SVP',\n",
    "#                          **kwargs):\n",
    "#     omega_fmt = int(omega*1e3)\n",
    "#     s = f'$molecule\\n{charge} {mult}\\n'\n",
    "#     for line in xyz:\n",
    "#         s += f' {line}'\n",
    "#     s += '$end\\n\\n'\n",
    "#     s += '$rem\\n'\n",
    "#     s += f' EXCHANGE  {functional}\\n'\n",
    "#     s += f' BASIS  {basis_set}\\n'\n",
    "#     s += f' LRC_DFT TRUE\\n'\n",
    "#     s += f' OMEGA {omega_fmt}\\n'\n",
    "#     s += f' PRINT_ORBITALS false\\n'\n",
    "#     s += f' MOLDEN_FORMAT false\\n'\n",
    "#     s += f'$end'\n",
    "\n",
    "#     with open(filename, 'w') as f:\n",
    "#         f.write(s)\n",
    "#     f.close()\n"
   ]
  },
  {
   "cell_type": "code",
   "execution_count": 19,
   "metadata": {},
   "outputs": [],
   "source": [
    "filename = 'fragments/A001/conf-0/xtbopt.xyz'"
   ]
  },
  {
   "cell_type": "code",
   "execution_count": 20,
   "metadata": {},
   "outputs": [],
   "source": [
    "xyz = load_xyz(filename)\n",
    "spe_input('fragments/A001/conf-0/spe_input.inp', xyz)\n",
    "tddft_input('fragments/A001/conf-0/tddft_input.inp', xyz)"
   ]
  },
  {
   "cell_type": "code",
   "execution_count": null,
   "metadata": {},
   "outputs": [],
   "source": []
  },
  {
   "cell_type": "code",
   "execution_count": 26,
   "metadata": {},
   "outputs": [
    {
     "data": {
      "text/plain": [
       "889"
      ]
     },
     "execution_count": 26,
     "metadata": {},
     "output_type": "execute_result"
    }
   ],
   "source": [
    "mol_dirs = glob.glob('fragments/*/conf-*/')\n",
    "# conf_dirs = mol_dirs.copy()\n",
    "len(mol_dirs)"
   ]
  },
  {
   "cell_type": "code",
   "execution_count": 32,
   "metadata": {},
   "outputs": [],
   "source": [
    "for dir_ in mol_dirs:\n",
    "    xyz = load_xyz(f'{dir_}xtbopt.xyz')\n",
    "    spe_input(f'{dir_}spe_input.inp', xyz)\n",
    "    tddft_input(f'{dir_}tddft_input.inp', xyz)\n",
    "    \n"
   ]
  },
  {
   "cell_type": "code",
   "execution_count": 28,
   "metadata": {},
   "outputs": [],
   "source": [
    "# get the job lists\n",
    "spe_jobs = []\n",
    "tddft_jobs = []\n",
    "for mol_dir in mol_dirs:\n",
    "    spe_jobs.append(f'{mol_dir}spe_input.inp')\n",
    "    tddft_jobs.append(f'{mol_dir}tddft_input.inp')"
   ]
  },
  {
   "cell_type": "code",
   "execution_count": 38,
   "metadata": {},
   "outputs": [
    {
     "data": {
      "text/plain": [
       "'fragments/C085/conf-7/'"
      ]
     },
     "execution_count": 38,
     "metadata": {},
     "output_type": "execute_result"
    }
   ],
   "source": [
    "spe_jobs[0][:-13]\n",
    "tddft_jobs[0][:-15]"
   ]
  },
  {
   "cell_type": "code",
   "execution_count": 39,
   "metadata": {},
   "outputs": [],
   "source": [
    "with open('spe_joblist.txt', 'w') as f:\n",
    "    for job in spe_jobs:\n",
    "        f.write(f'{job[:-13]}\\n')\n",
    "    \n",
    "with open('tddft_joblist.txt', 'w') as f:\n",
    "    for job in tddft_jobs:\n",
    "        f.write(f'{job[:-5]}\\n')"
   ]
  },
  {
   "cell_type": "code",
   "execution_count": null,
   "metadata": {},
   "outputs": [],
   "source": []
  },
  {
   "cell_type": "code",
   "execution_count": null,
   "metadata": {},
   "outputs": [],
   "source": []
  },
  {
   "cell_type": "markdown",
   "metadata": {},
   "source": [
    "### generate inputs for default lc-wpbe"
   ]
  },
  {
   "cell_type": "code",
   "execution_count": 9,
   "metadata": {},
   "outputs": [],
   "source": [
    "jobs = []\n",
    "for mol_id, omega in zip(opt_omegas['mol_id'], opt_omegas['omega']): #mol_ids\n",
    "    dir_ = f'mols_crest_done/{mol_id}/'    \n",
    "    confs = glob.glob(dir_+'conf-*/')\n",
    "    \n",
    "    for conf in confs:\n",
    "        xyz = load_xyz(f'{conf}/conformer.xyz')\n",
    "        #conf_id = conf.split('/')[-1].split('_')[-1].split('.')[0]\n",
    "#        print(conf_id)\n",
    "        generate_input_qchem(f'{conf}/def_lcwpbe_spe.inp', xyz, 0, 1, 0.4)\n",
    "        jobs.append(f'{conf}')"
   ]
  },
  {
   "cell_type": "code",
   "execution_count": 10,
   "metadata": {},
   "outputs": [],
   "source": [
    "with open('def_spe_joblist.txt', 'w') as f:\n",
    "    for job in jobs:\n",
    "        f.write(f'{job}\\n')"
   ]
  },
  {
   "cell_type": "code",
   "execution_count": 37,
   "metadata": {},
   "outputs": [],
   "source": [
    "# generate the geometry optimization inputs\n",
    "jobs = []\n",
    "functionals = ['BP86']\n",
    "for mol_id in mols: #mol_ids\n",
    "    dir_ = f'mols_crest_done/{mol_id}/'    \n",
    "    confs = glob.glob(dir_+'conf-*/')\n",
    "    \n",
    "    for conf in confs:\n",
    "        xyz = load_xyz(f'{conf}/conformer.xyz')\n",
    "        #conf_id = conf.split('/')[-1].split('_')[-1].split('.')[0]\n",
    "#        print(conf_id)\n",
    "        for functional in functionals:\n",
    "            opt_input(f'{conf}/{functional}_opt.inp', xyz)\n",
    "            jobs.append(f'{conf}')\n",
    "\n",
    "    "
   ]
  },
  {
   "cell_type": "code",
   "execution_count": 14,
   "metadata": {},
   "outputs": [
    {
     "data": {
      "text/plain": [
       "889"
      ]
     },
     "execution_count": 14,
     "metadata": {},
     "output_type": "execute_result"
    }
   ],
   "source": [
    "mol_dirs = glob.glob('fragments/*/conf-*/')\n",
    "# conf_dirs = mol_dirs.copy()\n",
    "len(mol_dirs)\n",
    "\n"
   ]
  },
  {
   "cell_type": "code",
   "execution_count": null,
   "metadata": {},
   "outputs": [],
   "source": []
  },
  {
   "cell_type": "code",
   "execution_count": null,
   "metadata": {},
   "outputs": [],
   "source": []
  },
  {
   "cell_type": "code",
   "execution_count": null,
   "metadata": {},
   "outputs": [],
   "source": []
  },
  {
   "cell_type": "code",
   "execution_count": null,
   "metadata": {},
   "outputs": [],
   "source": []
  },
  {
   "cell_type": "code",
   "execution_count": null,
   "metadata": {},
   "outputs": [],
   "source": []
  },
  {
   "cell_type": "code",
   "execution_count": 39,
   "metadata": {},
   "outputs": [],
   "source": [
    "with open('opt_joblist.txt', 'w') as f:\n",
    "    for job in jobs:\n",
    "        f.write(f'{job}\\n')"
   ]
  },
  {
   "cell_type": "code",
   "execution_count": null,
   "metadata": {},
   "outputs": [],
   "source": []
  },
  {
   "cell_type": "markdown",
   "metadata": {},
   "source": [
    "### generate the input files for the DFT geometry optimizations from CREST ensenble"
   ]
  },
  {
   "cell_type": "code",
   "execution_count": null,
   "metadata": {},
   "outputs": [],
   "source": []
  },
  {
   "cell_type": "code",
   "execution_count": 40,
   "metadata": {},
   "outputs": [],
   "source": [
    "# generate the single points\n",
    "jobs = []\n",
    "functionals = ['BP86', 'B3LYP', 'PBE0', 'M06-2X']\n",
    "for mol_id in mols: #mol_ids\n",
    "    dir_ = f'mols_crest_done/{mol_id}/'    \n",
    "    confs = glob.glob(dir_+'conf-*/')\n",
    "    \n",
    "    for conf in confs:\n",
    "        xyz = load_xyz(f'{conf}/conformer.xyz')\n",
    "        #conf_id = conf.split('/')[-1].split('_')[-1].split('.')[0]\n",
    "#        print(conf_id)\n",
    "        for functional in functionals:\n",
    "            spe_input(f'{conf}/{functional}_spe.inp', xyz, functional)\n",
    "        jobs.append(f'{conf}')\n"
   ]
  },
  {
   "cell_type": "code",
   "execution_count": 42,
   "metadata": {},
   "outputs": [
    {
     "data": {
      "text/plain": [
       "1912"
      ]
     },
     "execution_count": 42,
     "metadata": {},
     "output_type": "execute_result"
    }
   ],
   "source": [
    ";"
   ]
  },
  {
   "cell_type": "code",
   "execution_count": null,
   "metadata": {},
   "outputs": [],
   "source": []
  }
 ],
 "metadata": {
  "kernelspec": {
   "display_name": "base",
   "language": "python",
   "name": "base"
  },
  "language_info": {
   "codemirror_mode": {
    "name": "ipython",
    "version": 3
   },
   "file_extension": ".py",
   "mimetype": "text/x-python",
   "name": "python",
   "nbconvert_exporter": "python",
   "pygments_lexer": "ipython3",
   "version": "3.7.6"
  }
 },
 "nbformat": 4,
 "nbformat_minor": 4
}
