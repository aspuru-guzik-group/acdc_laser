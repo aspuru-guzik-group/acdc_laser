{
 "cells": [
  {
   "cell_type": "code",
   "execution_count": 1,
   "id": "87d90574",
   "metadata": {},
   "outputs": [],
   "source": [
    "%load_ext autoreload\n",
    "%autoreload 2"
   ]
  },
  {
   "cell_type": "code",
   "execution_count": 2,
   "id": "7adfedfc",
   "metadata": {},
   "outputs": [
    {
     "name": "stderr",
     "output_type": "stream",
     "text": [
      "2022-02-13 16:07:10.335403: W tensorflow/stream_executor/platform/default/dso_loader.cc:64] Could not load dynamic library 'libcudart.so.11.0'; dlerror: libcudart.so.11.0: cannot open shared object file: No such file or directory; LD_LIBRARY_PATH: /usr/lib/cuda/include:/usr/lib/cuda/lib64:/home/riley/Software/orca:\n",
      "2022-02-13 16:07:10.335424: I tensorflow/stream_executor/cuda/cudart_stub.cc:29] Ignore above cudart dlerror if you do not have a GPU set up on your machine.\n"
     ]
    }
   ],
   "source": [
    "import os, sys\n",
    "import time\n",
    "import pickle\n",
    "\n",
    "import numpy as np\n",
    "import pandas as pd\n",
    "\n",
    "import rdkit\n",
    "import rdkit.Chem as chem\n",
    "import rdkit.Chem.AllChem as allchem\n",
    "\n",
    "from gryffin import Gryffin\n",
    "\n",
    "from molar_interface import MolarInterface"
   ]
  },
  {
   "cell_type": "markdown",
   "id": "07668d40",
   "metadata": {},
   "source": [
    "## Make connection to the MolarDB "
   ]
  },
  {
   "cell_type": "code",
   "execution_count": 3,
   "id": "3e30ae8d",
   "metadata": {},
   "outputs": [],
   "source": [
    "# define user details\n",
    "user_details = {\n",
    "    'email':'riley.hickman13@gmail.com',\n",
    "    'password':'az1$jH5v',\n",
    "}\n"
   ]
  },
  {
   "cell_type": "code",
   "execution_count": 4,
   "id": "d2796b63",
   "metadata": {},
   "outputs": [
    {
     "data": {
      "text/plain": [
       "{'email': 'riley.hickman13@gmail.com',\n",
       " 'is_superuser': False,\n",
       " 'is_active': True,\n",
       " 'full_name': 'rileyhickman',\n",
       " 'created_on': '2022-01-18T19:16:33.241173',\n",
       " 'user_id': 3}"
      ]
     },
     "execution_count": 4,
     "metadata": {},
     "output_type": "execute_result"
    }
   ],
   "source": [
    "db = MolarInterface(user_details, database_name='madness_laser') # client in client attribute\n",
    "db.client.test_token()"
   ]
  },
  {
   "cell_type": "markdown",
   "id": "f67f5408",
   "metadata": {},
   "source": [
    "## Retrieve the first set of molecules in the DB\n",
    "\n",
    "We use a filtered query to return all of the molecules for which we have tried to measure the optical properties. "
   ]
  },
  {
   "cell_type": "code",
   "execution_count": 5,
   "id": "f79fb417",
   "metadata": {},
   "outputs": [],
   "source": [
    "# custom query to get the molecules with the optical properties\n",
    "df = db.client.query_database(\n",
    "    [\n",
    "      'machine',\n",
    "      'lab',\n",
    "      'synthesis',\n",
    "      'molecule',\n",
    "      'molecule_molecule',\n",
    "      'molecule.optical_properties',\n",
    "    ],\n",
    "    joins = [\n",
    "      {\n",
    "        'type': 'molecule',\n",
    "        'on': {\n",
    "          'column1': 'molecule.molecule_id',\n",
    "          'column2': 'synthesis.molecule_id',\n",
    "            \n",
    "        },\n",
    "      },\n",
    "      {\n",
    "        'type': 'molecule_molecule',\n",
    "        'on': {\n",
    "          'column1': 'molecule_molecule.molecule_id',\n",
    "          'column2': 'molecule.molecule_id',\n",
    "        },\n",
    "      },\n",
    "      {\n",
    "        'type': 'machine',\n",
    "        'on': {\n",
    "          'column1': 'machine.machine_id',\n",
    "          'column2': 'synthesis.machine_id',\n",
    "        },\n",
    "      },\n",
    "      {\n",
    "        'type': 'lab',\n",
    "        'on': {\n",
    "          'column1': 'lab.lab_id',\n",
    "          'column2': 'synthesis.lab_id',\n",
    "        },\n",
    "      },\n",
    "    ],\n",
    "limit=1000)"
   ]
  },
  {
   "cell_type": "code",
   "execution_count": 6,
   "id": "b75ae3f6",
   "metadata": {},
   "outputs": [
    {
     "name": "stdout",
     "output_type": "stream",
     "text": [
      "(118, 32)\n"
     ]
    },
    {
     "data": {
      "text/html": [
       "<div>\n",
       "<style scoped>\n",
       "    .dataframe tbody tr th:only-of-type {\n",
       "        vertical-align: middle;\n",
       "    }\n",
       "\n",
       "    .dataframe tbody tr th {\n",
       "        vertical-align: top;\n",
       "    }\n",
       "\n",
       "    .dataframe thead th {\n",
       "        text-align: right;\n",
       "    }\n",
       "</style>\n",
       "<table border=\"1\" class=\"dataframe\">\n",
       "  <thead>\n",
       "    <tr style=\"text-align: right;\">\n",
       "      <th></th>\n",
       "      <th>machine.machine_id</th>\n",
       "      <th>machine.created_on</th>\n",
       "      <th>machine.updated_on</th>\n",
       "      <th>machine.name</th>\n",
       "      <th>machine.lab_id</th>\n",
       "      <th>lab.lab_id</th>\n",
       "      <th>lab.created_on</th>\n",
       "      <th>lab.updated_on</th>\n",
       "      <th>lab.name</th>\n",
       "      <th>synthesis.synthesis_id</th>\n",
       "      <th>...</th>\n",
       "      <th>molecule_molecule.created_on</th>\n",
       "      <th>molecule_molecule.updated_on</th>\n",
       "      <th>molecule_molecule.fragment_a</th>\n",
       "      <th>molecule_molecule.fragment_b</th>\n",
       "      <th>molecule_molecule.fragment_c</th>\n",
       "      <th>molecule_molecule.molecule_id</th>\n",
       "      <th>synthesis.parcel_tracking_num</th>\n",
       "      <th>molecule.hid</th>\n",
       "      <th>molecule.commercially_available</th>\n",
       "      <th>molecule.molecule_type_id</th>\n",
       "    </tr>\n",
       "  </thead>\n",
       "  <tbody>\n",
       "    <tr>\n",
       "      <th>0</th>\n",
       "      <td>5600f641-b180-41b1-8043-921e66107744</td>\n",
       "      <td>2022-01-18T12:59:47.995614</td>\n",
       "      <td>2022-01-18T12:59:47.995614</td>\n",
       "      <td>The Machine</td>\n",
       "      <td>b65835e3-b908-45c6-9995-ec98d0caafe7</td>\n",
       "      <td>b65835e3-b908-45c6-9995-ec98d0caafe7</td>\n",
       "      <td>2022-01-18T12:59:47.145756</td>\n",
       "      <td>2022-01-18T12:59:47.145756</td>\n",
       "      <td>Illinois</td>\n",
       "      <td>8cf4e82b-6075-460d-a2ad-cb492f4c4b93</td>\n",
       "      <td>...</td>\n",
       "      <td>2022-02-03T14:24:29.817992</td>\n",
       "      <td>2022-02-03T14:24:29.817992</td>\n",
       "      <td>56471498-825e-47e7-a772-136f0f7bd817</td>\n",
       "      <td>d1bb232c-b83a-49cb-bcec-0e02558a6c41</td>\n",
       "      <td>fb544fb8-5588-41af-ab92-fcc8c3b4e052</td>\n",
       "      <td>b33b1cc9-81d8-4833-803f-466411581a4d</td>\n",
       "      <td>None</td>\n",
       "      <td>None</td>\n",
       "      <td>None</td>\n",
       "      <td>None</td>\n",
       "    </tr>\n",
       "    <tr>\n",
       "      <th>1</th>\n",
       "      <td>5600f641-b180-41b1-8043-921e66107744</td>\n",
       "      <td>2022-01-18T12:59:47.995614</td>\n",
       "      <td>2022-01-18T12:59:47.995614</td>\n",
       "      <td>The Machine</td>\n",
       "      <td>b65835e3-b908-45c6-9995-ec98d0caafe7</td>\n",
       "      <td>b65835e3-b908-45c6-9995-ec98d0caafe7</td>\n",
       "      <td>2022-01-18T12:59:47.145756</td>\n",
       "      <td>2022-01-18T12:59:47.145756</td>\n",
       "      <td>Illinois</td>\n",
       "      <td>43283ee2-6110-4460-aa57-08cedd716cbd</td>\n",
       "      <td>...</td>\n",
       "      <td>2022-02-09T22:03:57.061626</td>\n",
       "      <td>2022-02-09T22:03:57.061626</td>\n",
       "      <td>05ca4304-bea5-41b7-a7f1-c2bc46462153</td>\n",
       "      <td>d1bb232c-b83a-49cb-bcec-0e02558a6c41</td>\n",
       "      <td>b0ee7203-c40b-4f5b-9b32-c647bd61ddf1</td>\n",
       "      <td>322b8304-39b5-49bc-a307-99719f0d5911</td>\n",
       "      <td>775853526901</td>\n",
       "      <td>None</td>\n",
       "      <td>None</td>\n",
       "      <td>None</td>\n",
       "    </tr>\n",
       "    <tr>\n",
       "      <th>2</th>\n",
       "      <td>f158c26e-a94e-4994-9a95-de324aa1da23</td>\n",
       "      <td>2022-01-18T12:59:46.312079</td>\n",
       "      <td>2022-01-18T12:59:46.312079</td>\n",
       "      <td>ChemSpeed</td>\n",
       "      <td>08cc75ca-8d1e-4ead-9b56-ad1b6ba83a41</td>\n",
       "      <td>08cc75ca-8d1e-4ead-9b56-ad1b6ba83a41</td>\n",
       "      <td>2022-01-18T12:59:44.418607</td>\n",
       "      <td>2022-01-18T12:59:44.418607</td>\n",
       "      <td>Toronto</td>\n",
       "      <td>695c1c55-bf6a-4265-b68d-4655999a7b85</td>\n",
       "      <td>...</td>\n",
       "      <td>2022-02-11T16:19:41.240088</td>\n",
       "      <td>2022-02-11T16:19:41.240088</td>\n",
       "      <td>6bf2b5a1-c157-4b5a-8a80-bf0b44704273</td>\n",
       "      <td>45cb409f-376c-4f89-8ee7-79595d2668e7</td>\n",
       "      <td>2d83fadb-4b36-42a3-a29d-1ff30b8972d6</td>\n",
       "      <td>539c5e5e-25fa-457d-a2c0-ecf3f88c36f3</td>\n",
       "      <td>None</td>\n",
       "      <td>A001B003C001</td>\n",
       "      <td>False</td>\n",
       "      <td>a06a38b6-78b6-4fcc-8a61-3fe9d0af7cea</td>\n",
       "    </tr>\n",
       "    <tr>\n",
       "      <th>3</th>\n",
       "      <td>f158c26e-a94e-4994-9a95-de324aa1da23</td>\n",
       "      <td>2022-01-18T12:59:46.312079</td>\n",
       "      <td>2022-01-18T12:59:46.312079</td>\n",
       "      <td>ChemSpeed</td>\n",
       "      <td>08cc75ca-8d1e-4ead-9b56-ad1b6ba83a41</td>\n",
       "      <td>08cc75ca-8d1e-4ead-9b56-ad1b6ba83a41</td>\n",
       "      <td>2022-01-18T12:59:44.418607</td>\n",
       "      <td>2022-01-18T12:59:44.418607</td>\n",
       "      <td>Toronto</td>\n",
       "      <td>9a71f775-c341-42b1-ab7a-cd0917b5e80f</td>\n",
       "      <td>...</td>\n",
       "      <td>2022-02-11T16:19:42.453093</td>\n",
       "      <td>2022-02-11T16:19:42.453093</td>\n",
       "      <td>6bf2b5a1-c157-4b5a-8a80-bf0b44704273</td>\n",
       "      <td>45cb409f-376c-4f89-8ee7-79595d2668e7</td>\n",
       "      <td>d84002d6-88ab-4007-80e3-629404e64478</td>\n",
       "      <td>3275cec5-919c-4f18-bb4c-2ec941f7db3b</td>\n",
       "      <td>None</td>\n",
       "      <td>A001B003C002</td>\n",
       "      <td>False</td>\n",
       "      <td>a06a38b6-78b6-4fcc-8a61-3fe9d0af7cea</td>\n",
       "    </tr>\n",
       "    <tr>\n",
       "      <th>4</th>\n",
       "      <td>f158c26e-a94e-4994-9a95-de324aa1da23</td>\n",
       "      <td>2022-01-18T12:59:46.312079</td>\n",
       "      <td>2022-01-18T12:59:46.312079</td>\n",
       "      <td>ChemSpeed</td>\n",
       "      <td>08cc75ca-8d1e-4ead-9b56-ad1b6ba83a41</td>\n",
       "      <td>08cc75ca-8d1e-4ead-9b56-ad1b6ba83a41</td>\n",
       "      <td>2022-01-18T12:59:44.418607</td>\n",
       "      <td>2022-01-18T12:59:44.418607</td>\n",
       "      <td>Toronto</td>\n",
       "      <td>8cf70e33-a879-4ab7-879f-5284da51c300</td>\n",
       "      <td>...</td>\n",
       "      <td>2022-02-11T16:19:43.720683</td>\n",
       "      <td>2022-02-11T16:19:43.720683</td>\n",
       "      <td>6bf2b5a1-c157-4b5a-8a80-bf0b44704273</td>\n",
       "      <td>45cb409f-376c-4f89-8ee7-79595d2668e7</td>\n",
       "      <td>c995b067-f927-40cc-98ce-f067b07ef086</td>\n",
       "      <td>63bd1d6d-3e81-48ae-9535-e04dc6d9d32f</td>\n",
       "      <td>None</td>\n",
       "      <td>A001B003C003</td>\n",
       "      <td>False</td>\n",
       "      <td>a06a38b6-78b6-4fcc-8a61-3fe9d0af7cea</td>\n",
       "    </tr>\n",
       "  </tbody>\n",
       "</table>\n",
       "<p>5 rows × 32 columns</p>\n",
       "</div>"
      ],
      "text/plain": [
       "                     machine.machine_id          machine.created_on  \\\n",
       "0  5600f641-b180-41b1-8043-921e66107744  2022-01-18T12:59:47.995614   \n",
       "1  5600f641-b180-41b1-8043-921e66107744  2022-01-18T12:59:47.995614   \n",
       "2  f158c26e-a94e-4994-9a95-de324aa1da23  2022-01-18T12:59:46.312079   \n",
       "3  f158c26e-a94e-4994-9a95-de324aa1da23  2022-01-18T12:59:46.312079   \n",
       "4  f158c26e-a94e-4994-9a95-de324aa1da23  2022-01-18T12:59:46.312079   \n",
       "\n",
       "           machine.updated_on machine.name  \\\n",
       "0  2022-01-18T12:59:47.995614  The Machine   \n",
       "1  2022-01-18T12:59:47.995614  The Machine   \n",
       "2  2022-01-18T12:59:46.312079    ChemSpeed   \n",
       "3  2022-01-18T12:59:46.312079    ChemSpeed   \n",
       "4  2022-01-18T12:59:46.312079    ChemSpeed   \n",
       "\n",
       "                         machine.lab_id                            lab.lab_id  \\\n",
       "0  b65835e3-b908-45c6-9995-ec98d0caafe7  b65835e3-b908-45c6-9995-ec98d0caafe7   \n",
       "1  b65835e3-b908-45c6-9995-ec98d0caafe7  b65835e3-b908-45c6-9995-ec98d0caafe7   \n",
       "2  08cc75ca-8d1e-4ead-9b56-ad1b6ba83a41  08cc75ca-8d1e-4ead-9b56-ad1b6ba83a41   \n",
       "3  08cc75ca-8d1e-4ead-9b56-ad1b6ba83a41  08cc75ca-8d1e-4ead-9b56-ad1b6ba83a41   \n",
       "4  08cc75ca-8d1e-4ead-9b56-ad1b6ba83a41  08cc75ca-8d1e-4ead-9b56-ad1b6ba83a41   \n",
       "\n",
       "               lab.created_on              lab.updated_on  lab.name  \\\n",
       "0  2022-01-18T12:59:47.145756  2022-01-18T12:59:47.145756  Illinois   \n",
       "1  2022-01-18T12:59:47.145756  2022-01-18T12:59:47.145756  Illinois   \n",
       "2  2022-01-18T12:59:44.418607  2022-01-18T12:59:44.418607   Toronto   \n",
       "3  2022-01-18T12:59:44.418607  2022-01-18T12:59:44.418607   Toronto   \n",
       "4  2022-01-18T12:59:44.418607  2022-01-18T12:59:44.418607   Toronto   \n",
       "\n",
       "                 synthesis.synthesis_id  ... molecule_molecule.created_on  \\\n",
       "0  8cf4e82b-6075-460d-a2ad-cb492f4c4b93  ...   2022-02-03T14:24:29.817992   \n",
       "1  43283ee2-6110-4460-aa57-08cedd716cbd  ...   2022-02-09T22:03:57.061626   \n",
       "2  695c1c55-bf6a-4265-b68d-4655999a7b85  ...   2022-02-11T16:19:41.240088   \n",
       "3  9a71f775-c341-42b1-ab7a-cd0917b5e80f  ...   2022-02-11T16:19:42.453093   \n",
       "4  8cf70e33-a879-4ab7-879f-5284da51c300  ...   2022-02-11T16:19:43.720683   \n",
       "\n",
       "  molecule_molecule.updated_on          molecule_molecule.fragment_a  \\\n",
       "0   2022-02-03T14:24:29.817992  56471498-825e-47e7-a772-136f0f7bd817   \n",
       "1   2022-02-09T22:03:57.061626  05ca4304-bea5-41b7-a7f1-c2bc46462153   \n",
       "2   2022-02-11T16:19:41.240088  6bf2b5a1-c157-4b5a-8a80-bf0b44704273   \n",
       "3   2022-02-11T16:19:42.453093  6bf2b5a1-c157-4b5a-8a80-bf0b44704273   \n",
       "4   2022-02-11T16:19:43.720683  6bf2b5a1-c157-4b5a-8a80-bf0b44704273   \n",
       "\n",
       "           molecule_molecule.fragment_b          molecule_molecule.fragment_c  \\\n",
       "0  d1bb232c-b83a-49cb-bcec-0e02558a6c41  fb544fb8-5588-41af-ab92-fcc8c3b4e052   \n",
       "1  d1bb232c-b83a-49cb-bcec-0e02558a6c41  b0ee7203-c40b-4f5b-9b32-c647bd61ddf1   \n",
       "2  45cb409f-376c-4f89-8ee7-79595d2668e7  2d83fadb-4b36-42a3-a29d-1ff30b8972d6   \n",
       "3  45cb409f-376c-4f89-8ee7-79595d2668e7  d84002d6-88ab-4007-80e3-629404e64478   \n",
       "4  45cb409f-376c-4f89-8ee7-79595d2668e7  c995b067-f927-40cc-98ce-f067b07ef086   \n",
       "\n",
       "          molecule_molecule.molecule_id synthesis.parcel_tracking_num  \\\n",
       "0  b33b1cc9-81d8-4833-803f-466411581a4d                          None   \n",
       "1  322b8304-39b5-49bc-a307-99719f0d5911                  775853526901   \n",
       "2  539c5e5e-25fa-457d-a2c0-ecf3f88c36f3                          None   \n",
       "3  3275cec5-919c-4f18-bb4c-2ec941f7db3b                          None   \n",
       "4  63bd1d6d-3e81-48ae-9535-e04dc6d9d32f                          None   \n",
       "\n",
       "   molecule.hid molecule.commercially_available  \\\n",
       "0          None                            None   \n",
       "1          None                            None   \n",
       "2  A001B003C001                           False   \n",
       "3  A001B003C002                           False   \n",
       "4  A001B003C003                           False   \n",
       "\n",
       "              molecule.molecule_type_id  \n",
       "0                                  None  \n",
       "1                                  None  \n",
       "2  a06a38b6-78b6-4fcc-8a61-3fe9d0af7cea  \n",
       "3  a06a38b6-78b6-4fcc-8a61-3fe9d0af7cea  \n",
       "4  a06a38b6-78b6-4fcc-8a61-3fe9d0af7cea  \n",
       "\n",
       "[5 rows x 32 columns]"
      ]
     },
     "execution_count": 6,
     "metadata": {},
     "output_type": "execute_result"
    }
   ],
   "source": [
    "print(df.shape)\n",
    "df.head()"
   ]
  },
  {
   "cell_type": "code",
   "execution_count": 7,
   "id": "130cdb50",
   "metadata": {},
   "outputs": [
    {
     "data": {
      "text/plain": [
       "array(['PROCESSING', 'SHIPPED', 'DONE', 'FAILED'], dtype=object)"
      ]
     },
     "execution_count": 7,
     "metadata": {},
     "output_type": "execute_result"
    }
   ],
   "source": [
    "df['synthesis.status'].unique()"
   ]
  },
  {
   "cell_type": "code",
   "execution_count": null,
   "id": "3aeff1df",
   "metadata": {},
   "outputs": [],
   "source": []
  },
  {
   "cell_type": "code",
   "execution_count": 8,
   "id": "05f806f9",
   "metadata": {},
   "outputs": [
    {
     "name": "stdout",
     "output_type": "stream",
     "text": [
      "NUM IN PROGRESS :  2\n",
      "NUM FINISHED :  116\n"
     ]
    },
    {
     "data": {
      "text/html": [
       "<div>\n",
       "<style scoped>\n",
       "    .dataframe tbody tr th:only-of-type {\n",
       "        vertical-align: middle;\n",
       "    }\n",
       "\n",
       "    .dataframe tbody tr th {\n",
       "        vertical-align: top;\n",
       "    }\n",
       "\n",
       "    .dataframe thead th {\n",
       "        text-align: right;\n",
       "    }\n",
       "</style>\n",
       "<table border=\"1\" class=\"dataframe\">\n",
       "  <thead>\n",
       "    <tr style=\"text-align: right;\">\n",
       "      <th></th>\n",
       "      <th>machine.machine_id</th>\n",
       "      <th>machine.created_on</th>\n",
       "      <th>machine.updated_on</th>\n",
       "      <th>machine.name</th>\n",
       "      <th>machine.lab_id</th>\n",
       "      <th>lab.lab_id</th>\n",
       "      <th>lab.created_on</th>\n",
       "      <th>lab.updated_on</th>\n",
       "      <th>lab.name</th>\n",
       "      <th>synthesis.synthesis_id</th>\n",
       "      <th>...</th>\n",
       "      <th>molecule_molecule.created_on</th>\n",
       "      <th>molecule_molecule.updated_on</th>\n",
       "      <th>molecule_molecule.fragment_a</th>\n",
       "      <th>molecule_molecule.fragment_b</th>\n",
       "      <th>molecule_molecule.fragment_c</th>\n",
       "      <th>molecule_molecule.molecule_id</th>\n",
       "      <th>synthesis.parcel_tracking_num</th>\n",
       "      <th>molecule.hid</th>\n",
       "      <th>molecule.commercially_available</th>\n",
       "      <th>molecule.molecule_type_id</th>\n",
       "    </tr>\n",
       "  </thead>\n",
       "  <tbody>\n",
       "    <tr>\n",
       "      <th>0</th>\n",
       "      <td>5600f641-b180-41b1-8043-921e66107744</td>\n",
       "      <td>2022-01-18T12:59:47.995614</td>\n",
       "      <td>2022-01-18T12:59:47.995614</td>\n",
       "      <td>The Machine</td>\n",
       "      <td>b65835e3-b908-45c6-9995-ec98d0caafe7</td>\n",
       "      <td>b65835e3-b908-45c6-9995-ec98d0caafe7</td>\n",
       "      <td>2022-01-18T12:59:47.145756</td>\n",
       "      <td>2022-01-18T12:59:47.145756</td>\n",
       "      <td>Illinois</td>\n",
       "      <td>8cf4e82b-6075-460d-a2ad-cb492f4c4b93</td>\n",
       "      <td>...</td>\n",
       "      <td>2022-02-03T14:24:29.817992</td>\n",
       "      <td>2022-02-03T14:24:29.817992</td>\n",
       "      <td>56471498-825e-47e7-a772-136f0f7bd817</td>\n",
       "      <td>d1bb232c-b83a-49cb-bcec-0e02558a6c41</td>\n",
       "      <td>fb544fb8-5588-41af-ab92-fcc8c3b4e052</td>\n",
       "      <td>b33b1cc9-81d8-4833-803f-466411581a4d</td>\n",
       "      <td>None</td>\n",
       "      <td>None</td>\n",
       "      <td>None</td>\n",
       "      <td>None</td>\n",
       "    </tr>\n",
       "    <tr>\n",
       "      <th>1</th>\n",
       "      <td>5600f641-b180-41b1-8043-921e66107744</td>\n",
       "      <td>2022-01-18T12:59:47.995614</td>\n",
       "      <td>2022-01-18T12:59:47.995614</td>\n",
       "      <td>The Machine</td>\n",
       "      <td>b65835e3-b908-45c6-9995-ec98d0caafe7</td>\n",
       "      <td>b65835e3-b908-45c6-9995-ec98d0caafe7</td>\n",
       "      <td>2022-01-18T12:59:47.145756</td>\n",
       "      <td>2022-01-18T12:59:47.145756</td>\n",
       "      <td>Illinois</td>\n",
       "      <td>43283ee2-6110-4460-aa57-08cedd716cbd</td>\n",
       "      <td>...</td>\n",
       "      <td>2022-02-09T22:03:57.061626</td>\n",
       "      <td>2022-02-09T22:03:57.061626</td>\n",
       "      <td>05ca4304-bea5-41b7-a7f1-c2bc46462153</td>\n",
       "      <td>d1bb232c-b83a-49cb-bcec-0e02558a6c41</td>\n",
       "      <td>b0ee7203-c40b-4f5b-9b32-c647bd61ddf1</td>\n",
       "      <td>322b8304-39b5-49bc-a307-99719f0d5911</td>\n",
       "      <td>775853526901</td>\n",
       "      <td>None</td>\n",
       "      <td>None</td>\n",
       "      <td>None</td>\n",
       "    </tr>\n",
       "  </tbody>\n",
       "</table>\n",
       "<p>2 rows × 32 columns</p>\n",
       "</div>"
      ],
      "text/plain": [
       "                     machine.machine_id          machine.created_on  \\\n",
       "0  5600f641-b180-41b1-8043-921e66107744  2022-01-18T12:59:47.995614   \n",
       "1  5600f641-b180-41b1-8043-921e66107744  2022-01-18T12:59:47.995614   \n",
       "\n",
       "           machine.updated_on machine.name  \\\n",
       "0  2022-01-18T12:59:47.995614  The Machine   \n",
       "1  2022-01-18T12:59:47.995614  The Machine   \n",
       "\n",
       "                         machine.lab_id                            lab.lab_id  \\\n",
       "0  b65835e3-b908-45c6-9995-ec98d0caafe7  b65835e3-b908-45c6-9995-ec98d0caafe7   \n",
       "1  b65835e3-b908-45c6-9995-ec98d0caafe7  b65835e3-b908-45c6-9995-ec98d0caafe7   \n",
       "\n",
       "               lab.created_on              lab.updated_on  lab.name  \\\n",
       "0  2022-01-18T12:59:47.145756  2022-01-18T12:59:47.145756  Illinois   \n",
       "1  2022-01-18T12:59:47.145756  2022-01-18T12:59:47.145756  Illinois   \n",
       "\n",
       "                 synthesis.synthesis_id  ... molecule_molecule.created_on  \\\n",
       "0  8cf4e82b-6075-460d-a2ad-cb492f4c4b93  ...   2022-02-03T14:24:29.817992   \n",
       "1  43283ee2-6110-4460-aa57-08cedd716cbd  ...   2022-02-09T22:03:57.061626   \n",
       "\n",
       "  molecule_molecule.updated_on          molecule_molecule.fragment_a  \\\n",
       "0   2022-02-03T14:24:29.817992  56471498-825e-47e7-a772-136f0f7bd817   \n",
       "1   2022-02-09T22:03:57.061626  05ca4304-bea5-41b7-a7f1-c2bc46462153   \n",
       "\n",
       "           molecule_molecule.fragment_b          molecule_molecule.fragment_c  \\\n",
       "0  d1bb232c-b83a-49cb-bcec-0e02558a6c41  fb544fb8-5588-41af-ab92-fcc8c3b4e052   \n",
       "1  d1bb232c-b83a-49cb-bcec-0e02558a6c41  b0ee7203-c40b-4f5b-9b32-c647bd61ddf1   \n",
       "\n",
       "          molecule_molecule.molecule_id synthesis.parcel_tracking_num  \\\n",
       "0  b33b1cc9-81d8-4833-803f-466411581a4d                          None   \n",
       "1  322b8304-39b5-49bc-a307-99719f0d5911                  775853526901   \n",
       "\n",
       "  molecule.hid molecule.commercially_available molecule.molecule_type_id  \n",
       "0         None                            None                      None  \n",
       "1         None                            None                      None  \n",
       "\n",
       "[2 rows x 32 columns]"
      ]
     },
     "execution_count": 8,
     "metadata": {},
     "output_type": "execute_result"
    }
   ],
   "source": [
    "# get the sub dataframe of all molecules that are either SHIPPED OR IN PROCESSING\n",
    "# these will be constrained in the Gryffin acquisition\n",
    "df_proc = df[df['synthesis.status'].isin(['SHIPPED', 'PROCESSING'])]\n",
    "print('NUM IN PROGRESS : ', df_proc.shape[0])\n",
    "\n",
    "# get all the entries for which the status is DONE\n",
    "df_done = df[df['synthesis.status'].isin(['DONE', 'FAILED'])]\n",
    "print('NUM FINISHED : ', df_done.shape[0])\n",
    "\n",
    "df_proc.head()"
   ]
  },
  {
   "cell_type": "code",
   "execution_count": null,
   "id": "a4750092",
   "metadata": {},
   "outputs": [],
   "source": []
  },
  {
   "cell_type": "code",
   "execution_count": 12,
   "id": "87857491",
   "metadata": {},
   "outputs": [],
   "source": [
    "# get the fragment details for the fragments\n",
    "\n",
    "def make_gryffin_observations(df_done):\n",
    "    ''' prepare typical list of dictionary-style observations for Gryffin. This function\n",
    "    considers all failed experiments as nan-valued objectives. We do not consider the cause\n",
    "    for failure here (future improvement). This function is quite slow with all the calls to \n",
    "    the db about the fragments - make more efficient\n",
    "    '''\n",
    "    # prepare observation list for Gryffin\n",
    "    observations = []\n",
    "\n",
    "    for _, row in df_done.iterrows():\n",
    "        row = row.to_dict()\n",
    "        frag_a_hid = db.get_fragment_details(\n",
    "                    row['molecule_molecule.fragment_a'], identifier_type='molecule_id'\n",
    "            )['id']\n",
    "        frag_b_hid = db.get_fragment_details(\n",
    "                    row['molecule_molecule.fragment_b'], identifier_type='molecule_id'\n",
    "            )['id']\n",
    "        frag_c_hid = db.get_fragment_details(\n",
    "                    row['molecule_molecule.fragment_c'], identifier_type='molecule_id'\n",
    "            )['id']\n",
    "        opt_prop = row['molecule.optical_properties']\n",
    "\n",
    "        if row['synthesis.status']=='DONE':\n",
    "            # we should have some optical properties, we can use this data to train Gryffin\n",
    "            assert opt_prop!={}\n",
    "            obj = opt_prop['gain_cross_section']\n",
    "            assert type(obj)==float\n",
    "\n",
    "        elif row['synthesis.status']=='FAILED':\n",
    "            # failed experiment, pass value to gryffin with nan objective value\n",
    "            obj = np.nan\n",
    "        else:\n",
    "            raise NotImplementedError\n",
    "        observations.append(\n",
    "            {'frag_a': frag_a_hid, 'frag_b': frag_b_hid, 'frag_c': frag_c_hid, 'obj': obj}\n",
    "        )\n",
    "        \n",
    "    return observations\n",
    "\n",
    "\n",
    "    \n",
    "def get_processing_molecules(df_proc):\n",
    "    ''' prepare a list of molecule hids which are in progress\n",
    "    '''\n",
    "    proc_hids = []\n",
    "    for _, row in df_proc.iterrows():\n",
    "        row = row.to_dict()\n",
    "        frag_a_hid = db.get_fragment_details(\n",
    "                    row['molecule_molecule.fragment_a'], identifier_type='molecule_id'\n",
    "            )['id']\n",
    "        frag_b_hid = db.get_fragment_details(\n",
    "                    row['molecule_molecule.fragment_b'], identifier_type='molecule_id'\n",
    "            )['id']\n",
    "        frag_c_hid = db.get_fragment_details(\n",
    "                    row['molecule_molecule.fragment_c'], identifier_type='molecule_id'\n",
    "            )['id']\n",
    "        mol_hid = ''.join([frag_a_hid, frag_b_hid, frag_c_hid])\n",
    "        proc_hids.append(mol_hid)\n",
    "    return proc_hids\n",
    "    \n",
    "def known_constraints(param):\n",
    "    ''' known constraint that the suggested molecule must not be either shipping or\n",
    "    in progress. Avoids redundant suggestions\n",
    "    '''\n",
    "    # check if the param is within the known molecules\n",
    "    query_hid = ''.join([param['frag_a'], param['frag_b'], param['frag_c']])\n",
    "    crit1 = query_hid in proc_hids\n",
    "    \n",
    "    # check to see if the sample can be made in at least one single location\n",
    "    crit2 = False\n",
    "    # TODO: this in only for the first batch, constrain to Toronto ONLY!\n",
    "    for lab_frags in [toronto_frags]: #[toronto_frags, uiuc_frags]:\n",
    "        if (\n",
    "            (param['frag_a'] in lab_frags['frag_a']) & \\\n",
    "            (param['frag_b'] in lab_frags['frag_b']) & \\\n",
    "            (param['frag_c'] in lab_frags['frag_c']) \n",
    "        ):\n",
    "            crit2=True\n",
    "            \n",
    "    return (not(crit1))&crit2\n"
   ]
  },
  {
   "cell_type": "code",
   "execution_count": 10,
   "id": "58c31a09",
   "metadata": {},
   "outputs": [
    {
     "data": {
      "text/plain": [
       "['A012B025C130', 'A015B025C116']"
      ]
     },
     "execution_count": 10,
     "metadata": {},
     "output_type": "execute_result"
    }
   ],
   "source": [
    "# get hids of molecules in process\n",
    "proc_hids = get_processing_molecules(df_proc)\n",
    "proc_hids"
   ]
  },
  {
   "cell_type": "code",
   "execution_count": 11,
   "id": "de320377",
   "metadata": {},
   "outputs": [],
   "source": [
    "# get gryffin observations\n",
    "observations = make_gryffin_observations(df_done)"
   ]
  },
  {
   "cell_type": "code",
   "execution_count": 13,
   "id": "6b861cd3",
   "metadata": {},
   "outputs": [],
   "source": [
    "# get all the unique frags in the previous observations to add onto the available \n",
    "# fragments (otherwise Gryffin will crash)\n",
    "a_prev_hids = list(set([o['frag_a'] for o in observations]))\n",
    "b_prev_hids = list(set([o['frag_b'] for o in observations]))\n",
    "c_prev_hids = list(set([o['frag_c'] for o in observations]))"
   ]
  },
  {
   "cell_type": "code",
   "execution_count": 14,
   "id": "0e3bb1fb",
   "metadata": {},
   "outputs": [],
   "source": [
    "def get_lab_frags(lab):\n",
    "    ''' returns the set of available fragments for a specific laboratory\n",
    "    '''\n",
    "    frags=db.get_lab_avail_frags(lab=lab)\n",
    "    a_hids = frags[frags['molecule.hid'].str.contains('A')]['molecule.hid'].tolist()\n",
    "    b_hids = frags[frags['molecule.hid'].str.contains('B')]['molecule.hid'].tolist()\n",
    "    c_hids = frags[frags['molecule.hid'].str.contains('C')]['molecule.hid'].tolist()\n",
    "    \n",
    "    return {'frag_a': a_hids, 'frag_b': b_hids, 'frag_c': c_hids}\n",
    "\n",
    "def get_frags(strategy='set'):\n",
    "    ''' return all the unique molecules across all labs\n",
    "    '''\n",
    "    a_hids_all = []\n",
    "    b_hids_all = []\n",
    "    c_hids_all = []\n",
    "    \n",
    "    for lab in ['Toronto', 'Illinois']:\n",
    "        lab_frags = get_lab_frags(lab)\n",
    "        a_hids_all.extend(lab_frags['frag_a'])\n",
    "        b_hids_all.extend(lab_frags['frag_b'])\n",
    "        c_hids_all.extend(lab_frags['frag_c'])\n",
    "    \n",
    "    a_hids_all = list(set(a_hids_all))\n",
    "    b_hids_all = list(set(b_hids_all))\n",
    "    c_hids_all = list(set(c_hids_all))\n",
    "    \n",
    "    return a_hids_all, b_hids_all, c_hids_all\n",
    "    "
   ]
  },
  {
   "cell_type": "code",
   "execution_count": 15,
   "id": "1150b009",
   "metadata": {},
   "outputs": [
    {
     "name": "stdout",
     "output_type": "stream",
     "text": [
      "NUM A FRAGS :  12\n",
      "NUM B FRAGS :  27\n",
      "NUM C FRAGS :  161\n",
      "NUM ACCESSIBLE MOLS :  52164\n"
     ]
    }
   ],
   "source": [
    "\n",
    "a_hids_all, b_hids_all, c_hids_all = get_frags()\n",
    "\n",
    "# add fragments from previous iterations\n",
    "a_hids_all = list(set(a_hids_all + a_prev_hids))\n",
    "b_hids_all = list(set(b_hids_all + b_prev_hids))\n",
    "c_hids_all = list(set(c_hids_all + c_prev_hids))\n",
    "\n",
    "print('NUM A FRAGS : ', len(a_hids_all))\n",
    "print('NUM B FRAGS : ', len(b_hids_all))\n",
    "print('NUM C FRAGS : ', len(c_hids_all))\n",
    "\n",
    "print('NUM ACCESSIBLE MOLS : ', len(a_hids_all)*len(b_hids_all)*len(c_hids_all))"
   ]
  },
  {
   "cell_type": "code",
   "execution_count": 16,
   "id": "45dc2711",
   "metadata": {},
   "outputs": [],
   "source": [
    "# get toronto and UIUC available frags\n",
    "toronto_frags = get_lab_frags('Toronto')\n",
    "uiuc_frags = get_lab_frags('Illinois')"
   ]
  },
  {
   "cell_type": "code",
   "execution_count": null,
   "id": "9856ec2f",
   "metadata": {},
   "outputs": [],
   "source": []
  },
  {
   "cell_type": "markdown",
   "id": "96afbd85",
   "metadata": {},
   "source": [
    "## Build Gryffin "
   ]
  },
  {
   "cell_type": "code",
   "execution_count": 17,
   "id": "1476b963",
   "metadata": {},
   "outputs": [],
   "source": [
    "def get_descriptors(hid, descriptors):\n",
    "    ''' looks up and returns descriptors for a particular fragment\n",
    "    \n",
    "    Args:\n",
    "        hid (str): human readable identifier of the fragment\n",
    "        descriptors (pd.DataFrame): dataframe corresponding to the type of fragment\n",
    "    '''\n",
    "    return descriptors[descriptors.hid==hid].iloc[0, 1:].values.astype(np.float).tolist()\n",
    "\n",
    "def mol_hid_from_params(params):\n",
    "    mol_hids = []\n",
    "    for param in params:\n",
    "        mol_hids.append(''.join([param['frag_a'], param['frag_b'], param['frag_c']]))\n",
    "    \n",
    "    return mol_hids\n",
    "        "
   ]
  },
  {
   "cell_type": "code",
   "execution_count": 18,
   "id": "f3e7785a",
   "metadata": {},
   "outputs": [
    {
     "name": "stdout",
     "output_type": "stream",
     "text": [
      "NUM DESC A  30\n",
      "NUM DESC B  30\n",
      "NUM DESC C  35\n"
     ]
    }
   ],
   "source": [
    "# load descriptors from disk\n",
    "pca_desc_a = pd.read_csv('descriptors/pca_desc_a.csv', index_col=None)\n",
    "pca_desc_b = pd.read_csv('descriptors/pca_desc_b.csv', index_col=None)\n",
    "pca_desc_c = pd.read_csv('descriptors/pca_desc_c.csv', index_col=None)\n",
    "print('NUM DESC A ', pca_desc_a.shape[1]-1)\n",
    "print('NUM DESC B ', pca_desc_b.shape[1]-1)\n",
    "print('NUM DESC C ', pca_desc_c.shape[1]-1)"
   ]
  },
  {
   "cell_type": "code",
   "execution_count": 19,
   "id": "4c5d87c2",
   "metadata": {},
   "outputs": [
    {
     "name": "stdout",
     "output_type": "stream",
     "text": [
      "NUM AVAIL FRAGS A :  12\n",
      "NUM AVAIL FRAGS B :  27\n",
      "NUM AVAIL FRAGS C :  161\n"
     ]
    }
   ],
   "source": [
    "# set the available fragments to make the Gryffin search space \n",
    "# TODO: change this to only those available\n",
    "avail_frags_a = a_hids_all # pca_desc_a['hid'].tolist()\n",
    "avail_frags_b = b_hids_all # pca_desc_b['hid'].tolist()\n",
    "avail_frags_c = c_hids_all # pca_desc_c['hid'].tolist()\n",
    "print('NUM AVAIL FRAGS A : ', len(avail_frags_a))\n",
    "print('NUM AVAIL FRAGS B : ', len(avail_frags_b))\n",
    "print('NUM AVAIL FRAGS C : ', len(avail_frags_c))"
   ]
  },
  {
   "cell_type": "code",
   "execution_count": 52,
   "id": "a402d1ba",
   "metadata": {},
   "outputs": [],
   "source": [
    "# Gryffin config\n",
    "\n",
    "# generate descritptors\n",
    "FRAG_A_DESC = {i: get_descriptors(i, pca_desc_a) for i in avail_frags_a}\n",
    "FRAG_B_DESC = {i: get_descriptors(i, pca_desc_b) for i in avail_frags_b}\n",
    "FRAG_C_DESC = {i: get_descriptors(i, pca_desc_c) for i in avail_frags_c}\n",
    "\n",
    "# fwa = feasibility-weighted acquisition\n",
    "# fia = feasibility-interpolated acquisition\n",
    "# fca = feasibility-constrained acquisition --> use, param=0.2 ish works best on cat benchmarks\n",
    "\n",
    "config = {\n",
    "     \"general\": {\n",
    "             \"backend\": 'tensorflow',\n",
    "             \"num_cpus\": 4,\n",
    "             \"auto_desc_gen\": True, # dynamic Gryffin\n",
    "             \"batches\": 1,\n",
    "             \"sampling_strategies\": 40,\n",
    "             \"feas_approach\": 'fca',\n",
    "             \"feas_param\": 0.5,\n",
    "             \"boosted\":  True,\n",
    "             \"caching\": False,\n",
    "             \"random_seed\": 22031996,\n",
    "             \"acquisition_optimizer\": 'genetic',\n",
    "             \"verbosity\": 3\n",
    "                },\n",
    "    \"parameters\": [\n",
    "        {\"name\": \"frag_a\", \"type\": \"categorical\", \"category_details\": FRAG_A_DESC },\n",
    "        {\"name\": \"frag_b\", \"type\": \"categorical\", \"category_details\": FRAG_B_DESC },\n",
    "        {\"name\": \"frag_c\", \"type\": \"categorical\", \"category_details\": FRAG_C_DESC },\n",
    "      \n",
    "    ],\n",
    "    \"objectives\": [\n",
    "        {\"name\": \"obj\", \"goal\": \"max\"},\n",
    "    ]\n",
    "}"
   ]
  },
  {
   "cell_type": "code",
   "execution_count": 53,
   "id": "c4d0fd1d",
   "metadata": {},
   "outputs": [],
   "source": [
    "# instantiate gryffin\n",
    "gryffin = Gryffin(config_dict=config, known_constraints=known_constraints)"
   ]
  },
  {
   "cell_type": "code",
   "execution_count": 54,
   "id": "dd066138",
   "metadata": {
    "scrolled": true
   },
   "outputs": [
    {
     "data": {
      "text/html": [
       "<pre style=\"white-space:pre;overflow-x:auto;line-height:normal;font-family:Menlo,'DejaVu Sans Mono',consolas,'Courier New',monospace\"><span style=\"color: #008080; text-decoration-color: #008080; font-weight: bold\">116</span> observations found\n",
       "</pre>\n"
      ],
      "text/plain": [
       "\u001b[1;36m116\u001b[0m observations found\n"
      ]
     },
     "metadata": {},
     "output_type": "display_data"
    },
    {
     "data": {
      "application/vnd.jupyter.widget-view+json": {
       "model_id": "",
       "version_major": 2,
       "version_minor": 0
      },
      "text/plain": [
       "Output()"
      ]
     },
     "metadata": {},
     "output_type": "display_data"
    },
    {
     "name": "stderr",
     "output_type": "stream",
     "text": [
      "2022-02-13 11:50:43.497819: I tensorflow/core/platform/cpu_feature_guard.cc:151] This TensorFlow binary is optimized with oneAPI Deep Neural Network Library (oneDNN) to use the following CPU instructions in performance-critical operations:  AVX2 FMA\n",
      "To enable them in other operations, rebuild TensorFlow with the appropriate compiler flags.\n",
      "2022-02-13 11:50:43.527273: E tensorflow/stream_executor/cuda/cuda_driver.cc:271] failed call to cuInit: CUDA_ERROR_COMPAT_NOT_SUPPORTED_ON_DEVICE: forward compatibility was attempted on non supported HW\n",
      "2022-02-13 11:50:43.527313: I tensorflow/stream_executor/cuda/cuda_diagnostics.cc:169] retrieving CUDA diagnostic information for host: medusa\n",
      "2022-02-13 11:50:43.527320: I tensorflow/stream_executor/cuda/cuda_diagnostics.cc:176] hostname: medusa\n",
      "2022-02-13 11:50:43.527458: I tensorflow/stream_executor/cuda/cuda_diagnostics.cc:200] libcuda reported version is: 470.103.1\n",
      "2022-02-13 11:50:43.527488: I tensorflow/stream_executor/cuda/cuda_diagnostics.cc:204] kernel reported version is: 470.86.0\n",
      "2022-02-13 11:50:43.527495: E tensorflow/stream_executor/cuda/cuda_diagnostics.cc:313] kernel version 470.86.0 does not match DSO version 470.103.1 -- cannot find working devices in this configuration\n",
      "2022-02-13 11:50:43.550388: I tensorflow/core/platform/cpu_feature_guard.cc:151] This TensorFlow binary is optimized with oneAPI Deep Neural Network Library (oneDNN) to use the following CPU instructions in performance-critical operations:  AVX2 FMA\n",
      "To enable them in other operations, rebuild TensorFlow with the appropriate compiler flags.\n",
      "2022-02-13 11:50:43.556869: E tensorflow/stream_executor/cuda/cuda_driver.cc:271] failed call to cuInit: CUDA_ERROR_COMPAT_NOT_SUPPORTED_ON_DEVICE: forward compatibility was attempted on non supported HW\n",
      "2022-02-13 11:50:43.556893: I tensorflow/stream_executor/cuda/cuda_diagnostics.cc:169] retrieving CUDA diagnostic information for host: medusa\n",
      "2022-02-13 11:50:43.556898: I tensorflow/stream_executor/cuda/cuda_diagnostics.cc:176] hostname: medusa\n",
      "2022-02-13 11:50:43.556993: I tensorflow/stream_executor/cuda/cuda_diagnostics.cc:200] libcuda reported version is: 470.103.1\n",
      "2022-02-13 11:50:43.557010: I tensorflow/stream_executor/cuda/cuda_diagnostics.cc:204] kernel reported version is: 470.86.0\n",
      "2022-02-13 11:50:43.557014: E tensorflow/stream_executor/cuda/cuda_diagnostics.cc:313] kernel version 470.86.0 does not match DSO version 470.103.1 -- cannot find working devices in this configuration\n",
      "2022-02-13 11:50:43.599463: I tensorflow/core/platform/cpu_feature_guard.cc:151] This TensorFlow binary is optimized with oneAPI Deep Neural Network Library (oneDNN) to use the following CPU instructions in performance-critical operations:  AVX2 FMA\n",
      "To enable them in other operations, rebuild TensorFlow with the appropriate compiler flags.\n",
      "2022-02-13 11:50:43.607154: E tensorflow/stream_executor/cuda/cuda_driver.cc:271] failed call to cuInit: CUDA_ERROR_COMPAT_NOT_SUPPORTED_ON_DEVICE: forward compatibility was attempted on non supported HW\n",
      "2022-02-13 11:50:43.607191: I tensorflow/stream_executor/cuda/cuda_diagnostics.cc:169] retrieving CUDA diagnostic information for host: medusa\n",
      "2022-02-13 11:50:43.607204: I tensorflow/stream_executor/cuda/cuda_diagnostics.cc:176] hostname: medusa\n",
      "2022-02-13 11:50:43.607327: I tensorflow/stream_executor/cuda/cuda_diagnostics.cc:200] libcuda reported version is: 470.103.1\n",
      "2022-02-13 11:50:43.607361: I tensorflow/stream_executor/cuda/cuda_diagnostics.cc:204] kernel reported version is: 470.86.0\n",
      "2022-02-13 11:50:43.607369: E tensorflow/stream_executor/cuda/cuda_diagnostics.cc:313] kernel version 470.86.0 does not match DSO version 470.103.1 -- cannot find working devices in this configuration\n",
      "2022-02-13 11:50:45.153317: I tensorflow/core/platform/cpu_feature_guard.cc:151] This TensorFlow binary is optimized with oneAPI Deep Neural Network Library (oneDNN) to use the following CPU instructions in performance-critical operations:  AVX2 FMA\n",
      "To enable them in other operations, rebuild TensorFlow with the appropriate compiler flags.\n",
      "2022-02-13 11:50:45.178217: E tensorflow/stream_executor/cuda/cuda_driver.cc:271] failed call to cuInit: CUDA_ERROR_COMPAT_NOT_SUPPORTED_ON_DEVICE: forward compatibility was attempted on non supported HW\n",
      "2022-02-13 11:50:45.178255: I tensorflow/stream_executor/cuda/cuda_diagnostics.cc:169] retrieving CUDA diagnostic information for host: medusa\n",
      "2022-02-13 11:50:45.178262: I tensorflow/stream_executor/cuda/cuda_diagnostics.cc:176] hostname: medusa\n",
      "2022-02-13 11:50:45.178382: I tensorflow/stream_executor/cuda/cuda_diagnostics.cc:200] libcuda reported version is: 470.103.1\n",
      "2022-02-13 11:50:45.178411: I tensorflow/stream_executor/cuda/cuda_diagnostics.cc:204] kernel reported version is: 470.86.0\n",
      "2022-02-13 11:50:45.178416: E tensorflow/stream_executor/cuda/cuda_diagnostics.cc:313] kernel version 470.86.0 does not match DSO version 470.103.1 -- cannot find working devices in this configuration\n",
      "2022-02-13 11:50:45.205386: I tensorflow/core/platform/cpu_feature_guard.cc:151] This TensorFlow binary is optimized with oneAPI Deep Neural Network Library (oneDNN) to use the following CPU instructions in performance-critical operations:  AVX2 FMA\n",
      "To enable them in other operations, rebuild TensorFlow with the appropriate compiler flags.\n",
      "2022-02-13 11:50:45.231332: E tensorflow/stream_executor/cuda/cuda_driver.cc:271] failed call to cuInit: CUDA_ERROR_COMPAT_NOT_SUPPORTED_ON_DEVICE: forward compatibility was attempted on non supported HW\n",
      "2022-02-13 11:50:45.231368: I tensorflow/stream_executor/cuda/cuda_diagnostics.cc:169] retrieving CUDA diagnostic information for host: medusa\n",
      "2022-02-13 11:50:45.231376: I tensorflow/stream_executor/cuda/cuda_diagnostics.cc:176] hostname: medusa\n",
      "2022-02-13 11:50:45.231510: I tensorflow/stream_executor/cuda/cuda_diagnostics.cc:200] libcuda reported version is: 470.103.1\n",
      "2022-02-13 11:50:45.231540: I tensorflow/stream_executor/cuda/cuda_diagnostics.cc:204] kernel reported version is: 470.86.0\n",
      "2022-02-13 11:50:45.231547: E tensorflow/stream_executor/cuda/cuda_diagnostics.cc:313] kernel version 470.86.0 does not match DSO version 470.103.1 -- cannot find working devices in this configuration\n",
      "2022-02-13 11:50:45.262455: I tensorflow/core/platform/cpu_feature_guard.cc:151] This TensorFlow binary is optimized with oneAPI Deep Neural Network Library (oneDNN) to use the following CPU instructions in performance-critical operations:  AVX2 FMA\n",
      "To enable them in other operations, rebuild TensorFlow with the appropriate compiler flags.\n",
      "2022-02-13 11:50:45.287115: E tensorflow/stream_executor/cuda/cuda_driver.cc:271] failed call to cuInit: CUDA_ERROR_COMPAT_NOT_SUPPORTED_ON_DEVICE: forward compatibility was attempted on non supported HW\n",
      "2022-02-13 11:50:45.287153: I tensorflow/stream_executor/cuda/cuda_diagnostics.cc:169] retrieving CUDA diagnostic information for host: medusa\n",
      "2022-02-13 11:50:45.287160: I tensorflow/stream_executor/cuda/cuda_diagnostics.cc:176] hostname: medusa\n",
      "2022-02-13 11:50:45.287301: I tensorflow/stream_executor/cuda/cuda_diagnostics.cc:200] libcuda reported version is: 470.103.1\n",
      "2022-02-13 11:50:45.287332: I tensorflow/stream_executor/cuda/cuda_diagnostics.cc:204] kernel reported version is: 470.86.0\n",
      "2022-02-13 11:50:45.287339: E tensorflow/stream_executor/cuda/cuda_diagnostics.cc:313] kernel version 470.86.0 does not match DSO version 470.103.1 -- cannot find working devices in this configuration\n"
     ]
    },
    {
     "data": {
      "text/html": [
       "<pre style=\"white-space:pre;overflow-x:auto;line-height:normal;font-family:Menlo,'DejaVu Sans Mono',consolas,'Courier New',monospace\"></pre>\n"
      ],
      "text/plain": []
     },
     "metadata": {},
     "output_type": "display_data"
    },
    {
     "data": {
      "text/html": [
       "<pre style=\"white-space:pre;overflow-x:auto;line-height:normal;font-family:Menlo,'DejaVu Sans Mono',consolas,'Courier New',monospace\">Categorical descriptors refined by <span style=\"font-style: italic\">Dynamic Gryffin</span> in <span style=\"color: #008080; text-decoration-color: #008080; font-weight: bold\">3.4</span> s\n",
       "</pre>\n"
      ],
      "text/plain": [
       "Categorical descriptors refined by \u001b[3mDynamic Gryffin\u001b[0m in \u001b[1;36m3.4\u001b[0m s\n"
      ]
     },
     "metadata": {},
     "output_type": "display_data"
    },
    {
     "name": "stderr",
     "output_type": "stream",
     "text": [
      "2022-02-13 11:50:46.597462: I tensorflow/core/platform/cpu_feature_guard.cc:151] This TensorFlow binary is optimized with oneAPI Deep Neural Network Library (oneDNN) to use the following CPU instructions in performance-critical operations:  AVX2 FMA\n",
      "To enable them in other operations, rebuild TensorFlow with the appropriate compiler flags.\n",
      "2022-02-13 11:50:46.623384: E tensorflow/stream_executor/cuda/cuda_driver.cc:271] failed call to cuInit: CUDA_ERROR_COMPAT_NOT_SUPPORTED_ON_DEVICE: forward compatibility was attempted on non supported HW\n",
      "2022-02-13 11:50:46.623432: I tensorflow/stream_executor/cuda/cuda_diagnostics.cc:169] retrieving CUDA diagnostic information for host: medusa\n",
      "2022-02-13 11:50:46.623445: I tensorflow/stream_executor/cuda/cuda_diagnostics.cc:176] hostname: medusa\n",
      "2022-02-13 11:50:46.623628: I tensorflow/stream_executor/cuda/cuda_diagnostics.cc:200] libcuda reported version is: 470.103.1\n",
      "2022-02-13 11:50:46.623675: I tensorflow/stream_executor/cuda/cuda_diagnostics.cc:204] kernel reported version is: 470.86.0\n",
      "2022-02-13 11:50:46.623689: E tensorflow/stream_executor/cuda/cuda_diagnostics.cc:313] kernel version 470.86.0 does not match DSO version 470.103.1 -- cannot find working devices in this configuration\n"
     ]
    },
    {
     "data": {
      "text/html": [
       "<pre style=\"white-space:pre;overflow-x:auto;line-height:normal;font-family:Menlo,'DejaVu Sans Mono',consolas,'Courier New',monospace\">Bayesian neural network trained in <span style=\"color: #008080; text-decoration-color: #008080; font-weight: bold\">31.4</span> s\n",
       "</pre>\n"
      ],
      "text/plain": [
       "Bayesian neural network trained in \u001b[1;36m31.4\u001b[0m s\n"
      ]
     },
     "metadata": {},
     "output_type": "display_data"
    },
    {
     "data": {
      "text/html": [
       "<pre style=\"white-space:pre;overflow-x:auto;line-height:normal;font-family:Menlo,'DejaVu Sans Mono',consolas,'Courier New',monospace\"><span style=\"color: #008080; text-decoration-color: #008080; font-weight: bold\">1200</span> random proposals drawn in <span style=\"color: #008080; text-decoration-color: #008080; font-weight: bold\">1.1</span> s\n",
       "</pre>\n"
      ],
      "text/plain": [
       "\u001b[1;36m1200\u001b[0m random proposals drawn in \u001b[1;36m1.1\u001b[0m s\n"
      ]
     },
     "metadata": {},
     "output_type": "display_data"
    },
    {
     "data": {
      "text/html": [
       "<pre style=\"white-space:pre;overflow-x:auto;line-height:normal;font-family:Menlo,'DejaVu Sans Mono',consolas,'Courier New',monospace\"><span style=\"color: #008080; text-decoration-color: #008080; font-weight: bold\">1200</span> proposals optimized in <span style=\"color: #008080; text-decoration-color: #008080; font-weight: bold\">2.8</span> s using <span style=\"color: #008080; text-decoration-color: #008080; font-weight: bold\">4</span> CPUs\n",
       "</pre>\n"
      ],
      "text/plain": [
       "\u001b[1;36m1200\u001b[0m proposals optimized in \u001b[1;36m2.8\u001b[0m s using \u001b[1;36m4\u001b[0m CPUs\n"
      ]
     },
     "metadata": {},
     "output_type": "display_data"
    },
    {
     "data": {
      "text/html": [
       "<pre style=\"white-space:pre;overflow-x:auto;line-height:normal;font-family:Menlo,'DejaVu Sans Mono',consolas,'Courier New',monospace\"><span style=\"color: #008080; text-decoration-color: #008080; font-weight: bold\">1200</span> proposals optimized in <span style=\"color: #008080; text-decoration-color: #008080; font-weight: bold\">2.6</span> s using <span style=\"color: #008080; text-decoration-color: #008080; font-weight: bold\">4</span> CPUs\n",
       "</pre>\n"
      ],
      "text/plain": [
       "\u001b[1;36m1200\u001b[0m proposals optimized in \u001b[1;36m2.6\u001b[0m s using \u001b[1;36m4\u001b[0m CPUs\n"
      ]
     },
     "metadata": {},
     "output_type": "display_data"
    },
    {
     "data": {
      "text/html": [
       "<pre style=\"white-space:pre;overflow-x:auto;line-height:normal;font-family:Menlo,'DejaVu Sans Mono',consolas,'Courier New',monospace\"><span style=\"color: #008080; text-decoration-color: #008080; font-weight: bold\">1200</span> proposals optimized in <span style=\"color: #008080; text-decoration-color: #008080; font-weight: bold\">2.6</span> s using <span style=\"color: #008080; text-decoration-color: #008080; font-weight: bold\">4</span> CPUs\n",
       "</pre>\n"
      ],
      "text/plain": [
       "\u001b[1;36m1200\u001b[0m proposals optimized in \u001b[1;36m2.6\u001b[0m s using \u001b[1;36m4\u001b[0m CPUs\n"
      ]
     },
     "metadata": {},
     "output_type": "display_data"
    },
    {
     "data": {
      "text/html": [
       "<pre style=\"white-space:pre;overflow-x:auto;line-height:normal;font-family:Menlo,'DejaVu Sans Mono',consolas,'Courier New',monospace\"><span style=\"color: #008080; text-decoration-color: #008080; font-weight: bold\">1200</span> proposals optimized in <span style=\"color: #008080; text-decoration-color: #008080; font-weight: bold\">2.7</span> s using <span style=\"color: #008080; text-decoration-color: #008080; font-weight: bold\">4</span> CPUs\n",
       "</pre>\n"
      ],
      "text/plain": [
       "\u001b[1;36m1200\u001b[0m proposals optimized in \u001b[1;36m2.7\u001b[0m s using \u001b[1;36m4\u001b[0m CPUs\n"
      ]
     },
     "metadata": {},
     "output_type": "display_data"
    },
    {
     "data": {
      "text/html": [
       "<pre style=\"white-space:pre;overflow-x:auto;line-height:normal;font-family:Menlo,'DejaVu Sans Mono',consolas,'Courier New',monospace\"><span style=\"color: #008080; text-decoration-color: #008080; font-weight: bold\">1200</span> proposals optimized in <span style=\"color: #008080; text-decoration-color: #008080; font-weight: bold\">2.7</span> s using <span style=\"color: #008080; text-decoration-color: #008080; font-weight: bold\">4</span> CPUs\n",
       "</pre>\n"
      ],
      "text/plain": [
       "\u001b[1;36m1200\u001b[0m proposals optimized in \u001b[1;36m2.7\u001b[0m s using \u001b[1;36m4\u001b[0m CPUs\n"
      ]
     },
     "metadata": {},
     "output_type": "display_data"
    },
    {
     "data": {
      "text/html": [
       "<pre style=\"white-space:pre;overflow-x:auto;line-height:normal;font-family:Menlo,'DejaVu Sans Mono',consolas,'Courier New',monospace\"><span style=\"color: #008080; text-decoration-color: #008080; font-weight: bold\">1200</span> proposals optimized in <span style=\"color: #008080; text-decoration-color: #008080; font-weight: bold\">2.6</span> s using <span style=\"color: #008080; text-decoration-color: #008080; font-weight: bold\">4</span> CPUs\n",
       "</pre>\n"
      ],
      "text/plain": [
       "\u001b[1;36m1200\u001b[0m proposals optimized in \u001b[1;36m2.6\u001b[0m s using \u001b[1;36m4\u001b[0m CPUs\n"
      ]
     },
     "metadata": {},
     "output_type": "display_data"
    },
    {
     "data": {
      "text/html": [
       "<pre style=\"white-space:pre;overflow-x:auto;line-height:normal;font-family:Menlo,'DejaVu Sans Mono',consolas,'Courier New',monospace\"><span style=\"color: #008080; text-decoration-color: #008080; font-weight: bold\">1200</span> proposals optimized in <span style=\"color: #008080; text-decoration-color: #008080; font-weight: bold\">2.7</span> s using <span style=\"color: #008080; text-decoration-color: #008080; font-weight: bold\">4</span> CPUs\n",
       "</pre>\n"
      ],
      "text/plain": [
       "\u001b[1;36m1200\u001b[0m proposals optimized in \u001b[1;36m2.7\u001b[0m s using \u001b[1;36m4\u001b[0m CPUs\n"
      ]
     },
     "metadata": {},
     "output_type": "display_data"
    },
    {
     "data": {
      "text/html": [
       "<pre style=\"white-space:pre;overflow-x:auto;line-height:normal;font-family:Menlo,'DejaVu Sans Mono',consolas,'Courier New',monospace\"><span style=\"color: #008080; text-decoration-color: #008080; font-weight: bold\">1200</span> proposals optimized in <span style=\"color: #008080; text-decoration-color: #008080; font-weight: bold\">2.8</span> s using <span style=\"color: #008080; text-decoration-color: #008080; font-weight: bold\">4</span> CPUs\n",
       "</pre>\n"
      ],
      "text/plain": [
       "\u001b[1;36m1200\u001b[0m proposals optimized in \u001b[1;36m2.8\u001b[0m s using \u001b[1;36m4\u001b[0m CPUs\n"
      ]
     },
     "metadata": {},
     "output_type": "display_data"
    },
    {
     "data": {
      "text/html": [
       "<pre style=\"white-space:pre;overflow-x:auto;line-height:normal;font-family:Menlo,'DejaVu Sans Mono',consolas,'Courier New',monospace\"><span style=\"color: #008080; text-decoration-color: #008080; font-weight: bold\">1200</span> proposals optimized in <span style=\"color: #008080; text-decoration-color: #008080; font-weight: bold\">3.1</span> s using <span style=\"color: #008080; text-decoration-color: #008080; font-weight: bold\">4</span> CPUs\n",
       "</pre>\n"
      ],
      "text/plain": [
       "\u001b[1;36m1200\u001b[0m proposals optimized in \u001b[1;36m3.1\u001b[0m s using \u001b[1;36m4\u001b[0m CPUs\n"
      ]
     },
     "metadata": {},
     "output_type": "display_data"
    },
    {
     "data": {
      "text/html": [
       "<pre style=\"white-space:pre;overflow-x:auto;line-height:normal;font-family:Menlo,'DejaVu Sans Mono',consolas,'Courier New',monospace\"><span style=\"color: #008080; text-decoration-color: #008080; font-weight: bold\">1200</span> proposals optimized in <span style=\"color: #008080; text-decoration-color: #008080; font-weight: bold\">3.2</span> s using <span style=\"color: #008080; text-decoration-color: #008080; font-weight: bold\">4</span> CPUs\n",
       "</pre>\n"
      ],
      "text/plain": [
       "\u001b[1;36m1200\u001b[0m proposals optimized in \u001b[1;36m3.2\u001b[0m s using \u001b[1;36m4\u001b[0m CPUs\n"
      ]
     },
     "metadata": {},
     "output_type": "display_data"
    },
    {
     "data": {
      "text/html": [
       "<pre style=\"white-space:pre;overflow-x:auto;line-height:normal;font-family:Menlo,'DejaVu Sans Mono',consolas,'Courier New',monospace\"><span style=\"color: #008080; text-decoration-color: #008080; font-weight: bold\">1200</span> proposals optimized in <span style=\"color: #008080; text-decoration-color: #008080; font-weight: bold\">2.7</span> s using <span style=\"color: #008080; text-decoration-color: #008080; font-weight: bold\">4</span> CPUs\n",
       "</pre>\n"
      ],
      "text/plain": [
       "\u001b[1;36m1200\u001b[0m proposals optimized in \u001b[1;36m2.7\u001b[0m s using \u001b[1;36m4\u001b[0m CPUs\n"
      ]
     },
     "metadata": {},
     "output_type": "display_data"
    },
    {
     "data": {
      "text/html": [
       "<pre style=\"white-space:pre;overflow-x:auto;line-height:normal;font-family:Menlo,'DejaVu Sans Mono',consolas,'Courier New',monospace\"><span style=\"color: #008080; text-decoration-color: #008080; font-weight: bold\">1200</span> proposals optimized in <span style=\"color: #008080; text-decoration-color: #008080; font-weight: bold\">2.7</span> s using <span style=\"color: #008080; text-decoration-color: #008080; font-weight: bold\">4</span> CPUs\n",
       "</pre>\n"
      ],
      "text/plain": [
       "\u001b[1;36m1200\u001b[0m proposals optimized in \u001b[1;36m2.7\u001b[0m s using \u001b[1;36m4\u001b[0m CPUs\n"
      ]
     },
     "metadata": {},
     "output_type": "display_data"
    },
    {
     "data": {
      "text/html": [
       "<pre style=\"white-space:pre;overflow-x:auto;line-height:normal;font-family:Menlo,'DejaVu Sans Mono',consolas,'Courier New',monospace\"><span style=\"color: #008080; text-decoration-color: #008080; font-weight: bold\">1200</span> proposals optimized in <span style=\"color: #008080; text-decoration-color: #008080; font-weight: bold\">3.1</span> s using <span style=\"color: #008080; text-decoration-color: #008080; font-weight: bold\">4</span> CPUs\n",
       "</pre>\n"
      ],
      "text/plain": [
       "\u001b[1;36m1200\u001b[0m proposals optimized in \u001b[1;36m3.1\u001b[0m s using \u001b[1;36m4\u001b[0m CPUs\n"
      ]
     },
     "metadata": {},
     "output_type": "display_data"
    },
    {
     "data": {
      "text/html": [
       "<pre style=\"white-space:pre;overflow-x:auto;line-height:normal;font-family:Menlo,'DejaVu Sans Mono',consolas,'Courier New',monospace\"><span style=\"color: #008080; text-decoration-color: #008080; font-weight: bold\">1200</span> proposals optimized in <span style=\"color: #008080; text-decoration-color: #008080; font-weight: bold\">2.6</span> s using <span style=\"color: #008080; text-decoration-color: #008080; font-weight: bold\">4</span> CPUs\n",
       "</pre>\n"
      ],
      "text/plain": [
       "\u001b[1;36m1200\u001b[0m proposals optimized in \u001b[1;36m2.6\u001b[0m s using \u001b[1;36m4\u001b[0m CPUs\n"
      ]
     },
     "metadata": {},
     "output_type": "display_data"
    },
    {
     "data": {
      "text/html": [
       "<pre style=\"white-space:pre;overflow-x:auto;line-height:normal;font-family:Menlo,'DejaVu Sans Mono',consolas,'Courier New',monospace\"><span style=\"color: #008080; text-decoration-color: #008080; font-weight: bold\">1200</span> proposals optimized in <span style=\"color: #008080; text-decoration-color: #008080; font-weight: bold\">2.6</span> s using <span style=\"color: #008080; text-decoration-color: #008080; font-weight: bold\">4</span> CPUs\n",
       "</pre>\n"
      ],
      "text/plain": [
       "\u001b[1;36m1200\u001b[0m proposals optimized in \u001b[1;36m2.6\u001b[0m s using \u001b[1;36m4\u001b[0m CPUs\n"
      ]
     },
     "metadata": {},
     "output_type": "display_data"
    },
    {
     "data": {
      "text/html": [
       "<pre style=\"white-space:pre;overflow-x:auto;line-height:normal;font-family:Menlo,'DejaVu Sans Mono',consolas,'Courier New',monospace\"><span style=\"color: #008080; text-decoration-color: #008080; font-weight: bold\">1200</span> proposals optimized in <span style=\"color: #008080; text-decoration-color: #008080; font-weight: bold\">2.9</span> s using <span style=\"color: #008080; text-decoration-color: #008080; font-weight: bold\">4</span> CPUs\n",
       "</pre>\n"
      ],
      "text/plain": [
       "\u001b[1;36m1200\u001b[0m proposals optimized in \u001b[1;36m2.9\u001b[0m s using \u001b[1;36m4\u001b[0m CPUs\n"
      ]
     },
     "metadata": {},
     "output_type": "display_data"
    },
    {
     "data": {
      "text/html": [
       "<pre style=\"white-space:pre;overflow-x:auto;line-height:normal;font-family:Menlo,'DejaVu Sans Mono',consolas,'Courier New',monospace\"><span style=\"color: #008080; text-decoration-color: #008080; font-weight: bold\">1200</span> proposals optimized in <span style=\"color: #008080; text-decoration-color: #008080; font-weight: bold\">2.7</span> s using <span style=\"color: #008080; text-decoration-color: #008080; font-weight: bold\">4</span> CPUs\n",
       "</pre>\n"
      ],
      "text/plain": [
       "\u001b[1;36m1200\u001b[0m proposals optimized in \u001b[1;36m2.7\u001b[0m s using \u001b[1;36m4\u001b[0m CPUs\n"
      ]
     },
     "metadata": {},
     "output_type": "display_data"
    },
    {
     "data": {
      "text/html": [
       "<pre style=\"white-space:pre;overflow-x:auto;line-height:normal;font-family:Menlo,'DejaVu Sans Mono',consolas,'Courier New',monospace\"><span style=\"color: #008080; text-decoration-color: #008080; font-weight: bold\">1200</span> proposals optimized in <span style=\"color: #008080; text-decoration-color: #008080; font-weight: bold\">3.1</span> s using <span style=\"color: #008080; text-decoration-color: #008080; font-weight: bold\">4</span> CPUs\n",
       "</pre>\n"
      ],
      "text/plain": [
       "\u001b[1;36m1200\u001b[0m proposals optimized in \u001b[1;36m3.1\u001b[0m s using \u001b[1;36m4\u001b[0m CPUs\n"
      ]
     },
     "metadata": {},
     "output_type": "display_data"
    },
    {
     "data": {
      "text/html": [
       "<pre style=\"white-space:pre;overflow-x:auto;line-height:normal;font-family:Menlo,'DejaVu Sans Mono',consolas,'Courier New',monospace\"><span style=\"color: #008080; text-decoration-color: #008080; font-weight: bold\">1200</span> proposals optimized in <span style=\"color: #008080; text-decoration-color: #008080; font-weight: bold\">2.7</span> s using <span style=\"color: #008080; text-decoration-color: #008080; font-weight: bold\">4</span> CPUs\n",
       "</pre>\n"
      ],
      "text/plain": [
       "\u001b[1;36m1200\u001b[0m proposals optimized in \u001b[1;36m2.7\u001b[0m s using \u001b[1;36m4\u001b[0m CPUs\n"
      ]
     },
     "metadata": {},
     "output_type": "display_data"
    },
    {
     "data": {
      "text/html": [
       "<pre style=\"white-space:pre;overflow-x:auto;line-height:normal;font-family:Menlo,'DejaVu Sans Mono',consolas,'Courier New',monospace\"><span style=\"color: #008080; text-decoration-color: #008080; font-weight: bold\">1200</span> proposals optimized in <span style=\"color: #008080; text-decoration-color: #008080; font-weight: bold\">3.0</span> s using <span style=\"color: #008080; text-decoration-color: #008080; font-weight: bold\">4</span> CPUs\n",
       "</pre>\n"
      ],
      "text/plain": [
       "\u001b[1;36m1200\u001b[0m proposals optimized in \u001b[1;36m3.0\u001b[0m s using \u001b[1;36m4\u001b[0m CPUs\n"
      ]
     },
     "metadata": {},
     "output_type": "display_data"
    },
    {
     "data": {
      "text/html": [
       "<pre style=\"white-space:pre;overflow-x:auto;line-height:normal;font-family:Menlo,'DejaVu Sans Mono',consolas,'Courier New',monospace\"><span style=\"color: #008080; text-decoration-color: #008080; font-weight: bold\">1200</span> proposals optimized in <span style=\"color: #008080; text-decoration-color: #008080; font-weight: bold\">2.7</span> s using <span style=\"color: #008080; text-decoration-color: #008080; font-weight: bold\">4</span> CPUs\n",
       "</pre>\n"
      ],
      "text/plain": [
       "\u001b[1;36m1200\u001b[0m proposals optimized in \u001b[1;36m2.7\u001b[0m s using \u001b[1;36m4\u001b[0m CPUs\n"
      ]
     },
     "metadata": {},
     "output_type": "display_data"
    },
    {
     "data": {
      "text/html": [
       "<pre style=\"white-space:pre;overflow-x:auto;line-height:normal;font-family:Menlo,'DejaVu Sans Mono',consolas,'Courier New',monospace\"><span style=\"color: #008080; text-decoration-color: #008080; font-weight: bold\">1200</span> proposals optimized in <span style=\"color: #008080; text-decoration-color: #008080; font-weight: bold\">3.0</span> s using <span style=\"color: #008080; text-decoration-color: #008080; font-weight: bold\">4</span> CPUs\n",
       "</pre>\n"
      ],
      "text/plain": [
       "\u001b[1;36m1200\u001b[0m proposals optimized in \u001b[1;36m3.0\u001b[0m s using \u001b[1;36m4\u001b[0m CPUs\n"
      ]
     },
     "metadata": {},
     "output_type": "display_data"
    },
    {
     "data": {
      "text/html": [
       "<pre style=\"white-space:pre;overflow-x:auto;line-height:normal;font-family:Menlo,'DejaVu Sans Mono',consolas,'Courier New',monospace\"><span style=\"color: #008080; text-decoration-color: #008080; font-weight: bold\">1200</span> proposals optimized in <span style=\"color: #008080; text-decoration-color: #008080; font-weight: bold\">2.7</span> s using <span style=\"color: #008080; text-decoration-color: #008080; font-weight: bold\">4</span> CPUs\n",
       "</pre>\n"
      ],
      "text/plain": [
       "\u001b[1;36m1200\u001b[0m proposals optimized in \u001b[1;36m2.7\u001b[0m s using \u001b[1;36m4\u001b[0m CPUs\n"
      ]
     },
     "metadata": {},
     "output_type": "display_data"
    },
    {
     "data": {
      "text/html": [
       "<pre style=\"white-space:pre;overflow-x:auto;line-height:normal;font-family:Menlo,'DejaVu Sans Mono',consolas,'Courier New',monospace\"><span style=\"color: #008080; text-decoration-color: #008080; font-weight: bold\">1200</span> proposals optimized in <span style=\"color: #008080; text-decoration-color: #008080; font-weight: bold\">2.6</span> s using <span style=\"color: #008080; text-decoration-color: #008080; font-weight: bold\">4</span> CPUs\n",
       "</pre>\n"
      ],
      "text/plain": [
       "\u001b[1;36m1200\u001b[0m proposals optimized in \u001b[1;36m2.6\u001b[0m s using \u001b[1;36m4\u001b[0m CPUs\n"
      ]
     },
     "metadata": {},
     "output_type": "display_data"
    },
    {
     "data": {
      "text/html": [
       "<pre style=\"white-space:pre;overflow-x:auto;line-height:normal;font-family:Menlo,'DejaVu Sans Mono',consolas,'Courier New',monospace\"><span style=\"color: #008080; text-decoration-color: #008080; font-weight: bold\">1200</span> proposals optimized in <span style=\"color: #008080; text-decoration-color: #008080; font-weight: bold\">2.7</span> s using <span style=\"color: #008080; text-decoration-color: #008080; font-weight: bold\">4</span> CPUs\n",
       "</pre>\n"
      ],
      "text/plain": [
       "\u001b[1;36m1200\u001b[0m proposals optimized in \u001b[1;36m2.7\u001b[0m s using \u001b[1;36m4\u001b[0m CPUs\n"
      ]
     },
     "metadata": {},
     "output_type": "display_data"
    },
    {
     "data": {
      "text/html": [
       "<pre style=\"white-space:pre;overflow-x:auto;line-height:normal;font-family:Menlo,'DejaVu Sans Mono',consolas,'Courier New',monospace\"><span style=\"color: #008080; text-decoration-color: #008080; font-weight: bold\">1200</span> proposals optimized in <span style=\"color: #008080; text-decoration-color: #008080; font-weight: bold\">2.7</span> s using <span style=\"color: #008080; text-decoration-color: #008080; font-weight: bold\">4</span> CPUs\n",
       "</pre>\n"
      ],
      "text/plain": [
       "\u001b[1;36m1200\u001b[0m proposals optimized in \u001b[1;36m2.7\u001b[0m s using \u001b[1;36m4\u001b[0m CPUs\n"
      ]
     },
     "metadata": {},
     "output_type": "display_data"
    },
    {
     "data": {
      "text/html": [
       "<pre style=\"white-space:pre;overflow-x:auto;line-height:normal;font-family:Menlo,'DejaVu Sans Mono',consolas,'Courier New',monospace\"><span style=\"color: #008080; text-decoration-color: #008080; font-weight: bold\">1200</span> proposals optimized in <span style=\"color: #008080; text-decoration-color: #008080; font-weight: bold\">2.9</span> s using <span style=\"color: #008080; text-decoration-color: #008080; font-weight: bold\">4</span> CPUs\n",
       "</pre>\n"
      ],
      "text/plain": [
       "\u001b[1;36m1200\u001b[0m proposals optimized in \u001b[1;36m2.9\u001b[0m s using \u001b[1;36m4\u001b[0m CPUs\n"
      ]
     },
     "metadata": {},
     "output_type": "display_data"
    },
    {
     "data": {
      "text/html": [
       "<pre style=\"white-space:pre;overflow-x:auto;line-height:normal;font-family:Menlo,'DejaVu Sans Mono',consolas,'Courier New',monospace\"><span style=\"color: #008080; text-decoration-color: #008080; font-weight: bold\">1200</span> proposals optimized in <span style=\"color: #008080; text-decoration-color: #008080; font-weight: bold\">2.6</span> s using <span style=\"color: #008080; text-decoration-color: #008080; font-weight: bold\">4</span> CPUs\n",
       "</pre>\n"
      ],
      "text/plain": [
       "\u001b[1;36m1200\u001b[0m proposals optimized in \u001b[1;36m2.6\u001b[0m s using \u001b[1;36m4\u001b[0m CPUs\n"
      ]
     },
     "metadata": {},
     "output_type": "display_data"
    },
    {
     "data": {
      "text/html": [
       "<pre style=\"white-space:pre;overflow-x:auto;line-height:normal;font-family:Menlo,'DejaVu Sans Mono',consolas,'Courier New',monospace\"><span style=\"color: #008080; text-decoration-color: #008080; font-weight: bold\">1200</span> proposals optimized in <span style=\"color: #008080; text-decoration-color: #008080; font-weight: bold\">3.1</span> s using <span style=\"color: #008080; text-decoration-color: #008080; font-weight: bold\">4</span> CPUs\n",
       "</pre>\n"
      ],
      "text/plain": [
       "\u001b[1;36m1200\u001b[0m proposals optimized in \u001b[1;36m3.1\u001b[0m s using \u001b[1;36m4\u001b[0m CPUs\n"
      ]
     },
     "metadata": {},
     "output_type": "display_data"
    },
    {
     "data": {
      "text/html": [
       "<pre style=\"white-space:pre;overflow-x:auto;line-height:normal;font-family:Menlo,'DejaVu Sans Mono',consolas,'Courier New',monospace\"><span style=\"color: #008080; text-decoration-color: #008080; font-weight: bold\">1200</span> proposals optimized in <span style=\"color: #008080; text-decoration-color: #008080; font-weight: bold\">2.6</span> s using <span style=\"color: #008080; text-decoration-color: #008080; font-weight: bold\">4</span> CPUs\n",
       "</pre>\n"
      ],
      "text/plain": [
       "\u001b[1;36m1200\u001b[0m proposals optimized in \u001b[1;36m2.6\u001b[0m s using \u001b[1;36m4\u001b[0m CPUs\n"
      ]
     },
     "metadata": {},
     "output_type": "display_data"
    },
    {
     "data": {
      "text/html": [
       "<pre style=\"white-space:pre;overflow-x:auto;line-height:normal;font-family:Menlo,'DejaVu Sans Mono',consolas,'Courier New',monospace\"><span style=\"color: #008080; text-decoration-color: #008080; font-weight: bold\">1200</span> proposals optimized in <span style=\"color: #008080; text-decoration-color: #008080; font-weight: bold\">2.6</span> s using <span style=\"color: #008080; text-decoration-color: #008080; font-weight: bold\">4</span> CPUs\n",
       "</pre>\n"
      ],
      "text/plain": [
       "\u001b[1;36m1200\u001b[0m proposals optimized in \u001b[1;36m2.6\u001b[0m s using \u001b[1;36m4\u001b[0m CPUs\n"
      ]
     },
     "metadata": {},
     "output_type": "display_data"
    },
    {
     "data": {
      "text/html": [
       "<pre style=\"white-space:pre;overflow-x:auto;line-height:normal;font-family:Menlo,'DejaVu Sans Mono',consolas,'Courier New',monospace\"><span style=\"color: #008080; text-decoration-color: #008080; font-weight: bold\">1200</span> proposals optimized in <span style=\"color: #008080; text-decoration-color: #008080; font-weight: bold\">3.2</span> s using <span style=\"color: #008080; text-decoration-color: #008080; font-weight: bold\">4</span> CPUs\n",
       "</pre>\n"
      ],
      "text/plain": [
       "\u001b[1;36m1200\u001b[0m proposals optimized in \u001b[1;36m3.2\u001b[0m s using \u001b[1;36m4\u001b[0m CPUs\n"
      ]
     },
     "metadata": {},
     "output_type": "display_data"
    },
    {
     "data": {
      "text/html": [
       "<pre style=\"white-space:pre;overflow-x:auto;line-height:normal;font-family:Menlo,'DejaVu Sans Mono',consolas,'Courier New',monospace\"><span style=\"color: #008080; text-decoration-color: #008080; font-weight: bold\">1200</span> proposals optimized in <span style=\"color: #008080; text-decoration-color: #008080; font-weight: bold\">3.0</span> s using <span style=\"color: #008080; text-decoration-color: #008080; font-weight: bold\">4</span> CPUs\n",
       "</pre>\n"
      ],
      "text/plain": [
       "\u001b[1;36m1200\u001b[0m proposals optimized in \u001b[1;36m3.0\u001b[0m s using \u001b[1;36m4\u001b[0m CPUs\n"
      ]
     },
     "metadata": {},
     "output_type": "display_data"
    },
    {
     "data": {
      "text/html": [
       "<pre style=\"white-space:pre;overflow-x:auto;line-height:normal;font-family:Menlo,'DejaVu Sans Mono',consolas,'Courier New',monospace\"><span style=\"color: #008080; text-decoration-color: #008080; font-weight: bold\">1200</span> proposals optimized in <span style=\"color: #008080; text-decoration-color: #008080; font-weight: bold\">3.0</span> s using <span style=\"color: #008080; text-decoration-color: #008080; font-weight: bold\">4</span> CPUs\n",
       "</pre>\n"
      ],
      "text/plain": [
       "\u001b[1;36m1200\u001b[0m proposals optimized in \u001b[1;36m3.0\u001b[0m s using \u001b[1;36m4\u001b[0m CPUs\n"
      ]
     },
     "metadata": {},
     "output_type": "display_data"
    },
    {
     "data": {
      "text/html": [
       "<pre style=\"white-space:pre;overflow-x:auto;line-height:normal;font-family:Menlo,'DejaVu Sans Mono',consolas,'Courier New',monospace\"><span style=\"color: #008080; text-decoration-color: #008080; font-weight: bold\">1200</span> proposals optimized in <span style=\"color: #008080; text-decoration-color: #008080; font-weight: bold\">2.6</span> s using <span style=\"color: #008080; text-decoration-color: #008080; font-weight: bold\">4</span> CPUs\n",
       "</pre>\n"
      ],
      "text/plain": [
       "\u001b[1;36m1200\u001b[0m proposals optimized in \u001b[1;36m2.6\u001b[0m s using \u001b[1;36m4\u001b[0m CPUs\n"
      ]
     },
     "metadata": {},
     "output_type": "display_data"
    },
    {
     "data": {
      "text/html": [
       "<pre style=\"white-space:pre;overflow-x:auto;line-height:normal;font-family:Menlo,'DejaVu Sans Mono',consolas,'Courier New',monospace\"><span style=\"color: #008080; text-decoration-color: #008080; font-weight: bold\">1200</span> proposals optimized in <span style=\"color: #008080; text-decoration-color: #008080; font-weight: bold\">2.6</span> s using <span style=\"color: #008080; text-decoration-color: #008080; font-weight: bold\">4</span> CPUs\n",
       "</pre>\n"
      ],
      "text/plain": [
       "\u001b[1;36m1200\u001b[0m proposals optimized in \u001b[1;36m2.6\u001b[0m s using \u001b[1;36m4\u001b[0m CPUs\n"
      ]
     },
     "metadata": {},
     "output_type": "display_data"
    },
    {
     "data": {
      "text/html": [
       "<pre style=\"white-space:pre;overflow-x:auto;line-height:normal;font-family:Menlo,'DejaVu Sans Mono',consolas,'Courier New',monospace\"><span style=\"color: #008080; text-decoration-color: #008080; font-weight: bold\">1200</span> proposals optimized in <span style=\"color: #008080; text-decoration-color: #008080; font-weight: bold\">2.6</span> s using <span style=\"color: #008080; text-decoration-color: #008080; font-weight: bold\">4</span> CPUs\n",
       "</pre>\n"
      ],
      "text/plain": [
       "\u001b[1;36m1200\u001b[0m proposals optimized in \u001b[1;36m2.6\u001b[0m s using \u001b[1;36m4\u001b[0m CPUs\n"
      ]
     },
     "metadata": {},
     "output_type": "display_data"
    },
    {
     "data": {
      "text/html": [
       "<pre style=\"white-space:pre;overflow-x:auto;line-height:normal;font-family:Menlo,'DejaVu Sans Mono',consolas,'Courier New',monospace\"><span style=\"color: #008080; text-decoration-color: #008080; font-weight: bold\">1200</span> proposals optimized in <span style=\"color: #008080; text-decoration-color: #008080; font-weight: bold\">2.6</span> s using <span style=\"color: #008080; text-decoration-color: #008080; font-weight: bold\">4</span> CPUs\n",
       "</pre>\n"
      ],
      "text/plain": [
       "\u001b[1;36m1200\u001b[0m proposals optimized in \u001b[1;36m2.6\u001b[0m s using \u001b[1;36m4\u001b[0m CPUs\n"
      ]
     },
     "metadata": {},
     "output_type": "display_data"
    },
    {
     "data": {
      "text/html": [
       "<pre style=\"white-space:pre;overflow-x:auto;line-height:normal;font-family:Menlo,'DejaVu Sans Mono',consolas,'Courier New',monospace\"><span style=\"color: #008080; text-decoration-color: #008080; font-weight: bold\">1200</span> proposals optimized in <span style=\"color: #008080; text-decoration-color: #008080; font-weight: bold\">2.7</span> s using <span style=\"color: #008080; text-decoration-color: #008080; font-weight: bold\">4</span> CPUs\n",
       "</pre>\n"
      ],
      "text/plain": [
       "\u001b[1;36m1200\u001b[0m proposals optimized in \u001b[1;36m2.7\u001b[0m s using \u001b[1;36m4\u001b[0m CPUs\n"
      ]
     },
     "metadata": {},
     "output_type": "display_data"
    },
    {
     "data": {
      "text/html": [
       "<pre style=\"white-space:pre;overflow-x:auto;line-height:normal;font-family:Menlo,'DejaVu Sans Mono',consolas,'Courier New',monospace\"><span style=\"color: #008080; text-decoration-color: #008080; font-weight: bold\">1200</span> proposals optimized in <span style=\"color: #008080; text-decoration-color: #008080; font-weight: bold\">2.6</span> s using <span style=\"color: #008080; text-decoration-color: #008080; font-weight: bold\">4</span> CPUs\n",
       "</pre>\n"
      ],
      "text/plain": [
       "\u001b[1;36m1200\u001b[0m proposals optimized in \u001b[1;36m2.6\u001b[0m s using \u001b[1;36m4\u001b[0m CPUs\n"
      ]
     },
     "metadata": {},
     "output_type": "display_data"
    },
    {
     "data": {
      "text/html": [
       "<pre style=\"white-space:pre;overflow-x:auto;line-height:normal;font-family:Menlo,'DejaVu Sans Mono',consolas,'Courier New',monospace\">Acquisition tasks for <span style=\"color: #008080; text-decoration-color: #008080; font-weight: bold\">40</span> sampling strategies performed in <span style=\"color: #008080; text-decoration-color: #008080; font-weight: bold\">1</span> min <span style=\"color: #008080; text-decoration-color: #008080; font-weight: bold\">53</span> s\n",
       "</pre>\n"
      ],
      "text/plain": [
       "Acquisition tasks for \u001b[1;36m40\u001b[0m sampling strategies performed in \u001b[1;36m1\u001b[0m min \u001b[1;36m53\u001b[0m s\n"
      ]
     },
     "metadata": {},
     "output_type": "display_data"
    },
    {
     "data": {
      "text/html": [
       "<pre style=\"white-space:pre;overflow-x:auto;line-height:normal;font-family:Menlo,'DejaVu Sans Mono',consolas,'Courier New',monospace\"><span style=\"color: #008080; text-decoration-color: #008080; font-weight: bold\">40</span> samples selected in <span style=\"color: #008080; text-decoration-color: #008080; font-weight: bold\">49.2</span> s\n",
       "</pre>\n"
      ],
      "text/plain": [
       "\u001b[1;36m40\u001b[0m samples selected in \u001b[1;36m49.2\u001b[0m s\n"
      ]
     },
     "metadata": {},
     "output_type": "display_data"
    },
    {
     "data": {
      "text/html": [
       "<pre style=\"white-space:pre;overflow-x:auto;line-height:normal;font-family:Menlo,'DejaVu Sans Mono',consolas,'Courier New',monospace\">Memory usage: <span style=\"color: #008080; text-decoration-color: #008080; font-weight: bold\">7</span> GB, <span style=\"color: #008080; text-decoration-color: #008080; font-weight: bold\">7840</span> MB, <span style=\"color: #008080; text-decoration-color: #008080; font-weight: bold\">336</span> kB\n",
       "</pre>\n"
      ],
      "text/plain": [
       "Memory usage: \u001b[1;36m7\u001b[0m GB, \u001b[1;36m7840\u001b[0m MB, \u001b[1;36m336\u001b[0m kB\n"
      ]
     },
     "metadata": {},
     "output_type": "display_data"
    },
    {
     "data": {
      "text/html": [
       "<pre style=\"white-space:pre;overflow-x:auto;line-height:normal;font-family:Menlo,'DejaVu Sans Mono',consolas,'Courier New',monospace\">Overall time required: <span style=\"color: #008080; text-decoration-color: #008080; font-weight: bold\">3</span> min <span style=\"color: #008080; text-decoration-color: #008080; font-weight: bold\">19</span> s\n",
       "</pre>\n"
      ],
      "text/plain": [
       "Overall time required: \u001b[1;36m3\u001b[0m min \u001b[1;36m19\u001b[0m s\n"
      ]
     },
     "metadata": {},
     "output_type": "display_data"
    }
   ],
   "source": [
    "# recommend a batch of samples\n",
    "samples = gryffin.recommend(observations)"
   ]
  },
  {
   "cell_type": "code",
   "execution_count": 55,
   "id": "a9d5a594",
   "metadata": {},
   "outputs": [],
   "source": [
    "def check_duplicates(samples, observations):\n",
    "    ''' returns True if there are duplicates, False if there are none\n",
    "    '''\n",
    "    sample_hids = [''.join([s['frag_a'],s['frag_b'],s['frag_c']]) for s in samples]\n",
    "    observ_hids = [''.join([o['frag_a'],o['frag_b'],o['frag_c']]) for o in observations]\n",
    "    \n",
    "    # check duplicates over previous observations \n",
    "    is_obs_dup = any(s in observ_hids for s in sample_hids)\n",
    "    \n",
    "    # check duplicates within the batch\n",
    "    is_samp_dup = len(set(sample_hids))<len(sample_hids)\n",
    "    \n",
    "    return is_obs_dup, is_samp_dup"
   ]
  },
  {
   "cell_type": "code",
   "execution_count": 56,
   "id": "ece03d6c",
   "metadata": {},
   "outputs": [
    {
     "data": {
      "text/plain": [
       "(False, False)"
      ]
     },
     "execution_count": 56,
     "metadata": {},
     "output_type": "execute_result"
    }
   ],
   "source": [
    "check_duplicates(samples, observations)"
   ]
  },
  {
   "cell_type": "code",
   "execution_count": 57,
   "id": "d017e982",
   "metadata": {},
   "outputs": [
    {
     "data": {
      "text/plain": [
       "[{'frag_a': 'A011', 'frag_b': 'B016', 'frag_c': 'C036'},\n",
       " {'frag_a': 'A011', 'frag_b': 'B016', 'frag_c': 'C025'},\n",
       " {'frag_a': 'A032', 'frag_b': 'B016', 'frag_c': 'C025'},\n",
       " {'frag_a': 'A002', 'frag_b': 'B016', 'frag_c': 'C025'},\n",
       " {'frag_a': 'A002', 'frag_b': 'B007', 'frag_c': 'C025'},\n",
       " {'frag_a': 'A015', 'frag_b': 'B023', 'frag_c': 'C036'},\n",
       " {'frag_a': 'A015', 'frag_b': 'B020', 'frag_c': 'C036'},\n",
       " {'frag_a': 'A015', 'frag_b': 'B008', 'frag_c': 'C036'},\n",
       " {'frag_a': 'A010', 'frag_b': 'B015', 'frag_c': 'C058'},\n",
       " {'frag_a': 'A016', 'frag_b': 'B019', 'frag_c': 'C058'},\n",
       " {'frag_a': 'A012', 'frag_b': 'B016', 'frag_c': 'C025'},\n",
       " {'frag_a': 'A017', 'frag_b': 'B012', 'frag_c': 'C026'},\n",
       " {'frag_a': 'A011', 'frag_b': 'B006', 'frag_c': 'C007'},\n",
       " {'frag_a': 'A010', 'frag_b': 'B010', 'frag_c': 'C020'},\n",
       " {'frag_a': 'A012', 'frag_b': 'B009', 'frag_c': 'C010'},\n",
       " {'frag_a': 'A002', 'frag_b': 'B026', 'frag_c': 'C035'},\n",
       " {'frag_a': 'A032', 'frag_b': 'B022', 'frag_c': 'C034'},\n",
       " {'frag_a': 'A012', 'frag_b': 'B011', 'frag_c': 'C011'},\n",
       " {'frag_a': 'A001', 'frag_b': 'B006', 'frag_c': 'C014'},\n",
       " {'frag_a': 'A011', 'frag_b': 'B022', 'frag_c': 'C043'},\n",
       " {'frag_a': 'A017', 'frag_b': 'B018', 'frag_c': 'C023'},\n",
       " {'frag_a': 'A001', 'frag_b': 'B023', 'frag_c': 'C042'},\n",
       " {'frag_a': 'A015', 'frag_b': 'B001', 'frag_c': 'C014'},\n",
       " {'frag_a': 'A017', 'frag_b': 'B002', 'frag_c': 'C032'},\n",
       " {'frag_a': 'A017', 'frag_b': 'B025', 'frag_c': 'C032'},\n",
       " {'frag_a': 'A016', 'frag_b': 'B021', 'frag_c': 'C006'},\n",
       " {'frag_a': 'A001', 'frag_b': 'B007', 'frag_c': 'C006'},\n",
       " {'frag_a': 'A011', 'frag_b': 'B001', 'frag_c': 'C043'},\n",
       " {'frag_a': 'A016', 'frag_b': 'B011', 'frag_c': 'C017'},\n",
       " {'frag_a': 'A002', 'frag_b': 'B004', 'frag_c': 'C042'},\n",
       " {'frag_a': 'A014', 'frag_b': 'B008', 'frag_c': 'C022'},\n",
       " {'frag_a': 'A016', 'frag_b': 'B026', 'frag_c': 'C016'},\n",
       " {'frag_a': 'A015', 'frag_b': 'B022', 'frag_c': 'C010'},\n",
       " {'frag_a': 'A001', 'frag_b': 'B018', 'frag_c': 'C032'},\n",
       " {'frag_a': 'A012', 'frag_b': 'B002', 'frag_c': 'C041'},\n",
       " {'frag_a': 'A015', 'frag_b': 'B002', 'frag_c': 'C041'},\n",
       " {'frag_a': 'A011', 'frag_b': 'B008', 'frag_c': 'C020'},\n",
       " {'frag_a': 'A012', 'frag_b': 'B007', 'frag_c': 'C001'},\n",
       " {'frag_a': 'A011', 'frag_b': 'B007', 'frag_c': 'C027'},\n",
       " {'frag_a': 'A017', 'frag_b': 'B007', 'frag_c': 'C015'}]"
      ]
     },
     "execution_count": 57,
     "metadata": {},
     "output_type": "execute_result"
    }
   ],
   "source": [
    "samples"
   ]
  },
  {
   "cell_type": "code",
   "execution_count": 58,
   "id": "e5f1b511",
   "metadata": {},
   "outputs": [],
   "source": [
    "rxn_transmut = allchem.ReactionFromSmarts(\"[*:1][Br,I]>>[*:1][Po]\")\n",
    "rxn_b_c = allchem.ReactionFromSmarts(\n",
    "    \"[Br,I][*:1].C[N+]12CC(=O)O[B-]1([*:2])OC(=O)C2>>[*:1]-[*:2]\"\n",
    ")\n",
    "rxn_a_b_c = allchem.ReactionFromSmarts(\"CC1(C)OB([*:1])OC1(C)C.[*:2][Po]>>[*:1]-[*:2]\")\n",
    "rxn_a_b_c2 = allchem.ReactionFromSmarts(\"[*:1]B(O)O.[*:2][Po]>>[*:1]-[*:2]\")\n",
    "\n",
    "\n",
    "def assemble_fragments(hid_a, hid_b, hid_c):\n",
    "    smiles_a = db.get_fragment_details(hid_a, identifier_type='hid')['smiles']\n",
    "    smiles_b = db.get_fragment_details(hid_b, identifier_type='hid')['smiles']\n",
    "    smiles_c = db.get_fragment_details(hid_c, identifier_type='hid')['smiles']\n",
    "\n",
    "    a = chem.MolFromSmiles(smiles_a)\n",
    "    b = chem.MolFromSmiles(smiles_b)\n",
    "    c = chem.MolFromSmiles(smiles_c)\n",
    "    if a is None or b is None or c is None:\n",
    "        raise ValueError(\"Invalid SMILES\")\n",
    "\n",
    "    # Building the molecule... there is probably a better way\n",
    "    b_transmut = rxn_transmut.RunReactants([b])[0][0]\n",
    "    b_c = rxn_b_c.RunReactants([c, b_transmut])[0][0]\n",
    "    b_c_b = rxn_b_c.RunReactants([b_c, b_transmut])[0][0]\n",
    "    try:\n",
    "        a_b_c_b = rxn_a_b_c.RunReactants([a, b_c_b])[0][0]\n",
    "        a_b_c_b_a = rxn_a_b_c.RunReactants([a, a_b_c_b])[0][0]\n",
    "    except:\n",
    "        a_b_c_b = rxn_a_b_c2.RunReactants([a, b_c_b])[0][0]\n",
    "        a_b_c_b_a = rxn_a_b_c2.RunReactants([a, a_b_c_b])[0][0]\n",
    "    return chem.MolToSmiles(a_b_c_b_a)"
   ]
  },
  {
   "cell_type": "code",
   "execution_count": null,
   "id": "0b3d814d",
   "metadata": {},
   "outputs": [],
   "source": []
  },
  {
   "cell_type": "code",
   "execution_count": 59,
   "id": "d087bea2",
   "metadata": {},
   "outputs": [],
   "source": [
    "molecule_smiles = []\n",
    "molecule_hids = []\n",
    "\n",
    "for sample in samples:\n",
    "    molecule_hids.append(''.join([sample['frag_a'],sample['frag_b'],sample['frag_c']]))\n",
    "    molecule_smiles.append(assemble_fragments(sample['frag_a'], sample['frag_b'], sample['frag_c']))\n",
    "    "
   ]
  },
  {
   "cell_type": "code",
   "execution_count": 60,
   "id": "27556cbf",
   "metadata": {},
   "outputs": [],
   "source": [
    "molecule_mols = [chem.MolFromSmiles(s) for s in molecule_smiles]\n"
   ]
  },
  {
   "cell_type": "code",
   "execution_count": 61,
   "id": "13c62873",
   "metadata": {},
   "outputs": [],
   "source": [
    "img = chem.Draw.MolsToGridImage(\n",
    "    molecule_mols, molsPerRow=5, subImgSize=(400,400), returnPNG=False, legends=molecule_hids,\n",
    ")\n",
    "img.save('first_round_samples_uoft_only.png')"
   ]
  },
  {
   "cell_type": "code",
   "execution_count": 62,
   "id": "54801669",
   "metadata": {},
   "outputs": [],
   "source": [
    "with open('first_batch_smiles_uoft_only.txt', 'w') as f:\n",
    "    for smile, hid in zip(molecule_smiles, molecule_hids):\n",
    "        f.write(f'{smile}\\t{hid}\\n')\n",
    "    "
   ]
  },
  {
   "cell_type": "code",
   "execution_count": null,
   "id": "8aca51c7",
   "metadata": {},
   "outputs": [],
   "source": []
  },
  {
   "cell_type": "markdown",
   "id": "4c309f90",
   "metadata": {},
   "source": [
    "## Write the new target molecules/syntheses to the DB"
   ]
  },
  {
   "cell_type": "code",
   "execution_count": 70,
   "id": "bc8bd9d7",
   "metadata": {},
   "outputs": [
    {
     "name": "stdout",
     "output_type": "stream",
     "text": [
      ">> Creating DB entry for sample A011 B016 C036...\n",
      ">> Creating DB entry for sample A011 B016 C025...\n",
      ">> Creating DB entry for sample A032 B016 C025...\n",
      ">> Creating DB entry for sample A002 B016 C025...\n",
      ">> Creating DB entry for sample A002 B007 C025...\n",
      ">> Creating DB entry for sample A015 B023 C036...\n",
      ">> Creating DB entry for sample A015 B020 C036...\n",
      ">> Creating DB entry for sample A015 B008 C036...\n",
      ">> Creating DB entry for sample A010 B015 C058...\n",
      ">> Creating DB entry for sample A016 B019 C058...\n",
      ">> Creating DB entry for sample A012 B016 C025...\n",
      ">> Creating DB entry for sample A017 B012 C026...\n",
      ">> Creating DB entry for sample A011 B006 C007...\n",
      ">> Creating DB entry for sample A010 B010 C020...\n",
      ">> Creating DB entry for sample A012 B009 C010...\n",
      ">> Creating DB entry for sample A002 B026 C035...\n",
      ">> Creating DB entry for sample A032 B022 C034...\n",
      ">> Creating DB entry for sample A012 B011 C011...\n",
      ">> Creating DB entry for sample A001 B006 C014...\n",
      ">> Creating DB entry for sample A011 B022 C043...\n",
      ">> Creating DB entry for sample A017 B018 C023...\n",
      ">> Creating DB entry for sample A001 B023 C042...\n",
      ">> Creating DB entry for sample A015 B001 C014...\n",
      ">> Creating DB entry for sample A017 B002 C032...\n",
      ">> Creating DB entry for sample A017 B025 C032...\n",
      ">> Creating DB entry for sample A016 B021 C006...\n",
      ">> Creating DB entry for sample A001 B007 C006...\n",
      ">> Creating DB entry for sample A011 B001 C043...\n",
      ">> Creating DB entry for sample A016 B011 C017...\n",
      ">> Creating DB entry for sample A002 B004 C042...\n",
      ">> Creating DB entry for sample A014 B008 C022...\n",
      ">> Creating DB entry for sample A016 B026 C016...\n",
      ">> Creating DB entry for sample A015 B022 C010...\n",
      ">> Creating DB entry for sample A001 B018 C032...\n",
      ">> Creating DB entry for sample A012 B002 C041...\n",
      ">> Creating DB entry for sample A015 B002 C041...\n",
      ">> Creating DB entry for sample A011 B008 C020...\n",
      ">> Creating DB entry for sample A012 B007 C001...\n",
      ">> Creating DB entry for sample A011 B007 C027...\n",
      ">> Creating DB entry for sample A017 B007 C015...\n"
     ]
    }
   ],
   "source": [
    "for sample, smi in zip(samples, molecule_smiles):\n",
    "    print(f'>> Creating DB entry for sample {sample[\"frag_a\"]} {sample[\"frag_b\"]} {sample[\"frag_c\"]}...')\n",
    "    db.create_target_compound(\n",
    "            smiles=smi,\n",
    "            fragment_a=sample['frag_a'],\n",
    "            fragment_b=sample['frag_b'],\n",
    "            fragment_c=sample['frag_c'],\n",
    "            fragment_identifier='hid',\n",
    "    )"
   ]
  },
  {
   "cell_type": "code",
   "execution_count": 69,
   "id": "d1a024c7",
   "metadata": {},
   "outputs": [
    {
     "data": {
      "text/plain": [
       "{'id': 'A011',\n",
       " 'smiles': 'OB(O)c1ccc2c3ccccc3n(-c3ccccc3)c2c1',\n",
       " 'CAS': '1001911-63-2',\n",
       " 'molecule_id': 'b230ce95-ad00-4920-9cd3-5d344ea521b6'}"
      ]
     },
     "execution_count": 69,
     "metadata": {},
     "output_type": "execute_result"
    }
   ],
   "source": [
    "db.get_fragment_details('A011', identifier_type='hid')"
   ]
  },
  {
   "cell_type": "code",
   "execution_count": null,
   "id": "5f100009",
   "metadata": {},
   "outputs": [],
   "source": []
  },
  {
   "cell_type": "code",
   "execution_count": null,
   "id": "9fea6dfc",
   "metadata": {},
   "outputs": [],
   "source": []
  },
  {
   "cell_type": "code",
   "execution_count": null,
   "id": "6b595161",
   "metadata": {},
   "outputs": [],
   "source": []
  },
  {
   "cell_type": "code",
   "execution_count": 72,
   "id": "0d5ac31d",
   "metadata": {},
   "outputs": [
    {
     "data": {
      "text/html": [
       "<div>\n",
       "<style scoped>\n",
       "    .dataframe tbody tr th:only-of-type {\n",
       "        vertical-align: middle;\n",
       "    }\n",
       "\n",
       "    .dataframe tbody tr th {\n",
       "        vertical-align: top;\n",
       "    }\n",
       "\n",
       "    .dataframe thead th {\n",
       "        text-align: right;\n",
       "    }\n",
       "</style>\n",
       "<table border=\"1\" class=\"dataframe\">\n",
       "  <thead>\n",
       "    <tr style=\"text-align: right;\">\n",
       "      <th></th>\n",
       "      <th>synthesis_id</th>\n",
       "      <th>created_on</th>\n",
       "      <th>updated_on</th>\n",
       "      <th>status</th>\n",
       "      <th>lab_id</th>\n",
       "      <th>molecule_id</th>\n",
       "      <th>machine_id</th>\n",
       "      <th>parcel_tracking_num</th>\n",
       "    </tr>\n",
       "  </thead>\n",
       "  <tbody>\n",
       "    <tr>\n",
       "      <th>0</th>\n",
       "      <td>8cf4e82b-6075-460d-a2ad-cb492f4c4b93</td>\n",
       "      <td>2022-02-03T14:24:29.904436</td>\n",
       "      <td>2022-02-03T14:24:29.904436</td>\n",
       "      <td>PROCESSING</td>\n",
       "      <td>b65835e3-b908-45c6-9995-ec98d0caafe7</td>\n",
       "      <td>b33b1cc9-81d8-4833-803f-466411581a4d</td>\n",
       "      <td>5600f641-b180-41b1-8043-921e66107744</td>\n",
       "      <td>None</td>\n",
       "    </tr>\n",
       "    <tr>\n",
       "      <th>1</th>\n",
       "      <td>43283ee2-6110-4460-aa57-08cedd716cbd</td>\n",
       "      <td>2022-02-09T22:03:57.156014</td>\n",
       "      <td>2022-02-11T09:25:36.506576</td>\n",
       "      <td>SHIPPED</td>\n",
       "      <td>b65835e3-b908-45c6-9995-ec98d0caafe7</td>\n",
       "      <td>322b8304-39b5-49bc-a307-99719f0d5911</td>\n",
       "      <td>5600f641-b180-41b1-8043-921e66107744</td>\n",
       "      <td>775853526901</td>\n",
       "    </tr>\n",
       "    <tr>\n",
       "      <th>2</th>\n",
       "      <td>695c1c55-bf6a-4265-b68d-4655999a7b85</td>\n",
       "      <td>2022-02-11T16:19:41.358733</td>\n",
       "      <td>2022-02-11T16:19:41.861241</td>\n",
       "      <td>DONE</td>\n",
       "      <td>08cc75ca-8d1e-4ead-9b56-ad1b6ba83a41</td>\n",
       "      <td>539c5e5e-25fa-457d-a2c0-ecf3f88c36f3</td>\n",
       "      <td>f158c26e-a94e-4994-9a95-de324aa1da23</td>\n",
       "      <td>None</td>\n",
       "    </tr>\n",
       "    <tr>\n",
       "      <th>3</th>\n",
       "      <td>9a71f775-c341-42b1-ab7a-cd0917b5e80f</td>\n",
       "      <td>2022-02-11T16:19:42.607900</td>\n",
       "      <td>2022-02-11T16:19:43.118409</td>\n",
       "      <td>DONE</td>\n",
       "      <td>08cc75ca-8d1e-4ead-9b56-ad1b6ba83a41</td>\n",
       "      <td>3275cec5-919c-4f18-bb4c-2ec941f7db3b</td>\n",
       "      <td>f158c26e-a94e-4994-9a95-de324aa1da23</td>\n",
       "      <td>None</td>\n",
       "    </tr>\n",
       "    <tr>\n",
       "      <th>4</th>\n",
       "      <td>8cf70e33-a879-4ab7-879f-5284da51c300</td>\n",
       "      <td>2022-02-11T16:19:43.835325</td>\n",
       "      <td>2022-02-11T16:19:44.321553</td>\n",
       "      <td>DONE</td>\n",
       "      <td>08cc75ca-8d1e-4ead-9b56-ad1b6ba83a41</td>\n",
       "      <td>63bd1d6d-3e81-48ae-9535-e04dc6d9d32f</td>\n",
       "      <td>f158c26e-a94e-4994-9a95-de324aa1da23</td>\n",
       "      <td>None</td>\n",
       "    </tr>\n",
       "    <tr>\n",
       "      <th>...</th>\n",
       "      <td>...</td>\n",
       "      <td>...</td>\n",
       "      <td>...</td>\n",
       "      <td>...</td>\n",
       "      <td>...</td>\n",
       "      <td>...</td>\n",
       "      <td>...</td>\n",
       "      <td>...</td>\n",
       "    </tr>\n",
       "    <tr>\n",
       "      <th>153</th>\n",
       "      <td>c85fd6e2-2a8c-4da3-a540-2c847e6c15c8</td>\n",
       "      <td>2022-02-13T17:09:27.732358</td>\n",
       "      <td>2022-02-13T17:09:27.732358</td>\n",
       "      <td>AVAILABLE</td>\n",
       "      <td>None</td>\n",
       "      <td>5cd51cd3-aa08-4008-9f9c-d59488563f8f</td>\n",
       "      <td>None</td>\n",
       "      <td>None</td>\n",
       "    </tr>\n",
       "    <tr>\n",
       "      <th>154</th>\n",
       "      <td>31351e5e-fc8f-4a77-ba16-b2cb3e04d652</td>\n",
       "      <td>2022-02-13T17:09:29.271548</td>\n",
       "      <td>2022-02-13T17:09:29.271548</td>\n",
       "      <td>AVAILABLE</td>\n",
       "      <td>None</td>\n",
       "      <td>2025ee1f-aa4b-4945-8079-d1c094a3bb6f</td>\n",
       "      <td>None</td>\n",
       "      <td>None</td>\n",
       "    </tr>\n",
       "    <tr>\n",
       "      <th>155</th>\n",
       "      <td>814a898b-7c01-4a15-bae3-a97ef6f202b0</td>\n",
       "      <td>2022-02-13T17:09:30.314880</td>\n",
       "      <td>2022-02-13T17:09:30.314880</td>\n",
       "      <td>AVAILABLE</td>\n",
       "      <td>None</td>\n",
       "      <td>85742e82-2bfe-4c23-a3c7-6d5548028b0b</td>\n",
       "      <td>None</td>\n",
       "      <td>None</td>\n",
       "    </tr>\n",
       "    <tr>\n",
       "      <th>156</th>\n",
       "      <td>5895211e-c565-4945-8f24-187bd7e9a002</td>\n",
       "      <td>2022-02-13T17:09:32.263675</td>\n",
       "      <td>2022-02-13T17:09:32.263675</td>\n",
       "      <td>AVAILABLE</td>\n",
       "      <td>None</td>\n",
       "      <td>d29e0792-15ac-4145-8789-dd64a998f57a</td>\n",
       "      <td>None</td>\n",
       "      <td>None</td>\n",
       "    </tr>\n",
       "    <tr>\n",
       "      <th>157</th>\n",
       "      <td>e4297451-cc4e-46f5-98f0-ee64dbe8d659</td>\n",
       "      <td>2022-02-13T17:09:33.389288</td>\n",
       "      <td>2022-02-13T17:09:33.389288</td>\n",
       "      <td>AVAILABLE</td>\n",
       "      <td>None</td>\n",
       "      <td>86354e6b-e00f-42e2-aa15-5efca8d1352e</td>\n",
       "      <td>None</td>\n",
       "      <td>None</td>\n",
       "    </tr>\n",
       "  </tbody>\n",
       "</table>\n",
       "<p>158 rows × 8 columns</p>\n",
       "</div>"
      ],
      "text/plain": [
       "                             synthesis_id                  created_on  \\\n",
       "0    8cf4e82b-6075-460d-a2ad-cb492f4c4b93  2022-02-03T14:24:29.904436   \n",
       "1    43283ee2-6110-4460-aa57-08cedd716cbd  2022-02-09T22:03:57.156014   \n",
       "2    695c1c55-bf6a-4265-b68d-4655999a7b85  2022-02-11T16:19:41.358733   \n",
       "3    9a71f775-c341-42b1-ab7a-cd0917b5e80f  2022-02-11T16:19:42.607900   \n",
       "4    8cf70e33-a879-4ab7-879f-5284da51c300  2022-02-11T16:19:43.835325   \n",
       "..                                    ...                         ...   \n",
       "153  c85fd6e2-2a8c-4da3-a540-2c847e6c15c8  2022-02-13T17:09:27.732358   \n",
       "154  31351e5e-fc8f-4a77-ba16-b2cb3e04d652  2022-02-13T17:09:29.271548   \n",
       "155  814a898b-7c01-4a15-bae3-a97ef6f202b0  2022-02-13T17:09:30.314880   \n",
       "156  5895211e-c565-4945-8f24-187bd7e9a002  2022-02-13T17:09:32.263675   \n",
       "157  e4297451-cc4e-46f5-98f0-ee64dbe8d659  2022-02-13T17:09:33.389288   \n",
       "\n",
       "                     updated_on      status  \\\n",
       "0    2022-02-03T14:24:29.904436  PROCESSING   \n",
       "1    2022-02-11T09:25:36.506576     SHIPPED   \n",
       "2    2022-02-11T16:19:41.861241        DONE   \n",
       "3    2022-02-11T16:19:43.118409        DONE   \n",
       "4    2022-02-11T16:19:44.321553        DONE   \n",
       "..                          ...         ...   \n",
       "153  2022-02-13T17:09:27.732358   AVAILABLE   \n",
       "154  2022-02-13T17:09:29.271548   AVAILABLE   \n",
       "155  2022-02-13T17:09:30.314880   AVAILABLE   \n",
       "156  2022-02-13T17:09:32.263675   AVAILABLE   \n",
       "157  2022-02-13T17:09:33.389288   AVAILABLE   \n",
       "\n",
       "                                   lab_id  \\\n",
       "0    b65835e3-b908-45c6-9995-ec98d0caafe7   \n",
       "1    b65835e3-b908-45c6-9995-ec98d0caafe7   \n",
       "2    08cc75ca-8d1e-4ead-9b56-ad1b6ba83a41   \n",
       "3    08cc75ca-8d1e-4ead-9b56-ad1b6ba83a41   \n",
       "4    08cc75ca-8d1e-4ead-9b56-ad1b6ba83a41   \n",
       "..                                    ...   \n",
       "153                                  None   \n",
       "154                                  None   \n",
       "155                                  None   \n",
       "156                                  None   \n",
       "157                                  None   \n",
       "\n",
       "                              molecule_id  \\\n",
       "0    b33b1cc9-81d8-4833-803f-466411581a4d   \n",
       "1    322b8304-39b5-49bc-a307-99719f0d5911   \n",
       "2    539c5e5e-25fa-457d-a2c0-ecf3f88c36f3   \n",
       "3    3275cec5-919c-4f18-bb4c-2ec941f7db3b   \n",
       "4    63bd1d6d-3e81-48ae-9535-e04dc6d9d32f   \n",
       "..                                    ...   \n",
       "153  5cd51cd3-aa08-4008-9f9c-d59488563f8f   \n",
       "154  2025ee1f-aa4b-4945-8079-d1c094a3bb6f   \n",
       "155  85742e82-2bfe-4c23-a3c7-6d5548028b0b   \n",
       "156  d29e0792-15ac-4145-8789-dd64a998f57a   \n",
       "157  86354e6b-e00f-42e2-aa15-5efca8d1352e   \n",
       "\n",
       "                               machine_id parcel_tracking_num  \n",
       "0    5600f641-b180-41b1-8043-921e66107744                None  \n",
       "1    5600f641-b180-41b1-8043-921e66107744        775853526901  \n",
       "2    f158c26e-a94e-4994-9a95-de324aa1da23                None  \n",
       "3    f158c26e-a94e-4994-9a95-de324aa1da23                None  \n",
       "4    f158c26e-a94e-4994-9a95-de324aa1da23                None  \n",
       "..                                    ...                 ...  \n",
       "153                                  None                None  \n",
       "154                                  None                None  \n",
       "155                                  None                None  \n",
       "156                                  None                None  \n",
       "157                                  None                None  \n",
       "\n",
       "[158 rows x 8 columns]"
      ]
     },
     "execution_count": 72,
     "metadata": {},
     "output_type": "execute_result"
    }
   ],
   "source": [
    "db.client.query_database('synthesis', limit=1000)"
   ]
  },
  {
   "cell_type": "code",
   "execution_count": null,
   "id": "dd54a296",
   "metadata": {},
   "outputs": [],
   "source": []
  },
  {
   "cell_type": "code",
   "execution_count": 6,
   "id": "d0adc131",
   "metadata": {},
   "outputs": [],
   "source": [
    "# load molecules from the first bacth\n",
    "with open('first_batch_smiles_uoft_only.txt', 'r') as f:\n",
    "    smiles_ = f.readlines()\n",
    "    "
   ]
  },
  {
   "cell_type": "code",
   "execution_count": 19,
   "id": "4fa26279",
   "metadata": {},
   "outputs": [],
   "source": [
    "smiles = []\n",
    "hids = []\n",
    "for line in smiles_:\n",
    "    \n",
    "    split = line.split('\\t')\n",
    "    smiles.append(split[0])\n",
    "    hids.append(split[1].strip())"
   ]
  },
  {
   "cell_type": "code",
   "execution_count": 21,
   "id": "39f2953a",
   "metadata": {},
   "outputs": [],
   "source": [
    "mols = [chem.MolFromSmiles(s) for s in smiles]"
   ]
  },
  {
   "cell_type": "code",
   "execution_count": 22,
   "id": "47cf4157",
   "metadata": {},
   "outputs": [],
   "source": [
    "img = chem.Draw.MolsToGridImage(\n",
    "    mols, molsPerRow=10, subImgSize=(400,400), returnPNG=False, legends=hids,\n",
    ")\n",
    "img.save('first_round_samples_uoft_only_landscape.png')"
   ]
  },
  {
   "cell_type": "code",
   "execution_count": null,
   "id": "8452c303",
   "metadata": {},
   "outputs": [],
   "source": []
  }
 ],
 "metadata": {
  "kernelspec": {
   "display_name": "feas",
   "language": "python",
   "name": "feas"
  },
  "language_info": {
   "codemirror_mode": {
    "name": "ipython",
    "version": 3
   },
   "file_extension": ".py",
   "mimetype": "text/x-python",
   "name": "python",
   "nbconvert_exporter": "python",
   "pygments_lexer": "ipython3",
   "version": "3.7.11"
  }
 },
 "nbformat": 4,
 "nbformat_minor": 5
}
