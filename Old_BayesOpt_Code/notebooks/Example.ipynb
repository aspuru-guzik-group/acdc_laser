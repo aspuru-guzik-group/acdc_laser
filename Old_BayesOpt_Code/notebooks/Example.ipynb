{
 "cells": [
  {
   "cell_type": "code",
   "execution_count": 18,
   "id": "93898344",
   "metadata": {
    "pycharm": {
     "name": "#%%\n"
    }
   },
   "outputs": [],
   "source": [
    "import pandas as pd\n",
    "from molar import ClientConfig, Client\n",
    "import rdkit\n",
    "import rdkit.Chem as chem\n",
    "import rdkit.Chem.AllChem as allchem"
   ]
  },
  {
   "cell_type": "code",
   "execution_count": 10,
   "id": "53aad246",
   "metadata": {
    "pycharm": {
     "name": "#%%\n"
    }
   },
   "outputs": [],
   "source": [
    "# That's how you connect to the database\n",
    "\n",
    "cfg = ClientConfig(\n",
    "    server_url=\"https://molar.cs.toronto.edu/\",\n",
    "    email=\"riley.hickman13@gmail.com\", \n",
    "    password=\"az1$jH5v\", \n",
    "    database_name=\"madness_laser_test\"\n",
    ")\n",
    "client = Client(cfg)"
   ]
  },
  {
   "cell_type": "code",
   "execution_count": 11,
   "id": "b3c62a52",
   "metadata": {
    "pycharm": {
     "name": "#%%\n"
    }
   },
   "outputs": [
    {
     "data": {
      "text/plain": [
       "{'email': 'riley.hickman13@gmail.com',\n",
       " 'is_superuser': False,\n",
       " 'is_active': True,\n",
       " 'full_name': 'rileyhickman',\n",
       " 'created_on': '2022-01-18T19:16:33.241173',\n",
       " 'user_id': 3}"
      ]
     },
     "execution_count": 11,
     "metadata": {},
     "output_type": "execute_result"
    }
   ],
   "source": [
    "# This method verifies if you are logged in and what rights you have on the database\n",
    "client.test_token()"
   ]
  },
  {
   "cell_type": "code",
   "execution_count": 12,
   "id": "eec283ec",
   "metadata": {
    "pycharm": {
     "name": "#%%\n"
    }
   },
   "outputs": [
    {
     "data": {
      "text/html": [
       "<div>\n",
       "<style scoped>\n",
       "    .dataframe tbody tr th:only-of-type {\n",
       "        vertical-align: middle;\n",
       "    }\n",
       "\n",
       "    .dataframe tbody tr th {\n",
       "        vertical-align: top;\n",
       "    }\n",
       "\n",
       "    .dataframe thead th {\n",
       "        text-align: right;\n",
       "    }\n",
       "</style>\n",
       "<table border=\"1\" class=\"dataframe\">\n",
       "  <thead>\n",
       "    <tr style=\"text-align: right;\">\n",
       "      <th></th>\n",
       "      <th>molecule_id</th>\n",
       "      <th>created_on</th>\n",
       "      <th>updated_on</th>\n",
       "      <th>hid</th>\n",
       "      <th>smiles</th>\n",
       "      <th>commercially_available</th>\n",
       "      <th>CAS</th>\n",
       "      <th>molecule_type_id</th>\n",
       "    </tr>\n",
       "  </thead>\n",
       "  <tbody>\n",
       "    <tr>\n",
       "      <th>0</th>\n",
       "      <td>6bf2b5a1-c157-4b5a-8a80-bf0b44704273</td>\n",
       "      <td>2022-01-18T12:59:55.557052</td>\n",
       "      <td>2022-01-18T12:59:55.557052</td>\n",
       "      <td>A001</td>\n",
       "      <td>CC1(C)OB(c2ccc(-n3c4ccccc4c4ccccc43)cc2)OC1(C)C</td>\n",
       "      <td>True</td>\n",
       "      <td>785051-54-9</td>\n",
       "      <td>2d012b56-8260-4f9e-8ede-2c8546baf21c</td>\n",
       "    </tr>\n",
       "    <tr>\n",
       "      <th>1</th>\n",
       "      <td>b2272f91-8f3d-41a5-87d4-8c473af1da0e</td>\n",
       "      <td>2022-01-18T13:00:03.958016</td>\n",
       "      <td>2022-01-18T13:00:03.958016</td>\n",
       "      <td>A002</td>\n",
       "      <td>CC1(C)OB(c2ccc(N(c3ccccc3)c3ccccc3)cc2)OC1(C)C</td>\n",
       "      <td>True</td>\n",
       "      <td>267221-88-5</td>\n",
       "      <td>2d012b56-8260-4f9e-8ede-2c8546baf21c</td>\n",
       "    </tr>\n",
       "    <tr>\n",
       "      <th>2</th>\n",
       "      <td>64ee9f15-7a47-4297-9e10-abc3c434c4e9</td>\n",
       "      <td>2022-01-18T13:00:12.229953</td>\n",
       "      <td>2022-01-18T13:00:12.229953</td>\n",
       "      <td>A003</td>\n",
       "      <td>COc1ccc(N(c2ccc(OC)cc2)c2ccc(B3OC(C)(C)C(C)(C)...</td>\n",
       "      <td>True</td>\n",
       "      <td>875667-84-8</td>\n",
       "      <td>2d012b56-8260-4f9e-8ede-2c8546baf21c</td>\n",
       "    </tr>\n",
       "    <tr>\n",
       "      <th>3</th>\n",
       "      <td>c669230e-aeb4-47db-8948-cadbdea4f198</td>\n",
       "      <td>2022-01-18T13:00:20.943680</td>\n",
       "      <td>2022-01-18T13:00:20.943680</td>\n",
       "      <td>A004</td>\n",
       "      <td>CC(C)(C)OC(=O)N(c1ccccc1)c1ccc(B2OC(C)(C)C(C)(...</td>\n",
       "      <td>True</td>\n",
       "      <td>1218791-29-7</td>\n",
       "      <td>2d012b56-8260-4f9e-8ede-2c8546baf21c</td>\n",
       "    </tr>\n",
       "    <tr>\n",
       "      <th>4</th>\n",
       "      <td>a8c81cfc-70df-4779-80d8-057b62224b10</td>\n",
       "      <td>2022-01-18T13:00:29.280195</td>\n",
       "      <td>2022-01-18T13:00:29.280195</td>\n",
       "      <td>A005</td>\n",
       "      <td>OB(O)c1ccc(N(c2ccccc2)c2ccc(-c3ccccc3)cc2)cc1</td>\n",
       "      <td>True</td>\n",
       "      <td>1084334-86-0</td>\n",
       "      <td>2d012b56-8260-4f9e-8ede-2c8546baf21c</td>\n",
       "    </tr>\n",
       "    <tr>\n",
       "      <th>5</th>\n",
       "      <td>f607a1d6-e065-42da-8fbe-39be80f5d9c8</td>\n",
       "      <td>2022-01-18T13:00:37.558186</td>\n",
       "      <td>2022-01-18T13:00:37.558186</td>\n",
       "      <td>A006</td>\n",
       "      <td>OB(O)c1ccc2c3ccccc3n(-c3ccc(-c4ccccc4)cc3)c2c1</td>\n",
       "      <td>True</td>\n",
       "      <td>1028648-22-7</td>\n",
       "      <td>2d012b56-8260-4f9e-8ede-2c8546baf21c</td>\n",
       "    </tr>\n",
       "    <tr>\n",
       "      <th>6</th>\n",
       "      <td>f3209e2a-1cbf-461d-945b-768fa8238f71</td>\n",
       "      <td>2022-01-18T13:00:45.807368</td>\n",
       "      <td>2022-01-18T13:00:45.807368</td>\n",
       "      <td>A007</td>\n",
       "      <td>OB(O)c1ccc2c(c1)c1cc(-c3ccccc3)ccc1n2-c1ccccc1</td>\n",
       "      <td>True</td>\n",
       "      <td>1133058-06-6</td>\n",
       "      <td>2d012b56-8260-4f9e-8ede-2c8546baf21c</td>\n",
       "    </tr>\n",
       "    <tr>\n",
       "      <th>7</th>\n",
       "      <td>c6b85389-1f54-4323-9abd-1c1685b29d94</td>\n",
       "      <td>2022-01-18T13:01:09.176952</td>\n",
       "      <td>2022-01-18T13:01:09.176952</td>\n",
       "      <td>A008</td>\n",
       "      <td>CC1(C)OB(c2ccc3c(c2)c2ccccc2n3-c2ccccc2)OC1(C)C</td>\n",
       "      <td>True</td>\n",
       "      <td>1126522-69-7</td>\n",
       "      <td>2d012b56-8260-4f9e-8ede-2c8546baf21c</td>\n",
       "    </tr>\n",
       "    <tr>\n",
       "      <th>8</th>\n",
       "      <td>ece76d8c-3284-431a-aa10-38fd47213859</td>\n",
       "      <td>2022-01-18T13:01:33.211641</td>\n",
       "      <td>2022-01-18T13:01:33.211641</td>\n",
       "      <td>A009</td>\n",
       "      <td>OB(O)c1cccc(N(c2ccccc2)c2ccccc2)c1</td>\n",
       "      <td>True</td>\n",
       "      <td>943899-12-5</td>\n",
       "      <td>2d012b56-8260-4f9e-8ede-2c8546baf21c</td>\n",
       "    </tr>\n",
       "    <tr>\n",
       "      <th>9</th>\n",
       "      <td>d578c1ee-cabe-4a68-b452-6f747f4a3a64</td>\n",
       "      <td>2022-01-18T13:01:41.261730</td>\n",
       "      <td>2022-01-18T13:01:41.261730</td>\n",
       "      <td>A010</td>\n",
       "      <td>OB(O)c1cccc(-n2c3ccccc3c3ccccc32)c1</td>\n",
       "      <td>True</td>\n",
       "      <td>864377-33-3</td>\n",
       "      <td>2d012b56-8260-4f9e-8ede-2c8546baf21c</td>\n",
       "    </tr>\n",
       "  </tbody>\n",
       "</table>\n",
       "</div>"
      ],
      "text/plain": [
       "                            molecule_id                  created_on  \\\n",
       "0  6bf2b5a1-c157-4b5a-8a80-bf0b44704273  2022-01-18T12:59:55.557052   \n",
       "1  b2272f91-8f3d-41a5-87d4-8c473af1da0e  2022-01-18T13:00:03.958016   \n",
       "2  64ee9f15-7a47-4297-9e10-abc3c434c4e9  2022-01-18T13:00:12.229953   \n",
       "3  c669230e-aeb4-47db-8948-cadbdea4f198  2022-01-18T13:00:20.943680   \n",
       "4  a8c81cfc-70df-4779-80d8-057b62224b10  2022-01-18T13:00:29.280195   \n",
       "5  f607a1d6-e065-42da-8fbe-39be80f5d9c8  2022-01-18T13:00:37.558186   \n",
       "6  f3209e2a-1cbf-461d-945b-768fa8238f71  2022-01-18T13:00:45.807368   \n",
       "7  c6b85389-1f54-4323-9abd-1c1685b29d94  2022-01-18T13:01:09.176952   \n",
       "8  ece76d8c-3284-431a-aa10-38fd47213859  2022-01-18T13:01:33.211641   \n",
       "9  d578c1ee-cabe-4a68-b452-6f747f4a3a64  2022-01-18T13:01:41.261730   \n",
       "\n",
       "                   updated_on   hid  \\\n",
       "0  2022-01-18T12:59:55.557052  A001   \n",
       "1  2022-01-18T13:00:03.958016  A002   \n",
       "2  2022-01-18T13:00:12.229953  A003   \n",
       "3  2022-01-18T13:00:20.943680  A004   \n",
       "4  2022-01-18T13:00:29.280195  A005   \n",
       "5  2022-01-18T13:00:37.558186  A006   \n",
       "6  2022-01-18T13:00:45.807368  A007   \n",
       "7  2022-01-18T13:01:09.176952  A008   \n",
       "8  2022-01-18T13:01:33.211641  A009   \n",
       "9  2022-01-18T13:01:41.261730  A010   \n",
       "\n",
       "                                              smiles  commercially_available  \\\n",
       "0    CC1(C)OB(c2ccc(-n3c4ccccc4c4ccccc43)cc2)OC1(C)C                    True   \n",
       "1     CC1(C)OB(c2ccc(N(c3ccccc3)c3ccccc3)cc2)OC1(C)C                    True   \n",
       "2  COc1ccc(N(c2ccc(OC)cc2)c2ccc(B3OC(C)(C)C(C)(C)...                    True   \n",
       "3  CC(C)(C)OC(=O)N(c1ccccc1)c1ccc(B2OC(C)(C)C(C)(...                    True   \n",
       "4      OB(O)c1ccc(N(c2ccccc2)c2ccc(-c3ccccc3)cc2)cc1                    True   \n",
       "5     OB(O)c1ccc2c3ccccc3n(-c3ccc(-c4ccccc4)cc3)c2c1                    True   \n",
       "6     OB(O)c1ccc2c(c1)c1cc(-c3ccccc3)ccc1n2-c1ccccc1                    True   \n",
       "7    CC1(C)OB(c2ccc3c(c2)c2ccccc2n3-c2ccccc2)OC1(C)C                    True   \n",
       "8                 OB(O)c1cccc(N(c2ccccc2)c2ccccc2)c1                    True   \n",
       "9                OB(O)c1cccc(-n2c3ccccc3c3ccccc32)c1                    True   \n",
       "\n",
       "            CAS                      molecule_type_id  \n",
       "0   785051-54-9  2d012b56-8260-4f9e-8ede-2c8546baf21c  \n",
       "1   267221-88-5  2d012b56-8260-4f9e-8ede-2c8546baf21c  \n",
       "2   875667-84-8  2d012b56-8260-4f9e-8ede-2c8546baf21c  \n",
       "3  1218791-29-7  2d012b56-8260-4f9e-8ede-2c8546baf21c  \n",
       "4  1084334-86-0  2d012b56-8260-4f9e-8ede-2c8546baf21c  \n",
       "5  1028648-22-7  2d012b56-8260-4f9e-8ede-2c8546baf21c  \n",
       "6  1133058-06-6  2d012b56-8260-4f9e-8ede-2c8546baf21c  \n",
       "7  1126522-69-7  2d012b56-8260-4f9e-8ede-2c8546baf21c  \n",
       "8   943899-12-5  2d012b56-8260-4f9e-8ede-2c8546baf21c  \n",
       "9   864377-33-3  2d012b56-8260-4f9e-8ede-2c8546baf21c  "
      ]
     },
     "execution_count": 12,
     "metadata": {},
     "output_type": "execute_result"
    }
   ],
   "source": [
    "# Here is an example of a simple query, by defaults only a couple of entries from the database are loaded.\n",
    "# You can use skip and limit to \"scroll\" through the database.\n",
    "df = client.query_database(\"molecule\", limit=500)\n",
    "df"
   ]
  },
  {
   "cell_type": "code",
   "execution_count": 13,
   "id": "6f162ec8",
   "metadata": {
    "pycharm": {
     "name": "#%%\n"
    }
   },
   "outputs": [
    {
     "data": {
      "text/html": [
       "<div>\n",
       "<style scoped>\n",
       "    .dataframe tbody tr th:only-of-type {\n",
       "        vertical-align: middle;\n",
       "    }\n",
       "\n",
       "    .dataframe tbody tr th {\n",
       "        vertical-align: top;\n",
       "    }\n",
       "\n",
       "    .dataframe thead th {\n",
       "        text-align: right;\n",
       "    }\n",
       "</style>\n",
       "<table border=\"1\" class=\"dataframe\">\n",
       "  <thead>\n",
       "    <tr style=\"text-align: right;\">\n",
       "      <th></th>\n",
       "      <th>molecule_id</th>\n",
       "      <th>created_on</th>\n",
       "      <th>updated_on</th>\n",
       "      <th>hid</th>\n",
       "      <th>smiles</th>\n",
       "      <th>commercially_available</th>\n",
       "      <th>CAS</th>\n",
       "      <th>molecule_type_id</th>\n",
       "    </tr>\n",
       "  </thead>\n",
       "  <tbody>\n",
       "    <tr>\n",
       "      <th>0</th>\n",
       "      <td>6bf2b5a1-c157-4b5a-8a80-bf0b44704273</td>\n",
       "      <td>2022-01-18T12:59:55.557052</td>\n",
       "      <td>2022-01-18T12:59:55.557052</td>\n",
       "      <td>A001</td>\n",
       "      <td>CC1(C)OB(c2ccc(-n3c4ccccc4c4ccccc43)cc2)OC1(C)C</td>\n",
       "      <td>True</td>\n",
       "      <td>785051-54-9</td>\n",
       "      <td>2d012b56-8260-4f9e-8ede-2c8546baf21c</td>\n",
       "    </tr>\n",
       "    <tr>\n",
       "      <th>1</th>\n",
       "      <td>b2272f91-8f3d-41a5-87d4-8c473af1da0e</td>\n",
       "      <td>2022-01-18T13:00:03.958016</td>\n",
       "      <td>2022-01-18T13:00:03.958016</td>\n",
       "      <td>A002</td>\n",
       "      <td>CC1(C)OB(c2ccc(N(c3ccccc3)c3ccccc3)cc2)OC1(C)C</td>\n",
       "      <td>True</td>\n",
       "      <td>267221-88-5</td>\n",
       "      <td>2d012b56-8260-4f9e-8ede-2c8546baf21c</td>\n",
       "    </tr>\n",
       "    <tr>\n",
       "      <th>2</th>\n",
       "      <td>64ee9f15-7a47-4297-9e10-abc3c434c4e9</td>\n",
       "      <td>2022-01-18T13:00:12.229953</td>\n",
       "      <td>2022-01-18T13:00:12.229953</td>\n",
       "      <td>A003</td>\n",
       "      <td>COc1ccc(N(c2ccc(OC)cc2)c2ccc(B3OC(C)(C)C(C)(C)...</td>\n",
       "      <td>True</td>\n",
       "      <td>875667-84-8</td>\n",
       "      <td>2d012b56-8260-4f9e-8ede-2c8546baf21c</td>\n",
       "    </tr>\n",
       "    <tr>\n",
       "      <th>3</th>\n",
       "      <td>c669230e-aeb4-47db-8948-cadbdea4f198</td>\n",
       "      <td>2022-01-18T13:00:20.943680</td>\n",
       "      <td>2022-01-18T13:00:20.943680</td>\n",
       "      <td>A004</td>\n",
       "      <td>CC(C)(C)OC(=O)N(c1ccccc1)c1ccc(B2OC(C)(C)C(C)(...</td>\n",
       "      <td>True</td>\n",
       "      <td>1218791-29-7</td>\n",
       "      <td>2d012b56-8260-4f9e-8ede-2c8546baf21c</td>\n",
       "    </tr>\n",
       "    <tr>\n",
       "      <th>4</th>\n",
       "      <td>a8c81cfc-70df-4779-80d8-057b62224b10</td>\n",
       "      <td>2022-01-18T13:00:29.280195</td>\n",
       "      <td>2022-01-18T13:00:29.280195</td>\n",
       "      <td>A005</td>\n",
       "      <td>OB(O)c1ccc(N(c2ccccc2)c2ccc(-c3ccccc3)cc2)cc1</td>\n",
       "      <td>True</td>\n",
       "      <td>1084334-86-0</td>\n",
       "      <td>2d012b56-8260-4f9e-8ede-2c8546baf21c</td>\n",
       "    </tr>\n",
       "  </tbody>\n",
       "</table>\n",
       "</div>"
      ],
      "text/plain": [
       "                            molecule_id                  created_on  \\\n",
       "0  6bf2b5a1-c157-4b5a-8a80-bf0b44704273  2022-01-18T12:59:55.557052   \n",
       "1  b2272f91-8f3d-41a5-87d4-8c473af1da0e  2022-01-18T13:00:03.958016   \n",
       "2  64ee9f15-7a47-4297-9e10-abc3c434c4e9  2022-01-18T13:00:12.229953   \n",
       "3  c669230e-aeb4-47db-8948-cadbdea4f198  2022-01-18T13:00:20.943680   \n",
       "4  a8c81cfc-70df-4779-80d8-057b62224b10  2022-01-18T13:00:29.280195   \n",
       "\n",
       "                   updated_on   hid  \\\n",
       "0  2022-01-18T12:59:55.557052  A001   \n",
       "1  2022-01-18T13:00:03.958016  A002   \n",
       "2  2022-01-18T13:00:12.229953  A003   \n",
       "3  2022-01-18T13:00:20.943680  A004   \n",
       "4  2022-01-18T13:00:29.280195  A005   \n",
       "\n",
       "                                              smiles  commercially_available  \\\n",
       "0    CC1(C)OB(c2ccc(-n3c4ccccc4c4ccccc43)cc2)OC1(C)C                    True   \n",
       "1     CC1(C)OB(c2ccc(N(c3ccccc3)c3ccccc3)cc2)OC1(C)C                    True   \n",
       "2  COc1ccc(N(c2ccc(OC)cc2)c2ccc(B3OC(C)(C)C(C)(C)...                    True   \n",
       "3  CC(C)(C)OC(=O)N(c1ccccc1)c1ccc(B2OC(C)(C)C(C)(...                    True   \n",
       "4      OB(O)c1ccc(N(c2ccccc2)c2ccc(-c3ccccc3)cc2)cc1                    True   \n",
       "\n",
       "            CAS                      molecule_type_id  \n",
       "0   785051-54-9  2d012b56-8260-4f9e-8ede-2c8546baf21c  \n",
       "1   267221-88-5  2d012b56-8260-4f9e-8ede-2c8546baf21c  \n",
       "2   875667-84-8  2d012b56-8260-4f9e-8ede-2c8546baf21c  \n",
       "3  1218791-29-7  2d012b56-8260-4f9e-8ede-2c8546baf21c  \n",
       "4  1084334-86-0  2d012b56-8260-4f9e-8ede-2c8546baf21c  "
      ]
     },
     "execution_count": 13,
     "metadata": {},
     "output_type": "execute_result"
    }
   ],
   "source": [
    "# GET A DATAFRAME OF ALL THE FRAGMENTS\n",
    "frags = client.query_database(\n",
    "    [\"molecule\"], \n",
    "    joins=[\n",
    "        {\n",
    "            \"type\": \"molecule_type\",\n",
    "            \"on\": {\n",
    "                \"column1\": \"molecule.molecule_type_id\",\n",
    "                \"column2\": \"molecule_type.molecule_type_id\"\n",
    "            }\n",
    "        },\n",
    "    ],\n",
    "    filters={\n",
    "        \"type\": \"molecule_type.name\",\n",
    "        \"op\": \"!=\",\n",
    "        \"value\": \"abc_molecule\"\n",
    "    },\n",
    "    limit=500, \n",
    "    offset=None,\n",
    ")\n",
    "\n",
    "\n",
    "#frags.to_csv('fragments.csv', index=False)\n",
    "frags.head()"
   ]
  },
  {
   "cell_type": "code",
   "execution_count": 14,
   "id": "4269504e",
   "metadata": {
    "pycharm": {
     "name": "#%%\n"
    }
   },
   "outputs": [
    {
     "data": {
      "text/html": [
       "<div>\n",
       "<style scoped>\n",
       "    .dataframe tbody tr th:only-of-type {\n",
       "        vertical-align: middle;\n",
       "    }\n",
       "\n",
       "    .dataframe tbody tr th {\n",
       "        vertical-align: top;\n",
       "    }\n",
       "\n",
       "    .dataframe thead th {\n",
       "        text-align: right;\n",
       "    }\n",
       "</style>\n",
       "<table border=\"1\" class=\"dataframe\">\n",
       "  <thead>\n",
       "    <tr style=\"text-align: right;\">\n",
       "      <th></th>\n",
       "      <th>machine.name</th>\n",
       "      <th>lab.name</th>\n",
       "      <th>machine.machine_id</th>\n",
       "      <th>machine.lab_id</th>\n",
       "    </tr>\n",
       "  </thead>\n",
       "  <tbody>\n",
       "    <tr>\n",
       "      <th>0</th>\n",
       "      <td>The Machine</td>\n",
       "      <td>Toronto</td>\n",
       "      <td>7180398a-2fc8-4a95-ba51-6e5fb5c6d8a7</td>\n",
       "      <td>08cc75ca-8d1e-4ead-9b56-ad1b6ba83a41</td>\n",
       "    </tr>\n",
       "    <tr>\n",
       "      <th>1</th>\n",
       "      <td>ChemSpeed</td>\n",
       "      <td>Toronto</td>\n",
       "      <td>f158c26e-a94e-4994-9a95-de324aa1da23</td>\n",
       "      <td>08cc75ca-8d1e-4ead-9b56-ad1b6ba83a41</td>\n",
       "    </tr>\n",
       "    <tr>\n",
       "      <th>2</th>\n",
       "      <td>The Machine</td>\n",
       "      <td>Illinois</td>\n",
       "      <td>5600f641-b180-41b1-8043-921e66107744</td>\n",
       "      <td>b65835e3-b908-45c6-9995-ec98d0caafe7</td>\n",
       "    </tr>\n",
       "    <tr>\n",
       "      <th>3</th>\n",
       "      <td>Chemputer</td>\n",
       "      <td>Glasgow</td>\n",
       "      <td>9db0b589-ae14-44bb-911f-457b0cd3b0d7</td>\n",
       "      <td>6678a008-deb4-4608-9cb2-d32981156538</td>\n",
       "    </tr>\n",
       "  </tbody>\n",
       "</table>\n",
       "</div>"
      ],
      "text/plain": [
       "  machine.name  lab.name                    machine.machine_id  \\\n",
       "0  The Machine   Toronto  7180398a-2fc8-4a95-ba51-6e5fb5c6d8a7   \n",
       "1    ChemSpeed   Toronto  f158c26e-a94e-4994-9a95-de324aa1da23   \n",
       "2  The Machine  Illinois  5600f641-b180-41b1-8043-921e66107744   \n",
       "3    Chemputer   Glasgow  9db0b589-ae14-44bb-911f-457b0cd3b0d7   \n",
       "\n",
       "                         machine.lab_id  \n",
       "0  08cc75ca-8d1e-4ead-9b56-ad1b6ba83a41  \n",
       "1  08cc75ca-8d1e-4ead-9b56-ad1b6ba83a41  \n",
       "2  b65835e3-b908-45c6-9995-ec98d0caafe7  \n",
       "3  6678a008-deb4-4608-9cb2-d32981156538  "
      ]
     },
     "execution_count": 14,
     "metadata": {},
     "output_type": "execute_result"
    }
   ],
   "source": [
    "# GET THE MACHINES\n",
    "client.query_database(\n",
    "        ['machine.name', 'lab.name', 'machine.machine_id', 'machine.lab_id'],\n",
    "        joins=[\n",
    "        {\n",
    "            \"type\": \"lab\",\n",
    "            \"on\": {\n",
    "                \"column1\": \"machine.lab_id\",\n",
    "                \"column2\": \"lab.lab_id\"\n",
    "            }\n",
    "        },\n",
    "    ],\n",
    ")"
   ]
  },
  {
   "cell_type": "code",
   "execution_count": 15,
   "id": "20597ca4",
   "metadata": {
    "pycharm": {
     "name": "#%%\n"
    }
   },
   "outputs": [
    {
     "data": {
      "text/html": [
       "<div>\n",
       "<style scoped>\n",
       "    .dataframe tbody tr th:only-of-type {\n",
       "        vertical-align: middle;\n",
       "    }\n",
       "\n",
       "    .dataframe tbody tr th {\n",
       "        vertical-align: top;\n",
       "    }\n",
       "\n",
       "    .dataframe thead th {\n",
       "        text-align: right;\n",
       "    }\n",
       "</style>\n",
       "<table border=\"1\" class=\"dataframe\">\n",
       "  <thead>\n",
       "    <tr style=\"text-align: right;\">\n",
       "      <th></th>\n",
       "      <th>machine.machine_id</th>\n",
       "      <th>machine.created_on</th>\n",
       "      <th>machine.updated_on</th>\n",
       "      <th>machine.name</th>\n",
       "      <th>machine.lab_id</th>\n",
       "      <th>lab.lab_id</th>\n",
       "      <th>lab.created_on</th>\n",
       "      <th>lab.updated_on</th>\n",
       "      <th>lab.name</th>\n",
       "      <th>synthesis.synthesis_id</th>\n",
       "      <th>...</th>\n",
       "      <th>molecule_molecule.molecule_molecule_id</th>\n",
       "      <th>molecule_molecule.created_on</th>\n",
       "      <th>molecule_molecule.updated_on</th>\n",
       "      <th>molecule_molecule.fragment_a</th>\n",
       "      <th>molecule_molecule.fragment_b</th>\n",
       "      <th>molecule_molecule.fragment_c</th>\n",
       "      <th>molecule_molecule.molecule_id</th>\n",
       "      <th>molecule.optical_properties</th>\n",
       "      <th>molecule.CAS</th>\n",
       "      <th>molecule.commercially_available</th>\n",
       "    </tr>\n",
       "  </thead>\n",
       "  <tbody>\n",
       "    <tr>\n",
       "      <th>0</th>\n",
       "      <td>f158c26e-a94e-4994-9a95-de324aa1da23</td>\n",
       "      <td>2022-01-18T12:59:46.312079</td>\n",
       "      <td>2022-01-18T12:59:46.312079</td>\n",
       "      <td>ChemSpeed</td>\n",
       "      <td>08cc75ca-8d1e-4ead-9b56-ad1b6ba83a41</td>\n",
       "      <td>08cc75ca-8d1e-4ead-9b56-ad1b6ba83a41</td>\n",
       "      <td>2022-01-18T12:59:44.418607</td>\n",
       "      <td>2022-01-18T12:59:44.418607</td>\n",
       "      <td>Toronto</td>\n",
       "      <td>fac38c0a-efe9-4655-a4de-a1be52e8695b</td>\n",
       "      <td>...</td>\n",
       "      <td>288904db-93ed-4cd9-a408-20fd562beca6</td>\n",
       "      <td>2022-02-01T22:33:36.442040</td>\n",
       "      <td>2022-02-01T22:33:36.442040</td>\n",
       "      <td>c48d4657-acde-42f1-86ed-ad85bf0f3b5f</td>\n",
       "      <td>5e02fe87-04eb-4d8e-b2d4-78f2ae025546</td>\n",
       "      <td>5b92973e-a494-429f-a7a6-ae45a421bcfb</td>\n",
       "      <td>db38dc00-a9b3-4c65-9632-2f17ff16568d</td>\n",
       "      <td>None</td>\n",
       "      <td>None</td>\n",
       "      <td>None</td>\n",
       "    </tr>\n",
       "    <tr>\n",
       "      <th>1</th>\n",
       "      <td>f158c26e-a94e-4994-9a95-de324aa1da23</td>\n",
       "      <td>2022-01-18T12:59:46.312079</td>\n",
       "      <td>2022-01-18T12:59:46.312079</td>\n",
       "      <td>ChemSpeed</td>\n",
       "      <td>08cc75ca-8d1e-4ead-9b56-ad1b6ba83a41</td>\n",
       "      <td>08cc75ca-8d1e-4ead-9b56-ad1b6ba83a41</td>\n",
       "      <td>2022-01-18T12:59:44.418607</td>\n",
       "      <td>2022-01-18T12:59:44.418607</td>\n",
       "      <td>Toronto</td>\n",
       "      <td>292f21b5-1953-4762-94cb-4722f8c720bc</td>\n",
       "      <td>...</td>\n",
       "      <td>1661a343-a837-4438-986b-e026a25755f3</td>\n",
       "      <td>2022-02-02T16:53:52.467010</td>\n",
       "      <td>2022-02-02T16:53:52.467010</td>\n",
       "      <td>faa4de17-7959-4bc4-a071-de1fda1b8a05</td>\n",
       "      <td>80ae3faf-ebe1-4306-ab0b-7546691d09ab</td>\n",
       "      <td>e10ae2cd-e8ad-499f-a9cb-6a0ca1b92a1c</td>\n",
       "      <td>5acc0682-2fd8-4934-9e58-881bd5b038ec</td>\n",
       "      <td>None</td>\n",
       "      <td>None</td>\n",
       "      <td>None</td>\n",
       "    </tr>\n",
       "    <tr>\n",
       "      <th>2</th>\n",
       "      <td>f158c26e-a94e-4994-9a95-de324aa1da23</td>\n",
       "      <td>2022-01-18T12:59:46.312079</td>\n",
       "      <td>2022-01-18T12:59:46.312079</td>\n",
       "      <td>ChemSpeed</td>\n",
       "      <td>08cc75ca-8d1e-4ead-9b56-ad1b6ba83a41</td>\n",
       "      <td>08cc75ca-8d1e-4ead-9b56-ad1b6ba83a41</td>\n",
       "      <td>2022-01-18T12:59:44.418607</td>\n",
       "      <td>2022-01-18T12:59:44.418607</td>\n",
       "      <td>Toronto</td>\n",
       "      <td>230b32ce-acd4-46a8-859d-d0b71e15f039</td>\n",
       "      <td>...</td>\n",
       "      <td>41bbfc39-7356-473f-91b5-bb0bc7a88af8</td>\n",
       "      <td>2022-02-02T17:01:39.479074</td>\n",
       "      <td>2022-02-02T17:01:39.479074</td>\n",
       "      <td>faa4de17-7959-4bc4-a071-de1fda1b8a05</td>\n",
       "      <td>80ae3faf-ebe1-4306-ab0b-7546691d09ab</td>\n",
       "      <td>e10ae2cd-e8ad-499f-a9cb-6a0ca1b92a1c</td>\n",
       "      <td>0b0b9fdf-df94-4316-ae89-5628601d6dcc</td>\n",
       "      <td>None</td>\n",
       "      <td>None</td>\n",
       "      <td>None</td>\n",
       "    </tr>\n",
       "    <tr>\n",
       "      <th>3</th>\n",
       "      <td>f158c26e-a94e-4994-9a95-de324aa1da23</td>\n",
       "      <td>2022-01-18T12:59:46.312079</td>\n",
       "      <td>2022-01-18T12:59:46.312079</td>\n",
       "      <td>ChemSpeed</td>\n",
       "      <td>08cc75ca-8d1e-4ead-9b56-ad1b6ba83a41</td>\n",
       "      <td>08cc75ca-8d1e-4ead-9b56-ad1b6ba83a41</td>\n",
       "      <td>2022-01-18T12:59:44.418607</td>\n",
       "      <td>2022-01-18T12:59:44.418607</td>\n",
       "      <td>Toronto</td>\n",
       "      <td>919e10b2-261e-4604-b494-20e560ab517b</td>\n",
       "      <td>...</td>\n",
       "      <td>216eade7-7cd0-4bd6-b16b-9e8226162857</td>\n",
       "      <td>2022-02-02T17:13:39.764532</td>\n",
       "      <td>2022-02-02T17:13:39.764532</td>\n",
       "      <td>faa4de17-7959-4bc4-a071-de1fda1b8a05</td>\n",
       "      <td>80ae3faf-ebe1-4306-ab0b-7546691d09ab</td>\n",
       "      <td>e10ae2cd-e8ad-499f-a9cb-6a0ca1b92a1c</td>\n",
       "      <td>97e4b1fb-a1c1-40b9-a4dc-c5715bba40e6</td>\n",
       "      <td>None</td>\n",
       "      <td>None</td>\n",
       "      <td>None</td>\n",
       "    </tr>\n",
       "    <tr>\n",
       "      <th>4</th>\n",
       "      <td>f158c26e-a94e-4994-9a95-de324aa1da23</td>\n",
       "      <td>2022-01-18T12:59:46.312079</td>\n",
       "      <td>2022-01-18T12:59:46.312079</td>\n",
       "      <td>ChemSpeed</td>\n",
       "      <td>08cc75ca-8d1e-4ead-9b56-ad1b6ba83a41</td>\n",
       "      <td>08cc75ca-8d1e-4ead-9b56-ad1b6ba83a41</td>\n",
       "      <td>2022-01-18T12:59:44.418607</td>\n",
       "      <td>2022-01-18T12:59:44.418607</td>\n",
       "      <td>Toronto</td>\n",
       "      <td>22ec7d60-ba7d-4147-9a04-df564714f1f8</td>\n",
       "      <td>...</td>\n",
       "      <td>73ab3618-0c19-49bf-96de-4fb32e1d0577</td>\n",
       "      <td>2022-02-02T17:14:26.419078</td>\n",
       "      <td>2022-02-02T17:14:26.419078</td>\n",
       "      <td>faa4de17-7959-4bc4-a071-de1fda1b8a05</td>\n",
       "      <td>80ae3faf-ebe1-4306-ab0b-7546691d09ab</td>\n",
       "      <td>e10ae2cd-e8ad-499f-a9cb-6a0ca1b92a1c</td>\n",
       "      <td>b3e77fd2-683b-450a-913c-97998dcff2e0</td>\n",
       "      <td>None</td>\n",
       "      <td>None</td>\n",
       "      <td>None</td>\n",
       "    </tr>\n",
       "    <tr>\n",
       "      <th>5</th>\n",
       "      <td>f158c26e-a94e-4994-9a95-de324aa1da23</td>\n",
       "      <td>2022-01-18T12:59:46.312079</td>\n",
       "      <td>2022-01-18T12:59:46.312079</td>\n",
       "      <td>ChemSpeed</td>\n",
       "      <td>08cc75ca-8d1e-4ead-9b56-ad1b6ba83a41</td>\n",
       "      <td>08cc75ca-8d1e-4ead-9b56-ad1b6ba83a41</td>\n",
       "      <td>2022-01-18T12:59:44.418607</td>\n",
       "      <td>2022-01-18T12:59:44.418607</td>\n",
       "      <td>Toronto</td>\n",
       "      <td>70d5265a-76e5-41ce-9a5d-0bd7b4cec93f</td>\n",
       "      <td>...</td>\n",
       "      <td>1633492d-be3a-48ae-bf42-09a036a972c8</td>\n",
       "      <td>2022-02-02T17:50:00.596877</td>\n",
       "      <td>2022-02-02T17:50:00.596877</td>\n",
       "      <td>faa4de17-7959-4bc4-a071-de1fda1b8a05</td>\n",
       "      <td>80ae3faf-ebe1-4306-ab0b-7546691d09ab</td>\n",
       "      <td>e10ae2cd-e8ad-499f-a9cb-6a0ca1b92a1c</td>\n",
       "      <td>29d07431-c3fd-4538-a2a1-2f7362e76068</td>\n",
       "      <td>None</td>\n",
       "      <td>HELLO A NEW CAS</td>\n",
       "      <td>None</td>\n",
       "    </tr>\n",
       "    <tr>\n",
       "      <th>6</th>\n",
       "      <td>f158c26e-a94e-4994-9a95-de324aa1da23</td>\n",
       "      <td>2022-01-18T12:59:46.312079</td>\n",
       "      <td>2022-01-18T12:59:46.312079</td>\n",
       "      <td>ChemSpeed</td>\n",
       "      <td>08cc75ca-8d1e-4ead-9b56-ad1b6ba83a41</td>\n",
       "      <td>08cc75ca-8d1e-4ead-9b56-ad1b6ba83a41</td>\n",
       "      <td>2022-01-18T12:59:44.418607</td>\n",
       "      <td>2022-01-18T12:59:44.418607</td>\n",
       "      <td>Toronto</td>\n",
       "      <td>c5b9fcb1-a1f3-43dd-84e0-9dbf34cca2ee</td>\n",
       "      <td>...</td>\n",
       "      <td>36b60134-1da0-4991-b6b2-b436cbfd385e</td>\n",
       "      <td>2022-02-02T17:57:17.583248</td>\n",
       "      <td>2022-02-02T17:57:17.583248</td>\n",
       "      <td>faa4de17-7959-4bc4-a071-de1fda1b8a05</td>\n",
       "      <td>80ae3faf-ebe1-4306-ab0b-7546691d09ab</td>\n",
       "      <td>e10ae2cd-e8ad-499f-a9cb-6a0ca1b92a1c</td>\n",
       "      <td>568d6ebf-a2f6-4652-bcda-93d6c6a7133f</td>\n",
       "      <td>None</td>\n",
       "      <td>HELLO A NEW CAS</td>\n",
       "      <td>None</td>\n",
       "    </tr>\n",
       "    <tr>\n",
       "      <th>7</th>\n",
       "      <td>f158c26e-a94e-4994-9a95-de324aa1da23</td>\n",
       "      <td>2022-01-18T12:59:46.312079</td>\n",
       "      <td>2022-01-18T12:59:46.312079</td>\n",
       "      <td>ChemSpeed</td>\n",
       "      <td>08cc75ca-8d1e-4ead-9b56-ad1b6ba83a41</td>\n",
       "      <td>08cc75ca-8d1e-4ead-9b56-ad1b6ba83a41</td>\n",
       "      <td>2022-01-18T12:59:44.418607</td>\n",
       "      <td>2022-01-18T12:59:44.418607</td>\n",
       "      <td>Toronto</td>\n",
       "      <td>31d55523-b98b-43ae-b610-96721cf1ca98</td>\n",
       "      <td>...</td>\n",
       "      <td>48a16b28-5912-489c-93ce-8f40a737b9b8</td>\n",
       "      <td>2022-02-02T17:59:41.474611</td>\n",
       "      <td>2022-02-02T17:59:41.474611</td>\n",
       "      <td>faa4de17-7959-4bc4-a071-de1fda1b8a05</td>\n",
       "      <td>80ae3faf-ebe1-4306-ab0b-7546691d09ab</td>\n",
       "      <td>e10ae2cd-e8ad-499f-a9cb-6a0ca1b92a1c</td>\n",
       "      <td>7e3457e5-3859-4be8-8159-d3ef25caf21f</td>\n",
       "      <td>None</td>\n",
       "      <td>123456-78</td>\n",
       "      <td>None</td>\n",
       "    </tr>\n",
       "    <tr>\n",
       "      <th>8</th>\n",
       "      <td>f158c26e-a94e-4994-9a95-de324aa1da23</td>\n",
       "      <td>2022-01-18T12:59:46.312079</td>\n",
       "      <td>2022-01-18T12:59:46.312079</td>\n",
       "      <td>ChemSpeed</td>\n",
       "      <td>08cc75ca-8d1e-4ead-9b56-ad1b6ba83a41</td>\n",
       "      <td>08cc75ca-8d1e-4ead-9b56-ad1b6ba83a41</td>\n",
       "      <td>2022-01-18T12:59:44.418607</td>\n",
       "      <td>2022-01-18T12:59:44.418607</td>\n",
       "      <td>Toronto</td>\n",
       "      <td>58dca926-1351-45e7-bb5e-ff8fe26282bb</td>\n",
       "      <td>...</td>\n",
       "      <td>5515bca7-c8ca-4eb2-9c5a-3c1d09a22de4</td>\n",
       "      <td>2022-02-02T18:30:39.540706</td>\n",
       "      <td>2022-02-02T18:30:39.540706</td>\n",
       "      <td>faa4de17-7959-4bc4-a071-de1fda1b8a05</td>\n",
       "      <td>80ae3faf-ebe1-4306-ab0b-7546691d09ab</td>\n",
       "      <td>e10ae2cd-e8ad-499f-a9cb-6a0ca1b92a1c</td>\n",
       "      <td>2985090b-db2a-4d74-aa04-8307940d87f6</td>\n",
       "      <td>None</td>\n",
       "      <td>HELLO A NEW CAS</td>\n",
       "      <td>True</td>\n",
       "    </tr>\n",
       "    <tr>\n",
       "      <th>9</th>\n",
       "      <td>f158c26e-a94e-4994-9a95-de324aa1da23</td>\n",
       "      <td>2022-01-18T12:59:46.312079</td>\n",
       "      <td>2022-01-18T12:59:46.312079</td>\n",
       "      <td>ChemSpeed</td>\n",
       "      <td>08cc75ca-8d1e-4ead-9b56-ad1b6ba83a41</td>\n",
       "      <td>08cc75ca-8d1e-4ead-9b56-ad1b6ba83a41</td>\n",
       "      <td>2022-01-18T12:59:44.418607</td>\n",
       "      <td>2022-01-18T12:59:44.418607</td>\n",
       "      <td>Toronto</td>\n",
       "      <td>656b6151-16a0-489e-aeaf-929ded42610c</td>\n",
       "      <td>...</td>\n",
       "      <td>6943c61d-4931-49a3-b3fa-aa017a5028f8</td>\n",
       "      <td>2022-02-02T18:34:04.099956</td>\n",
       "      <td>2022-02-02T18:34:04.099956</td>\n",
       "      <td>faa4de17-7959-4bc4-a071-de1fda1b8a05</td>\n",
       "      <td>80ae3faf-ebe1-4306-ab0b-7546691d09ab</td>\n",
       "      <td>e10ae2cd-e8ad-499f-a9cb-6a0ca1b92a1c</td>\n",
       "      <td>42dada54-6d5f-4a30-99d8-e775b1c3e5ba</td>\n",
       "      <td>None</td>\n",
       "      <td>None</td>\n",
       "      <td>False</td>\n",
       "    </tr>\n",
       "  </tbody>\n",
       "</table>\n",
       "<p>10 rows × 31 columns</p>\n",
       "</div>"
      ],
      "text/plain": [
       "                     machine.machine_id          machine.created_on  \\\n",
       "0  f158c26e-a94e-4994-9a95-de324aa1da23  2022-01-18T12:59:46.312079   \n",
       "1  f158c26e-a94e-4994-9a95-de324aa1da23  2022-01-18T12:59:46.312079   \n",
       "2  f158c26e-a94e-4994-9a95-de324aa1da23  2022-01-18T12:59:46.312079   \n",
       "3  f158c26e-a94e-4994-9a95-de324aa1da23  2022-01-18T12:59:46.312079   \n",
       "4  f158c26e-a94e-4994-9a95-de324aa1da23  2022-01-18T12:59:46.312079   \n",
       "5  f158c26e-a94e-4994-9a95-de324aa1da23  2022-01-18T12:59:46.312079   \n",
       "6  f158c26e-a94e-4994-9a95-de324aa1da23  2022-01-18T12:59:46.312079   \n",
       "7  f158c26e-a94e-4994-9a95-de324aa1da23  2022-01-18T12:59:46.312079   \n",
       "8  f158c26e-a94e-4994-9a95-de324aa1da23  2022-01-18T12:59:46.312079   \n",
       "9  f158c26e-a94e-4994-9a95-de324aa1da23  2022-01-18T12:59:46.312079   \n",
       "\n",
       "           machine.updated_on machine.name  \\\n",
       "0  2022-01-18T12:59:46.312079    ChemSpeed   \n",
       "1  2022-01-18T12:59:46.312079    ChemSpeed   \n",
       "2  2022-01-18T12:59:46.312079    ChemSpeed   \n",
       "3  2022-01-18T12:59:46.312079    ChemSpeed   \n",
       "4  2022-01-18T12:59:46.312079    ChemSpeed   \n",
       "5  2022-01-18T12:59:46.312079    ChemSpeed   \n",
       "6  2022-01-18T12:59:46.312079    ChemSpeed   \n",
       "7  2022-01-18T12:59:46.312079    ChemSpeed   \n",
       "8  2022-01-18T12:59:46.312079    ChemSpeed   \n",
       "9  2022-01-18T12:59:46.312079    ChemSpeed   \n",
       "\n",
       "                         machine.lab_id                            lab.lab_id  \\\n",
       "0  08cc75ca-8d1e-4ead-9b56-ad1b6ba83a41  08cc75ca-8d1e-4ead-9b56-ad1b6ba83a41   \n",
       "1  08cc75ca-8d1e-4ead-9b56-ad1b6ba83a41  08cc75ca-8d1e-4ead-9b56-ad1b6ba83a41   \n",
       "2  08cc75ca-8d1e-4ead-9b56-ad1b6ba83a41  08cc75ca-8d1e-4ead-9b56-ad1b6ba83a41   \n",
       "3  08cc75ca-8d1e-4ead-9b56-ad1b6ba83a41  08cc75ca-8d1e-4ead-9b56-ad1b6ba83a41   \n",
       "4  08cc75ca-8d1e-4ead-9b56-ad1b6ba83a41  08cc75ca-8d1e-4ead-9b56-ad1b6ba83a41   \n",
       "5  08cc75ca-8d1e-4ead-9b56-ad1b6ba83a41  08cc75ca-8d1e-4ead-9b56-ad1b6ba83a41   \n",
       "6  08cc75ca-8d1e-4ead-9b56-ad1b6ba83a41  08cc75ca-8d1e-4ead-9b56-ad1b6ba83a41   \n",
       "7  08cc75ca-8d1e-4ead-9b56-ad1b6ba83a41  08cc75ca-8d1e-4ead-9b56-ad1b6ba83a41   \n",
       "8  08cc75ca-8d1e-4ead-9b56-ad1b6ba83a41  08cc75ca-8d1e-4ead-9b56-ad1b6ba83a41   \n",
       "9  08cc75ca-8d1e-4ead-9b56-ad1b6ba83a41  08cc75ca-8d1e-4ead-9b56-ad1b6ba83a41   \n",
       "\n",
       "               lab.created_on              lab.updated_on lab.name  \\\n",
       "0  2022-01-18T12:59:44.418607  2022-01-18T12:59:44.418607  Toronto   \n",
       "1  2022-01-18T12:59:44.418607  2022-01-18T12:59:44.418607  Toronto   \n",
       "2  2022-01-18T12:59:44.418607  2022-01-18T12:59:44.418607  Toronto   \n",
       "3  2022-01-18T12:59:44.418607  2022-01-18T12:59:44.418607  Toronto   \n",
       "4  2022-01-18T12:59:44.418607  2022-01-18T12:59:44.418607  Toronto   \n",
       "5  2022-01-18T12:59:44.418607  2022-01-18T12:59:44.418607  Toronto   \n",
       "6  2022-01-18T12:59:44.418607  2022-01-18T12:59:44.418607  Toronto   \n",
       "7  2022-01-18T12:59:44.418607  2022-01-18T12:59:44.418607  Toronto   \n",
       "8  2022-01-18T12:59:44.418607  2022-01-18T12:59:44.418607  Toronto   \n",
       "9  2022-01-18T12:59:44.418607  2022-01-18T12:59:44.418607  Toronto   \n",
       "\n",
       "                 synthesis.synthesis_id  ...  \\\n",
       "0  fac38c0a-efe9-4655-a4de-a1be52e8695b  ...   \n",
       "1  292f21b5-1953-4762-94cb-4722f8c720bc  ...   \n",
       "2  230b32ce-acd4-46a8-859d-d0b71e15f039  ...   \n",
       "3  919e10b2-261e-4604-b494-20e560ab517b  ...   \n",
       "4  22ec7d60-ba7d-4147-9a04-df564714f1f8  ...   \n",
       "5  70d5265a-76e5-41ce-9a5d-0bd7b4cec93f  ...   \n",
       "6  c5b9fcb1-a1f3-43dd-84e0-9dbf34cca2ee  ...   \n",
       "7  31d55523-b98b-43ae-b610-96721cf1ca98  ...   \n",
       "8  58dca926-1351-45e7-bb5e-ff8fe26282bb  ...   \n",
       "9  656b6151-16a0-489e-aeaf-929ded42610c  ...   \n",
       "\n",
       "  molecule_molecule.molecule_molecule_id molecule_molecule.created_on  \\\n",
       "0   288904db-93ed-4cd9-a408-20fd562beca6   2022-02-01T22:33:36.442040   \n",
       "1   1661a343-a837-4438-986b-e026a25755f3   2022-02-02T16:53:52.467010   \n",
       "2   41bbfc39-7356-473f-91b5-bb0bc7a88af8   2022-02-02T17:01:39.479074   \n",
       "3   216eade7-7cd0-4bd6-b16b-9e8226162857   2022-02-02T17:13:39.764532   \n",
       "4   73ab3618-0c19-49bf-96de-4fb32e1d0577   2022-02-02T17:14:26.419078   \n",
       "5   1633492d-be3a-48ae-bf42-09a036a972c8   2022-02-02T17:50:00.596877   \n",
       "6   36b60134-1da0-4991-b6b2-b436cbfd385e   2022-02-02T17:57:17.583248   \n",
       "7   48a16b28-5912-489c-93ce-8f40a737b9b8   2022-02-02T17:59:41.474611   \n",
       "8   5515bca7-c8ca-4eb2-9c5a-3c1d09a22de4   2022-02-02T18:30:39.540706   \n",
       "9   6943c61d-4931-49a3-b3fa-aa017a5028f8   2022-02-02T18:34:04.099956   \n",
       "\n",
       "  molecule_molecule.updated_on          molecule_molecule.fragment_a  \\\n",
       "0   2022-02-01T22:33:36.442040  c48d4657-acde-42f1-86ed-ad85bf0f3b5f   \n",
       "1   2022-02-02T16:53:52.467010  faa4de17-7959-4bc4-a071-de1fda1b8a05   \n",
       "2   2022-02-02T17:01:39.479074  faa4de17-7959-4bc4-a071-de1fda1b8a05   \n",
       "3   2022-02-02T17:13:39.764532  faa4de17-7959-4bc4-a071-de1fda1b8a05   \n",
       "4   2022-02-02T17:14:26.419078  faa4de17-7959-4bc4-a071-de1fda1b8a05   \n",
       "5   2022-02-02T17:50:00.596877  faa4de17-7959-4bc4-a071-de1fda1b8a05   \n",
       "6   2022-02-02T17:57:17.583248  faa4de17-7959-4bc4-a071-de1fda1b8a05   \n",
       "7   2022-02-02T17:59:41.474611  faa4de17-7959-4bc4-a071-de1fda1b8a05   \n",
       "8   2022-02-02T18:30:39.540706  faa4de17-7959-4bc4-a071-de1fda1b8a05   \n",
       "9   2022-02-02T18:34:04.099956  faa4de17-7959-4bc4-a071-de1fda1b8a05   \n",
       "\n",
       "           molecule_molecule.fragment_b          molecule_molecule.fragment_c  \\\n",
       "0  5e02fe87-04eb-4d8e-b2d4-78f2ae025546  5b92973e-a494-429f-a7a6-ae45a421bcfb   \n",
       "1  80ae3faf-ebe1-4306-ab0b-7546691d09ab  e10ae2cd-e8ad-499f-a9cb-6a0ca1b92a1c   \n",
       "2  80ae3faf-ebe1-4306-ab0b-7546691d09ab  e10ae2cd-e8ad-499f-a9cb-6a0ca1b92a1c   \n",
       "3  80ae3faf-ebe1-4306-ab0b-7546691d09ab  e10ae2cd-e8ad-499f-a9cb-6a0ca1b92a1c   \n",
       "4  80ae3faf-ebe1-4306-ab0b-7546691d09ab  e10ae2cd-e8ad-499f-a9cb-6a0ca1b92a1c   \n",
       "5  80ae3faf-ebe1-4306-ab0b-7546691d09ab  e10ae2cd-e8ad-499f-a9cb-6a0ca1b92a1c   \n",
       "6  80ae3faf-ebe1-4306-ab0b-7546691d09ab  e10ae2cd-e8ad-499f-a9cb-6a0ca1b92a1c   \n",
       "7  80ae3faf-ebe1-4306-ab0b-7546691d09ab  e10ae2cd-e8ad-499f-a9cb-6a0ca1b92a1c   \n",
       "8  80ae3faf-ebe1-4306-ab0b-7546691d09ab  e10ae2cd-e8ad-499f-a9cb-6a0ca1b92a1c   \n",
       "9  80ae3faf-ebe1-4306-ab0b-7546691d09ab  e10ae2cd-e8ad-499f-a9cb-6a0ca1b92a1c   \n",
       "\n",
       "          molecule_molecule.molecule_id molecule.optical_properties  \\\n",
       "0  db38dc00-a9b3-4c65-9632-2f17ff16568d                        None   \n",
       "1  5acc0682-2fd8-4934-9e58-881bd5b038ec                        None   \n",
       "2  0b0b9fdf-df94-4316-ae89-5628601d6dcc                        None   \n",
       "3  97e4b1fb-a1c1-40b9-a4dc-c5715bba40e6                        None   \n",
       "4  b3e77fd2-683b-450a-913c-97998dcff2e0                        None   \n",
       "5  29d07431-c3fd-4538-a2a1-2f7362e76068                        None   \n",
       "6  568d6ebf-a2f6-4652-bcda-93d6c6a7133f                        None   \n",
       "7  7e3457e5-3859-4be8-8159-d3ef25caf21f                        None   \n",
       "8  2985090b-db2a-4d74-aa04-8307940d87f6                        None   \n",
       "9  42dada54-6d5f-4a30-99d8-e775b1c3e5ba                        None   \n",
       "\n",
       "      molecule.CAS molecule.commercially_available  \n",
       "0             None                            None  \n",
       "1             None                            None  \n",
       "2             None                            None  \n",
       "3             None                            None  \n",
       "4             None                            None  \n",
       "5  HELLO A NEW CAS                            None  \n",
       "6  HELLO A NEW CAS                            None  \n",
       "7        123456-78                            None  \n",
       "8  HELLO A NEW CAS                            True  \n",
       "9             None                           False  \n",
       "\n",
       "[10 rows x 31 columns]"
      ]
     },
     "execution_count": 15,
     "metadata": {},
     "output_type": "execute_result"
    }
   ],
   "source": [
    "# GET THE SYNTHESIS\n",
    "\n",
    "client.query_database(\n",
    "    [\n",
    "      'machine',\n",
    "      'lab',\n",
    "      'synthesis',\n",
    "      'molecule',\n",
    "      'molecule_molecule',\n",
    "      'molecule.optical_properties',\n",
    "    ],\n",
    "    joins = [\n",
    "      {\n",
    "        'type': 'molecule',\n",
    "        'on': {\n",
    "          'column1': 'molecule.molecule_id',\n",
    "          'column2': 'synthesis.molecule_id',\n",
    "        },\n",
    "      },\n",
    "      {\n",
    "        'type': 'molecule_molecule',\n",
    "        'on': {\n",
    "          'column1': 'molecule_molecule.molecule_id',\n",
    "          'column2': 'molecule.molecule_id',\n",
    "        },\n",
    "      },\n",
    "      {\n",
    "        'type': 'machine',\n",
    "        'on': {\n",
    "          'column1': 'machine.machine_id',\n",
    "          'column2': 'synthesis.machine_id',\n",
    "        },\n",
    "      },\n",
    "      {\n",
    "        'type': 'lab',\n",
    "        'on': {\n",
    "          'column1': 'lab.lab_id',\n",
    "          'column2': 'synthesis.lab_id',\n",
    "        },\n",
    "      },\n",
    "    ],\n",
    ")"
   ]
  },
  {
   "cell_type": "code",
   "execution_count": null,
   "id": "061e1b10",
   "metadata": {
    "pycharm": {
     "name": "#%%\n"
    }
   },
   "outputs": [],
   "source": []
  },
  {
   "cell_type": "code",
   "execution_count": 24,
   "id": "711021b1",
   "metadata": {
    "pycharm": {
     "name": "#%%\n"
    }
   },
   "outputs": [],
   "source": [
    "# load in the fragments\n",
    "a_frags = pd.read_csv('../descriptor_computation/a_frags.csv') # already has smiles_w_sub column\n",
    "b_frags = pd.read_csv('../descriptor_computation/b_frags.csv')\n",
    "c_frags = pd.read_csv('../descriptor_computation/c_frags.csv')"
   ]
  },
  {
   "cell_type": "code",
   "execution_count": null,
   "id": "3a50d549",
   "metadata": {
    "pycharm": {
     "name": "#%%\n"
    }
   },
   "outputs": [],
   "source": []
  },
  {
   "cell_type": "code",
   "execution_count": null,
   "id": "a9f181a4",
   "metadata": {
    "pycharm": {
     "name": "#%%\n"
    }
   },
   "outputs": [],
   "source": []
  },
  {
   "cell_type": "code",
   "execution_count": null,
   "id": "2bc42db7",
   "metadata": {
    "pycharm": {
     "name": "#%%\n"
    }
   },
   "outputs": [],
   "source": []
  },
  {
   "cell_type": "code",
   "execution_count": null,
   "id": "134a5a95",
   "metadata": {
    "pycharm": {
     "name": "#%%\n"
    }
   },
   "outputs": [],
   "source": []
  },
  {
   "cell_type": "code",
   "execution_count": null,
   "id": "168ee056",
   "metadata": {
    "pycharm": {
     "name": "#%%\n"
    }
   },
   "outputs": [],
   "source": []
  },
  {
   "cell_type": "code",
   "execution_count": 25,
   "id": "89655509",
   "metadata": {
    "pycharm": {
     "name": "#%%\n"
    }
   },
   "outputs": [],
   "source": [
    "# a_frags = frags[frags.hid.str.startswith('A')] \n",
    "# b_frags = frags[frags.hid.str.startswith('B')]\n",
    "# c_frags = frags[frags.hid.str.startswith('C')]\n",
    "\n",
    "# a_frags.shape, b_frags.shape, c_frags.shape, a_frags.shape[0]*b_frags.shape[0]*c_frags.shape[0]"
   ]
  },
  {
   "cell_type": "code",
   "execution_count": 26,
   "id": "03569abc",
   "metadata": {
    "pycharm": {
     "name": "#%%\n"
    }
   },
   "outputs": [],
   "source": [
    "# a_frags.to_csv('a_frags.csv', index=False)\n",
    "# b_frags.to_csv('b_frags.csv', index=False)\n",
    "# c_frags.to_csv('c_frags.csv', index=False)"
   ]
  },
  {
   "cell_type": "code",
   "execution_count": null,
   "id": "41d7460e",
   "metadata": {
    "pycharm": {
     "name": "#%%\n"
    }
   },
   "outputs": [],
   "source": []
  },
  {
   "cell_type": "code",
   "execution_count": 35,
   "id": "8b022bac",
   "metadata": {
    "pycharm": {
     "name": "#%%\n"
    }
   },
   "outputs": [],
   "source": [
    "def replace_blocks(mol):\n",
    "    \n",
    "    curr_molwt = chem.rdMolDescriptors.CalcExactMolWt(mol)\n",
    "    \n",
    "    repl_halide = chem.MolFromSmiles('C=C')\n",
    "    repl_boron = chem.MolFromSmiles('C=C(F)F')\n",
    "\n",
    "    patt_halide = chem.MolFromSmarts('[Br,I]')\n",
    "    patt_boron  = chem.MolFromSmarts('[B]-1-[#8]-[#6](-[#6](-[#8]-1)(-[#6])-[#6])(-[#6])-[#6]')\n",
    "    patt_boron_2 = chem.MolFromSmarts('[B](-[#8])-[#8]')\n",
    "    patt_mida   = chem.MolFromSmarts('[B-]-1-2-[#7+](-[#6])(-[#6]-[#6](-[#8]-1)=[#8])-[#6]-[#6](-[#8]-2)=[#8]')\n",
    "\n",
    "    # do the halide substitution and ONE of the others\n",
    "    rms = chem.ReplaceSubstructs(mol, patt_halide, repl_halide, replaceAll=True)\n",
    "    newMol = chem.RemoveHs(rms[0])\n",
    "        \n",
    "#     rms = chem.ReplaceSubstructs(newMol, patt_boron, repl_boron, replaceAll=True)\n",
    "#     newMol = chem.RemoveHs(rms[0])\n",
    "#     rms = chem.ReplaceSubstructs(newMol, patt_boron_2, repl_boron, replaceAll=True)\n",
    "#     newMol = chem.RemoveHs(rms[0])\n",
    "    rms = chem.ReplaceSubstructs(newMol, patt_mida, repl_boron, replaceAll=True)\n",
    "    newMol = chem.RemoveHs(rms[0])\n",
    "    \n",
    "    return newMol"
   ]
  },
  {
   "cell_type": "code",
   "execution_count": null,
   "id": "22f84bf4",
   "metadata": {
    "pycharm": {
     "name": "#%%\n"
    }
   },
   "outputs": [],
   "source": []
  },
  {
   "cell_type": "code",
   "execution_count": 37,
   "id": "45041d4b",
   "metadata": {
    "pycharm": {
     "name": "#%%\n"
    }
   },
   "outputs": [],
   "source": [
    "\n",
    "b_smiles = b_frags['smiles'].tolist()\n",
    "b_mols   = [chem.MolFromSmiles(s) for s in b_smiles]\n",
    "c_smiles = c_frags['smiles'].tolist()\n",
    "c_mols   = [chem.MolFromSmiles(s) for s in c_smiles]"
   ]
  },
  {
   "cell_type": "code",
   "execution_count": 38,
   "id": "d6b0b97f",
   "metadata": {
    "pycharm": {
     "name": "#%%\n"
    }
   },
   "outputs": [],
   "source": [
    "new_b_mols = [replace_blocks(m) for m in b_mols]\n",
    "new_c_mols = [replace_blocks(m) for m in c_mols]"
   ]
  },
  {
   "cell_type": "code",
   "execution_count": 39,
   "id": "0453cf52",
   "metadata": {
    "pycharm": {
     "name": "#%%\n"
    }
   },
   "outputs": [],
   "source": [
    "new_b_smiles = [chem.MolToCXSmiles(m) for m in new_b_mols]\n",
    "new_c_smiles = [chem.MolToCXSmiles(m) for m in new_c_mols]"
   ]
  },
  {
   "cell_type": "code",
   "execution_count": 57,
   "id": "6558bab7",
   "metadata": {
    "pycharm": {
     "name": "#%%\n"
    }
   },
   "outputs": [
    {
     "data": {
      "image/png": "[encoded data removed]",
      "text/plain": [
       "<rdkit.Chem.rdchem.Mol at 0x7f204be64e90>"
      ]
     },
     "execution_count": 57,
     "metadata": {},
     "output_type": "execute_result"
    }
   ],
   "source": [
    "c_mols[0]"
   ]
  },
  {
   "cell_type": "code",
   "execution_count": 58,
   "id": "5f0065de",
   "metadata": {
    "pycharm": {
     "name": "#%%\n"
    }
   },
   "outputs": [
    {
     "data": {
      "image/png": "[encoded data removed]",
      "text/plain": [
       "<rdkit.Chem.rdchem.Mol at 0x7f204be30e40>"
      ]
     },
     "execution_count": 58,
     "metadata": {},
     "output_type": "execute_result"
    }
   ],
   "source": [
    "new_c_mols[0]"
   ]
  },
  {
   "cell_type": "code",
   "execution_count": 59,
   "id": "7c0c8437",
   "metadata": {
    "pycharm": {
     "name": "#%%\n"
    }
   },
   "outputs": [],
   "source": [
    "# replace columns \n",
    "b_frags['smiles_w_sub'] = new_b_smiles\n",
    "c_frags['smiles_w_sub'] = new_c_smiles"
   ]
  },
  {
   "cell_type": "code",
   "execution_count": 64,
   "id": "f4d93a7f",
   "metadata": {
    "pycharm": {
     "name": "#%%\n"
    }
   },
   "outputs": [],
   "source": [
    "b_cols = b_frags.columns\n",
    "c_cols = c_frags.columns\n",
    "\n",
    "cols = ['molecule_id', 'created_on', 'updated_on', 'hid', 'smiles',\n",
    "       'smiles_wo_block', 'smiles_w_sub', 'commercially_available', 'CAS', 'molecule_type_id']\n",
    "\n"
   ]
  },
  {
   "cell_type": "code",
   "execution_count": 65,
   "id": "945b5bdd",
   "metadata": {
    "pycharm": {
     "name": "#%%\n"
    }
   },
   "outputs": [],
   "source": [
    "b_frags = b_frags[cols]\n",
    "c_frags = c_frags[cols]"
   ]
  },
  {
   "cell_type": "code",
   "execution_count": 67,
   "id": "1857180e",
   "metadata": {
    "pycharm": {
     "name": "#%%\n"
    }
   },
   "outputs": [],
   "source": [
    "b_frags.to_csv('b_frags.csv', index=False)\n",
    "c_frags.to_csv('c_frags.csv', index=False)"
   ]
  },
  {
   "cell_type": "code",
   "execution_count": null,
   "id": "3d6240d2",
   "metadata": {
    "pycharm": {
     "name": "#%%\n"
    }
   },
   "outputs": [],
   "source": []
  },
  {
   "cell_type": "code",
   "execution_count": null,
   "id": "cfb54a0b",
   "metadata": {
    "pycharm": {
     "name": "#%%\n"
    }
   },
   "outputs": [],
   "source": []
  },
  {
   "cell_type": "code",
   "execution_count": null,
   "id": "9dc088d9",
   "metadata": {
    "pycharm": {
     "name": "#%%\n"
    }
   },
   "outputs": [],
   "source": []
  },
  {
   "cell_type": "code",
   "execution_count": 53,
   "id": "993f592d",
   "metadata": {
    "pycharm": {
     "name": "#%%\n"
    }
   },
   "outputs": [
    {
     "data": {
      "text/plain": [
       "['C=Cc1ccc(C=CC=C(F)F)cc1',\n",
       " 'C=Cc1ccsc1C=C(F)F',\n",
       " 'C=CC=CC=C(F)F',\n",
       " 'C=Cc1ncccc1C=C(F)F',\n",
       " 'C=Cc1cncc(C=C(F)F)c1',\n",
       " 'C=Cc1ccoc1C=C(F)F',\n",
       " 'C=Cc1cnn(C)c1C=C(F)F',\n",
       " 'C=Cc1ccccc1C=C(F)F',\n",
       " 'C=Cc1cccc(C=C(F)F)c1',\n",
       " 'C=Cc1cccc(C=C(F)F)c1F',\n",
       " 'C=Cc1cc(C=C(F)F)cc(C(F)(F)F)c1',\n",
       " 'C=Cc1cc(F)cc(C=C(F)F)c1',\n",
       " 'C=Cc1ccc(C#N)c(C=C(F)F)c1',\n",
       " 'C=Cc1cc(C=C(F)F)cc(OC)c1',\n",
       " 'C=Cc1c(C=C(F)F)sc2ccccc12',\n",
       " 'C=Cc1cc(Cl)cc(C=C(F)F)c1',\n",
       " 'C=Cc1ccc(-c2ccc(C=C(F)F)s2)s1',\n",
       " 'C=Cc1ccc(C=C(F)F)cn1',\n",
       " 'C=Cc1ccc(C=C(F)F)nc1',\n",
       " 'C=Cc1cccc(F)c1C=C(F)F',\n",
       " 'C=Cc1ccc(C=C(F)F)cc1',\n",
       " 'C=Cc1ccc(F)c(C=C(F)F)c1',\n",
       " 'C=Cc1ccccc1-c1ccccc1C=C(F)F',\n",
       " 'C=Cc1ccc2oc(C=C(F)F)cc2c1',\n",
       " 'C=Cc1ccc(C=C(F)F)s1',\n",
       " 'C=Cc1ncccc1C=C(F)F',\n",
       " 'C=Cc1cccc(C=CC=C(F)F)c1',\n",
       " 'C=Cc1cc(C=C(F)F)on1',\n",
       " 'C=Cc1cnccc1C=C(F)F',\n",
       " 'C=CC=CC=C(F)F']"
      ]
     },
     "execution_count": 53,
     "metadata": {},
     "output_type": "execute_result"
    }
   ],
   "source": [
    "new_b_smiles"
   ]
  },
  {
   "cell_type": "code",
   "execution_count": 54,
   "id": "e1cbbc13",
   "metadata": {
    "pycharm": {
     "name": "#%%\n"
    }
   },
   "outputs": [
    {
     "data": {
      "text/plain": [
       "['C=Cc1ccc(-c2ccc(C=C)cc2)cc1',\n",
       " 'C=Cc1ccc(C=C)cc1',\n",
       " 'C=Cc1cc(C)c(C=C)cc1C',\n",
       " 'C=Cc1c(F)c(F)c(-c2c(F)c(F)c(C=C)c(F)c2F)c(F)c1F',\n",
       " 'C=Cc1ccc2c(c1)C(C)(C)c1cc(C=C)ccc1-2',\n",
       " 'C=Cc1ccc2c(c1)C(=O)c1cc(C=C)ccc1-2',\n",
       " 'C=Cc1ccc2c(c1)[nH]c1cc(C=C)ccc12',\n",
       " 'C=Cc1c2ccccc2c(C=C)c2ccccc12',\n",
       " 'C=Cc1c2ccccc2c(-c2c3ccccc3c(C=C)c3ccccc23)c2ccccc12',\n",
       " 'C=Cc1ccc2cc(C=C)ccc2c1',\n",
       " 'C=Cc1cc2sc(C=C)cc2s1',\n",
       " 'C=Cc1ccc(C=C)c2nsnc12',\n",
       " 'C=Cc1cnc(C=C)c2nsnc12',\n",
       " 'C=Cc1c(F)c(F)c(F)c(C=C)c1F',\n",
       " 'C=Cc1ccc(-c2ccc(C=C)cc2N)c(N)c1',\n",
       " 'C=Cc1ccc(-c2ccc(-c3ccc(C=C)cc3)cc2)cc1',\n",
       " 'C=Cc1ccc(-c2cc(C)c(-c3ccc(C=C)cc3)cc2C)cc1',\n",
       " 'C=Cc1ccc(C=C)c(F)c1',\n",
       " 'C=Cc1c(F)c(F)c(C=C)c(F)c1F',\n",
       " 'C=Cc1cc(OC)c(C=C)cc1OC',\n",
       " 'C=Cc1ccc(C=C)c(C(F)(F)F)c1',\n",
       " 'C=Cc1ccc(C=C)c([N+](=O)[O-])c1',\n",
       " 'C=Cc1ccc(C=C)c(N)c1',\n",
       " 'C=Cc1ccc(C=C)c2nccnc12',\n",
       " 'C=Cc1ccc(C=C)s1',\n",
       " 'C=Cc1sc(C=C)c([N+](=O)[O-])c1[N+](=O)[O-]',\n",
       " 'C=Cc1sc(C=C)c2c1OCCO2',\n",
       " 'C=Cc1cc(F)c(C=C)cc1F',\n",
       " 'C=Cc1ccc(C=C)c(C)c1',\n",
       " 'C=Cc1ccc(C=C)c(C(=O)O)c1',\n",
       " 'C=Cc1ccc(C=C)nn1',\n",
       " 'C=Cc1cc(C(F)(F)F)c(C=C)cn1',\n",
       " 'C=Cc1cnc(C=C)nc1',\n",
       " 'C=Cc1ccc2ccc(C=C)cc2c1',\n",
       " 'C=Cc1ccccc1-c1ccccc1C=C',\n",
       " 'C=Cc1cccc(C=C)c1',\n",
       " 'C=Cc1ccsc1-c1sccc1C=C',\n",
       " 'C=Cc1ccc(-c2ccc(-c3ccc(C=C)s3)s2)s1',\n",
       " 'C=Cc1cccc(-c2cccc(-c3cccc(C=C)n3)n2)n1',\n",
       " 'C=Cc1cccc(-c2cccc(C=C)n2)n1',\n",
       " 'C=Cc1cccc(C=C)n1',\n",
       " 'C=Cc1cc(O)c(C=C)cc1O',\n",
       " 'C=Cc1cc(F)c(C=C)c2nsnc12',\n",
       " 'C=Cc1ccc(C=C)c(S(=O)(=O)F)c1',\n",
       " 'C=Cc1cc(CO)cc(C=C)n1',\n",
       " 'C=Cc1cc(C=C)c(OCc2ccccc2)cc1F',\n",
       " 'C=Cc1ccc(OC(F)(F)F)cc1C=C',\n",
       " 'C=Cc1ccc(S(C)(=O)=O)cc1C=C',\n",
       " 'C=Cc1cc(C=C)cc(OC(F)(F)F)c1',\n",
       " 'C=Cc1cc(C=C)cc(C(F)(F)F)c1',\n",
       " 'C=Cc1cc(C=C)c(C(=O)OC)nc1N',\n",
       " 'C=Cc1cc(C=C)cc(S(C)(=O)=O)c1',\n",
       " 'C=Cc1cc(C=C)cc(Oc2ccccc2)c1',\n",
       " 'C=Cc1cc(C=C)cc(C(C)(C)C)c1',\n",
       " 'C=Cc1ccc(C=C)c(C)c1C',\n",
       " 'C=Cc1cc(OCCCCCCCCCC)c(C=C)cc1OCCCCCCCCCC',\n",
       " 'C=Cc1cc(CC)c(C=C)cc1CC',\n",
       " 'C=Cc1cc(CCCCCC)c(C=C)cc1CCCCCC',\n",
       " 'C=Cc1ccc(C=C)c(CC)c1',\n",
       " 'C=Cc1cc(F)c(C=C)c(F)c1',\n",
       " 'C=Cc1ccc(C=C)c2ccccc12',\n",
       " 'C=Cc1cc(C=C)c(F)c(F)c1F',\n",
       " 'C=Cc1scc(C)c1C=C',\n",
       " 'C=Cc1cc(C)cnc1C=C',\n",
       " 'C=Cc1cccc(OC)c1C=C',\n",
       " 'C=Cc1sc2ccccc2c1C=C',\n",
       " 'C=Cc1ccoc1C=C',\n",
       " 'C=Cc1ccsc1C=C',\n",
       " 'C=Cc1ccc(F)c(C=C)c1',\n",
       " 'C=Cc1cc(C=C)c(SC)cc1F',\n",
       " 'C=Cc1cc(C=C)c(N)c(C(F)(F)F)c1',\n",
       " 'C=Cc1cc(C)c(O)c(C=C)c1',\n",
       " 'C=Cc1ccc(NC)c(C=C)c1',\n",
       " 'C=Cc1csc(C=C)n1',\n",
       " 'C=Cc1sc(C=C)c(CCCCCC)c1CCCCCC',\n",
       " 'C=Cc1cc(CCCCCCCCCCCC)c(C=C)s1',\n",
       " 'C=Cc1cc(CCCCCC)c(C=C)s1',\n",
       " 'C=Cc1cc(OC)c(C=C)cc1F',\n",
       " 'C=Cc1ccc(C=C)c(S(N)(=O)=O)c1',\n",
       " 'C=Cc1ccc(C=C)o1',\n",
       " 'C=Cc1cc(C(=O)O)c(C=C)cn1',\n",
       " 'C=Cc1cnc(C=C)cn1',\n",
       " 'C=Cc1ccc(C=C)nc1',\n",
       " 'C=Cc1cc(C(=O)O)c(C=C)cc1C(=O)O',\n",
       " 'C=Cc1sc(C=C)c(C(=O)O)c1C(=O)O',\n",
       " 'C=Cc1cc(F)cc(C=C)c1O',\n",
       " 'C=Cc1cc(C)cc(C=C)c1OC',\n",
       " 'C=Cc1ccc(C(N)=O)c(C=C)n1',\n",
       " 'C=Cc1cc(C(=O)O)c(N)c(C=C)c1F',\n",
       " 'C=Cc1cn(C(C)(C)C)nc1C=C',\n",
       " 'C=Cc1cocc1C=C',\n",
       " 'C=Cc1csc(C(=O)O)c1C=C',\n",
       " 'C=Cc1cnc(F)c(C=C)c1',\n",
       " 'C=Cc1ccc(OCC2CCCCO2)c(C=C)c1',\n",
       " 'C=Cc1ccc(C=C)c(CC#N)c1',\n",
       " 'C=Cc1ccc(CC(=O)O)c(C=C)c1',\n",
       " 'C=Cc1ccc(C#N)c(C=C)c1',\n",
       " 'C=Cc1ccc(C)c(C=C)c1',\n",
       " 'C=Cc1nnc(C=C)s1',\n",
       " 'C=Cc1cc(CCCC)c(C=C)s1',\n",
       " 'C=Cc1cc(C2CCCCC2)c(C=C)s1',\n",
       " 'C=Cc1cc(CCCCCCCCCC)c(C=C)s1',\n",
       " 'C=Cc1cc(C)c(C=C)s1',\n",
       " 'C=Cc1cc(CCCCCCCC)c(C=C)s1',\n",
       " 'C=Cc1cnc(C=C)c(C)c1',\n",
       " 'C=Cc1cc(OC)c(C=C)cn1',\n",
       " 'C=Cc1cc(C)c(C=C)cn1',\n",
       " 'C=Cc1cn([Si](C(C)C)(C(C)C)C(C)C)cc1C=C',\n",
       " 'C=Cc1cnc(C=C)s1',\n",
       " 'C=Cc1cc(OC(F)(F)F)cc(C=C)c1N',\n",
       " 'C=Cc1cc(F)cc(C=C)c1N',\n",
       " 'C=Cc1cc(C(C)(C)C)cc(C=C)c1N',\n",
       " 'C=Cc1cccc(C=C)c1N',\n",
       " 'C=Cc1cccc(C=C)c1C#N',\n",
       " 'C=Cc1nc(C=C)n(C(=O)OC(C)(C)C)n1',\n",
       " 'C=Cc1nc(C=C)c(N)nc1C',\n",
       " 'C=Cc1cnc(N)c(C=C)n1',\n",
       " 'C=Cc1cnc(OC)c(C=C)c1',\n",
       " 'C=Cc1cc(N)cc(C=C)c1OC',\n",
       " 'C=Cc1cc(C=C)c(F)nc1N',\n",
       " 'C=Cc1cc(C=C)c(NN)nc1C',\n",
       " 'C=Cc1cc(C=C)cc(OC)c1',\n",
       " 'C=Cc1cc(C#N)cc(C=C)c1',\n",
       " 'C=Cc1cc(C=C)cc(CO)c1',\n",
       " 'C=Cc1cc(O)cc(C=C)c1',\n",
       " 'C=Cc1cnc(C#N)c(C=C)c1',\n",
       " 'C=Cc1cncc(C=C)c1C(=O)O',\n",
       " 'C=Cc1ccc(C=C)c(C)n1',\n",
       " 'C=Cc1cc(C)c(C=C)nn1',\n",
       " 'C=Cc1ccc2c(c1)Sc1cc(C=C)ccc1N2CCCCCC',\n",
       " 'C=Cc1[nH]nc(NC(C)=O)c1C=C',\n",
       " 'C=Cc1c(C)nn(C)c1C=C',\n",
       " 'C=Cc1nnn(C)c1C=C',\n",
       " 'C=Cc1cc(C(=O)O)oc1C=C',\n",
       " 'C=Cc1n[nH]c(N)c1C=C',\n",
       " 'C=Cc1cc(C=C)c(OC)c(F)c1F',\n",
       " 'C=Cc1cc(C=C)c(F)c(F)c1O',\n",
       " 'C=Cc1cc2nc[nH]c2c(C=C)c1N',\n",
       " 'C=Cc1cc(C=C)c2[nH]c(=S)oc2c1',\n",
       " 'C=Cc1cc(C=C)c(C(=O)O)cn1',\n",
       " 'C=Cc1cc(C=C)c(N)nn1',\n",
       " 'C=Cc1ccc(C=C)c2[nH]ccc12',\n",
       " 'C=Cc1ccc(C=C)c2n[se]nc12',\n",
       " 'C=Cc1c(F)c(F)c(C=C)c2nsnc12',\n",
       " 'C=Cc1ccc(/C=C/c2ccc(C=C)cc2)cc1',\n",
       " 'C=Cc1ccc(-c2ccc(C=C)s2)s1',\n",
       " 'C=Cc1cc2nsnc2cc1C=C',\n",
       " 'C=Cc1[nH]c2nc[nH]c(=O)c2c1C=C',\n",
       " 'C=Cc1cc(C=C)c2c(c1)C(=O)C(=O)N2',\n",
       " 'C=Cc1c(OC)cc(C=C)c2ncccc12',\n",
       " 'C=Cc1cc(C=C)c2nccn2c1',\n",
       " 'C=Cc1cc(C=C)c2nccn2n1',\n",
       " 'C=Cc1cc(C=C)cc(OCCCCCCC(=O)O)c1',\n",
       " 'C=Cc1cc(C=C)cc(N2CCC3(CC2)OCCO3)c1',\n",
       " 'C=Cc1cc(C(=O)OC)c(C=C)cc1C(=O)OC',\n",
       " 'C=Cc1nc(C(=O)OCC)c(C=C)o1',\n",
       " 'C=Cc1cc(C(=O)OCC)c(C=C)o1',\n",
       " 'C=Cc1cc(C(=O)OC)c(C=C)o1',\n",
       " 'C=Cc1cnc(C=C)c(C(=O)OC)c1',\n",
       " 'C=Cc1cc(C(=O)OC)c(N)c(C=C)c1F',\n",
       " 'C=Cc1cc(C(=O)OC)[nH]c1C=C']"
      ]
     },
     "execution_count": 54,
     "metadata": {},
     "output_type": "execute_result"
    }
   ],
   "source": [
    "new_c_smiles"
   ]
  },
  {
   "cell_type": "code",
   "execution_count": null,
   "id": "36cc26ba",
   "metadata": {
    "pycharm": {
     "name": "#%%\n"
    }
   },
   "outputs": [],
   "source": []
  },
  {
   "cell_type": "code",
   "execution_count": null,
   "id": "57033812",
   "metadata": {
    "pycharm": {
     "name": "#%%\n"
    }
   },
   "outputs": [],
   "source": []
  },
  {
   "cell_type": "code",
   "execution_count": null,
   "id": "29779125",
   "metadata": {
    "pycharm": {
     "name": "#%%\n"
    }
   },
   "outputs": [],
   "source": []
  },
  {
   "cell_type": "code",
   "execution_count": null,
   "id": "41dd1dc6",
   "metadata": {
    "pycharm": {
     "name": "#%%\n"
    }
   },
   "outputs": [],
   "source": []
  },
  {
   "cell_type": "code",
   "execution_count": null,
   "id": "a8136aae",
   "metadata": {
    "pycharm": {
     "name": "#%%\n"
    }
   },
   "outputs": [],
   "source": []
  },
  {
   "cell_type": "code",
   "execution_count": 243,
   "id": "1ced7c6d",
   "metadata": {
    "pycharm": {
     "name": "#%%\n"
    }
   },
   "outputs": [
    {
     "data": {
      "text/plain": [
       "431.2267888399999"
      ]
     },
     "execution_count": 243,
     "metadata": {},
     "output_type": "execute_result"
    }
   ],
   "source": [
    "chem.rdMolDescriptors.CalcExactMolWt(test_mol)"
   ]
  },
  {
   "cell_type": "code",
   "execution_count": 239,
   "id": "95ab542e",
   "metadata": {
    "pycharm": {
     "name": "#%%\n"
    }
   },
   "outputs": [
    {
     "data": {
      "image/png": "[encoded data removed]",
      "text/plain": [
       "<rdkit.Chem.rdchem.Mol at 0x7ff07f10bad0>"
      ]
     },
     "execution_count": 239,
     "metadata": {},
     "output_type": "execute_result"
    }
   ],
   "source": [
    "new_mol = replace_blocks(test_mol)\n",
    "new_mol"
   ]
  },
  {
   "cell_type": "code",
   "execution_count": null,
   "id": "ec8ba56f",
   "metadata": {
    "pycharm": {
     "name": "#%%\n"
    }
   },
   "outputs": [],
   "source": []
  },
  {
   "cell_type": "code",
   "execution_count": null,
   "id": "482f727d",
   "metadata": {
    "pycharm": {
     "name": "#%%\n"
    }
   },
   "outputs": [],
   "source": []
  },
  {
   "cell_type": "code",
   "execution_count": 64,
   "id": "bdeef730",
   "metadata": {
    "pycharm": {
     "name": "#%%\n"
    }
   },
   "outputs": [],
   "source": [
    "edit = chem.RWMol(test_mol)\n",
    "for atom in edit.GetAtoms():\n",
    "    if atom.GetAtomicNum() == 35:\n",
    "        atom.SetAtomicNum(1)\n",
    "                \n",
    "chem.SanitizeMol(edit)\n",
    "mol = chem.RemoveHs(edit)"
   ]
  },
  {
   "cell_type": "code",
   "execution_count": 65,
   "id": "db63e23a",
   "metadata": {
    "pycharm": {
     "name": "#%%\n"
    }
   },
   "outputs": [
    {
     "data": {
      "image/png": "[encoded data removed]",
      "text/plain": [
       "<rdkit.Chem.rdchem.Mol at 0x7ff07f48ad00>"
      ]
     },
     "execution_count": 65,
     "metadata": {},
     "output_type": "execute_result"
    }
   ],
   "source": [
    "mol"
   ]
  },
  {
   "cell_type": "code",
   "execution_count": null,
   "id": "ac298efd",
   "metadata": {
    "pycharm": {
     "name": "#%%\n"
    }
   },
   "outputs": [],
   "source": []
  },
  {
   "cell_type": "code",
   "execution_count": 67,
   "id": "2bba6c72",
   "metadata": {
    "pycharm": {
     "name": "#%%\n"
    }
   },
   "outputs": [
    {
     "data": {
      "image/png": "[encoded data removed]",
      "text/plain": [
       "<rdkit.Chem.rdchem.Mol at 0x7ff07f5518a0>"
      ]
     },
     "execution_count": 67,
     "metadata": {},
     "output_type": "execute_result"
    }
   ],
   "source": [
    "test_b = mols[50]\n",
    "test_b"
   ]
  },
  {
   "cell_type": "code",
   "execution_count": null,
   "id": "52d6b84b",
   "metadata": {
    "pycharm": {
     "name": "#%%\n"
    }
   },
   "outputs": [],
   "source": [
    "# manually replace A and B frags, automatically e"
   ]
  },
  {
   "cell_type": "code",
   "execution_count": 84,
   "id": "0b5d3c4f",
   "metadata": {
    "pycharm": {
     "name": "#%%\n"
    }
   },
   "outputs": [],
   "source": [
    "c_smiles = c_frags['smiles'].tolist()\n",
    "c_mols = [chem.MolFromSmiles(s) for s in c_smiles]\n",
    "\n"
   ]
  },
  {
   "cell_type": "code",
   "execution_count": 93,
   "id": "de636d67",
   "metadata": {
    "pycharm": {
     "name": "#%%\n"
    }
   },
   "outputs": [],
   "source": [
    "c_mols_wo_block = []\n",
    "for mol in c_mols:\n",
    "    edit= chem.RWMol(mol)\n",
    "    for atom in edit.GetAtoms():\n",
    "        if atom.GetAtomicNum() in [35, 53]:\n",
    "            atom.SetAtomicNum(6)\n",
    "            \n",
    "    chem.SanitizeMol(edit)\n",
    "    mol_wo_block = chem.RemoveHs(edit)\n",
    "    c_mols_wo_block.append(mol_wo_block)\n",
    "    "
   ]
  },
  {
   "cell_type": "code",
   "execution_count": 95,
   "id": "3692209c",
   "metadata": {
    "pycharm": {
     "name": "#%%\n"
    }
   },
   "outputs": [],
   "source": [
    "c_smiles_wo_block = [chem.MolToCXSmiles(m) for m in c_mols_wo_block]"
   ]
  },
  {
   "cell_type": "code",
   "execution_count": 96,
   "id": "ef2014cf",
   "metadata": {
    "pycharm": {
     "name": "#%%\n"
    }
   },
   "outputs": [
    {
     "data": {
      "text/plain": [
       "['Cc1ccc(-c2ccc(C)cc2)cc1',\n",
       " 'Cc1ccc(C)cc1',\n",
       " 'Cc1cc(C)c(C)cc1C',\n",
       " 'Cc1c(F)c(F)c(-c2c(F)c(F)c(C)c(F)c2F)c(F)c1F',\n",
       " 'Cc1ccc2c(c1)C(C)(C)c1cc(C)ccc1-2',\n",
       " 'Cc1ccc2c(c1)C(=O)c1cc(C)ccc1-2',\n",
       " 'Cc1ccc2c(c1)[nH]c1cc(C)ccc12',\n",
       " 'Cc1c2ccccc2c(C)c2ccccc12',\n",
       " 'Cc1c2ccccc2c(-c2c3ccccc3c(C)c3ccccc23)c2ccccc12',\n",
       " 'Cc1ccc2cc(C)ccc2c1',\n",
       " 'Cc1cc2sc(C)cc2s1',\n",
       " 'Cc1ccc(C)c2nsnc12',\n",
       " 'Cc1cnc(C)c2nsnc12',\n",
       " 'Cc1c(F)c(C)c(F)c(F)c1F',\n",
       " 'Cc1ccc(-c2ccc(C)cc2N)c(N)c1',\n",
       " 'Cc1ccc(-c2ccc(-c3ccc(C)cc3)cc2)cc1',\n",
       " 'Cc1ccc(-c2cc(C)c(-c3ccc(C)cc3)cc2C)cc1',\n",
       " 'Cc1ccc(C)c(F)c1',\n",
       " 'Cc1c(F)c(F)c(C)c(F)c1F',\n",
       " 'COc1cc(C)c(OC)cc1C',\n",
       " 'Cc1ccc(C)c(C(F)(F)F)c1',\n",
       " 'Cc1ccc(C)c([N+](=O)[O-])c1',\n",
       " 'Cc1ccc(C)c(N)c1',\n",
       " 'Cc1ccc(C)c2nccnc12',\n",
       " 'Cc1ccc(C)s1',\n",
       " 'Cc1sc(C)c([N+](=O)[O-])c1[N+](=O)[O-]',\n",
       " 'Cc1sc(C)c2c1OCCO2',\n",
       " 'Cc1cc(F)c(C)cc1F',\n",
       " 'Cc1ccc(C)c(C)c1',\n",
       " 'Cc1ccc(C)c(C(=O)O)c1',\n",
       " 'Cc1ccc(C)nn1',\n",
       " 'Cc1cc(C(F)(F)F)c(C)cn1',\n",
       " 'Cc1cnc(C)nc1',\n",
       " 'Cc1ccc2ccc(C)cc2c1',\n",
       " 'Cc1ccccc1-c1ccccc1C',\n",
       " 'Cc1cccc(C)c1',\n",
       " 'Cc1ccsc1-c1sccc1C',\n",
       " 'Cc1ccc(-c2ccc(-c3ccc(C)s3)s2)s1',\n",
       " 'Cc1cccc(-c2cccc(-c3cccc(C)n3)n2)n1',\n",
       " 'Cc1cccc(-c2cccc(C)n2)n1',\n",
       " 'Cc1cccc(C)n1',\n",
       " 'Cc1cc(O)c(C)cc1O',\n",
       " 'Cc1cc(F)c(C)c2nsnc12',\n",
       " 'Cc1ccc(C)c(S(=O)(=O)F)c1',\n",
       " 'Cc1cc(CO)cc(C)n1',\n",
       " 'Cc1cc(C)c(OCc2ccccc2)cc1F',\n",
       " 'Cc1ccc(OC(F)(F)F)cc1C',\n",
       " 'Cc1ccc(S(C)(=O)=O)cc1C',\n",
       " 'Cc1cc(C)cc(OC(F)(F)F)c1',\n",
       " 'Cc1cc(C)cc(C(F)(F)F)c1',\n",
       " 'COC(=O)c1nc(N)c(C)cc1C',\n",
       " 'Cc1cc(C)cc(S(C)(=O)=O)c1',\n",
       " 'Cc1cc(C)cc(Oc2ccccc2)c1',\n",
       " 'Cc1cc(C)cc(C(C)(C)C)c1',\n",
       " 'Cc1ccc(C)c(C)c1C',\n",
       " 'CCCCCCCCCCOc1cc(C)c(OCCCCCCCCCC)cc1C',\n",
       " 'CCc1cc(C)c(CC)cc1C',\n",
       " 'CCCCCCc1cc(C)c(CCCCCC)cc1C',\n",
       " 'CCc1cc(C)ccc1C',\n",
       " 'Cc1cc(F)c(C)c(F)c1',\n",
       " 'Cc1ccc(C)c2ccccc12',\n",
       " 'Cc1cc(C)c(F)c(F)c1F',\n",
       " 'Cc1csc(C)c1C',\n",
       " 'Cc1cnc(C)c(C)c1',\n",
       " 'COc1cccc(C)c1C',\n",
       " 'Cc1sc2ccccc2c1C',\n",
       " 'Cc1ccoc1C',\n",
       " 'Cc1ccsc1C',\n",
       " 'Cc1ccc(F)c(C)c1',\n",
       " 'CSc1cc(F)c(C)cc1C',\n",
       " 'Cc1cc(C)c(N)c(C(F)(F)F)c1',\n",
       " 'Cc1cc(C)c(O)c(C)c1',\n",
       " 'CNc1ccc(C)cc1C',\n",
       " 'Cc1csc(C)n1',\n",
       " 'CCCCCCc1c(C)sc(C)c1CCCCCC',\n",
       " 'CCCCCCCCCCCCc1cc(C)sc1C',\n",
       " 'CCCCCCc1cc(C)sc1C',\n",
       " 'COc1cc(C)c(F)cc1C',\n",
       " 'Cc1ccc(C)c(S(N)(=O)=O)c1',\n",
       " 'Cc1ccc(C)o1',\n",
       " 'Cc1cc(C(=O)O)c(C)cn1',\n",
       " 'Cc1cnc(C)cn1',\n",
       " 'Cc1ccc(C)nc1',\n",
       " 'Cc1cc(C(=O)O)c(C)cc1C(=O)O',\n",
       " 'Cc1sc(C)c(C(=O)O)c1C(=O)O',\n",
       " 'Cc1cc(F)cc(C)c1O',\n",
       " 'COc1c(C)cc(C)cc1C',\n",
       " 'Cc1ccc(C(N)=O)c(C)n1',\n",
       " 'Cc1cc(C(=O)O)c(N)c(C)c1F',\n",
       " 'Cc1cn(C(C)(C)C)nc1C',\n",
       " 'Cc1cocc1C',\n",
       " 'Cc1csc(C(=O)O)c1C',\n",
       " 'Cc1cnc(F)c(C)c1',\n",
       " 'Cc1ccc(OCC2CCCCO2)c(C)c1',\n",
       " 'Cc1ccc(C)c(CC#N)c1',\n",
       " 'Cc1ccc(CC(=O)O)c(C)c1',\n",
       " 'Cc1ccc(C#N)c(C)c1',\n",
       " 'Cc1ccc(C)c(C)c1',\n",
       " 'Cc1nnc(C)s1',\n",
       " 'CCCCc1cc(C)sc1C',\n",
       " 'Cc1cc(C2CCCCC2)c(C)s1',\n",
       " 'CCCCCCCCCCc1cc(C)sc1C',\n",
       " 'Cc1cc(C)c(C)s1',\n",
       " 'CCCCCCCCc1cc(C)sc1C',\n",
       " 'Cc1cnc(C)c(C)c1',\n",
       " 'COc1cc(C)ncc1C',\n",
       " 'Cc1cc(C)c(C)cn1',\n",
       " 'Cc1cn([Si](C(C)C)(C(C)C)C(C)C)cc1C',\n",
       " 'Cc1cnc(C)s1',\n",
       " 'Cc1cc(OC(F)(F)F)cc(C)c1N',\n",
       " 'Cc1cc(F)cc(C)c1N',\n",
       " 'Cc1cc(C(C)(C)C)cc(C)c1N',\n",
       " 'Cc1cccc(C)c1N',\n",
       " 'Cc1cccc(C)c1C#N',\n",
       " 'Cc1nc(C)n(C(=O)OC(C)(C)C)n1',\n",
       " 'Cc1nc(C)c(N)nc1C',\n",
       " 'Cc1cnc(N)c(C)n1',\n",
       " 'COc1ncc(C)cc1C',\n",
       " 'COc1c(C)cc(N)cc1C',\n",
       " 'Cc1cc(C)c(F)nc1N',\n",
       " 'Cc1cc(C)c(NN)nc1C',\n",
       " 'COc1cc(C)cc(C)c1',\n",
       " 'Cc1cc(C)cc(C#N)c1',\n",
       " 'Cc1cc(C)cc(CO)c1',\n",
       " 'Cc1cc(C)cc(O)c1',\n",
       " 'Cc1cnc(C#N)c(C)c1',\n",
       " 'Cc1cncc(C)c1C(=O)O',\n",
       " 'Cc1ccc(C)c(C)n1',\n",
       " 'Cc1cc(C)c(C)nn1',\n",
       " 'CCCCCCN1c2ccc(C)cc2Sc2cc(C)ccc21',\n",
       " 'CC(=O)Nc1n[nH]c(C)c1C',\n",
       " 'Cc1nn(C)c(C)c1C',\n",
       " 'Cc1nnn(C)c1C',\n",
       " 'Cc1cc(C(=O)O)oc1C',\n",
       " 'Cc1n[nH]c(N)c1C',\n",
       " 'COc1c(C)cc(C)c(F)c1F',\n",
       " 'Cc1cc(C)c(F)c(F)c1O',\n",
       " 'Cc1cc2nc[nH]c2c(C)c1N',\n",
       " 'Cc1cc(C)c2[nH]c(=S)oc2c1',\n",
       " 'Cc1cc(C)c(C(=O)O)cn1',\n",
       " 'Cc1cc(C)c(N)nn1',\n",
       " 'Cc1ccc(C)c2[nH]ccc12',\n",
       " 'Cc1ccc(C)c2n[se]nc12',\n",
       " 'Cc1c(F)c(F)c(C)c2nsnc12',\n",
       " 'Cc1ccc(/C=C/c2ccc(C)cc2)cc1',\n",
       " 'Cc1ccc(-c2ccc(C)s2)s1',\n",
       " 'Cc1cc2nsnc2cc1C',\n",
       " 'Cc1[nH]c2nc[nH]c(=O)c2c1C',\n",
       " 'Cc1cc(C)c2c(c1)C(=O)C(=O)N2',\n",
       " 'COc1cc(C)c2ncccc2c1C',\n",
       " 'Cc1cc(C)c2nccn2c1',\n",
       " 'Cc1cc(C)c2nccn2n1',\n",
       " 'Cc1cc(C)cc(OCCCCCCC(=O)O)c1',\n",
       " 'Cc1cc(C)cc(N2CCC3(CC2)OCCO3)c1',\n",
       " 'COC(=O)c1cc(C)c(C(=O)OC)cc1C',\n",
       " 'CCOC(=O)c1nc(C)oc1C',\n",
       " 'CCOC(=O)c1cc(C)oc1C',\n",
       " 'COC(=O)c1cc(C)oc1C',\n",
       " 'COC(=O)c1cc(C)cnc1C',\n",
       " 'COC(=O)c1cc(C)c(F)c(C)c1N',\n",
       " 'COC(=O)c1cc(C)c(C)[nH]1']"
      ]
     },
     "execution_count": 96,
     "metadata": {},
     "output_type": "execute_result"
    }
   ],
   "source": [
    "c_smiles_wo_block"
   ]
  },
  {
   "cell_type": "code",
   "execution_count": 97,
   "id": "4475fa04",
   "metadata": {
    "pycharm": {
     "name": "#%%\n"
    }
   },
   "outputs": [
    {
     "name": "stderr",
     "output_type": "stream",
     "text": [
      "/home/riley/Software/anaconda3/envs/feas/lib/python3.7/site-packages/ipykernel_launcher.py:1: SettingWithCopyWarning: \n",
      "A value is trying to be set on a copy of a slice from a DataFrame.\n",
      "Try using .loc[row_indexer,col_indexer] = value instead\n",
      "\n",
      "See the caveats in the documentation: https://pandas.pydata.org/pandas-docs/stable/user_guide/indexing.html#returning-a-view-versus-a-copy\n",
      "  \"\"\"Entry point for launching an IPython kernel.\n"
     ]
    }
   ],
   "source": [
    "c_frags['smiles_wo_block'] = c_smiles_wo_block"
   ]
  },
  {
   "cell_type": "code",
   "execution_count": 100,
   "id": "94a26dc1",
   "metadata": {
    "pycharm": {
     "name": "#%%\n"
    }
   },
   "outputs": [
    {
     "data": {
      "text/plain": [
       "Index(['molecule_id', 'created_on', 'updated_on', 'hid', 'smiles',\n",
       "       'commercially_available', 'CAS', 'molecule_type_id', 'smiles_wo_block'],\n",
       "      dtype='object')"
      ]
     },
     "execution_count": 100,
     "metadata": {},
     "output_type": "execute_result"
    }
   ],
   "source": [
    "c_frags.columns"
   ]
  },
  {
   "cell_type": "code",
   "execution_count": 106,
   "id": "d7631a9c",
   "metadata": {
    "pycharm": {
     "name": "#%%\n"
    }
   },
   "outputs": [],
   "source": [
    "cols = ['molecule_id', 'created_on', 'updated_on', 'hid', 'smiles', 'smiles_wo_block',\n",
    "       'commercially_available', 'CAS', 'molecule_type_id']\n",
    "\n",
    "c_frags = c_frags[cols]\n",
    "c_frags.to_csv('c_frags.csv', index=False)"
   ]
  },
  {
   "cell_type": "code",
   "execution_count": 105,
   "id": "542735b1",
   "metadata": {
    "pycharm": {
     "name": "#%%\n"
    }
   },
   "outputs": [
    {
     "data": {
      "text/html": [
       "<div>\n",
       "<style scoped>\n",
       "    .dataframe tbody tr th:only-of-type {\n",
       "        vertical-align: middle;\n",
       "    }\n",
       "\n",
       "    .dataframe tbody tr th {\n",
       "        vertical-align: top;\n",
       "    }\n",
       "\n",
       "    .dataframe thead th {\n",
       "        text-align: right;\n",
       "    }\n",
       "</style>\n",
       "<table border=\"1\" class=\"dataframe\">\n",
       "  <thead>\n",
       "    <tr style=\"text-align: right;\">\n",
       "      <th></th>\n",
       "      <th>lab_id</th>\n",
       "      <th>created_on</th>\n",
       "      <th>updated_on</th>\n",
       "      <th>name</th>\n",
       "    </tr>\n",
       "  </thead>\n",
       "  <tbody>\n",
       "    <tr>\n",
       "      <th>0</th>\n",
       "      <td>08cc75ca-8d1e-4ead-9b56-ad1b6ba83a41</td>\n",
       "      <td>2022-01-18T12:59:44.418607</td>\n",
       "      <td>2022-01-18T12:59:44.418607</td>\n",
       "      <td>Toronto</td>\n",
       "    </tr>\n",
       "    <tr>\n",
       "      <th>1</th>\n",
       "      <td>b65835e3-b908-45c6-9995-ec98d0caafe7</td>\n",
       "      <td>2022-01-18T12:59:47.145756</td>\n",
       "      <td>2022-01-18T12:59:47.145756</td>\n",
       "      <td>Illinois</td>\n",
       "    </tr>\n",
       "    <tr>\n",
       "      <th>2</th>\n",
       "      <td>6678a008-deb4-4608-9cb2-d32981156538</td>\n",
       "      <td>2022-01-18T12:59:48.810040</td>\n",
       "      <td>2022-01-18T12:59:48.810040</td>\n",
       "      <td>Glasgow</td>\n",
       "    </tr>\n",
       "    <tr>\n",
       "      <th>3</th>\n",
       "      <td>4d3c35cc-bf60-4bfe-8f59-9e7f50b04385</td>\n",
       "      <td>2022-01-18T12:59:50.578546</td>\n",
       "      <td>2022-01-18T12:59:50.578546</td>\n",
       "      <td>Vancouver</td>\n",
       "    </tr>\n",
       "  </tbody>\n",
       "</table>\n",
       "</div>"
      ],
      "text/plain": [
       "                                 lab_id                  created_on  \\\n",
       "0  08cc75ca-8d1e-4ead-9b56-ad1b6ba83a41  2022-01-18T12:59:44.418607   \n",
       "1  b65835e3-b908-45c6-9995-ec98d0caafe7  2022-01-18T12:59:47.145756   \n",
       "2  6678a008-deb4-4608-9cb2-d32981156538  2022-01-18T12:59:48.810040   \n",
       "3  4d3c35cc-bf60-4bfe-8f59-9e7f50b04385  2022-01-18T12:59:50.578546   \n",
       "\n",
       "                   updated_on       name  \n",
       "0  2022-01-18T12:59:44.418607    Toronto  \n",
       "1  2022-01-18T12:59:47.145756   Illinois  \n",
       "2  2022-01-18T12:59:48.810040    Glasgow  \n",
       "3  2022-01-18T12:59:50.578546  Vancouver  "
      ]
     },
     "execution_count": 105,
     "metadata": {},
     "output_type": "execute_result"
    }
   ],
   "source": [
    "# Another rather simple query, this time on the lab table\n",
    "client.query_database(\"lab\")"
   ]
  },
  {
   "cell_type": "code",
   "execution_count": 36,
   "id": "77d05f04",
   "metadata": {
    "pycharm": {
     "name": "#%%\n"
    }
   },
   "outputs": [
    {
     "data": {
      "text/html": [
       "<div>\n",
       "<style scoped>\n",
       "    .dataframe tbody tr th:only-of-type {\n",
       "        vertical-align: middle;\n",
       "    }\n",
       "\n",
       "    .dataframe tbody tr th {\n",
       "        vertical-align: top;\n",
       "    }\n",
       "\n",
       "    .dataframe thead th {\n",
       "        text-align: right;\n",
       "    }\n",
       "</style>\n",
       "<table border=\"1\" class=\"dataframe\">\n",
       "  <thead>\n",
       "    <tr style=\"text-align: right;\">\n",
       "      <th></th>\n",
       "      <th>lab.lab_id</th>\n",
       "      <th>lab.created_on</th>\n",
       "      <th>lab.updated_on</th>\n",
       "      <th>lab.name</th>\n",
       "      <th>lab_molecule.lab_molecule_id</th>\n",
       "      <th>lab_molecule.created_on</th>\n",
       "      <th>lab_molecule.updated_on</th>\n",
       "      <th>lab_molecule.available</th>\n",
       "      <th>lab_molecule.lab_id</th>\n",
       "      <th>lab_molecule.molecule_id</th>\n",
       "      <th>molecule.molecule_id</th>\n",
       "      <th>molecule.created_on</th>\n",
       "      <th>molecule.updated_on</th>\n",
       "      <th>molecule.hid</th>\n",
       "      <th>molecule.smiles</th>\n",
       "      <th>molecule.commercially_available</th>\n",
       "      <th>molecule.CAS</th>\n",
       "      <th>molecule.molecule_type_id</th>\n",
       "    </tr>\n",
       "  </thead>\n",
       "  <tbody>\n",
       "    <tr>\n",
       "      <th>0</th>\n",
       "      <td>b65835e3-b908-45c6-9995-ec98d0caafe7</td>\n",
       "      <td>2022-01-18T12:59:47.145756</td>\n",
       "      <td>2022-01-18T12:59:47.145756</td>\n",
       "      <td>Illinois</td>\n",
       "      <td>03ef606a-d66f-4e20-b5ef-c93a759884c3</td>\n",
       "      <td>2022-01-18T13:00:02.257587</td>\n",
       "      <td>2022-01-18T13:00:02.257587</td>\n",
       "      <td>False</td>\n",
       "      <td>b65835e3-b908-45c6-9995-ec98d0caafe7</td>\n",
       "      <td>6bf2b5a1-c157-4b5a-8a80-bf0b44704273</td>\n",
       "      <td>6bf2b5a1-c157-4b5a-8a80-bf0b44704273</td>\n",
       "      <td>2022-01-18T12:59:55.557052</td>\n",
       "      <td>2022-01-18T12:59:55.557052</td>\n",
       "      <td>A001</td>\n",
       "      <td>CC1(C)OB(c2ccc(-n3c4ccccc4c4ccccc43)cc2)OC1(C)C</td>\n",
       "      <td>True</td>\n",
       "      <td>785051-54-9</td>\n",
       "      <td>2d012b56-8260-4f9e-8ede-2c8546baf21c</td>\n",
       "    </tr>\n",
       "    <tr>\n",
       "      <th>1</th>\n",
       "      <td>b65835e3-b908-45c6-9995-ec98d0caafe7</td>\n",
       "      <td>2022-01-18T12:59:47.145756</td>\n",
       "      <td>2022-01-18T12:59:47.145756</td>\n",
       "      <td>Illinois</td>\n",
       "      <td>73c59860-7c66-4458-9cd1-92e78f2bd7f8</td>\n",
       "      <td>2022-01-18T13:00:10.606599</td>\n",
       "      <td>2022-01-18T13:00:10.606599</td>\n",
       "      <td>False</td>\n",
       "      <td>b65835e3-b908-45c6-9995-ec98d0caafe7</td>\n",
       "      <td>b2272f91-8f3d-41a5-87d4-8c473af1da0e</td>\n",
       "      <td>b2272f91-8f3d-41a5-87d4-8c473af1da0e</td>\n",
       "      <td>2022-01-18T13:00:03.958016</td>\n",
       "      <td>2022-01-18T13:00:03.958016</td>\n",
       "      <td>A002</td>\n",
       "      <td>CC1(C)OB(c2ccc(N(c3ccccc3)c3ccccc3)cc2)OC1(C)C</td>\n",
       "      <td>True</td>\n",
       "      <td>267221-88-5</td>\n",
       "      <td>2d012b56-8260-4f9e-8ede-2c8546baf21c</td>\n",
       "    </tr>\n",
       "    <tr>\n",
       "      <th>2</th>\n",
       "      <td>b65835e3-b908-45c6-9995-ec98d0caafe7</td>\n",
       "      <td>2022-01-18T12:59:47.145756</td>\n",
       "      <td>2022-01-18T12:59:47.145756</td>\n",
       "      <td>Illinois</td>\n",
       "      <td>a76fa588-bae8-4394-b395-664a7643a075</td>\n",
       "      <td>2022-01-18T13:00:19.261068</td>\n",
       "      <td>2022-01-18T13:00:19.261068</td>\n",
       "      <td>False</td>\n",
       "      <td>b65835e3-b908-45c6-9995-ec98d0caafe7</td>\n",
       "      <td>64ee9f15-7a47-4297-9e10-abc3c434c4e9</td>\n",
       "      <td>64ee9f15-7a47-4297-9e10-abc3c434c4e9</td>\n",
       "      <td>2022-01-18T13:00:12.229953</td>\n",
       "      <td>2022-01-18T13:00:12.229953</td>\n",
       "      <td>A003</td>\n",
       "      <td>COc1ccc(N(c2ccc(OC)cc2)c2ccc(B3OC(C)(C)C(C)(C)...</td>\n",
       "      <td>True</td>\n",
       "      <td>875667-84-8</td>\n",
       "      <td>2d012b56-8260-4f9e-8ede-2c8546baf21c</td>\n",
       "    </tr>\n",
       "    <tr>\n",
       "      <th>3</th>\n",
       "      <td>b65835e3-b908-45c6-9995-ec98d0caafe7</td>\n",
       "      <td>2022-01-18T12:59:47.145756</td>\n",
       "      <td>2022-01-18T12:59:47.145756</td>\n",
       "      <td>Illinois</td>\n",
       "      <td>bbd8ba58-1ae8-4398-b4c6-9b5107aa6a8c</td>\n",
       "      <td>2022-01-18T13:00:27.653412</td>\n",
       "      <td>2022-01-18T13:00:27.653412</td>\n",
       "      <td>False</td>\n",
       "      <td>b65835e3-b908-45c6-9995-ec98d0caafe7</td>\n",
       "      <td>c669230e-aeb4-47db-8948-cadbdea4f198</td>\n",
       "      <td>c669230e-aeb4-47db-8948-cadbdea4f198</td>\n",
       "      <td>2022-01-18T13:00:20.943680</td>\n",
       "      <td>2022-01-18T13:00:20.943680</td>\n",
       "      <td>A004</td>\n",
       "      <td>CC(C)(C)OC(=O)N(c1ccccc1)c1ccc(B2OC(C)(C)C(C)(...</td>\n",
       "      <td>True</td>\n",
       "      <td>1218791-29-7</td>\n",
       "      <td>2d012b56-8260-4f9e-8ede-2c8546baf21c</td>\n",
       "    </tr>\n",
       "    <tr>\n",
       "      <th>4</th>\n",
       "      <td>b65835e3-b908-45c6-9995-ec98d0caafe7</td>\n",
       "      <td>2022-01-18T12:59:47.145756</td>\n",
       "      <td>2022-01-18T12:59:47.145756</td>\n",
       "      <td>Illinois</td>\n",
       "      <td>96f3ea27-8916-4caa-b5cd-5906e0f9c871</td>\n",
       "      <td>2022-01-18T13:00:35.830463</td>\n",
       "      <td>2022-01-18T13:00:35.830463</td>\n",
       "      <td>False</td>\n",
       "      <td>b65835e3-b908-45c6-9995-ec98d0caafe7</td>\n",
       "      <td>a8c81cfc-70df-4779-80d8-057b62224b10</td>\n",
       "      <td>a8c81cfc-70df-4779-80d8-057b62224b10</td>\n",
       "      <td>2022-01-18T13:00:29.280195</td>\n",
       "      <td>2022-01-18T13:00:29.280195</td>\n",
       "      <td>A005</td>\n",
       "      <td>OB(O)c1ccc(N(c2ccccc2)c2ccc(-c3ccccc3)cc2)cc1</td>\n",
       "      <td>True</td>\n",
       "      <td>1084334-86-0</td>\n",
       "      <td>2d012b56-8260-4f9e-8ede-2c8546baf21c</td>\n",
       "    </tr>\n",
       "    <tr>\n",
       "      <th>5</th>\n",
       "      <td>b65835e3-b908-45c6-9995-ec98d0caafe7</td>\n",
       "      <td>2022-01-18T12:59:47.145756</td>\n",
       "      <td>2022-01-18T12:59:47.145756</td>\n",
       "      <td>Illinois</td>\n",
       "      <td>54128f46-a985-41e5-9721-3a6e410836f6</td>\n",
       "      <td>2022-01-18T13:00:44.156287</td>\n",
       "      <td>2022-01-18T13:00:44.156287</td>\n",
       "      <td>False</td>\n",
       "      <td>b65835e3-b908-45c6-9995-ec98d0caafe7</td>\n",
       "      <td>f607a1d6-e065-42da-8fbe-39be80f5d9c8</td>\n",
       "      <td>f607a1d6-e065-42da-8fbe-39be80f5d9c8</td>\n",
       "      <td>2022-01-18T13:00:37.558186</td>\n",
       "      <td>2022-01-18T13:00:37.558186</td>\n",
       "      <td>A006</td>\n",
       "      <td>OB(O)c1ccc2c3ccccc3n(-c3ccc(-c4ccccc4)cc3)c2c1</td>\n",
       "      <td>True</td>\n",
       "      <td>1028648-22-7</td>\n",
       "      <td>2d012b56-8260-4f9e-8ede-2c8546baf21c</td>\n",
       "    </tr>\n",
       "    <tr>\n",
       "      <th>6</th>\n",
       "      <td>b65835e3-b908-45c6-9995-ec98d0caafe7</td>\n",
       "      <td>2022-01-18T12:59:47.145756</td>\n",
       "      <td>2022-01-18T12:59:47.145756</td>\n",
       "      <td>Illinois</td>\n",
       "      <td>949a2dda-5b5c-43b7-b5a4-55abc0b3aff7</td>\n",
       "      <td>2022-01-18T13:01:07.576948</td>\n",
       "      <td>2022-01-18T13:01:07.576948</td>\n",
       "      <td>False</td>\n",
       "      <td>b65835e3-b908-45c6-9995-ec98d0caafe7</td>\n",
       "      <td>f3209e2a-1cbf-461d-945b-768fa8238f71</td>\n",
       "      <td>f3209e2a-1cbf-461d-945b-768fa8238f71</td>\n",
       "      <td>2022-01-18T13:00:45.807368</td>\n",
       "      <td>2022-01-18T13:00:45.807368</td>\n",
       "      <td>A007</td>\n",
       "      <td>OB(O)c1ccc2c(c1)c1cc(-c3ccccc3)ccc1n2-c1ccccc1</td>\n",
       "      <td>True</td>\n",
       "      <td>1133058-06-6</td>\n",
       "      <td>2d012b56-8260-4f9e-8ede-2c8546baf21c</td>\n",
       "    </tr>\n",
       "    <tr>\n",
       "      <th>7</th>\n",
       "      <td>b65835e3-b908-45c6-9995-ec98d0caafe7</td>\n",
       "      <td>2022-01-18T12:59:47.145756</td>\n",
       "      <td>2022-01-18T12:59:47.145756</td>\n",
       "      <td>Illinois</td>\n",
       "      <td>d1dc5be2-d2cb-4cb6-9217-52efb15f2118</td>\n",
       "      <td>2022-01-18T13:01:31.393353</td>\n",
       "      <td>2022-01-18T13:01:31.393353</td>\n",
       "      <td>False</td>\n",
       "      <td>b65835e3-b908-45c6-9995-ec98d0caafe7</td>\n",
       "      <td>c6b85389-1f54-4323-9abd-1c1685b29d94</td>\n",
       "      <td>c6b85389-1f54-4323-9abd-1c1685b29d94</td>\n",
       "      <td>2022-01-18T13:01:09.176952</td>\n",
       "      <td>2022-01-18T13:01:09.176952</td>\n",
       "      <td>A008</td>\n",
       "      <td>CC1(C)OB(c2ccc3c(c2)c2ccccc2n3-c2ccccc2)OC1(C)C</td>\n",
       "      <td>True</td>\n",
       "      <td>1126522-69-7</td>\n",
       "      <td>2d012b56-8260-4f9e-8ede-2c8546baf21c</td>\n",
       "    </tr>\n",
       "    <tr>\n",
       "      <th>8</th>\n",
       "      <td>b65835e3-b908-45c6-9995-ec98d0caafe7</td>\n",
       "      <td>2022-01-18T12:59:47.145756</td>\n",
       "      <td>2022-01-18T12:59:47.145756</td>\n",
       "      <td>Illinois</td>\n",
       "      <td>4af3c639-c4d5-4506-bad1-66a6403fae5e</td>\n",
       "      <td>2022-01-18T13:01:39.655648</td>\n",
       "      <td>2022-01-18T13:01:39.655648</td>\n",
       "      <td>False</td>\n",
       "      <td>b65835e3-b908-45c6-9995-ec98d0caafe7</td>\n",
       "      <td>ece76d8c-3284-431a-aa10-38fd47213859</td>\n",
       "      <td>ece76d8c-3284-431a-aa10-38fd47213859</td>\n",
       "      <td>2022-01-18T13:01:33.211641</td>\n",
       "      <td>2022-01-18T13:01:33.211641</td>\n",
       "      <td>A009</td>\n",
       "      <td>OB(O)c1cccc(N(c2ccccc2)c2ccccc2)c1</td>\n",
       "      <td>True</td>\n",
       "      <td>943899-12-5</td>\n",
       "      <td>2d012b56-8260-4f9e-8ede-2c8546baf21c</td>\n",
       "    </tr>\n",
       "    <tr>\n",
       "      <th>9</th>\n",
       "      <td>b65835e3-b908-45c6-9995-ec98d0caafe7</td>\n",
       "      <td>2022-01-18T12:59:47.145756</td>\n",
       "      <td>2022-01-18T12:59:47.145756</td>\n",
       "      <td>Illinois</td>\n",
       "      <td>4e0234c4-7aa7-4c53-8d11-891388980e51</td>\n",
       "      <td>2022-01-18T13:02:12.783437</td>\n",
       "      <td>2022-01-18T13:02:12.783437</td>\n",
       "      <td>False</td>\n",
       "      <td>b65835e3-b908-45c6-9995-ec98d0caafe7</td>\n",
       "      <td>8a79aa1b-4f29-4bc7-94f3-03036b6ce3c3</td>\n",
       "      <td>8a79aa1b-4f29-4bc7-94f3-03036b6ce3c3</td>\n",
       "      <td>2022-01-18T13:02:06.282310</td>\n",
       "      <td>2022-01-18T13:02:06.282310</td>\n",
       "      <td>A013</td>\n",
       "      <td>OB(O)c1ccc(-n2c(-c3ccccc3)nc3ccccc32)cc1</td>\n",
       "      <td>True</td>\n",
       "      <td>867044-33-5</td>\n",
       "      <td>2d012b56-8260-4f9e-8ede-2c8546baf21c</td>\n",
       "    </tr>\n",
       "  </tbody>\n",
       "</table>\n",
       "</div>"
      ],
      "text/plain": [
       "                             lab.lab_id              lab.created_on  \\\n",
       "0  b65835e3-b908-45c6-9995-ec98d0caafe7  2022-01-18T12:59:47.145756   \n",
       "1  b65835e3-b908-45c6-9995-ec98d0caafe7  2022-01-18T12:59:47.145756   \n",
       "2  b65835e3-b908-45c6-9995-ec98d0caafe7  2022-01-18T12:59:47.145756   \n",
       "3  b65835e3-b908-45c6-9995-ec98d0caafe7  2022-01-18T12:59:47.145756   \n",
       "4  b65835e3-b908-45c6-9995-ec98d0caafe7  2022-01-18T12:59:47.145756   \n",
       "5  b65835e3-b908-45c6-9995-ec98d0caafe7  2022-01-18T12:59:47.145756   \n",
       "6  b65835e3-b908-45c6-9995-ec98d0caafe7  2022-01-18T12:59:47.145756   \n",
       "7  b65835e3-b908-45c6-9995-ec98d0caafe7  2022-01-18T12:59:47.145756   \n",
       "8  b65835e3-b908-45c6-9995-ec98d0caafe7  2022-01-18T12:59:47.145756   \n",
       "9  b65835e3-b908-45c6-9995-ec98d0caafe7  2022-01-18T12:59:47.145756   \n",
       "\n",
       "               lab.updated_on  lab.name          lab_molecule.lab_molecule_id  \\\n",
       "0  2022-01-18T12:59:47.145756  Illinois  03ef606a-d66f-4e20-b5ef-c93a759884c3   \n",
       "1  2022-01-18T12:59:47.145756  Illinois  73c59860-7c66-4458-9cd1-92e78f2bd7f8   \n",
       "2  2022-01-18T12:59:47.145756  Illinois  a76fa588-bae8-4394-b395-664a7643a075   \n",
       "3  2022-01-18T12:59:47.145756  Illinois  bbd8ba58-1ae8-4398-b4c6-9b5107aa6a8c   \n",
       "4  2022-01-18T12:59:47.145756  Illinois  96f3ea27-8916-4caa-b5cd-5906e0f9c871   \n",
       "5  2022-01-18T12:59:47.145756  Illinois  54128f46-a985-41e5-9721-3a6e410836f6   \n",
       "6  2022-01-18T12:59:47.145756  Illinois  949a2dda-5b5c-43b7-b5a4-55abc0b3aff7   \n",
       "7  2022-01-18T12:59:47.145756  Illinois  d1dc5be2-d2cb-4cb6-9217-52efb15f2118   \n",
       "8  2022-01-18T12:59:47.145756  Illinois  4af3c639-c4d5-4506-bad1-66a6403fae5e   \n",
       "9  2022-01-18T12:59:47.145756  Illinois  4e0234c4-7aa7-4c53-8d11-891388980e51   \n",
       "\n",
       "      lab_molecule.created_on     lab_molecule.updated_on  \\\n",
       "0  2022-01-18T13:00:02.257587  2022-01-18T13:00:02.257587   \n",
       "1  2022-01-18T13:00:10.606599  2022-01-18T13:00:10.606599   \n",
       "2  2022-01-18T13:00:19.261068  2022-01-18T13:00:19.261068   \n",
       "3  2022-01-18T13:00:27.653412  2022-01-18T13:00:27.653412   \n",
       "4  2022-01-18T13:00:35.830463  2022-01-18T13:00:35.830463   \n",
       "5  2022-01-18T13:00:44.156287  2022-01-18T13:00:44.156287   \n",
       "6  2022-01-18T13:01:07.576948  2022-01-18T13:01:07.576948   \n",
       "7  2022-01-18T13:01:31.393353  2022-01-18T13:01:31.393353   \n",
       "8  2022-01-18T13:01:39.655648  2022-01-18T13:01:39.655648   \n",
       "9  2022-01-18T13:02:12.783437  2022-01-18T13:02:12.783437   \n",
       "\n",
       "   lab_molecule.available                   lab_molecule.lab_id  \\\n",
       "0                   False  b65835e3-b908-45c6-9995-ec98d0caafe7   \n",
       "1                   False  b65835e3-b908-45c6-9995-ec98d0caafe7   \n",
       "2                   False  b65835e3-b908-45c6-9995-ec98d0caafe7   \n",
       "3                   False  b65835e3-b908-45c6-9995-ec98d0caafe7   \n",
       "4                   False  b65835e3-b908-45c6-9995-ec98d0caafe7   \n",
       "5                   False  b65835e3-b908-45c6-9995-ec98d0caafe7   \n",
       "6                   False  b65835e3-b908-45c6-9995-ec98d0caafe7   \n",
       "7                   False  b65835e3-b908-45c6-9995-ec98d0caafe7   \n",
       "8                   False  b65835e3-b908-45c6-9995-ec98d0caafe7   \n",
       "9                   False  b65835e3-b908-45c6-9995-ec98d0caafe7   \n",
       "\n",
       "               lab_molecule.molecule_id                  molecule.molecule_id  \\\n",
       "0  6bf2b5a1-c157-4b5a-8a80-bf0b44704273  6bf2b5a1-c157-4b5a-8a80-bf0b44704273   \n",
       "1  b2272f91-8f3d-41a5-87d4-8c473af1da0e  b2272f91-8f3d-41a5-87d4-8c473af1da0e   \n",
       "2  64ee9f15-7a47-4297-9e10-abc3c434c4e9  64ee9f15-7a47-4297-9e10-abc3c434c4e9   \n",
       "3  c669230e-aeb4-47db-8948-cadbdea4f198  c669230e-aeb4-47db-8948-cadbdea4f198   \n",
       "4  a8c81cfc-70df-4779-80d8-057b62224b10  a8c81cfc-70df-4779-80d8-057b62224b10   \n",
       "5  f607a1d6-e065-42da-8fbe-39be80f5d9c8  f607a1d6-e065-42da-8fbe-39be80f5d9c8   \n",
       "6  f3209e2a-1cbf-461d-945b-768fa8238f71  f3209e2a-1cbf-461d-945b-768fa8238f71   \n",
       "7  c6b85389-1f54-4323-9abd-1c1685b29d94  c6b85389-1f54-4323-9abd-1c1685b29d94   \n",
       "8  ece76d8c-3284-431a-aa10-38fd47213859  ece76d8c-3284-431a-aa10-38fd47213859   \n",
       "9  8a79aa1b-4f29-4bc7-94f3-03036b6ce3c3  8a79aa1b-4f29-4bc7-94f3-03036b6ce3c3   \n",
       "\n",
       "          molecule.created_on         molecule.updated_on molecule.hid  \\\n",
       "0  2022-01-18T12:59:55.557052  2022-01-18T12:59:55.557052         A001   \n",
       "1  2022-01-18T13:00:03.958016  2022-01-18T13:00:03.958016         A002   \n",
       "2  2022-01-18T13:00:12.229953  2022-01-18T13:00:12.229953         A003   \n",
       "3  2022-01-18T13:00:20.943680  2022-01-18T13:00:20.943680         A004   \n",
       "4  2022-01-18T13:00:29.280195  2022-01-18T13:00:29.280195         A005   \n",
       "5  2022-01-18T13:00:37.558186  2022-01-18T13:00:37.558186         A006   \n",
       "6  2022-01-18T13:00:45.807368  2022-01-18T13:00:45.807368         A007   \n",
       "7  2022-01-18T13:01:09.176952  2022-01-18T13:01:09.176952         A008   \n",
       "8  2022-01-18T13:01:33.211641  2022-01-18T13:01:33.211641         A009   \n",
       "9  2022-01-18T13:02:06.282310  2022-01-18T13:02:06.282310         A013   \n",
       "\n",
       "                                     molecule.smiles  \\\n",
       "0    CC1(C)OB(c2ccc(-n3c4ccccc4c4ccccc43)cc2)OC1(C)C   \n",
       "1     CC1(C)OB(c2ccc(N(c3ccccc3)c3ccccc3)cc2)OC1(C)C   \n",
       "2  COc1ccc(N(c2ccc(OC)cc2)c2ccc(B3OC(C)(C)C(C)(C)...   \n",
       "3  CC(C)(C)OC(=O)N(c1ccccc1)c1ccc(B2OC(C)(C)C(C)(...   \n",
       "4      OB(O)c1ccc(N(c2ccccc2)c2ccc(-c3ccccc3)cc2)cc1   \n",
       "5     OB(O)c1ccc2c3ccccc3n(-c3ccc(-c4ccccc4)cc3)c2c1   \n",
       "6     OB(O)c1ccc2c(c1)c1cc(-c3ccccc3)ccc1n2-c1ccccc1   \n",
       "7    CC1(C)OB(c2ccc3c(c2)c2ccccc2n3-c2ccccc2)OC1(C)C   \n",
       "8                 OB(O)c1cccc(N(c2ccccc2)c2ccccc2)c1   \n",
       "9           OB(O)c1ccc(-n2c(-c3ccccc3)nc3ccccc32)cc1   \n",
       "\n",
       "   molecule.commercially_available  molecule.CAS  \\\n",
       "0                             True   785051-54-9   \n",
       "1                             True   267221-88-5   \n",
       "2                             True   875667-84-8   \n",
       "3                             True  1218791-29-7   \n",
       "4                             True  1084334-86-0   \n",
       "5                             True  1028648-22-7   \n",
       "6                             True  1133058-06-6   \n",
       "7                             True  1126522-69-7   \n",
       "8                             True   943899-12-5   \n",
       "9                             True   867044-33-5   \n",
       "\n",
       "              molecule.molecule_type_id  \n",
       "0  2d012b56-8260-4f9e-8ede-2c8546baf21c  \n",
       "1  2d012b56-8260-4f9e-8ede-2c8546baf21c  \n",
       "2  2d012b56-8260-4f9e-8ede-2c8546baf21c  \n",
       "3  2d012b56-8260-4f9e-8ede-2c8546baf21c  \n",
       "4  2d012b56-8260-4f9e-8ede-2c8546baf21c  \n",
       "5  2d012b56-8260-4f9e-8ede-2c8546baf21c  \n",
       "6  2d012b56-8260-4f9e-8ede-2c8546baf21c  \n",
       "7  2d012b56-8260-4f9e-8ede-2c8546baf21c  \n",
       "8  2d012b56-8260-4f9e-8ede-2c8546baf21c  \n",
       "9  2d012b56-8260-4f9e-8ede-2c8546baf21c  "
      ]
     },
     "execution_count": 36,
     "metadata": {},
     "output_type": "execute_result"
    }
   ],
   "source": [
    "# And now a fancy ass query!\n",
    "# This binds lab, lab_molecule and molecule together and then filters only molecule available in Illinois!\n",
    "# The joins argument tells the database how to connect the tables together.\n",
    "client.query_database(\n",
    "    [\"lab\", \"lab_molecule\", \"molecule\"], \n",
    "    joins=[\n",
    "        {\n",
    "            \"type\": \"lab_molecule\",\n",
    "            \"on\": {\n",
    "                \"column1\": \"lab.lab_id\",\n",
    "                \"column2\": \"lab_molecule.lab_id\"\n",
    "            }\n",
    "        },\n",
    "        {\n",
    "            \"type\": \"molecule\",\n",
    "            \"on\": {\n",
    "                \"column1\": \"lab_molecule.molecule_id\",\n",
    "                \"column2\": \"molecule.molecule_id\"\n",
    "            }\n",
    "        \n",
    "        }\n",
    "    ],\n",
    "    filters={\n",
    "        \"type\": \"lab.name\",\n",
    "        \"op\": \"==\",\n",
    "        \"value\": \"Illinois\"\n",
    "    }\n",
    ")"
   ]
  },
  {
   "cell_type": "code",
   "execution_count": 7,
   "id": "a72b3bf0",
   "metadata": {
    "pycharm": {
     "name": "#%%\n"
    }
   },
   "outputs": [
    {
     "data": {
      "text/html": [
       "<pre style=\"white-space:pre;overflow-x:auto;line-height:normal;font-family:Menlo,'DejaVu Sans Mono',consolas,'Courier New',monospace\"><span style=\"color: #7fbfbf; text-decoration-color: #7fbfbf\">[17:52:23] </span><span style=\"color: #000080; text-decoration-color: #000080\">INFO    </span> User riley.hickman13@gmail.com has been register. Ask your  <a href=\"file:///home/riley/Software/anaconda3/envs/lasers/lib/python3.7/site-packages/molar/client.py\"><span style=\"color: #7f7f7f; text-decoration-color: #7f7f7f\">client.py</span></a><span style=\"color: #7f7f7f; text-decoration-color: #7f7f7f\">:</span><a href=\"file:///home/riley/Software/anaconda3/envs/lasers/lib/python3.7/site-packages/molar/client.py#107\"><span style=\"color: #7f7f7f; text-decoration-color: #7f7f7f\">107</span></a>\n",
       "                    database admin to activate this account                                  \n",
       "</pre>\n"
      ],
      "text/plain": [
       "\u001B[2;36m[17:52:23]\u001B[0m\u001B[2;36m \u001B[0m\u001B[34mINFO    \u001B[0m User riley.hickman13@gmail.com has been register. Ask your  \u001B]8;id=987116;file:///home/riley/Software/anaconda3/envs/lasers/lib/python3.7/site-packages/molar/client.py\u001B\\\u001B[2mclient.py\u001B[0m\u001B]8;;\u001B\\\u001B[2m:\u001B[0m\u001B]8;id=877518;file:///home/riley/Software/anaconda3/envs/lasers/lib/python3.7/site-packages/molar/client.py#107\u001B\\\u001B[2m107\u001B[0m\u001B]8;;\u001B\\\n",
       "                    database admin to activate this account                                  \n"
      ]
     },
     "metadata": {},
     "output_type": "display_data"
    },
    {
     "data": {
      "text/plain": [
       "{'msg': 'User riley.hickman13@gmail.com has been register. Ask your database admin to activate this account'}"
      ]
     },
     "execution_count": 7,
     "metadata": {},
     "output_type": "execute_result"
    }
   ],
   "source": [
    "# Creating a new user <- YOU NEED TO DO THIS TO USE THE DATABASE!\n",
    "# To make it work with the database hosted at cs.toronto.edu,\n",
    "# you need to replace server_url by \"https://molar.cs.toronto.edu\"\n",
    "# I will need to validate your account\n",
    "\n",
    "newuser_cfg = ClientConfig(\n",
    "    server_url=\"https://molar.cs.toronto.edu\",\n",
    "    email=\"riley.hickman13@gmail.com\",\n",
    "    password=\"vehicle2$7$!\",\n",
    "    database_name=\"madness_laser\"\n",
    ")\n",
    "client = Client(newuser_cfg)\n",
    "client.register_user(full_name=\"Riley Hickman\")"
   ]
  },
  {
   "cell_type": "code",
   "execution_count": null,
   "id": "f8737161",
   "metadata": {
    "pycharm": {
     "name": "#%%\n"
    }
   },
   "outputs": [],
   "source": []
  }
 ],
 "metadata": {
  "kernelspec": {
   "display_name": "feas",
   "language": "python",
   "name": "feas"
  },
  "language_info": {
   "codemirror_mode": {
    "name": "ipython",
    "version": 3
   },
   "file_extension": ".py",
   "mimetype": "text/x-python",
   "name": "python",
   "nbconvert_exporter": "python",
   "pygments_lexer": "ipython3",
   "version": "3.7.11"
  }
 },
 "nbformat": 4,
 "nbformat_minor": 5
}