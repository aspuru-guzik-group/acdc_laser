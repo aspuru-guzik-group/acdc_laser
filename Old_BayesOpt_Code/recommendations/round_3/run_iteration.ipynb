{
 "cells": [
  {
   "cell_type": "code",
   "execution_count": 1,
   "id": "87d90574",
   "metadata": {
    "pycharm": {
     "name": "#%%\n"
    }
   },
   "outputs": [],
   "source": [
    "%load_ext autoreload\n",
    "%autoreload 2"
   ]
  },
  {
   "cell_type": "code",
   "execution_count": 2,
   "id": "7adfedfc",
   "metadata": {
    "pycharm": {
     "name": "#%%\n"
    }
   },
   "outputs": [
    {
     "name": "stderr",
     "output_type": "stream",
     "text": [
      "2022-08-16 13:47:33.049042: W tensorflow/stream_executor/platform/default/dso_loader.cc:64] Could not load dynamic library 'libcudart.so.11.0'; dlerror: libcudart.so.11.0: cannot open shared object file: No such file or directory; LD_LIBRARY_PATH: :/usr/local/cuda/lib64\n",
      "2022-08-16 13:47:33.049059: I tensorflow/stream_executor/cuda/cudart_stub.cc:29] Ignore above cudart dlerror if you do not have a GPU set up on your machine.\n"
     ]
    }
   ],
   "source": [
    "import os, sys\n",
    "import time\n",
    "import pickle\n",
    "\n",
    "import numpy as np\n",
    "import pandas as pd\n",
    "\n",
    "import rdkit\n",
    "import rdkit.Chem as chem\n",
    "import rdkit.Chem.AllChem as allchem\n",
    "\n",
    "from gryffin import Gryffin\n",
    "\n",
    "from MolarInterface import MolarInterface"
   ]
  },
  {
   "cell_type": "markdown",
   "id": "07668d40",
   "metadata": {
    "pycharm": {
     "name": "#%% md\n"
    }
   },
   "source": [
    "## Make connection to the MolarDB"
   ]
  },
  {
   "cell_type": "code",
   "execution_count": 5,
   "id": "d2796b63",
   "metadata": {
    "pycharm": {
     "name": "#%%\n"
    }
   },
   "outputs": [],
   "source": [
    "db = MolarInterface(\n",
    "    db_name=\"madness_laser\",\n",
    "    fragments=(\"fragment_a\", \"fragment_b\", \"fragment_c\")\n",
    ")"
   ]
  },
  {
   "cell_type": "markdown",
   "id": "f67f5408",
   "metadata": {
    "pycharm": {
     "name": "#%% md\n"
    }
   },
   "source": [
    "## Retrieve the first set of molecules in the DB\n",
    "\n",
    "We use a filtered query to return all of the molecules for which we have tried to measure the optical properties. "
   ]
  },
  {
   "cell_type": "code",
   "execution_count": 6,
   "id": "b75ae3f6",
   "metadata": {
    "pycharm": {
     "name": "#%%\n"
    }
   },
   "outputs": [
    {
     "name": "stdout",
     "output_type": "stream",
     "text": [
      "(188, 12)\n"
     ]
    },
    {
     "data": {
      "text/html": [
       "<div>\n",
       "<style scoped>\n",
       "    .dataframe tbody tr th:only-of-type {\n",
       "        vertical-align: middle;\n",
       "    }\n",
       "\n",
       "    .dataframe tbody tr th {\n",
       "        vertical-align: top;\n",
       "    }\n",
       "\n",
       "    .dataframe thead th {\n",
       "        text-align: right;\n",
       "    }\n",
       "</style>\n",
       "<table border=\"1\" class=\"dataframe\">\n",
       "  <thead>\n",
       "    <tr style=\"text-align: right;\">\n",
       "      <th></th>\n",
       "      <th>product.hid</th>\n",
       "      <th>product.smiles</th>\n",
       "      <th>product.optical_properties</th>\n",
       "      <th>fragment_a.hid</th>\n",
       "      <th>fragment_a.smiles</th>\n",
       "      <th>fragment_b.hid</th>\n",
       "      <th>fragment_b.smiles</th>\n",
       "      <th>fragment_c.hid</th>\n",
       "      <th>fragment_c.smiles</th>\n",
       "      <th>synthesis.synthesis_id</th>\n",
       "      <th>synthesis.status</th>\n",
       "      <th>synthesis.molecule_id</th>\n",
       "    </tr>\n",
       "  </thead>\n",
       "  <tbody>\n",
       "    <tr>\n",
       "      <th>0</th>\n",
       "      <td>A001B003C001</td>\n",
       "      <td>C(=Cc1ccc(-n2c3ccccc3c3ccccc32)cc1)c1ccc(-c2cc...</td>\n",
       "      <td>{'PL_lambda_max': 443.6, 'validation_status': ...</td>\n",
       "      <td>A001</td>\n",
       "      <td>CC1(C)OB(c2ccc(-n3c4ccccc4c4ccccc43)cc2)OC1(C)C</td>\n",
       "      <td>B003</td>\n",
       "      <td>C[N+]12CC(=O)O[B-]1(/C=C/Br)OC(=O)C2</td>\n",
       "      <td>C001</td>\n",
       "      <td>Brc1ccc(-c2ccc(Br)cc2)cc1</td>\n",
       "      <td>695c1c55-bf6a-4265-b68d-4655999a7b85</td>\n",
       "      <td>DONE</td>\n",
       "      <td>539c5e5e-25fa-457d-a2c0-ecf3f88c36f3</td>\n",
       "    </tr>\n",
       "    <tr>\n",
       "      <th>1</th>\n",
       "      <td>A001B003C002</td>\n",
       "      <td>C(=Cc1ccc(-n2c3ccccc3c3ccccc32)cc1)c1ccc(C=Cc2...</td>\n",
       "      <td>{'PL_lambda_max': 448.2, 'validation_status': ...</td>\n",
       "      <td>A001</td>\n",
       "      <td>CC1(C)OB(c2ccc(-n3c4ccccc4c4ccccc43)cc2)OC1(C)C</td>\n",
       "      <td>B003</td>\n",
       "      <td>C[N+]12CC(=O)O[B-]1(/C=C/Br)OC(=O)C2</td>\n",
       "      <td>C002</td>\n",
       "      <td>Ic1ccc(I)cc1</td>\n",
       "      <td>9a71f775-c341-42b1-ab7a-cd0917b5e80f</td>\n",
       "      <td>DONE</td>\n",
       "      <td>3275cec5-919c-4f18-bb4c-2ec941f7db3b</td>\n",
       "    </tr>\n",
       "    <tr>\n",
       "      <th>2</th>\n",
       "      <td>A001B003C003</td>\n",
       "      <td>Cc1cc(C=Cc2ccc(-n3c4ccccc4c4ccccc43)cc2)c(C)cc...</td>\n",
       "      <td>{'PL_lambda_max': 453.6, 'validation_status': ...</td>\n",
       "      <td>A001</td>\n",
       "      <td>CC1(C)OB(c2ccc(-n3c4ccccc4c4ccccc43)cc2)OC1(C)C</td>\n",
       "      <td>B003</td>\n",
       "      <td>C[N+]12CC(=O)O[B-]1(/C=C/Br)OC(=O)C2</td>\n",
       "      <td>C003</td>\n",
       "      <td>Cc1cc(Br)c(C)cc1Br</td>\n",
       "      <td>8cf70e33-a879-4ab7-879f-5284da51c300</td>\n",
       "      <td>DONE</td>\n",
       "      <td>63bd1d6d-3e81-48ae-9535-e04dc6d9d32f</td>\n",
       "    </tr>\n",
       "    <tr>\n",
       "      <th>3</th>\n",
       "      <td>A001B003C004</td>\n",
       "      <td>Fc1c(F)c(-c2c(F)c(F)c(C=Cc3ccc(-n4c5ccccc5c5cc...</td>\n",
       "      <td>{'PL_lambda_max': 541.1, 'validation_status': ...</td>\n",
       "      <td>A001</td>\n",
       "      <td>CC1(C)OB(c2ccc(-n3c4ccccc4c4ccccc43)cc2)OC1(C)C</td>\n",
       "      <td>B003</td>\n",
       "      <td>C[N+]12CC(=O)O[B-]1(/C=C/Br)OC(=O)C2</td>\n",
       "      <td>C004</td>\n",
       "      <td>Fc1c(F)c(-c2c(F)c(F)c(Br)c(F)c2F)c(F)c(F)c1Br</td>\n",
       "      <td>512b328b-6a19-4f7d-9cc1-a136edc9f344</td>\n",
       "      <td>DONE</td>\n",
       "      <td>a5e39076-8b93-40f8-93b0-8b5edc65ef53</td>\n",
       "    </tr>\n",
       "    <tr>\n",
       "      <th>4</th>\n",
       "      <td>A001B003C005</td>\n",
       "      <td>CC1(C)c2cc(C=Cc3ccc(-n4c5ccccc5c5ccccc54)cc3)c...</td>\n",
       "      <td>{'PL_lambda_max': 445.1, 'validation_status': ...</td>\n",
       "      <td>A001</td>\n",
       "      <td>CC1(C)OB(c2ccc(-n3c4ccccc4c4ccccc43)cc2)OC1(C)C</td>\n",
       "      <td>B003</td>\n",
       "      <td>C[N+]12CC(=O)O[B-]1(/C=C/Br)OC(=O)C2</td>\n",
       "      <td>C005</td>\n",
       "      <td>CC1(C)c2cc(Br)ccc2-c2ccc(Br)cc21</td>\n",
       "      <td>7fbd4503-b19e-4163-9105-ee34b38e4a3e</td>\n",
       "      <td>DONE</td>\n",
       "      <td>9131832d-c235-4a6a-9183-ed12f0f8ac3e</td>\n",
       "    </tr>\n",
       "  </tbody>\n",
       "</table>\n",
       "</div>"
      ],
      "text/plain": [
       "    product.hid                                     product.smiles  \\\n",
       "0  A001B003C001  C(=Cc1ccc(-n2c3ccccc3c3ccccc32)cc1)c1ccc(-c2cc...   \n",
       "1  A001B003C002  C(=Cc1ccc(-n2c3ccccc3c3ccccc32)cc1)c1ccc(C=Cc2...   \n",
       "2  A001B003C003  Cc1cc(C=Cc2ccc(-n3c4ccccc4c4ccccc43)cc2)c(C)cc...   \n",
       "3  A001B003C004  Fc1c(F)c(-c2c(F)c(F)c(C=Cc3ccc(-n4c5ccccc5c5cc...   \n",
       "4  A001B003C005  CC1(C)c2cc(C=Cc3ccc(-n4c5ccccc5c5ccccc54)cc3)c...   \n",
       "\n",
       "                          product.optical_properties fragment_a.hid  \\\n",
       "0  {'PL_lambda_max': 443.6, 'validation_status': ...           A001   \n",
       "1  {'PL_lambda_max': 448.2, 'validation_status': ...           A001   \n",
       "2  {'PL_lambda_max': 453.6, 'validation_status': ...           A001   \n",
       "3  {'PL_lambda_max': 541.1, 'validation_status': ...           A001   \n",
       "4  {'PL_lambda_max': 445.1, 'validation_status': ...           A001   \n",
       "\n",
       "                                 fragment_a.smiles fragment_b.hid  \\\n",
       "0  CC1(C)OB(c2ccc(-n3c4ccccc4c4ccccc43)cc2)OC1(C)C           B003   \n",
       "1  CC1(C)OB(c2ccc(-n3c4ccccc4c4ccccc43)cc2)OC1(C)C           B003   \n",
       "2  CC1(C)OB(c2ccc(-n3c4ccccc4c4ccccc43)cc2)OC1(C)C           B003   \n",
       "3  CC1(C)OB(c2ccc(-n3c4ccccc4c4ccccc43)cc2)OC1(C)C           B003   \n",
       "4  CC1(C)OB(c2ccc(-n3c4ccccc4c4ccccc43)cc2)OC1(C)C           B003   \n",
       "\n",
       "                      fragment_b.smiles fragment_c.hid  \\\n",
       "0  C[N+]12CC(=O)O[B-]1(/C=C/Br)OC(=O)C2           C001   \n",
       "1  C[N+]12CC(=O)O[B-]1(/C=C/Br)OC(=O)C2           C002   \n",
       "2  C[N+]12CC(=O)O[B-]1(/C=C/Br)OC(=O)C2           C003   \n",
       "3  C[N+]12CC(=O)O[B-]1(/C=C/Br)OC(=O)C2           C004   \n",
       "4  C[N+]12CC(=O)O[B-]1(/C=C/Br)OC(=O)C2           C005   \n",
       "\n",
       "                               fragment_c.smiles  \\\n",
       "0                      Brc1ccc(-c2ccc(Br)cc2)cc1   \n",
       "1                                   Ic1ccc(I)cc1   \n",
       "2                             Cc1cc(Br)c(C)cc1Br   \n",
       "3  Fc1c(F)c(-c2c(F)c(F)c(Br)c(F)c2F)c(F)c(F)c1Br   \n",
       "4               CC1(C)c2cc(Br)ccc2-c2ccc(Br)cc21   \n",
       "\n",
       "                 synthesis.synthesis_id synthesis.status  \\\n",
       "0  695c1c55-bf6a-4265-b68d-4655999a7b85             DONE   \n",
       "1  9a71f775-c341-42b1-ab7a-cd0917b5e80f             DONE   \n",
       "2  8cf70e33-a879-4ab7-879f-5284da51c300             DONE   \n",
       "3  512b328b-6a19-4f7d-9cc1-a136edc9f344             DONE   \n",
       "4  7fbd4503-b19e-4163-9105-ee34b38e4a3e             DONE   \n",
       "\n",
       "                  synthesis.molecule_id  \n",
       "0  539c5e5e-25fa-457d-a2c0-ecf3f88c36f3  \n",
       "1  3275cec5-919c-4f18-bb4c-2ec941f7db3b  \n",
       "2  63bd1d6d-3e81-48ae-9535-e04dc6d9d32f  \n",
       "3  a5e39076-8b93-40f8-93b0-8b5edc65ef53  \n",
       "4  9131832d-c235-4a6a-9183-ed12f0f8ac3e  "
      ]
     },
     "execution_count": 6,
     "metadata": {},
     "output_type": "execute_result"
    }
   ],
   "source": [
    "previous_syntheses = db.get_all_syntheses()\n",
    "print(previous_syntheses.shape)\n",
    "previous_syntheses.head()"
   ]
  },
  {
   "cell_type": "code",
   "execution_count": 12,
   "id": "05f806f9",
   "metadata": {
    "pycharm": {
     "name": "#%%\n"
    }
   },
   "outputs": [
    {
     "name": "stdout",
     "output_type": "stream",
     "text": [
      "NUM IN PROGRESS :  0\n",
      "NUM FINISHED :  188\n",
      "PERCENT DONE 0.041\n"
     ]
    },
    {
     "data": {
      "text/html": [
       "<div>\n",
       "<style scoped>\n",
       "    .dataframe tbody tr th:only-of-type {\n",
       "        vertical-align: middle;\n",
       "    }\n",
       "\n",
       "    .dataframe tbody tr th {\n",
       "        vertical-align: top;\n",
       "    }\n",
       "\n",
       "    .dataframe thead th {\n",
       "        text-align: right;\n",
       "    }\n",
       "</style>\n",
       "<table border=\"1\" class=\"dataframe\">\n",
       "  <thead>\n",
       "    <tr style=\"text-align: right;\">\n",
       "      <th></th>\n",
       "      <th>product.hid</th>\n",
       "      <th>product.smiles</th>\n",
       "      <th>product.optical_properties</th>\n",
       "      <th>fragment_a.hid</th>\n",
       "      <th>fragment_a.smiles</th>\n",
       "      <th>fragment_b.hid</th>\n",
       "      <th>fragment_b.smiles</th>\n",
       "      <th>fragment_c.hid</th>\n",
       "      <th>fragment_c.smiles</th>\n",
       "      <th>synthesis.synthesis_id</th>\n",
       "      <th>synthesis.status</th>\n",
       "      <th>synthesis.molecule_id</th>\n",
       "    </tr>\n",
       "  </thead>\n",
       "  <tbody>\n",
       "  </tbody>\n",
       "</table>\n",
       "</div>"
      ],
      "text/plain": [
       "Empty DataFrame\n",
       "Columns: [product.hid, product.smiles, product.optical_properties, fragment_a.hid, fragment_a.smiles, fragment_b.hid, fragment_b.smiles, fragment_c.hid, fragment_c.smiles, synthesis.synthesis_id, synthesis.status, synthesis.molecule_id]\n",
       "Index: []"
      ]
     },
     "execution_count": 12,
     "metadata": {},
     "output_type": "execute_result"
    }
   ],
   "source": [
    "# get the sub dataframe of all molecules that are either SHIPPED OR IN PROCESSING\n",
    "# these will be constrained in the Gryffin acquisition\n",
    "df_proc = previous_syntheses[previous_syntheses['synthesis.status'].isin([\"AVAILABLE\", \"ACQUIRED\", \"PROCESSING\", \"SYNTHESIZED\", \"SHIPPED\", \"RECEIVED\"])]\n",
    "print('NUM IN PROGRESS : ', df_proc.shape[0])\n",
    "\n",
    "# get all the entries for which the status is DONE\n",
    "df_done = previous_syntheses[previous_syntheses['synthesis.status'].isin(['DONE', 'FAILED'])]\n",
    "# ATTN: Hackily adding column for synthesis type\n",
    "df_done['synthesis_generation'] = 'gen_1'\n",
    "print('NUM FINISHED : ', df_done.shape[0])\n",
    "\n",
    "# print(f'PERCENT DONE {(df_done.shape[0] / (33*30*165) *100):.3f}')\n",
    "print(f'PERCENT DONE {(df_done.shape[0] / (42*68*161) *100):.3f}')  # TODO: Make space calculaiton automatic from DB?\n",
    "\n",
    "df_proc"
   ]
  },
  {
   "cell_type": "code",
   "execution_count": 26,
   "id": "87857491",
   "metadata": {
    "pycharm": {
     "name": "#%%\n"
    }
   },
   "outputs": [],
   "source": [
    "# get the fragment details for the fragments\n",
    "\n",
    "from logging import critical\n",
    "\n",
    "\n",
    "def make_gryffin_observations(df_done):\n",
    "    \"\"\"\n",
    "    prepare typical list of dictionary-style observations for Gryffin. This function\n",
    "    considers all failed experiments as nan-valued objectives. We do not consider the cause\n",
    "    for failure here (future improvement). This function is quite slow with all the calls to \n",
    "    the db about the fragments - make more efficient\n",
    "    \"\"\"\n",
    "    # prepare observation list for Gryffin\n",
    "    observations = []\n",
    "\n",
    "    for _, row in df_done.iterrows():\n",
    "        row = row.to_dict()\n",
    "\n",
    "        if row[\"synthesis.status\"]=='DONE':\n",
    "            try:\n",
    "                gain_cross_section = row[\"product.optical_properties\"][\"gain_cross_section\"]\n",
    "            except KeyError:\n",
    "                print(f\"Target property could not be found for {row['hid']}\")\n",
    "\n",
    "        elif row['synthesis.status']=='FAILED':\n",
    "            # failed experiment, pass value to gryffin with nan objective value\n",
    "            gain_cross_section = np.nan\n",
    "\n",
    "        else:\n",
    "            raise NotImplementedError\n",
    "\n",
    "        observations.append(\n",
    "            {\n",
    "                'fragment_a': row[\"fragment_a.hid\"],\n",
    "                'fragment_b': row[\"fragment_b.hid\"],\n",
    "                'fragment_c': row[\"fragment_c.hid\"],\n",
    "                'synthesis_gen': row[\"synthesis_generation\"],\n",
    "                'obj': gain_cross_section\n",
    "            }\n",
    "        )\n",
    "        \n",
    "    return observations\n",
    "\n",
    "def known_constraints(param):\n",
    "    '''\n",
    "    known constraint that the suggested molecule must not be either shipping or\n",
    "    in progress. Avoids redundant suggestions\n",
    "    '''\n",
    "    # check if the param is within the known molecules\n",
    "    query_hid = ''.join([param['fragment_a'], param['fragment_b'], param['fragment_c']])\n",
    "    crit1 = query_hid not in proc_hids\n",
    "    \n",
    "    # check to see if the sample can be made in at least one single location\n",
    "    crit2 = False\n",
    "    # TODO: this in only for the first batch, constrain to Toronto ONLY!\n",
    "    for lab_frags in [toronto_frags, uiuc_frags]:\n",
    "        if (\n",
    "            (param['fragment_a'] in lab_frags['fragment_a']) & (param['fragment_b'] in lab_frags['fragment_b']) & (param['fragment_c'] in lab_frags['fragment_c'])):\n",
    "            crit2=True\n",
    "\n",
    "    # Make sure generation is gen_2\n",
    "    crit_3 = (param['synthesis_gen'] == 'gen_2')  # ugly, but it works for now\n",
    "            \n",
    "    return crit1 & crit2 & crit_3\n"
   ]
  },
  {
   "cell_type": "code",
   "execution_count": 27,
   "id": "58c31a09",
   "metadata": {
    "pycharm": {
     "name": "#%%\n"
    }
   },
   "outputs": [
    {
     "data": {
      "text/plain": [
       "[]"
      ]
     },
     "execution_count": 27,
     "metadata": {},
     "output_type": "execute_result"
    }
   ],
   "source": [
    "\n",
    "# get hids of molecules in process\n",
    "proc_hids = df_proc[\"product.hid\"].tolist()\n",
    "proc_hids"
   ]
  },
  {
   "cell_type": "code",
   "execution_count": 28,
   "id": "de320377",
   "metadata": {
    "pycharm": {
     "name": "#%%\n"
    }
   },
   "outputs": [
    {
     "data": {
      "text/plain": [
       "[{'fragment_a': 'A001',\n",
       "  'fragment_b': 'B003',\n",
       "  'fragment_c': 'C001',\n",
       "  'synthesis_gen': 'gen_1',\n",
       "  'obj': 1.869e-16},\n",
       " {'fragment_a': 'A001',\n",
       "  'fragment_b': 'B003',\n",
       "  'fragment_c': 'C002',\n",
       "  'synthesis_gen': 'gen_1',\n",
       "  'obj': 1.968e-16},\n",
       " {'fragment_a': 'A001',\n",
       "  'fragment_b': 'B003',\n",
       "  'fragment_c': 'C003',\n",
       "  'synthesis_gen': 'gen_1',\n",
       "  'obj': 2.309e-16},\n",
       " {'fragment_a': 'A001',\n",
       "  'fragment_b': 'B003',\n",
       "  'fragment_c': 'C004',\n",
       "  'synthesis_gen': 'gen_1',\n",
       "  'obj': 6.72e-17},\n",
       " {'fragment_a': 'A001',\n",
       "  'fragment_b': 'B003',\n",
       "  'fragment_c': 'C005',\n",
       "  'synthesis_gen': 'gen_1',\n",
       "  'obj': 2.6859999999999997e-16},\n",
       " {'fragment_a': 'A001',\n",
       "  'fragment_b': 'B003',\n",
       "  'fragment_c': 'C006',\n",
       "  'synthesis_gen': 'gen_1',\n",
       "  'obj': 1.19e-17},\n",
       " {'fragment_a': 'A001',\n",
       "  'fragment_b': 'B003',\n",
       "  'fragment_c': 'C008',\n",
       "  'synthesis_gen': 'gen_1',\n",
       "  'obj': 1.89e-17},\n",
       " {'fragment_a': 'A001',\n",
       "  'fragment_b': 'B003',\n",
       "  'fragment_c': 'C011',\n",
       "  'synthesis_gen': 'gen_1',\n",
       "  'obj': 2.442e-16},\n",
       " {'fragment_a': 'A001',\n",
       "  'fragment_b': 'B003',\n",
       "  'fragment_c': 'C015',\n",
       "  'synthesis_gen': 'gen_1',\n",
       "  'obj': 2.63e-17},\n",
       " {'fragment_a': 'A001',\n",
       "  'fragment_b': 'B003',\n",
       "  'fragment_c': 'C017',\n",
       "  'synthesis_gen': 'gen_1',\n",
       "  'obj': 1.212e-16},\n",
       " {'fragment_a': 'A001',\n",
       "  'fragment_b': 'B003',\n",
       "  'fragment_c': 'C018',\n",
       "  'synthesis_gen': 'gen_1',\n",
       "  'obj': 1.649e-16},\n",
       " {'fragment_a': 'A001',\n",
       "  'fragment_b': 'B003',\n",
       "  'fragment_c': 'C019',\n",
       "  'synthesis_gen': 'gen_1',\n",
       "  'obj': 9.330000000000001e-17},\n",
       " {'fragment_a': 'A001',\n",
       "  'fragment_b': 'B003',\n",
       "  'fragment_c': 'C021',\n",
       "  'synthesis_gen': 'gen_1',\n",
       "  'obj': 1.421e-16},\n",
       " {'fragment_a': 'A001',\n",
       "  'fragment_b': 'B003',\n",
       "  'fragment_c': 'C024',\n",
       "  'synthesis_gen': 'gen_1',\n",
       "  'obj': 9.619999999999999e-17},\n",
       " {'fragment_a': 'A001',\n",
       "  'fragment_b': 'B003',\n",
       "  'fragment_c': 'C028',\n",
       "  'synthesis_gen': 'gen_1',\n",
       "  'obj': 1.462e-16},\n",
       " {'fragment_a': 'A001',\n",
       "  'fragment_b': 'B003',\n",
       "  'fragment_c': 'C030',\n",
       "  'synthesis_gen': 'gen_1',\n",
       "  'obj': 1.2490000000000002e-16},\n",
       " {'fragment_a': 'A001',\n",
       "  'fragment_b': 'B003',\n",
       "  'fragment_c': 'C033',\n",
       "  'synthesis_gen': 'gen_1',\n",
       "  'obj': 1.5e-18},\n",
       " {'fragment_a': 'A001',\n",
       "  'fragment_b': 'B003',\n",
       "  'fragment_c': 'C032',\n",
       "  'synthesis_gen': 'gen_1',\n",
       "  'obj': 1.177e-16},\n",
       " {'fragment_a': 'A001',\n",
       "  'fragment_b': 'B003',\n",
       "  'fragment_c': 'C034',\n",
       "  'synthesis_gen': 'gen_1',\n",
       "  'obj': 2.13e-17},\n",
       " {'fragment_a': 'A001',\n",
       "  'fragment_b': 'B003',\n",
       "  'fragment_c': 'C037',\n",
       "  'synthesis_gen': 'gen_1',\n",
       "  'obj': 5.739999999999999e-17},\n",
       " {'fragment_a': 'A001',\n",
       "  'fragment_b': 'B003',\n",
       "  'fragment_c': 'C039',\n",
       "  'synthesis_gen': 'gen_1',\n",
       "  'obj': 6.89e-17},\n",
       " {'fragment_a': 'A001',\n",
       "  'fragment_b': 'B003',\n",
       "  'fragment_c': 'C040',\n",
       "  'synthesis_gen': 'gen_1',\n",
       "  'obj': 6.57e-17},\n",
       " {'fragment_a': 'A001',\n",
       "  'fragment_b': 'B024',\n",
       "  'fragment_c': 'C001',\n",
       "  'synthesis_gen': 'gen_1',\n",
       "  'obj': 1.8870226199561358e-16},\n",
       " {'fragment_a': 'A001',\n",
       "  'fragment_b': 'B024',\n",
       "  'fragment_c': 'C004',\n",
       "  'synthesis_gen': 'gen_1',\n",
       "  'obj': 9.538077329332945e-17},\n",
       " {'fragment_a': 'A001',\n",
       "  'fragment_b': 'B001',\n",
       "  'fragment_c': 'C002',\n",
       "  'synthesis_gen': 'gen_1',\n",
       "  'obj': 2.839195275716423e-16},\n",
       " {'fragment_a': 'A001',\n",
       "  'fragment_b': 'B024',\n",
       "  'fragment_c': 'C042',\n",
       "  'synthesis_gen': 'gen_1',\n",
       "  'obj': nan},\n",
       " {'fragment_a': 'A001',\n",
       "  'fragment_b': 'B003',\n",
       "  'fragment_c': 'C007',\n",
       "  'synthesis_gen': 'gen_1',\n",
       "  'obj': 2.669e-16},\n",
       " {'fragment_a': 'A001',\n",
       "  'fragment_b': 'B003',\n",
       "  'fragment_c': 'C010',\n",
       "  'synthesis_gen': 'gen_1',\n",
       "  'obj': 1.925e-16},\n",
       " {'fragment_a': 'A001',\n",
       "  'fragment_b': 'B003',\n",
       "  'fragment_c': 'C012',\n",
       "  'synthesis_gen': 'gen_1',\n",
       "  'obj': 1.0249999999999999e-16},\n",
       " {'fragment_a': 'A001',\n",
       "  'fragment_b': 'B003',\n",
       "  'fragment_c': 'C013',\n",
       "  'synthesis_gen': 'gen_1',\n",
       "  'obj': 6.35e-17},\n",
       " {'fragment_a': 'A001',\n",
       "  'fragment_b': 'B003',\n",
       "  'fragment_c': 'C020',\n",
       "  'synthesis_gen': 'gen_1',\n",
       "  'obj': 2.021e-16},\n",
       " {'fragment_a': 'A001',\n",
       "  'fragment_b': 'B003',\n",
       "  'fragment_c': 'C022',\n",
       "  'synthesis_gen': 'gen_1',\n",
       "  'obj': 1.0949999999999999e-16},\n",
       " {'fragment_a': 'A001',\n",
       "  'fragment_b': 'B003',\n",
       "  'fragment_c': 'C023',\n",
       "  'synthesis_gen': 'gen_1',\n",
       "  'obj': 1.0429999999999999e-16},\n",
       " {'fragment_a': 'A001',\n",
       "  'fragment_b': 'B003',\n",
       "  'fragment_c': 'C027',\n",
       "  'synthesis_gen': 'gen_1',\n",
       "  'obj': 1.159e-16},\n",
       " {'fragment_a': 'A001',\n",
       "  'fragment_b': 'B003',\n",
       "  'fragment_c': 'C029',\n",
       "  'synthesis_gen': 'gen_1',\n",
       "  'obj': 2.108e-16},\n",
       " {'fragment_a': 'A001',\n",
       "  'fragment_b': 'B003',\n",
       "  'fragment_c': 'C035',\n",
       "  'synthesis_gen': 'gen_1',\n",
       "  'obj': 2.98e-17},\n",
       " {'fragment_a': 'A001',\n",
       "  'fragment_b': 'B024',\n",
       "  'fragment_c': 'C002',\n",
       "  'synthesis_gen': 'gen_1',\n",
       "  'obj': 7.799349032872396e-17},\n",
       " {'fragment_a': 'A001',\n",
       "  'fragment_b': 'B024',\n",
       "  'fragment_c': 'C003',\n",
       "  'synthesis_gen': 'gen_1',\n",
       "  'obj': 1.1411368497993406e-16},\n",
       " {'fragment_a': 'A001',\n",
       "  'fragment_b': 'B001',\n",
       "  'fragment_c': 'C001',\n",
       "  'synthesis_gen': 'gen_1',\n",
       "  'obj': 1.6663578688743284e-16},\n",
       " {'fragment_a': 'A001',\n",
       "  'fragment_b': 'B001',\n",
       "  'fragment_c': 'C003',\n",
       "  'synthesis_gen': 'gen_1',\n",
       "  'obj': 3.1948201629442367e-16},\n",
       " {'fragment_a': 'A001',\n",
       "  'fragment_b': 'B001',\n",
       "  'fragment_c': 'C004',\n",
       "  'synthesis_gen': 'gen_1',\n",
       "  'obj': 4.7901330144404335e-17},\n",
       " {'fragment_a': 'A001',\n",
       "  'fragment_b': 'B024',\n",
       "  'fragment_c': 'C005',\n",
       "  'synthesis_gen': 'gen_1',\n",
       "  'obj': 3.135808244483309e-16},\n",
       " {'fragment_a': 'A001',\n",
       "  'fragment_b': 'B024',\n",
       "  'fragment_c': 'C006',\n",
       "  'synthesis_gen': 'gen_1',\n",
       "  'obj': 1.689465788881972e-16},\n",
       " {'fragment_a': 'A001',\n",
       "  'fragment_b': 'B024',\n",
       "  'fragment_c': 'C008',\n",
       "  'synthesis_gen': 'gen_1',\n",
       "  'obj': 3.0358494982642504e-17},\n",
       " {'fragment_a': 'A001',\n",
       "  'fragment_b': 'B024',\n",
       "  'fragment_c': 'C010',\n",
       "  'synthesis_gen': 'gen_1',\n",
       "  'obj': 8.019337116721302e-17},\n",
       " {'fragment_a': 'A001',\n",
       "  'fragment_b': 'B001',\n",
       "  'fragment_c': 'C007',\n",
       "  'synthesis_gen': 'gen_1',\n",
       "  'obj': 1.833494300540071e-16},\n",
       " {'fragment_a': 'A001',\n",
       "  'fragment_b': 'B024',\n",
       "  'fragment_c': 'C007',\n",
       "  'synthesis_gen': 'gen_1',\n",
       "  'obj': 1.764808735613602e-16},\n",
       " {'fragment_a': 'A001',\n",
       "  'fragment_b': 'B024',\n",
       "  'fragment_c': 'C009',\n",
       "  'synthesis_gen': 'gen_1',\n",
       "  'obj': 8.782873926807519e-17},\n",
       " {'fragment_a': 'A001',\n",
       "  'fragment_b': 'B001',\n",
       "  'fragment_c': 'C005',\n",
       "  'synthesis_gen': 'gen_1',\n",
       "  'obj': nan},\n",
       " {'fragment_a': 'A001',\n",
       "  'fragment_b': 'B001',\n",
       "  'fragment_c': 'C006',\n",
       "  'synthesis_gen': 'gen_1',\n",
       "  'obj': 1.5796210254473297e-17},\n",
       " {'fragment_a': 'A001',\n",
       "  'fragment_b': 'B001',\n",
       "  'fragment_c': 'C008',\n",
       "  'synthesis_gen': 'gen_1',\n",
       "  'obj': 2.564931620759565e-17},\n",
       " {'fragment_a': 'A001',\n",
       "  'fragment_b': 'B001',\n",
       "  'fragment_c': 'C009',\n",
       "  'synthesis_gen': 'gen_1',\n",
       "  'obj': 2.783403255397691e-17},\n",
       " {'fragment_a': 'A001',\n",
       "  'fragment_b': 'B001',\n",
       "  'fragment_c': 'C010',\n",
       "  'synthesis_gen': 'gen_1',\n",
       "  'obj': 1.4350151858010136e-16},\n",
       " {'fragment_a': 'A001',\n",
       "  'fragment_b': 'B024',\n",
       "  'fragment_c': 'C012',\n",
       "  'synthesis_gen': 'gen_1',\n",
       "  'obj': nan},\n",
       " {'fragment_a': 'A001',\n",
       "  'fragment_b': 'B024',\n",
       "  'fragment_c': 'C020',\n",
       "  'synthesis_gen': 'gen_1',\n",
       "  'obj': 2.1126617779616634e-16},\n",
       " {'fragment_a': 'A001',\n",
       "  'fragment_b': 'B001',\n",
       "  'fragment_c': 'C013',\n",
       "  'synthesis_gen': 'gen_1',\n",
       "  'obj': 5.4898487710362706e-17},\n",
       " {'fragment_a': 'A001',\n",
       "  'fragment_b': 'B024',\n",
       "  'fragment_c': 'C014',\n",
       "  'synthesis_gen': 'gen_1',\n",
       "  'obj': 8.27039807268337e-17},\n",
       " {'fragment_a': 'A001',\n",
       "  'fragment_b': 'B024',\n",
       "  'fragment_c': 'C016',\n",
       "  'synthesis_gen': 'gen_1',\n",
       "  'obj': 5.020111342447057e-18},\n",
       " {'fragment_a': 'A001',\n",
       "  'fragment_b': 'B024',\n",
       "  'fragment_c': 'C017',\n",
       "  'synthesis_gen': 'gen_1',\n",
       "  'obj': 3.389972606091482e-17},\n",
       " {'fragment_a': 'A001',\n",
       "  'fragment_b': 'B024',\n",
       "  'fragment_c': 'C015',\n",
       "  'synthesis_gen': 'gen_1',\n",
       "  'obj': 6.101046643898326e-17},\n",
       " {'fragment_a': 'A001',\n",
       "  'fragment_b': 'B024',\n",
       "  'fragment_c': 'C013',\n",
       "  'synthesis_gen': 'gen_1',\n",
       "  'obj': nan},\n",
       " {'fragment_a': 'A001',\n",
       "  'fragment_b': 'B001',\n",
       "  'fragment_c': 'C012',\n",
       "  'synthesis_gen': 'gen_1',\n",
       "  'obj': 1.0391874034650129e-16},\n",
       " {'fragment_a': 'A017',\n",
       "  'fragment_b': 'B012',\n",
       "  'fragment_c': 'C014',\n",
       "  'synthesis_gen': 'gen_1',\n",
       "  'obj': nan},\n",
       " {'fragment_a': 'A012',\n",
       "  'fragment_b': 'B006',\n",
       "  'fragment_c': 'C017',\n",
       "  'synthesis_gen': 'gen_1',\n",
       "  'obj': 7.830060269642066e-17},\n",
       " {'fragment_a': 'A012',\n",
       "  'fragment_b': 'B025',\n",
       "  'fragment_c': 'C007',\n",
       "  'synthesis_gen': 'gen_1',\n",
       "  'obj': 6.0148947648980065e-18},\n",
       " {'fragment_a': 'A014',\n",
       "  'fragment_b': 'B021',\n",
       "  'fragment_c': 'C026',\n",
       "  'synthesis_gen': 'gen_1',\n",
       "  'obj': 4.3830299289320585e-18},\n",
       " {'fragment_a': 'A014',\n",
       "  'fragment_b': 'B017',\n",
       "  'fragment_c': 'C027',\n",
       "  'synthesis_gen': 'gen_1',\n",
       "  'obj': nan},\n",
       " {'fragment_a': 'A001',\n",
       "  'fragment_b': 'B001',\n",
       "  'fragment_c': 'C015',\n",
       "  'synthesis_gen': 'gen_1',\n",
       "  'obj': 9.826850946704687e-17},\n",
       " {'fragment_a': 'A001',\n",
       "  'fragment_b': 'B001',\n",
       "  'fragment_c': 'C016',\n",
       "  'synthesis_gen': 'gen_1',\n",
       "  'obj': 1.545974068292758e-17},\n",
       " {'fragment_a': 'A015',\n",
       "  'fragment_b': 'B016',\n",
       "  'fragment_c': 'C020',\n",
       "  'synthesis_gen': 'gen_1',\n",
       "  'obj': nan},\n",
       " {'fragment_a': 'A017',\n",
       "  'fragment_b': 'B016',\n",
       "  'fragment_c': 'C034',\n",
       "  'synthesis_gen': 'gen_1',\n",
       "  'obj': nan},\n",
       " {'fragment_a': 'A001',\n",
       "  'fragment_b': 'B024',\n",
       "  'fragment_c': 'C018',\n",
       "  'synthesis_gen': 'gen_1',\n",
       "  'obj': 1.2738719012641579e-17},\n",
       " {'fragment_a': 'A004',\n",
       "  'fragment_b': 'B026',\n",
       "  'fragment_c': 'C013',\n",
       "  'synthesis_gen': 'gen_1',\n",
       "  'obj': nan},\n",
       " {'fragment_a': 'A016',\n",
       "  'fragment_b': 'B011',\n",
       "  'fragment_c': 'C032',\n",
       "  'synthesis_gen': 'gen_1',\n",
       "  'obj': nan},\n",
       " {'fragment_a': 'A001',\n",
       "  'fragment_b': 'B001',\n",
       "  'fragment_c': 'C017',\n",
       "  'synthesis_gen': 'gen_1',\n",
       "  'obj': 6.08174462298923e-18},\n",
       " {'fragment_a': 'A016',\n",
       "  'fragment_b': 'B016',\n",
       "  'fragment_c': 'C030',\n",
       "  'synthesis_gen': 'gen_1',\n",
       "  'obj': nan},\n",
       " {'fragment_a': 'A014',\n",
       "  'fragment_b': 'B017',\n",
       "  'fragment_c': 'C004',\n",
       "  'synthesis_gen': 'gen_1',\n",
       "  'obj': nan},\n",
       " {'fragment_a': 'A014',\n",
       "  'fragment_b': 'B021',\n",
       "  'fragment_c': 'C014',\n",
       "  'synthesis_gen': 'gen_1',\n",
       "  'obj': nan},\n",
       " {'fragment_a': 'A001',\n",
       "  'fragment_b': 'B024',\n",
       "  'fragment_c': 'C019',\n",
       "  'synthesis_gen': 'gen_1',\n",
       "  'obj': 2.273971941204006e-17},\n",
       " {'fragment_a': 'A014',\n",
       "  'fragment_b': 'B014',\n",
       "  'fragment_c': 'C027',\n",
       "  'synthesis_gen': 'gen_1',\n",
       "  'obj': 3.694213515548072e-17},\n",
       " {'fragment_a': 'A014',\n",
       "  'fragment_b': 'B013',\n",
       "  'fragment_c': 'C017',\n",
       "  'synthesis_gen': 'gen_1',\n",
       "  'obj': nan},\n",
       " {'fragment_a': 'A015',\n",
       "  'fragment_b': 'B026',\n",
       "  'fragment_c': 'C039',\n",
       "  'synthesis_gen': 'gen_1',\n",
       "  'obj': 3.78925555720498e-18},\n",
       " {'fragment_a': 'A017',\n",
       "  'fragment_b': 'B024',\n",
       "  'fragment_c': 'C027',\n",
       "  'synthesis_gen': 'gen_1',\n",
       "  'obj': 1.0246242686484186e-16},\n",
       " {'fragment_a': 'A014',\n",
       "  'fragment_b': 'B024',\n",
       "  'fragment_c': 'C034',\n",
       "  'synthesis_gen': 'gen_1',\n",
       "  'obj': 5.261111543826998e-18},\n",
       " {'fragment_a': 'A001',\n",
       "  'fragment_b': 'B024',\n",
       "  'fragment_c': 'C021',\n",
       "  'synthesis_gen': 'gen_1',\n",
       "  'obj': 5.774149693561629e-17},\n",
       " {'fragment_a': 'A014',\n",
       "  'fragment_b': 'B014',\n",
       "  'fragment_c': 'C022',\n",
       "  'synthesis_gen': 'gen_1',\n",
       "  'obj': nan},\n",
       " {'fragment_a': 'A014',\n",
       "  'fragment_b': 'B025',\n",
       "  'fragment_c': 'C027',\n",
       "  'synthesis_gen': 'gen_1',\n",
       "  'obj': 3.7577682225114775e-18},\n",
       " {'fragment_a': 'A012',\n",
       "  'fragment_b': 'B014',\n",
       "  'fragment_c': 'C007',\n",
       "  'synthesis_gen': 'gen_1',\n",
       "  'obj': 1.18646011743689e-16},\n",
       " {'fragment_a': 'A002',\n",
       "  'fragment_b': 'B021',\n",
       "  'fragment_c': 'C039',\n",
       "  'synthesis_gen': 'gen_1',\n",
       "  'obj': 4.237611907237047e-17},\n",
       " {'fragment_a': 'A010',\n",
       "  'fragment_b': 'B026',\n",
       "  'fragment_c': 'C032',\n",
       "  'synthesis_gen': 'gen_1',\n",
       "  'obj': nan},\n",
       " {'fragment_a': 'A002',\n",
       "  'fragment_b': 'B021',\n",
       "  'fragment_c': 'C004',\n",
       "  'synthesis_gen': 'gen_1',\n",
       "  'obj': nan},\n",
       " {'fragment_a': 'A016',\n",
       "  'fragment_b': 'B022',\n",
       "  'fragment_c': 'C043',\n",
       "  'synthesis_gen': 'gen_1',\n",
       "  'obj': nan},\n",
       " {'fragment_a': 'A014',\n",
       "  'fragment_b': 'B016',\n",
       "  'fragment_c': 'C042',\n",
       "  'synthesis_gen': 'gen_1',\n",
       "  'obj': nan},\n",
       " {'fragment_a': 'A010',\n",
       "  'fragment_b': 'B011',\n",
       "  'fragment_c': 'C004',\n",
       "  'synthesis_gen': 'gen_1',\n",
       "  'obj': nan},\n",
       " {'fragment_a': 'A014',\n",
       "  'fragment_b': 'B017',\n",
       "  'fragment_c': 'C026',\n",
       "  'synthesis_gen': 'gen_1',\n",
       "  'obj': nan},\n",
       " {'fragment_a': 'A017',\n",
       "  'fragment_b': 'B017',\n",
       "  'fragment_c': 'C027',\n",
       "  'synthesis_gen': 'gen_1',\n",
       "  'obj': nan},\n",
       " {'fragment_a': 'A002',\n",
       "  'fragment_b': 'B026',\n",
       "  'fragment_c': 'C013',\n",
       "  'synthesis_gen': 'gen_1',\n",
       "  'obj': 8.359460322246241e-17},\n",
       " {'fragment_a': 'A014',\n",
       "  'fragment_b': 'B016',\n",
       "  'fragment_c': 'C011',\n",
       "  'synthesis_gen': 'gen_1',\n",
       "  'obj': nan},\n",
       " {'fragment_a': 'A002',\n",
       "  'fragment_b': 'B011',\n",
       "  'fragment_c': 'C039',\n",
       "  'synthesis_gen': 'gen_1',\n",
       "  'obj': nan},\n",
       " {'fragment_a': 'A014',\n",
       "  'fragment_b': 'B012',\n",
       "  'fragment_c': 'C004',\n",
       "  'synthesis_gen': 'gen_1',\n",
       "  'obj': 4.651911176165383e-17},\n",
       " {'fragment_a': 'A016',\n",
       "  'fragment_b': 'B024',\n",
       "  'fragment_c': 'C032',\n",
       "  'synthesis_gen': 'gen_1',\n",
       "  'obj': 6.738964119838765e-18},\n",
       " {'fragment_a': 'A014',\n",
       "  'fragment_b': 'B006',\n",
       "  'fragment_c': 'C005',\n",
       "  'synthesis_gen': 'gen_1',\n",
       "  'obj': 6.679155177965171e-17},\n",
       " {'fragment_a': 'A016',\n",
       "  'fragment_b': 'B026',\n",
       "  'fragment_c': 'C017',\n",
       "  'synthesis_gen': 'gen_1',\n",
       "  'obj': nan},\n",
       " {'fragment_a': 'A017',\n",
       "  'fragment_b': 'B024',\n",
       "  'fragment_c': 'C034',\n",
       "  'synthesis_gen': 'gen_1',\n",
       "  'obj': 1.4131711981022327e-17},\n",
       " {'fragment_a': 'A015',\n",
       "  'fragment_b': 'B010',\n",
       "  'fragment_c': 'C014',\n",
       "  'synthesis_gen': 'gen_1',\n",
       "  'obj': nan},\n",
       " {'fragment_a': 'A014',\n",
       "  'fragment_b': 'B013',\n",
       "  'fragment_c': 'C005',\n",
       "  'synthesis_gen': 'gen_1',\n",
       "  'obj': nan},\n",
       " {'fragment_a': 'A014',\n",
       "  'fragment_b': 'B024',\n",
       "  'fragment_c': 'C007',\n",
       "  'synthesis_gen': 'gen_1',\n",
       "  'obj': nan},\n",
       " {'fragment_a': 'A014',\n",
       "  'fragment_b': 'B006',\n",
       "  'fragment_c': 'C014',\n",
       "  'synthesis_gen': 'gen_1',\n",
       "  'obj': 6.525903364971338e-18},\n",
       " {'fragment_a': 'A017',\n",
       "  'fragment_b': 'B024',\n",
       "  'fragment_c': 'C023',\n",
       "  'synthesis_gen': 'gen_1',\n",
       "  'obj': nan},\n",
       " {'fragment_a': 'A014',\n",
       "  'fragment_b': 'B002',\n",
       "  'fragment_c': 'C013',\n",
       "  'synthesis_gen': 'gen_1',\n",
       "  'obj': nan},\n",
       " {'fragment_a': 'A016',\n",
       "  'fragment_b': 'B005',\n",
       "  'fragment_c': 'C032',\n",
       "  'synthesis_gen': 'gen_1',\n",
       "  'obj': nan},\n",
       " {'fragment_a': 'A007',\n",
       "  'fragment_b': 'B026',\n",
       "  'fragment_c': 'C032',\n",
       "  'synthesis_gen': 'gen_1',\n",
       "  'obj': nan},\n",
       " {'fragment_a': 'A017',\n",
       "  'fragment_b': 'B024',\n",
       "  'fragment_c': 'C022',\n",
       "  'synthesis_gen': 'gen_1',\n",
       "  'obj': 1.3451843195023162e-17},\n",
       " {'fragment_a': 'A011',\n",
       "  'fragment_b': 'B007',\n",
       "  'fragment_c': 'C027',\n",
       "  'synthesis_gen': 'gen_1',\n",
       "  'obj': nan},\n",
       " {'fragment_a': 'A017',\n",
       "  'fragment_b': 'B007',\n",
       "  'fragment_c': 'C015',\n",
       "  'synthesis_gen': 'gen_1',\n",
       "  'obj': 9.206727195235754e-18},\n",
       " {'fragment_a': 'A014',\n",
       "  'fragment_b': 'B006',\n",
       "  'fragment_c': 'C013',\n",
       "  'synthesis_gen': 'gen_1',\n",
       "  'obj': 7.923815265915032e-18},\n",
       " {'fragment_a': 'A002',\n",
       "  'fragment_b': 'B007',\n",
       "  'fragment_c': 'C025',\n",
       "  'synthesis_gen': 'gen_1',\n",
       "  'obj': nan},\n",
       " {'fragment_a': 'A032',\n",
       "  'fragment_b': 'B016',\n",
       "  'fragment_c': 'C025',\n",
       "  'synthesis_gen': 'gen_1',\n",
       "  'obj': nan},\n",
       " {'fragment_a': 'A002',\n",
       "  'fragment_b': 'B016',\n",
       "  'fragment_c': 'C025',\n",
       "  'synthesis_gen': 'gen_1',\n",
       "  'obj': nan},\n",
       " {'fragment_a': 'A015',\n",
       "  'fragment_b': 'B023',\n",
       "  'fragment_c': 'C036',\n",
       "  'synthesis_gen': 'gen_1',\n",
       "  'obj': 1.754540316783665e-17},\n",
       " {'fragment_a': 'A015',\n",
       "  'fragment_b': 'B020',\n",
       "  'fragment_c': 'C036',\n",
       "  'synthesis_gen': 'gen_1',\n",
       "  'obj': nan},\n",
       " {'fragment_a': 'A012',\n",
       "  'fragment_b': 'B011',\n",
       "  'fragment_c': 'C011',\n",
       "  'synthesis_gen': 'gen_1',\n",
       "  'obj': 6.40921915834097e-17},\n",
       " {'fragment_a': 'A015',\n",
       "  'fragment_b': 'B002',\n",
       "  'fragment_c': 'C041',\n",
       "  'synthesis_gen': 'gen_1',\n",
       "  'obj': 5.730015594568486e-19},\n",
       " {'fragment_a': 'A012',\n",
       "  'fragment_b': 'B007',\n",
       "  'fragment_c': 'C001',\n",
       "  'synthesis_gen': 'gen_1',\n",
       "  'obj': 9.244598780085763e-17},\n",
       " {'fragment_a': 'A012',\n",
       "  'fragment_b': 'B009',\n",
       "  'fragment_c': 'C010',\n",
       "  'synthesis_gen': 'gen_1',\n",
       "  'obj': 6.846003907017119e-17},\n",
       " {'fragment_a': 'A001',\n",
       "  'fragment_b': 'B006',\n",
       "  'fragment_c': 'C014',\n",
       "  'synthesis_gen': 'gen_1',\n",
       "  'obj': nan},\n",
       " {'fragment_a': 'A001',\n",
       "  'fragment_b': 'B023',\n",
       "  'fragment_c': 'C042',\n",
       "  'synthesis_gen': 'gen_1',\n",
       "  'obj': nan},\n",
       " {'fragment_a': 'A011',\n",
       "  'fragment_b': 'B006',\n",
       "  'fragment_c': 'C007',\n",
       "  'synthesis_gen': 'gen_1',\n",
       "  'obj': 7.731345439360771e-17},\n",
       " {'fragment_a': 'A016',\n",
       "  'fragment_b': 'B011',\n",
       "  'fragment_c': 'C017',\n",
       "  'synthesis_gen': 'gen_1',\n",
       "  'obj': nan},\n",
       " {'fragment_a': 'A015',\n",
       "  'fragment_b': 'B001',\n",
       "  'fragment_c': 'C014',\n",
       "  'synthesis_gen': 'gen_1',\n",
       "  'obj': 2.523547276948713e-17},\n",
       " {'fragment_a': 'A012',\n",
       "  'fragment_b': 'B016',\n",
       "  'fragment_c': 'C025',\n",
       "  'synthesis_gen': 'gen_1',\n",
       "  'obj': 1.00314069049024e-16},\n",
       " {'fragment_a': 'A017',\n",
       "  'fragment_b': 'B012',\n",
       "  'fragment_c': 'C026',\n",
       "  'synthesis_gen': 'gen_1',\n",
       "  'obj': 4.950532097586806e-18},\n",
       " {'fragment_a': 'A010',\n",
       "  'fragment_b': 'B010',\n",
       "  'fragment_c': 'C020',\n",
       "  'synthesis_gen': 'gen_1',\n",
       "  'obj': 1.0083667809612752e-17},\n",
       " {'fragment_a': 'A016',\n",
       "  'fragment_b': 'B021',\n",
       "  'fragment_c': 'C006',\n",
       "  'synthesis_gen': 'gen_1',\n",
       "  'obj': nan},\n",
       " {'fragment_a': 'A010',\n",
       "  'fragment_b': 'B015',\n",
       "  'fragment_c': 'C058',\n",
       "  'synthesis_gen': 'gen_1',\n",
       "  'obj': nan},\n",
       " {'fragment_a': 'A001',\n",
       "  'fragment_b': 'B001',\n",
       "  'fragment_c': 'C026',\n",
       "  'synthesis_gen': 'gen_1',\n",
       "  'obj': nan},\n",
       " {'fragment_a': 'A001',\n",
       "  'fragment_b': 'B001',\n",
       "  'fragment_c': 'C043',\n",
       "  'synthesis_gen': 'gen_1',\n",
       "  'obj': nan},\n",
       " {'fragment_a': 'A014',\n",
       "  'fragment_b': 'B008',\n",
       "  'fragment_c': 'C022',\n",
       "  'synthesis_gen': 'gen_1',\n",
       "  'obj': 6.112709672620424e-18},\n",
       " {'fragment_a': 'A011',\n",
       "  'fragment_b': 'B022',\n",
       "  'fragment_c': 'C043',\n",
       "  'synthesis_gen': 'gen_1',\n",
       "  'obj': 2.9033219264089226e-17},\n",
       " {'fragment_a': 'A032',\n",
       "  'fragment_b': 'B022',\n",
       "  'fragment_c': 'C034',\n",
       "  'synthesis_gen': 'gen_1',\n",
       "  'obj': 3.303392062973488e-17},\n",
       " {'fragment_a': 'A001',\n",
       "  'fragment_b': 'B024',\n",
       "  'fragment_c': 'C026',\n",
       "  'synthesis_gen': 'gen_1',\n",
       "  'obj': 5.533548486096295e-17},\n",
       " {'fragment_a': 'A001',\n",
       "  'fragment_b': 'B024',\n",
       "  'fragment_c': 'C023',\n",
       "  'synthesis_gen': 'gen_1',\n",
       "  'obj': 8.889847034437943e-17},\n",
       " {'fragment_a': 'A001',\n",
       "  'fragment_b': 'B001',\n",
       "  'fragment_c': 'C024',\n",
       "  'synthesis_gen': 'gen_1',\n",
       "  'obj': 1.4220443754121085e-16},\n",
       " {'fragment_a': 'A002',\n",
       "  'fragment_b': 'B026',\n",
       "  'fragment_c': 'C035',\n",
       "  'synthesis_gen': 'gen_1',\n",
       "  'obj': 4.201224852544019e-17},\n",
       " {'fragment_a': 'A011',\n",
       "  'fragment_b': 'B016',\n",
       "  'fragment_c': 'C025',\n",
       "  'synthesis_gen': 'gen_1',\n",
       "  'obj': 1.0106786073004218e-16},\n",
       " {'fragment_a': 'A001',\n",
       "  'fragment_b': 'B018',\n",
       "  'fragment_c': 'C032',\n",
       "  'synthesis_gen': 'gen_1',\n",
       "  'obj': 5.693911247335016e-17},\n",
       " {'fragment_a': 'A017',\n",
       "  'fragment_b': 'B002',\n",
       "  'fragment_c': 'C032',\n",
       "  'synthesis_gen': 'gen_1',\n",
       "  'obj': 1.0966663481608477e-17},\n",
       " {'fragment_a': 'A012',\n",
       "  'fragment_b': 'B002',\n",
       "  'fragment_c': 'C041',\n",
       "  'synthesis_gen': 'gen_1',\n",
       "  'obj': 2.921517766345191e-17},\n",
       " {'fragment_a': 'A001',\n",
       "  'fragment_b': 'B007',\n",
       "  'fragment_c': 'C006',\n",
       "  'synthesis_gen': 'gen_1',\n",
       "  'obj': 9.004995950322481e-18},\n",
       " {'fragment_a': 'A011',\n",
       "  'fragment_b': 'B016',\n",
       "  'fragment_c': 'C036',\n",
       "  'synthesis_gen': 'gen_1',\n",
       "  'obj': 8.765202846540386e-17},\n",
       " {'fragment_a': 'A017',\n",
       "  'fragment_b': 'B018',\n",
       "  'fragment_c': 'C023',\n",
       "  'synthesis_gen': 'gen_1',\n",
       "  'obj': 1.5526620557867162e-17},\n",
       " {'fragment_a': 'A016',\n",
       "  'fragment_b': 'B019',\n",
       "  'fragment_c': 'C058',\n",
       "  'synthesis_gen': 'gen_1',\n",
       "  'obj': 8.19820155674067e-17},\n",
       " {'fragment_a': 'A015',\n",
       "  'fragment_b': 'B008',\n",
       "  'fragment_c': 'C036',\n",
       "  'synthesis_gen': 'gen_1',\n",
       "  'obj': 4.6124037317905746e-18},\n",
       " {'fragment_a': 'A002',\n",
       "  'fragment_b': 'B004',\n",
       "  'fragment_c': 'C042',\n",
       "  'synthesis_gen': 'gen_1',\n",
       "  'obj': nan},\n",
       " {'fragment_a': 'A011',\n",
       "  'fragment_b': 'B001',\n",
       "  'fragment_c': 'C043',\n",
       "  'synthesis_gen': 'gen_1',\n",
       "  'obj': nan},\n",
       " {'fragment_a': 'A001',\n",
       "  'fragment_b': 'B001',\n",
       "  'fragment_c': 'C028',\n",
       "  'synthesis_gen': 'gen_1',\n",
       "  'obj': 1.4483124197741937e-16},\n",
       " {'fragment_a': 'A017',\n",
       "  'fragment_b': 'B025',\n",
       "  'fragment_c': 'C032',\n",
       "  'synthesis_gen': 'gen_1',\n",
       "  'obj': 1.2990177468957796e-16},\n",
       " {'fragment_a': 'A001',\n",
       "  'fragment_b': 'B024',\n",
       "  'fragment_c': 'C022',\n",
       "  'synthesis_gen': 'gen_1',\n",
       "  'obj': nan},\n",
       " {'fragment_a': 'A001',\n",
       "  'fragment_b': 'B001',\n",
       "  'fragment_c': 'C025',\n",
       "  'synthesis_gen': 'gen_1',\n",
       "  'obj': 1.0523847768248343e-16},\n",
       " {'fragment_a': 'A001',\n",
       "  'fragment_b': 'B001',\n",
       "  'fragment_c': 'C022',\n",
       "  'synthesis_gen': 'gen_1',\n",
       "  'obj': nan},\n",
       " {'fragment_a': 'A001',\n",
       "  'fragment_b': 'B024',\n",
       "  'fragment_c': 'C043',\n",
       "  'synthesis_gen': 'gen_1',\n",
       "  'obj': 7.808046333127821e-17},\n",
       " {'fragment_a': 'A001',\n",
       "  'fragment_b': 'B024',\n",
       "  'fragment_c': 'C024',\n",
       "  'synthesis_gen': 'gen_1',\n",
       "  'obj': 6.468748207729169e-17},\n",
       " {'fragment_a': 'A001',\n",
       "  'fragment_b': 'B001',\n",
       "  'fragment_c': 'C018',\n",
       "  'synthesis_gen': 'gen_1',\n",
       "  'obj': 2.09633619724748e-16},\n",
       " {'fragment_a': 'A001',\n",
       "  'fragment_b': 'B001',\n",
       "  'fragment_c': 'C019',\n",
       "  'synthesis_gen': 'gen_1',\n",
       "  'obj': 8.236931948493235e-17},\n",
       " {'fragment_a': 'A001',\n",
       "  'fragment_b': 'B001',\n",
       "  'fragment_c': 'C023',\n",
       "  'synthesis_gen': 'gen_1',\n",
       "  'obj': 1.2548463592385985e-16},\n",
       " {'fragment_a': 'A001',\n",
       "  'fragment_b': 'B001',\n",
       "  'fragment_c': 'C020',\n",
       "  'synthesis_gen': 'gen_1',\n",
       "  'obj': 2.1298908476023633e-16},\n",
       " {'fragment_a': 'A001',\n",
       "  'fragment_b': 'B001',\n",
       "  'fragment_c': 'C021',\n",
       "  'synthesis_gen': 'gen_1',\n",
       "  'obj': 1.4618306676436623e-16},\n",
       " {'fragment_a': 'A001',\n",
       "  'fragment_b': 'B024',\n",
       "  'fragment_c': 'C025',\n",
       "  'synthesis_gen': 'gen_1',\n",
       "  'obj': 1.189922738375221e-16},\n",
       " {'fragment_a': 'A001',\n",
       "  'fragment_b': 'B024',\n",
       "  'fragment_c': 'C028',\n",
       "  'synthesis_gen': 'gen_1',\n",
       "  'obj': 1.281002844906603e-16},\n",
       " {'fragment_a': 'A001',\n",
       "  'fragment_b': 'B001',\n",
       "  'fragment_c': 'C011',\n",
       "  'synthesis_gen': 'gen_1',\n",
       "  'obj': nan},\n",
       " {'fragment_a': 'A032',\n",
       "  'fragment_b': 'B020',\n",
       "  'fragment_c': 'C037',\n",
       "  'synthesis_gen': 'gen_1',\n",
       "  'obj': nan},\n",
       " {'fragment_a': 'A017',\n",
       "  'fragment_b': 'B023',\n",
       "  'fragment_c': 'C032',\n",
       "  'synthesis_gen': 'gen_1',\n",
       "  'obj': nan},\n",
       " {'fragment_a': 'A010',\n",
       "  'fragment_b': 'B004',\n",
       "  'fragment_c': 'C042',\n",
       "  'synthesis_gen': 'gen_1',\n",
       "  'obj': nan},\n",
       " {'fragment_a': 'A001',\n",
       "  'fragment_b': 'B001',\n",
       "  'fragment_c': 'C030',\n",
       "  'synthesis_gen': 'gen_1',\n",
       "  'obj': 4.384016890595388e-17},\n",
       " {'fragment_a': 'A014',\n",
       "  'fragment_b': 'B002',\n",
       "  'fragment_c': 'C017',\n",
       "  'synthesis_gen': 'gen_1',\n",
       "  'obj': nan},\n",
       " {'fragment_a': 'A014',\n",
       "  'fragment_b': 'B020',\n",
       "  'fragment_c': 'C027',\n",
       "  'synthesis_gen': 'gen_1',\n",
       "  'obj': 1.0739333166057634e-17},\n",
       " {'fragment_a': 'A001',\n",
       "  'fragment_b': 'B013',\n",
       "  'fragment_c': 'C018',\n",
       "  'synthesis_gen': 'gen_1',\n",
       "  'obj': 3.967021469424605e-17},\n",
       " {'fragment_a': 'A001',\n",
       "  'fragment_b': 'B022',\n",
       "  'fragment_c': 'C025',\n",
       "  'synthesis_gen': 'gen_1',\n",
       "  'obj': 8.580904666671667e-17},\n",
       " {'fragment_a': 'A001',\n",
       "  'fragment_b': 'B001',\n",
       "  'fragment_c': 'C042',\n",
       "  'synthesis_gen': 'gen_1',\n",
       "  'obj': 1.5779875470119115e-16},\n",
       " {'fragment_a': 'A015',\n",
       "  'fragment_b': 'B022',\n",
       "  'fragment_c': 'C010',\n",
       "  'synthesis_gen': 'gen_1',\n",
       "  'obj': nan},\n",
       " {'fragment_a': 'A011',\n",
       "  'fragment_b': 'B008',\n",
       "  'fragment_c': 'C020',\n",
       "  'synthesis_gen': 'gen_1',\n",
       "  'obj': nan},\n",
       " {'fragment_a': 'A016',\n",
       "  'fragment_b': 'B017',\n",
       "  'fragment_c': 'C043',\n",
       "  'synthesis_gen': 'gen_1',\n",
       "  'obj': nan},\n",
       " {'fragment_a': 'A016',\n",
       "  'fragment_b': 'B018',\n",
       "  'fragment_c': 'C017',\n",
       "  'synthesis_gen': 'gen_1',\n",
       "  'obj': nan},\n",
       " {'fragment_a': 'A016',\n",
       "  'fragment_b': 'B026',\n",
       "  'fragment_c': 'C016',\n",
       "  'synthesis_gen': 'gen_1',\n",
       "  'obj': nan},\n",
       " {'fragment_a': 'A001',\n",
       "  'fragment_b': 'B001',\n",
       "  'fragment_c': 'C044',\n",
       "  'synthesis_gen': 'gen_1',\n",
       "  'obj': 1.5754107488570007e-16},\n",
       " {'fragment_a': 'A017',\n",
       "  'fragment_b': 'B013',\n",
       "  'fragment_c': 'C005',\n",
       "  'synthesis_gen': 'gen_1',\n",
       "  'obj': 1.5061609372299598e-17},\n",
       " {'fragment_a': 'A001',\n",
       "  'fragment_b': 'B001',\n",
       "  'fragment_c': 'C014',\n",
       "  'synthesis_gen': 'gen_1',\n",
       "  'obj': 3.0894372345716633e-17},\n",
       " {'fragment_a': 'A014',\n",
       "  'fragment_b': 'B017',\n",
       "  'fragment_c': 'C031',\n",
       "  'synthesis_gen': 'gen_1',\n",
       "  'obj': nan}]"
      ]
     },
     "execution_count": 28,
     "metadata": {},
     "output_type": "execute_result"
    }
   ],
   "source": [
    "# get gryffin observations\n",
    "observations = make_gryffin_observations(df_done)\n",
    "\n",
    "observations"
   ]
  },
  {
   "cell_type": "code",
   "execution_count": 29,
   "id": "6b861cd3",
   "metadata": {
    "pycharm": {
     "name": "#%%\n"
    }
   },
   "outputs": [],
   "source": [
    "# get all the unique frags in the previous observations to add onto the available \n",
    "# fragments (otherwise Gryffin will crash)\n",
    "a_prev_hids = list(set([o['fragment_a'] for o in observations]))\n",
    "b_prev_hids = list(set([o['fragment_b'] for o in observations]))\n",
    "c_prev_hids = list(set([o['fragment_c'] for o in observations]))"
   ]
  },
  {
   "cell_type": "code",
   "execution_count": 30,
   "id": "0e3bb1fb",
   "metadata": {
    "pycharm": {
     "name": "#%%\n"
    }
   },
   "outputs": [],
   "source": [
    "def get_lab_frags(lab):\n",
    "    ''' returns the set of available fragments for a specific laboratory\n",
    "    '''\n",
    "    a_hids = db.get_available_fragments(\"fragment_a\", lab)[\"molecule.hid\"].tolist()\n",
    "    b_hids = db.get_available_fragments(\"fragment_b\", lab)[\"molecule.hid\"].tolist()\n",
    "    c_hids = db.get_available_fragments(\"fragment_c\", lab)[\"molecule.hid\"].tolist()\n",
    "    \n",
    "    return {'fragment_a': a_hids, 'fragment_b': b_hids, 'fragment_c': c_hids}\n",
    "\n",
    "def get_frags():\n",
    "    ''' return all the unique molecules across all labs\n",
    "    '''\n",
    "    a_hids_all = []\n",
    "    b_hids_all = []\n",
    "    c_hids_all = []\n",
    "    \n",
    "    for lab in ['Toronto', 'Illinois']:\n",
    "        lab_frags = get_lab_frags(lab)\n",
    "        a_hids_all.extend(lab_frags['fragment_a'])\n",
    "        b_hids_all.extend(lab_frags['fragment_b'])\n",
    "        c_hids_all.extend(lab_frags['fragment_c'])\n",
    "    \n",
    "    a_hids_all = list(set(a_hids_all))\n",
    "    b_hids_all = list(set(b_hids_all))\n",
    "    c_hids_all = list(set(c_hids_all))\n",
    "    \n",
    "    return a_hids_all, b_hids_all, c_hids_all\n",
    "    "
   ]
  },
  {
   "cell_type": "code",
   "execution_count": 31,
   "id": "1150b009",
   "metadata": {
    "pycharm": {
     "name": "#%%\n"
    }
   },
   "outputs": [
    {
     "name": "stdout",
     "output_type": "stream",
     "text": [
      "NUM A FRAGS :  33\n",
      "NUM B FRAGS :  55\n",
      "NUM C FRAGS :  161\n",
      "NUM ACCESSIBLE MOLS :  292215\n"
     ]
    }
   ],
   "source": [
    "a_hids_all, b_hids_all, c_hids_all = get_frags()\n",
    "\n",
    "# add fragments from previous iterations\n",
    "a_hids_all = list(set(a_hids_all + a_prev_hids))\n",
    "b_hids_all = list(set(b_hids_all + b_prev_hids))  # ATTN: Incorrect because HIDs overlap fragments for MIDA/TIDA\n",
    "c_hids_all = list(set(c_hids_all + c_prev_hids))\n",
    "\n",
    "print('NUM A FRAGS : ', len(a_hids_all))\n",
    "print('NUM B FRAGS : ', len(b_hids_all))\n",
    "print('NUM C FRAGS : ', len(c_hids_all))\n",
    "\n",
    "print('NUM ACCESSIBLE MOLS : ', len(a_hids_all)*len(b_hids_all)*len(c_hids_all))  # This doesn't actually matter"
   ]
  },
  {
   "cell_type": "code",
   "execution_count": 32,
   "id": "45dc2711",
   "metadata": {
    "pycharm": {
     "name": "#%%\n"
    }
   },
   "outputs": [],
   "source": [
    "# get toronto and UIUC available frags\n",
    "toronto_frags = get_lab_frags('Toronto')\n",
    "uiuc_frags = get_lab_frags('Illinois')"
   ]
  },
  {
   "cell_type": "markdown",
   "id": "96afbd85",
   "metadata": {
    "pycharm": {
     "name": "#%% md\n"
    }
   },
   "source": [
    "## Build Gryffin "
   ]
  },
  {
   "cell_type": "code",
   "execution_count": 33,
   "id": "1476b963",
   "metadata": {
    "pycharm": {
     "name": "#%%\n"
    }
   },
   "outputs": [],
   "source": [
    "def get_descriptors(hid, descriptors):\n",
    "    ''' looks up and returns descriptors for a particular fragment\n",
    "    \n",
    "    Args:\n",
    "        hid (str): human readable identifier of the fragment\n",
    "        descriptors (pd.DataFrame): dataframe corresponding to the type of fragment\n",
    "    '''\n",
    "    print(hid)\n",
    "    return descriptors[descriptors.hid==hid].iloc[0, 1:].values.astype(np.float).tolist()\n",
    "\n",
    "def mol_hid_from_params(params):\n",
    "    mol_hids = []\n",
    "    for param in params:\n",
    "        mol_hids.append(''.join([param['fragment_a'], param['fragment_b'], param['fragment_c']]))\n",
    "    \n",
    "    return mol_hids\n",
    "        "
   ]
  },
  {
   "cell_type": "code",
   "execution_count": 34,
   "id": "f3e7785a",
   "metadata": {
    "pycharm": {
     "name": "#%%\n"
    }
   },
   "outputs": [
    {
     "name": "stdout",
     "output_type": "stream",
     "text": [
      "NUM DESC A  30\n",
      "NUM DESC B  30\n",
      "NUM DESC C  35\n"
     ]
    }
   ],
   "source": [
    "# load descriptors from disk\n",
    "pca_desc_a = pd.read_csv('descriptors/gen2_pca_desc_a.csv', index_col=None)\n",
    "pca_desc_b = pd.read_csv('descriptors/gen2_pca_desc_b.csv', index_col=None)\n",
    "pca_desc_c = pd.read_csv('descriptors/gen2_pca_desc_c.csv', index_col=None)\n",
    "print('NUM DESC A ', pca_desc_a.shape[1]-1)\n",
    "print('NUM DESC B ', pca_desc_b.shape[1]-1)\n",
    "print('NUM DESC C ', pca_desc_c.shape[1]-1)"
   ]
  },
  {
   "cell_type": "code",
   "execution_count": 35,
   "id": "4c5d87c2",
   "metadata": {
    "pycharm": {
     "name": "#%%\n"
    }
   },
   "outputs": [
    {
     "name": "stdout",
     "output_type": "stream",
     "text": [
      "NUM AVAIL FRAGS A :  33\n",
      "NUM AVAIL FRAGS B :  55\n",
      "NUM AVAIL FRAGS C :  161\n"
     ]
    }
   ],
   "source": [
    "# set the available fragments to make the Gryffin search space \n",
    "# TODO: change this to only those available\n",
    "avail_frags_a = a_hids_all\n",
    "avail_frags_b = b_hids_all\n",
    "avail_frags_c = c_hids_all\n",
    "print('NUM AVAIL FRAGS A : ', len(avail_frags_a))\n",
    "print('NUM AVAIL FRAGS B : ', len(avail_frags_b))\n",
    "print('NUM AVAIL FRAGS C : ', len(avail_frags_c))"
   ]
  },
  {
   "cell_type": "code",
   "execution_count": 36,
   "id": "a402d1ba",
   "metadata": {
    "pycharm": {
     "name": "#%%\n"
    }
   },
   "outputs": [
    {
     "name": "stdout",
     "output_type": "stream",
     "text": [
      "A032\n",
      "A029\n",
      "A015\n",
      "A016\n",
      "A028\n",
      "A034\n",
      "A012\n",
      "A040\n",
      "A021\n",
      "A003\n",
      "A014\n",
      "A002\n",
      "A027\n",
      "A041\n",
      "A023\n",
      "A020\n",
      "A042\n",
      "A037\n",
      "A038\n",
      "A022\n",
      "A017\n",
      "A010\n",
      "A018\n",
      "A011\n",
      "A024\n",
      "A026\n",
      "A035\n",
      "A001\n",
      "A039\n",
      "A007\n",
      "A008\n",
      "A036\n",
      "A004\n",
      "B057\n",
      "B021\n",
      "B038\n",
      "B040\n",
      "B015\n",
      "B017\n",
      "B032\n",
      "B008\n",
      "B022\n",
      "B051\n",
      "B052\n",
      "B010\n",
      "B011\n",
      "B043\n",
      "B056\n",
      "B045\n",
      "B025\n",
      "B012\n",
      "B016\n",
      "B026\n",
      "B003\n",
      "B009\n",
      "B036\n",
      "B031\n",
      "B046\n",
      "B060\n",
      "B049\n",
      "B033\n",
      "B055\n",
      "B001\n",
      "B002\n",
      "B024\n",
      "B062\n",
      "B054\n",
      "B023\n",
      "B020\n",
      "B044\n",
      "B019\n",
      "B018\n",
      "B035\n",
      "B013\n",
      "B006\n",
      "B042\n",
      "B014\n",
      "B039\n",
      "B004\n",
      "B048\n",
      "B005\n",
      "B047\n",
      "B063\n",
      "B007\n",
      "B068\n",
      "B037\n",
      "B059\n",
      "B058\n",
      "C161\n",
      "C099\n",
      "C017\n",
      "C075\n",
      "C048\n",
      "C057\n",
      "C055\n",
      "C032\n",
      "C133\n",
      "C098\n",
      "C001\n",
      "C144\n",
      "C157\n",
      "C052\n",
      "C125\n",
      "C116\n",
      "C132\n",
      "C018\n",
      "C062\n",
      "C016\n",
      "C118\n",
      "C008\n",
      "C105\n",
      "C160\n",
      "C137\n",
      "C044\n",
      "C152\n",
      "C106\n",
      "C068\n",
      "C064\n",
      "C043\n",
      "C025\n",
      "C072\n",
      "C074\n",
      "C085\n",
      "C071\n",
      "C115\n",
      "C027\n",
      "C066\n",
      "C011\n",
      "C159\n",
      "C059\n",
      "C046\n",
      "C076\n",
      "C110\n",
      "C104\n",
      "C129\n",
      "C135\n",
      "C049\n",
      "C127\n",
      "C094\n",
      "C126\n",
      "C156\n",
      "C014\n",
      "C020\n",
      "C111\n",
      "C101\n",
      "C093\n",
      "C010\n",
      "C009\n",
      "C002\n",
      "C038\n",
      "C090\n",
      "C096\n",
      "C083\n",
      "C130\n",
      "C122\n",
      "C006\n",
      "C028\n",
      "C047\n",
      "C037\n",
      "C107\n",
      "C015\n",
      "C097\n",
      "C079\n",
      "C113\n",
      "C149\n",
      "C077\n",
      "C139\n",
      "C026\n",
      "C150\n",
      "C069\n",
      "C134\n",
      "C067\n",
      "C082\n",
      "C151\n",
      "C024\n",
      "C109\n",
      "C155\n",
      "C019\n",
      "C086\n",
      "C012\n",
      "C142\n",
      "C147\n",
      "C123\n",
      "C033\n",
      "C138\n",
      "C141\n",
      "C095\n",
      "C034\n",
      "C131\n",
      "C056\n",
      "C091\n",
      "C061\n",
      "C102\n",
      "C153\n",
      "C145\n",
      "C143\n",
      "C078\n",
      "C060\n",
      "C004\n",
      "C051\n",
      "C065\n",
      "C092\n",
      "C073\n",
      "C146\n",
      "C117\n",
      "C100\n",
      "C080\n",
      "C036\n",
      "C058\n",
      "C063\n",
      "C148\n",
      "C136\n",
      "C140\n",
      "C040\n",
      "C087\n",
      "C089\n",
      "C158\n",
      "C124\n",
      "C070\n",
      "C088\n",
      "C041\n",
      "C022\n",
      "C030\n",
      "C081\n",
      "C045\n",
      "C103\n",
      "C021\n",
      "C114\n",
      "C108\n",
      "C050\n",
      "C084\n",
      "C029\n",
      "C112\n",
      "C007\n",
      "C039\n",
      "C042\n",
      "C013\n",
      "C035\n",
      "C128\n",
      "C005\n",
      "C121\n",
      "C053\n",
      "C120\n",
      "C031\n",
      "C054\n",
      "C154\n",
      "C119\n",
      "C023\n",
      "C003\n"
     ]
    }
   ],
   "source": [
    "# Gryffin config\n",
    "\n",
    "#sampling_strategies = np.linspace(-1, 1, 40)\n",
    "sampling_strategies_1 = np.linspace(0.6, 1, 30)\n",
    "sampling_strategies_2 = np.linspace(-1, 0.5, 10)\n",
    "sampling_strategies = np.concatenate((sampling_strategies_1, sampling_strategies_2))\n",
    "#sampling_strategies = np.linspace(-1, 0.45, 20)\n",
    "\n",
    "# generate descriptors\n",
    "FRAG_A_DESC = {i: get_descriptors(i, pca_desc_a) for i in avail_frags_a}\n",
    "FRAG_B_DESC = {i: get_descriptors(i, pca_desc_b) for i in avail_frags_b}\n",
    "FRAG_C_DESC = {i: get_descriptors(i, pca_desc_c) for i in avail_frags_c}\n",
    "SYNTH_GEN = {i: None for i in [\"gen_1\", \"gen_2\"]}\n",
    "\n",
    "# FRAG_A_DESC = {i: None for i in avail_frags_a}\n",
    "# FRAG_B_DESC = {i: None for i in avail_frags_b}\n",
    "# FRAG_C_DESC = {i: None for i in avail_frags_c}\n",
    "\n",
    "# fwa = feasibility-weighted acquisition\n",
    "# fia = feasibility-interpolated acquisition\n",
    "# fca = feasibility-constrained acquisition --> use, param=0.2 ish works best on cat benchmarks\n",
    "\n",
    "config = {\n",
    "     \"general\": {\n",
    "             \"backend\": 'tensorflow',\n",
    "             \"num_cpus\": 4,\n",
    "             \"auto_desc_gen\": False, # dynamic Gryffin\n",
    "             \"batches\": 1,\n",
    "             \"sampling_strategies\": 1,\n",
    "             \"feas_approach\": 'fca',\n",
    "             \"feas_param\": 0.2,\n",
    "             \"boosted\":  True,\n",
    "             \"caching\": False,\n",
    "             \"random_seed\": 22031996,\n",
    "             \"acquisition_optimizer\": 'genetic',\n",
    "             \"verbosity\": 3\n",
    "                },\n",
    "    \"parameters\": [\n",
    "        {\"name\": \"fragment_a\", \"type\": \"categorical\", \"category_details\": FRAG_A_DESC },\n",
    "        {\"name\": \"fragment_b\", \"type\": \"categorical\", \"category_details\": FRAG_B_DESC },\n",
    "        {\"name\": \"fragment_c\", \"type\": \"categorical\", \"category_details\": FRAG_C_DESC },\n",
    "        {\"name\": \"synthesis_gen\", \"type\": \"categorical\", \"category_details\": SYNTH_GEN},\n",
    "      \n",
    "    ],\n",
    "    \"objectives\": [\n",
    "        {\"name\": \"obj\", \"goal\": \"max\"},\n",
    "    ]\n",
    "}"
   ]
  },
  {
   "cell_type": "code",
   "execution_count": 37,
   "id": "c4d0fd1d",
   "metadata": {
    "pycharm": {
     "name": "#%%\n"
    }
   },
   "outputs": [],
   "source": [
    "# instantiate gryffin\n",
    "gryffin = Gryffin(config_dict=config, known_constraints=known_constraints)"
   ]
  },
  {
   "cell_type": "code",
   "execution_count": 60,
   "id": "dd066138",
   "metadata": {
    "pycharm": {
     "name": "#%%\n"
    },
    "scrolled": true
   },
   "outputs": [
    {
     "data": {
      "text/html": [
       "<pre style=\"white-space:pre;overflow-x:auto;line-height:normal;font-family:Menlo,'DejaVu Sans Mono',consolas,'Courier New',monospace\"><span style=\"color: #008080; text-decoration-color: #008080; font-weight: bold\">188</span> observations found\n",
       "</pre>\n"
      ],
      "text/plain": [
       "\u001b[1;36m188\u001b[0m observations found\n"
      ]
     },
     "metadata": {},
     "output_type": "display_data"
    },
    {
     "name": "stderr",
     "output_type": "stream",
     "text": [
      "2022-08-16 18:17:39.937243: I tensorflow/core/platform/cpu_feature_guard.cc:193] This TensorFlow binary is optimized with oneAPI Deep Neural Network Library (oneDNN) to use the following CPU instructions in performance-critical operations:  AVX2 FMA\n",
      "To enable them in other operations, rebuild TensorFlow with the appropriate compiler flags.\n",
      "2022-08-16 18:17:39.992237: I tensorflow/stream_executor/cuda/cuda_gpu_executor.cc:975] successful NUMA node read from SysFS had negative value (-1), but there must be at least one NUMA node, so returning NUMA node zero\n",
      "2022-08-16 18:17:39.994628: W tensorflow/stream_executor/platform/default/dso_loader.cc:64] Could not load dynamic library 'libcudart.so.11.0'; dlerror: libcudart.so.11.0: cannot open shared object file: No such file or directory; LD_LIBRARY_PATH: :/usr/local/cuda/lib64\n",
      "2022-08-16 18:17:39.994967: W tensorflow/stream_executor/platform/default/dso_loader.cc:64] Could not load dynamic library 'libcublas.so.11'; dlerror: libcublas.so.11: cannot open shared object file: No such file or directory; LD_LIBRARY_PATH: :/usr/local/cuda/lib64\n",
      "2022-08-16 18:17:39.995439: W tensorflow/stream_executor/platform/default/dso_loader.cc:64] Could not load dynamic library 'libcublasLt.so.11'; dlerror: libcublasLt.so.11: cannot open shared object file: No such file or directory; LD_LIBRARY_PATH: :/usr/local/cuda/lib64\n",
      "2022-08-16 18:17:39.995737: W tensorflow/stream_executor/platform/default/dso_loader.cc:64] Could not load dynamic library 'libcufft.so.10'; dlerror: libcufft.so.10: cannot open shared object file: No such file or directory; LD_LIBRARY_PATH: :/usr/local/cuda/lib64\n",
      "2022-08-16 18:17:39.996014: W tensorflow/stream_executor/platform/default/dso_loader.cc:64] Could not load dynamic library 'libcurand.so.10'; dlerror: libcurand.so.10: cannot open shared object file: No such file or directory; LD_LIBRARY_PATH: :/usr/local/cuda/lib64\n",
      "2022-08-16 18:17:39.996288: W tensorflow/stream_executor/platform/default/dso_loader.cc:64] Could not load dynamic library 'libcusolver.so.11'; dlerror: libcusolver.so.11: cannot open shared object file: No such file or directory; LD_LIBRARY_PATH: :/usr/local/cuda/lib64\n",
      "2022-08-16 18:17:39.996554: W tensorflow/stream_executor/platform/default/dso_loader.cc:64] Could not load dynamic library 'libcusparse.so.11'; dlerror: libcusparse.so.11: cannot open shared object file: No such file or directory; LD_LIBRARY_PATH: :/usr/local/cuda/lib64\n",
      "2022-08-16 18:17:39.997002: W tensorflow/stream_executor/platform/default/dso_loader.cc:64] Could not load dynamic library 'libcudnn.so.8'; dlerror: libcudnn.so.8: cannot open shared object file: No such file or directory; LD_LIBRARY_PATH: :/usr/local/cuda/lib64\n",
      "2022-08-16 18:17:39.997040: W tensorflow/core/common_runtime/gpu/gpu_device.cc:1850] Cannot dlopen some GPU libraries. Please make sure the missing libraries mentioned above are installed properly if you would like to use GPU. Follow the guide at https://www.tensorflow.org/install/gpu for how to download and setup the required libraries for your platform.\n",
      "Skipping registering GPU devices...\n",
      "2022-08-16 18:17:40.093352: I tensorflow/stream_executor/cuda/cuda_gpu_executor.cc:975] successful NUMA node read from SysFS had negative value (-1), but there must be at least one NUMA node, so returning NUMA node zero\n",
      "2022-08-16 18:17:40.094086: W tensorflow/core/common_runtime/gpu/gpu_device.cc:1850] Cannot dlopen some GPU libraries. Please make sure the missing libraries mentioned above are installed properly if you would like to use GPU. Follow the guide at https://www.tensorflow.org/install/gpu for how to download and setup the required libraries for your platform.\n",
      "Skipping registering GPU devices...\n",
      "2022-08-16 18:17:40.383329: I tensorflow/stream_executor/cuda/cuda_gpu_executor.cc:975] successful NUMA node read from SysFS had negative value (-1), but there must be at least one NUMA node, so returning NUMA node zero\n",
      "2022-08-16 18:17:40.383703: W tensorflow/core/common_runtime/gpu/gpu_device.cc:1850] Cannot dlopen some GPU libraries. Please make sure the missing libraries mentioned above are installed properly if you would like to use GPU. Follow the guide at https://www.tensorflow.org/install/gpu for how to download and setup the required libraries for your platform.\n",
      "Skipping registering GPU devices...\n",
      "2022-08-16 18:17:41.054588: I tensorflow/compiler/mlir/mlir_graph_optimization_pass.cc:354] MLIR V1 optimization pass is not enabled\n",
      "2022-08-16 18:17:52.861026: I tensorflow/stream_executor/cuda/cuda_gpu_executor.cc:975] successful NUMA node read from SysFS had negative value (-1), but there must be at least one NUMA node, so returning NUMA node zero\n",
      "2022-08-16 18:17:52.861394: W tensorflow/core/common_runtime/gpu/gpu_device.cc:1850] Cannot dlopen some GPU libraries. Please make sure the missing libraries mentioned above are installed properly if you would like to use GPU. Follow the guide at https://www.tensorflow.org/install/gpu for how to download and setup the required libraries for your platform.\n",
      "Skipping registering GPU devices...\n",
      "2022-08-16 18:17:52.879279: I tensorflow/stream_executor/cuda/cuda_gpu_executor.cc:975] successful NUMA node read from SysFS had negative value (-1), but there must be at least one NUMA node, so returning NUMA node zero\n",
      "2022-08-16 18:17:52.879654: W tensorflow/core/common_runtime/gpu/gpu_device.cc:1850] Cannot dlopen some GPU libraries. Please make sure the missing libraries mentioned above are installed properly if you would like to use GPU. Follow the guide at https://www.tensorflow.org/install/gpu for how to download and setup the required libraries for your platform.\n",
      "Skipping registering GPU devices...\n",
      "2022-08-16 18:18:05.737329: I tensorflow/stream_executor/cuda/cuda_gpu_executor.cc:975] successful NUMA node read from SysFS had negative value (-1), but there must be at least one NUMA node, so returning NUMA node zero\n",
      "2022-08-16 18:18:05.747317: W tensorflow/core/common_runtime/gpu/gpu_device.cc:1850] Cannot dlopen some GPU libraries. Please make sure the missing libraries mentioned above are installed properly if you would like to use GPU. Follow the guide at https://www.tensorflow.org/install/gpu for how to download and setup the required libraries for your platform.\n",
      "Skipping registering GPU devices...\n",
      "2022-08-16 18:18:05.815443: I tensorflow/stream_executor/cuda/cuda_gpu_executor.cc:975] successful NUMA node read from SysFS had negative value (-1), but there must be at least one NUMA node, so returning NUMA node zero\n",
      "2022-08-16 18:18:05.816121: W tensorflow/core/common_runtime/gpu/gpu_device.cc:1850] Cannot dlopen some GPU libraries. Please make sure the missing libraries mentioned above are installed properly if you would like to use GPU. Follow the guide at https://www.tensorflow.org/install/gpu for how to download and setup the required libraries for your platform.\n",
      "Skipping registering GPU devices...\n",
      "2022-08-16 18:18:19.041811: I tensorflow/stream_executor/cuda/cuda_gpu_executor.cc:975] successful NUMA node read from SysFS had negative value (-1), but there must be at least one NUMA node, so returning NUMA node zero\n",
      "2022-08-16 18:18:19.056420: W tensorflow/core/common_runtime/gpu/gpu_device.cc:1850] Cannot dlopen some GPU libraries. Please make sure the missing libraries mentioned above are installed properly if you would like to use GPU. Follow the guide at https://www.tensorflow.org/install/gpu for how to download and setup the required libraries for your platform.\n",
      "Skipping registering GPU devices...\n",
      "2022-08-16 18:18:19.117948: I tensorflow/stream_executor/cuda/cuda_gpu_executor.cc:975] successful NUMA node read from SysFS had negative value (-1), but there must be at least one NUMA node, so returning NUMA node zero\n",
      "2022-08-16 18:18:19.118630: W tensorflow/core/common_runtime/gpu/gpu_device.cc:1850] Cannot dlopen some GPU libraries. Please make sure the missing libraries mentioned above are installed properly if you would like to use GPU. Follow the guide at https://www.tensorflow.org/install/gpu for how to download and setup the required libraries for your platform.\n",
      "Skipping registering GPU devices...\n"
     ]
    },
    {
     "data": {
      "text/html": [
       "<pre style=\"white-space:pre;overflow-x:auto;line-height:normal;font-family:Menlo,'DejaVu Sans Mono',consolas,'Courier New',monospace\">Bayesian neural network trained in <span style=\"color: #008080; text-decoration-color: #008080; font-weight: bold\">54.6</span> s\n",
       "</pre>\n"
      ],
      "text/plain": [
       "Bayesian neural network trained in \u001b[1;36m54.6\u001b[0m s\n"
      ]
     },
     "metadata": {},
     "output_type": "display_data"
    },
    {
     "data": {
      "text/html": [
       "<pre style=\"white-space:pre;overflow-x:auto;line-height:normal;font-family:Menlo,'DejaVu Sans Mono',consolas,'Courier New',monospace\"><span style=\"color: #008080; text-decoration-color: #008080; font-weight: bold\">1600</span> random proposals drawn in <span style=\"color: #008080; text-decoration-color: #008080; font-weight: bold\">37.4</span> s\n",
       "</pre>\n"
      ],
      "text/plain": [
       "\u001b[1;36m1600\u001b[0m random proposals drawn in \u001b[1;36m37.4\u001b[0m s\n"
      ]
     },
     "metadata": {},
     "output_type": "display_data"
    },
    {
     "data": {
      "text/html": [
       "<pre style=\"white-space:pre;overflow-x:auto;line-height:normal;font-family:Menlo,'DejaVu Sans Mono',consolas,'Courier New',monospace\"><span style=\"color: #008080; text-decoration-color: #008080; font-weight: bold\">1600</span> proposals optimized in <span style=\"color: #008080; text-decoration-color: #008080; font-weight: bold\">10.7</span> s using <span style=\"color: #008080; text-decoration-color: #008080; font-weight: bold\">4</span> CPUs\n",
       "</pre>\n"
      ],
      "text/plain": [
       "\u001b[1;36m1600\u001b[0m proposals optimized in \u001b[1;36m10.7\u001b[0m s using \u001b[1;36m4\u001b[0m CPUs\n"
      ]
     },
     "metadata": {},
     "output_type": "display_data"
    },
    {
     "data": {
      "text/html": [
       "<pre style=\"white-space:pre;overflow-x:auto;line-height:normal;font-family:Menlo,'DejaVu Sans Mono',consolas,'Courier New',monospace\"><span style=\"color: #008080; text-decoration-color: #008080; font-weight: bold\">1600</span> proposals optimized in <span style=\"color: #008080; text-decoration-color: #008080; font-weight: bold\">10.8</span> s using <span style=\"color: #008080; text-decoration-color: #008080; font-weight: bold\">4</span> CPUs\n",
       "</pre>\n"
      ],
      "text/plain": [
       "\u001b[1;36m1600\u001b[0m proposals optimized in \u001b[1;36m10.8\u001b[0m s using \u001b[1;36m4\u001b[0m CPUs\n"
      ]
     },
     "metadata": {},
     "output_type": "display_data"
    },
    {
     "data": {
      "text/html": [
       "<pre style=\"white-space:pre;overflow-x:auto;line-height:normal;font-family:Menlo,'DejaVu Sans Mono',consolas,'Courier New',monospace\"><span style=\"color: #008080; text-decoration-color: #008080; font-weight: bold\">1600</span> proposals optimized in <span style=\"color: #008080; text-decoration-color: #008080; font-weight: bold\">10.9</span> s using <span style=\"color: #008080; text-decoration-color: #008080; font-weight: bold\">4</span> CPUs\n",
       "</pre>\n"
      ],
      "text/plain": [
       "\u001b[1;36m1600\u001b[0m proposals optimized in \u001b[1;36m10.9\u001b[0m s using \u001b[1;36m4\u001b[0m CPUs\n"
      ]
     },
     "metadata": {},
     "output_type": "display_data"
    },
    {
     "data": {
      "text/html": [
       "<pre style=\"white-space:pre;overflow-x:auto;line-height:normal;font-family:Menlo,'DejaVu Sans Mono',consolas,'Courier New',monospace\"><span style=\"color: #008080; text-decoration-color: #008080; font-weight: bold\">1600</span> proposals optimized in <span style=\"color: #008080; text-decoration-color: #008080; font-weight: bold\">11.0</span> s using <span style=\"color: #008080; text-decoration-color: #008080; font-weight: bold\">4</span> CPUs\n",
       "</pre>\n"
      ],
      "text/plain": [
       "\u001b[1;36m1600\u001b[0m proposals optimized in \u001b[1;36m11.0\u001b[0m s using \u001b[1;36m4\u001b[0m CPUs\n"
      ]
     },
     "metadata": {},
     "output_type": "display_data"
    },
    {
     "data": {
      "text/html": [
       "<pre style=\"white-space:pre;overflow-x:auto;line-height:normal;font-family:Menlo,'DejaVu Sans Mono',consolas,'Courier New',monospace\"><span style=\"color: #008080; text-decoration-color: #008080; font-weight: bold\">1600</span> proposals optimized in <span style=\"color: #008080; text-decoration-color: #008080; font-weight: bold\">11.0</span> s using <span style=\"color: #008080; text-decoration-color: #008080; font-weight: bold\">4</span> CPUs\n",
       "</pre>\n"
      ],
      "text/plain": [
       "\u001b[1;36m1600\u001b[0m proposals optimized in \u001b[1;36m11.0\u001b[0m s using \u001b[1;36m4\u001b[0m CPUs\n"
      ]
     },
     "metadata": {},
     "output_type": "display_data"
    },
    {
     "data": {
      "text/html": [
       "<pre style=\"white-space:pre;overflow-x:auto;line-height:normal;font-family:Menlo,'DejaVu Sans Mono',consolas,'Courier New',monospace\"><span style=\"color: #008080; text-decoration-color: #008080; font-weight: bold\">1600</span> proposals optimized in <span style=\"color: #008080; text-decoration-color: #008080; font-weight: bold\">10.9</span> s using <span style=\"color: #008080; text-decoration-color: #008080; font-weight: bold\">4</span> CPUs\n",
       "</pre>\n"
      ],
      "text/plain": [
       "\u001b[1;36m1600\u001b[0m proposals optimized in \u001b[1;36m10.9\u001b[0m s using \u001b[1;36m4\u001b[0m CPUs\n"
      ]
     },
     "metadata": {},
     "output_type": "display_data"
    },
    {
     "data": {
      "text/html": [
       "<pre style=\"white-space:pre;overflow-x:auto;line-height:normal;font-family:Menlo,'DejaVu Sans Mono',consolas,'Courier New',monospace\"><span style=\"color: #008080; text-decoration-color: #008080; font-weight: bold\">1600</span> proposals optimized in <span style=\"color: #008080; text-decoration-color: #008080; font-weight: bold\">10.7</span> s using <span style=\"color: #008080; text-decoration-color: #008080; font-weight: bold\">4</span> CPUs\n",
       "</pre>\n"
      ],
      "text/plain": [
       "\u001b[1;36m1600\u001b[0m proposals optimized in \u001b[1;36m10.7\u001b[0m s using \u001b[1;36m4\u001b[0m CPUs\n"
      ]
     },
     "metadata": {},
     "output_type": "display_data"
    },
    {
     "data": {
      "text/html": [
       "<pre style=\"white-space:pre;overflow-x:auto;line-height:normal;font-family:Menlo,'DejaVu Sans Mono',consolas,'Courier New',monospace\"><span style=\"color: #008080; text-decoration-color: #008080; font-weight: bold\">1600</span> proposals optimized in <span style=\"color: #008080; text-decoration-color: #008080; font-weight: bold\">10.9</span> s using <span style=\"color: #008080; text-decoration-color: #008080; font-weight: bold\">4</span> CPUs\n",
       "</pre>\n"
      ],
      "text/plain": [
       "\u001b[1;36m1600\u001b[0m proposals optimized in \u001b[1;36m10.9\u001b[0m s using \u001b[1;36m4\u001b[0m CPUs\n"
      ]
     },
     "metadata": {},
     "output_type": "display_data"
    },
    {
     "data": {
      "text/html": [
       "<pre style=\"white-space:pre;overflow-x:auto;line-height:normal;font-family:Menlo,'DejaVu Sans Mono',consolas,'Courier New',monospace\"><span style=\"color: #008080; text-decoration-color: #008080; font-weight: bold\">1600</span> proposals optimized in <span style=\"color: #008080; text-decoration-color: #008080; font-weight: bold\">11.0</span> s using <span style=\"color: #008080; text-decoration-color: #008080; font-weight: bold\">4</span> CPUs\n",
       "</pre>\n"
      ],
      "text/plain": [
       "\u001b[1;36m1600\u001b[0m proposals optimized in \u001b[1;36m11.0\u001b[0m s using \u001b[1;36m4\u001b[0m CPUs\n"
      ]
     },
     "metadata": {},
     "output_type": "display_data"
    },
    {
     "data": {
      "text/html": [
       "<pre style=\"white-space:pre;overflow-x:auto;line-height:normal;font-family:Menlo,'DejaVu Sans Mono',consolas,'Courier New',monospace\"><span style=\"color: #008080; text-decoration-color: #008080; font-weight: bold\">1600</span> proposals optimized in <span style=\"color: #008080; text-decoration-color: #008080; font-weight: bold\">11.0</span> s using <span style=\"color: #008080; text-decoration-color: #008080; font-weight: bold\">4</span> CPUs\n",
       "</pre>\n"
      ],
      "text/plain": [
       "\u001b[1;36m1600\u001b[0m proposals optimized in \u001b[1;36m11.0\u001b[0m s using \u001b[1;36m4\u001b[0m CPUs\n"
      ]
     },
     "metadata": {},
     "output_type": "display_data"
    },
    {
     "data": {
      "text/html": [
       "<pre style=\"white-space:pre;overflow-x:auto;line-height:normal;font-family:Menlo,'DejaVu Sans Mono',consolas,'Courier New',monospace\"><span style=\"color: #008080; text-decoration-color: #008080; font-weight: bold\">1600</span> proposals optimized in <span style=\"color: #008080; text-decoration-color: #008080; font-weight: bold\">11.1</span> s using <span style=\"color: #008080; text-decoration-color: #008080; font-weight: bold\">4</span> CPUs\n",
       "</pre>\n"
      ],
      "text/plain": [
       "\u001b[1;36m1600\u001b[0m proposals optimized in \u001b[1;36m11.1\u001b[0m s using \u001b[1;36m4\u001b[0m CPUs\n"
      ]
     },
     "metadata": {},
     "output_type": "display_data"
    },
    {
     "data": {
      "text/html": [
       "<pre style=\"white-space:pre;overflow-x:auto;line-height:normal;font-family:Menlo,'DejaVu Sans Mono',consolas,'Courier New',monospace\"><span style=\"color: #008080; text-decoration-color: #008080; font-weight: bold\">1600</span> proposals optimized in <span style=\"color: #008080; text-decoration-color: #008080; font-weight: bold\">10.6</span> s using <span style=\"color: #008080; text-decoration-color: #008080; font-weight: bold\">4</span> CPUs\n",
       "</pre>\n"
      ],
      "text/plain": [
       "\u001b[1;36m1600\u001b[0m proposals optimized in \u001b[1;36m10.6\u001b[0m s using \u001b[1;36m4\u001b[0m CPUs\n"
      ]
     },
     "metadata": {},
     "output_type": "display_data"
    },
    {
     "data": {
      "text/html": [
       "<pre style=\"white-space:pre;overflow-x:auto;line-height:normal;font-family:Menlo,'DejaVu Sans Mono',consolas,'Courier New',monospace\"><span style=\"color: #008080; text-decoration-color: #008080; font-weight: bold\">1600</span> proposals optimized in <span style=\"color: #008080; text-decoration-color: #008080; font-weight: bold\">11.2</span> s using <span style=\"color: #008080; text-decoration-color: #008080; font-weight: bold\">4</span> CPUs\n",
       "</pre>\n"
      ],
      "text/plain": [
       "\u001b[1;36m1600\u001b[0m proposals optimized in \u001b[1;36m11.2\u001b[0m s using \u001b[1;36m4\u001b[0m CPUs\n"
      ]
     },
     "metadata": {},
     "output_type": "display_data"
    },
    {
     "data": {
      "text/html": [
       "<pre style=\"white-space:pre;overflow-x:auto;line-height:normal;font-family:Menlo,'DejaVu Sans Mono',consolas,'Courier New',monospace\"><span style=\"color: #008080; text-decoration-color: #008080; font-weight: bold\">1600</span> proposals optimized in <span style=\"color: #008080; text-decoration-color: #008080; font-weight: bold\">11.4</span> s using <span style=\"color: #008080; text-decoration-color: #008080; font-weight: bold\">4</span> CPUs\n",
       "</pre>\n"
      ],
      "text/plain": [
       "\u001b[1;36m1600\u001b[0m proposals optimized in \u001b[1;36m11.4\u001b[0m s using \u001b[1;36m4\u001b[0m CPUs\n"
      ]
     },
     "metadata": {},
     "output_type": "display_data"
    },
    {
     "data": {
      "text/html": [
       "<pre style=\"white-space:pre;overflow-x:auto;line-height:normal;font-family:Menlo,'DejaVu Sans Mono',consolas,'Courier New',monospace\"><span style=\"color: #008080; text-decoration-color: #008080; font-weight: bold\">1600</span> proposals optimized in <span style=\"color: #008080; text-decoration-color: #008080; font-weight: bold\">11.2</span> s using <span style=\"color: #008080; text-decoration-color: #008080; font-weight: bold\">4</span> CPUs\n",
       "</pre>\n"
      ],
      "text/plain": [
       "\u001b[1;36m1600\u001b[0m proposals optimized in \u001b[1;36m11.2\u001b[0m s using \u001b[1;36m4\u001b[0m CPUs\n"
      ]
     },
     "metadata": {},
     "output_type": "display_data"
    },
    {
     "data": {
      "text/html": [
       "<pre style=\"white-space:pre;overflow-x:auto;line-height:normal;font-family:Menlo,'DejaVu Sans Mono',consolas,'Courier New',monospace\"><span style=\"color: #008080; text-decoration-color: #008080; font-weight: bold\">1600</span> proposals optimized in <span style=\"color: #008080; text-decoration-color: #008080; font-weight: bold\">11.0</span> s using <span style=\"color: #008080; text-decoration-color: #008080; font-weight: bold\">4</span> CPUs\n",
       "</pre>\n"
      ],
      "text/plain": [
       "\u001b[1;36m1600\u001b[0m proposals optimized in \u001b[1;36m11.0\u001b[0m s using \u001b[1;36m4\u001b[0m CPUs\n"
      ]
     },
     "metadata": {},
     "output_type": "display_data"
    },
    {
     "data": {
      "text/html": [
       "<pre style=\"white-space:pre;overflow-x:auto;line-height:normal;font-family:Menlo,'DejaVu Sans Mono',consolas,'Courier New',monospace\"><span style=\"color: #008080; text-decoration-color: #008080; font-weight: bold\">1600</span> proposals optimized in <span style=\"color: #008080; text-decoration-color: #008080; font-weight: bold\">11.3</span> s using <span style=\"color: #008080; text-decoration-color: #008080; font-weight: bold\">4</span> CPUs\n",
       "</pre>\n"
      ],
      "text/plain": [
       "\u001b[1;36m1600\u001b[0m proposals optimized in \u001b[1;36m11.3\u001b[0m s using \u001b[1;36m4\u001b[0m CPUs\n"
      ]
     },
     "metadata": {},
     "output_type": "display_data"
    },
    {
     "data": {
      "text/html": [
       "<pre style=\"white-space:pre;overflow-x:auto;line-height:normal;font-family:Menlo,'DejaVu Sans Mono',consolas,'Courier New',monospace\"><span style=\"color: #008080; text-decoration-color: #008080; font-weight: bold\">1600</span> proposals optimized in <span style=\"color: #008080; text-decoration-color: #008080; font-weight: bold\">11.0</span> s using <span style=\"color: #008080; text-decoration-color: #008080; font-weight: bold\">4</span> CPUs\n",
       "</pre>\n"
      ],
      "text/plain": [
       "\u001b[1;36m1600\u001b[0m proposals optimized in \u001b[1;36m11.0\u001b[0m s using \u001b[1;36m4\u001b[0m CPUs\n"
      ]
     },
     "metadata": {},
     "output_type": "display_data"
    },
    {
     "data": {
      "text/html": [
       "<pre style=\"white-space:pre;overflow-x:auto;line-height:normal;font-family:Menlo,'DejaVu Sans Mono',consolas,'Courier New',monospace\"><span style=\"color: #008080; text-decoration-color: #008080; font-weight: bold\">1600</span> proposals optimized in <span style=\"color: #008080; text-decoration-color: #008080; font-weight: bold\">10.8</span> s using <span style=\"color: #008080; text-decoration-color: #008080; font-weight: bold\">4</span> CPUs\n",
       "</pre>\n"
      ],
      "text/plain": [
       "\u001b[1;36m1600\u001b[0m proposals optimized in \u001b[1;36m10.8\u001b[0m s using \u001b[1;36m4\u001b[0m CPUs\n"
      ]
     },
     "metadata": {},
     "output_type": "display_data"
    },
    {
     "data": {
      "text/html": [
       "<pre style=\"white-space:pre;overflow-x:auto;line-height:normal;font-family:Menlo,'DejaVu Sans Mono',consolas,'Courier New',monospace\"><span style=\"color: #008080; text-decoration-color: #008080; font-weight: bold\">1600</span> proposals optimized in <span style=\"color: #008080; text-decoration-color: #008080; font-weight: bold\">11.4</span> s using <span style=\"color: #008080; text-decoration-color: #008080; font-weight: bold\">4</span> CPUs\n",
       "</pre>\n"
      ],
      "text/plain": [
       "\u001b[1;36m1600\u001b[0m proposals optimized in \u001b[1;36m11.4\u001b[0m s using \u001b[1;36m4\u001b[0m CPUs\n"
      ]
     },
     "metadata": {},
     "output_type": "display_data"
    },
    {
     "data": {
      "text/html": [
       "<pre style=\"white-space:pre;overflow-x:auto;line-height:normal;font-family:Menlo,'DejaVu Sans Mono',consolas,'Courier New',monospace\"><span style=\"color: #008080; text-decoration-color: #008080; font-weight: bold\">1600</span> proposals optimized in <span style=\"color: #008080; text-decoration-color: #008080; font-weight: bold\">11.0</span> s using <span style=\"color: #008080; text-decoration-color: #008080; font-weight: bold\">4</span> CPUs\n",
       "</pre>\n"
      ],
      "text/plain": [
       "\u001b[1;36m1600\u001b[0m proposals optimized in \u001b[1;36m11.0\u001b[0m s using \u001b[1;36m4\u001b[0m CPUs\n"
      ]
     },
     "metadata": {},
     "output_type": "display_data"
    },
    {
     "data": {
      "text/html": [
       "<pre style=\"white-space:pre;overflow-x:auto;line-height:normal;font-family:Menlo,'DejaVu Sans Mono',consolas,'Courier New',monospace\"><span style=\"color: #008080; text-decoration-color: #008080; font-weight: bold\">1600</span> proposals optimized in <span style=\"color: #008080; text-decoration-color: #008080; font-weight: bold\">10.8</span> s using <span style=\"color: #008080; text-decoration-color: #008080; font-weight: bold\">4</span> CPUs\n",
       "</pre>\n"
      ],
      "text/plain": [
       "\u001b[1;36m1600\u001b[0m proposals optimized in \u001b[1;36m10.8\u001b[0m s using \u001b[1;36m4\u001b[0m CPUs\n"
      ]
     },
     "metadata": {},
     "output_type": "display_data"
    },
    {
     "data": {
      "text/html": [
       "<pre style=\"white-space:pre;overflow-x:auto;line-height:normal;font-family:Menlo,'DejaVu Sans Mono',consolas,'Courier New',monospace\"><span style=\"color: #008080; text-decoration-color: #008080; font-weight: bold\">1600</span> proposals optimized in <span style=\"color: #008080; text-decoration-color: #008080; font-weight: bold\">10.6</span> s using <span style=\"color: #008080; text-decoration-color: #008080; font-weight: bold\">4</span> CPUs\n",
       "</pre>\n"
      ],
      "text/plain": [
       "\u001b[1;36m1600\u001b[0m proposals optimized in \u001b[1;36m10.6\u001b[0m s using \u001b[1;36m4\u001b[0m CPUs\n"
      ]
     },
     "metadata": {},
     "output_type": "display_data"
    },
    {
     "data": {
      "text/html": [
       "<pre style=\"white-space:pre;overflow-x:auto;line-height:normal;font-family:Menlo,'DejaVu Sans Mono',consolas,'Courier New',monospace\"><span style=\"color: #008080; text-decoration-color: #008080; font-weight: bold\">1600</span> proposals optimized in <span style=\"color: #008080; text-decoration-color: #008080; font-weight: bold\">10.7</span> s using <span style=\"color: #008080; text-decoration-color: #008080; font-weight: bold\">4</span> CPUs\n",
       "</pre>\n"
      ],
      "text/plain": [
       "\u001b[1;36m1600\u001b[0m proposals optimized in \u001b[1;36m10.7\u001b[0m s using \u001b[1;36m4\u001b[0m CPUs\n"
      ]
     },
     "metadata": {},
     "output_type": "display_data"
    },
    {
     "data": {
      "text/html": [
       "<pre style=\"white-space:pre;overflow-x:auto;line-height:normal;font-family:Menlo,'DejaVu Sans Mono',consolas,'Courier New',monospace\"><span style=\"color: #008080; text-decoration-color: #008080; font-weight: bold\">1600</span> proposals optimized in <span style=\"color: #008080; text-decoration-color: #008080; font-weight: bold\">10.8</span> s using <span style=\"color: #008080; text-decoration-color: #008080; font-weight: bold\">4</span> CPUs\n",
       "</pre>\n"
      ],
      "text/plain": [
       "\u001b[1;36m1600\u001b[0m proposals optimized in \u001b[1;36m10.8\u001b[0m s using \u001b[1;36m4\u001b[0m CPUs\n"
      ]
     },
     "metadata": {},
     "output_type": "display_data"
    },
    {
     "data": {
      "text/html": [
       "<pre style=\"white-space:pre;overflow-x:auto;line-height:normal;font-family:Menlo,'DejaVu Sans Mono',consolas,'Courier New',monospace\"><span style=\"color: #008080; text-decoration-color: #008080; font-weight: bold\">1600</span> proposals optimized in <span style=\"color: #008080; text-decoration-color: #008080; font-weight: bold\">10.6</span> s using <span style=\"color: #008080; text-decoration-color: #008080; font-weight: bold\">4</span> CPUs\n",
       "</pre>\n"
      ],
      "text/plain": [
       "\u001b[1;36m1600\u001b[0m proposals optimized in \u001b[1;36m10.6\u001b[0m s using \u001b[1;36m4\u001b[0m CPUs\n"
      ]
     },
     "metadata": {},
     "output_type": "display_data"
    },
    {
     "data": {
      "text/html": [
       "<pre style=\"white-space:pre;overflow-x:auto;line-height:normal;font-family:Menlo,'DejaVu Sans Mono',consolas,'Courier New',monospace\"><span style=\"color: #008080; text-decoration-color: #008080; font-weight: bold\">1600</span> proposals optimized in <span style=\"color: #008080; text-decoration-color: #008080; font-weight: bold\">11.0</span> s using <span style=\"color: #008080; text-decoration-color: #008080; font-weight: bold\">4</span> CPUs\n",
       "</pre>\n"
      ],
      "text/plain": [
       "\u001b[1;36m1600\u001b[0m proposals optimized in \u001b[1;36m11.0\u001b[0m s using \u001b[1;36m4\u001b[0m CPUs\n"
      ]
     },
     "metadata": {},
     "output_type": "display_data"
    },
    {
     "data": {
      "text/html": [
       "<pre style=\"white-space:pre;overflow-x:auto;line-height:normal;font-family:Menlo,'DejaVu Sans Mono',consolas,'Courier New',monospace\"><span style=\"color: #008080; text-decoration-color: #008080; font-weight: bold\">1600</span> proposals optimized in <span style=\"color: #008080; text-decoration-color: #008080; font-weight: bold\">11.0</span> s using <span style=\"color: #008080; text-decoration-color: #008080; font-weight: bold\">4</span> CPUs\n",
       "</pre>\n"
      ],
      "text/plain": [
       "\u001b[1;36m1600\u001b[0m proposals optimized in \u001b[1;36m11.0\u001b[0m s using \u001b[1;36m4\u001b[0m CPUs\n"
      ]
     },
     "metadata": {},
     "output_type": "display_data"
    },
    {
     "data": {
      "text/html": [
       "<pre style=\"white-space:pre;overflow-x:auto;line-height:normal;font-family:Menlo,'DejaVu Sans Mono',consolas,'Courier New',monospace\"><span style=\"color: #008080; text-decoration-color: #008080; font-weight: bold\">1600</span> proposals optimized in <span style=\"color: #008080; text-decoration-color: #008080; font-weight: bold\">11.0</span> s using <span style=\"color: #008080; text-decoration-color: #008080; font-weight: bold\">4</span> CPUs\n",
       "</pre>\n"
      ],
      "text/plain": [
       "\u001b[1;36m1600\u001b[0m proposals optimized in \u001b[1;36m11.0\u001b[0m s using \u001b[1;36m4\u001b[0m CPUs\n"
      ]
     },
     "metadata": {},
     "output_type": "display_data"
    },
    {
     "data": {
      "text/html": [
       "<pre style=\"white-space:pre;overflow-x:auto;line-height:normal;font-family:Menlo,'DejaVu Sans Mono',consolas,'Courier New',monospace\"><span style=\"color: #008080; text-decoration-color: #008080; font-weight: bold\">1600</span> proposals optimized in <span style=\"color: #008080; text-decoration-color: #008080; font-weight: bold\">10.7</span> s using <span style=\"color: #008080; text-decoration-color: #008080; font-weight: bold\">4</span> CPUs\n",
       "</pre>\n"
      ],
      "text/plain": [
       "\u001b[1;36m1600\u001b[0m proposals optimized in \u001b[1;36m10.7\u001b[0m s using \u001b[1;36m4\u001b[0m CPUs\n"
      ]
     },
     "metadata": {},
     "output_type": "display_data"
    },
    {
     "data": {
      "text/html": [
       "<pre style=\"white-space:pre;overflow-x:auto;line-height:normal;font-family:Menlo,'DejaVu Sans Mono',consolas,'Courier New',monospace\"><span style=\"color: #008080; text-decoration-color: #008080; font-weight: bold\">1600</span> proposals optimized in <span style=\"color: #008080; text-decoration-color: #008080; font-weight: bold\">11.0</span> s using <span style=\"color: #008080; text-decoration-color: #008080; font-weight: bold\">4</span> CPUs\n",
       "</pre>\n"
      ],
      "text/plain": [
       "\u001b[1;36m1600\u001b[0m proposals optimized in \u001b[1;36m11.0\u001b[0m s using \u001b[1;36m4\u001b[0m CPUs\n"
      ]
     },
     "metadata": {},
     "output_type": "display_data"
    },
    {
     "data": {
      "text/html": [
       "<pre style=\"white-space:pre;overflow-x:auto;line-height:normal;font-family:Menlo,'DejaVu Sans Mono',consolas,'Courier New',monospace\"><span style=\"color: #008080; text-decoration-color: #008080; font-weight: bold\">1600</span> proposals optimized in <span style=\"color: #008080; text-decoration-color: #008080; font-weight: bold\">10.8</span> s using <span style=\"color: #008080; text-decoration-color: #008080; font-weight: bold\">4</span> CPUs\n",
       "</pre>\n"
      ],
      "text/plain": [
       "\u001b[1;36m1600\u001b[0m proposals optimized in \u001b[1;36m10.8\u001b[0m s using \u001b[1;36m4\u001b[0m CPUs\n"
      ]
     },
     "metadata": {},
     "output_type": "display_data"
    },
    {
     "data": {
      "text/html": [
       "<pre style=\"white-space:pre;overflow-x:auto;line-height:normal;font-family:Menlo,'DejaVu Sans Mono',consolas,'Courier New',monospace\"><span style=\"color: #008080; text-decoration-color: #008080; font-weight: bold\">1600</span> proposals optimized in <span style=\"color: #008080; text-decoration-color: #008080; font-weight: bold\">10.6</span> s using <span style=\"color: #008080; text-decoration-color: #008080; font-weight: bold\">4</span> CPUs\n",
       "</pre>\n"
      ],
      "text/plain": [
       "\u001b[1;36m1600\u001b[0m proposals optimized in \u001b[1;36m10.6\u001b[0m s using \u001b[1;36m4\u001b[0m CPUs\n"
      ]
     },
     "metadata": {},
     "output_type": "display_data"
    },
    {
     "data": {
      "text/html": [
       "<pre style=\"white-space:pre;overflow-x:auto;line-height:normal;font-family:Menlo,'DejaVu Sans Mono',consolas,'Courier New',monospace\"><span style=\"color: #008080; text-decoration-color: #008080; font-weight: bold\">1600</span> proposals optimized in <span style=\"color: #008080; text-decoration-color: #008080; font-weight: bold\">10.9</span> s using <span style=\"color: #008080; text-decoration-color: #008080; font-weight: bold\">4</span> CPUs\n",
       "</pre>\n"
      ],
      "text/plain": [
       "\u001b[1;36m1600\u001b[0m proposals optimized in \u001b[1;36m10.9\u001b[0m s using \u001b[1;36m4\u001b[0m CPUs\n"
      ]
     },
     "metadata": {},
     "output_type": "display_data"
    },
    {
     "data": {
      "text/html": [
       "<pre style=\"white-space:pre;overflow-x:auto;line-height:normal;font-family:Menlo,'DejaVu Sans Mono',consolas,'Courier New',monospace\"><span style=\"color: #008080; text-decoration-color: #008080; font-weight: bold\">1600</span> proposals optimized in <span style=\"color: #008080; text-decoration-color: #008080; font-weight: bold\">11.0</span> s using <span style=\"color: #008080; text-decoration-color: #008080; font-weight: bold\">4</span> CPUs\n",
       "</pre>\n"
      ],
      "text/plain": [
       "\u001b[1;36m1600\u001b[0m proposals optimized in \u001b[1;36m11.0\u001b[0m s using \u001b[1;36m4\u001b[0m CPUs\n"
      ]
     },
     "metadata": {},
     "output_type": "display_data"
    },
    {
     "data": {
      "text/html": [
       "<pre style=\"white-space:pre;overflow-x:auto;line-height:normal;font-family:Menlo,'DejaVu Sans Mono',consolas,'Courier New',monospace\"><span style=\"color: #008080; text-decoration-color: #008080; font-weight: bold\">1600</span> proposals optimized in <span style=\"color: #008080; text-decoration-color: #008080; font-weight: bold\">11.0</span> s using <span style=\"color: #008080; text-decoration-color: #008080; font-weight: bold\">4</span> CPUs\n",
       "</pre>\n"
      ],
      "text/plain": [
       "\u001b[1;36m1600\u001b[0m proposals optimized in \u001b[1;36m11.0\u001b[0m s using \u001b[1;36m4\u001b[0m CPUs\n"
      ]
     },
     "metadata": {},
     "output_type": "display_data"
    },
    {
     "data": {
      "text/html": [
       "<pre style=\"white-space:pre;overflow-x:auto;line-height:normal;font-family:Menlo,'DejaVu Sans Mono',consolas,'Courier New',monospace\"><span style=\"color: #008080; text-decoration-color: #008080; font-weight: bold\">1600</span> proposals optimized in <span style=\"color: #008080; text-decoration-color: #008080; font-weight: bold\">11.4</span> s using <span style=\"color: #008080; text-decoration-color: #008080; font-weight: bold\">4</span> CPUs\n",
       "</pre>\n"
      ],
      "text/plain": [
       "\u001b[1;36m1600\u001b[0m proposals optimized in \u001b[1;36m11.4\u001b[0m s using \u001b[1;36m4\u001b[0m CPUs\n"
      ]
     },
     "metadata": {},
     "output_type": "display_data"
    },
    {
     "data": {
      "text/html": [
       "<pre style=\"white-space:pre;overflow-x:auto;line-height:normal;font-family:Menlo,'DejaVu Sans Mono',consolas,'Courier New',monospace\"><span style=\"color: #008080; text-decoration-color: #008080; font-weight: bold\">1600</span> proposals optimized in <span style=\"color: #008080; text-decoration-color: #008080; font-weight: bold\">10.9</span> s using <span style=\"color: #008080; text-decoration-color: #008080; font-weight: bold\">4</span> CPUs\n",
       "</pre>\n"
      ],
      "text/plain": [
       "\u001b[1;36m1600\u001b[0m proposals optimized in \u001b[1;36m10.9\u001b[0m s using \u001b[1;36m4\u001b[0m CPUs\n"
      ]
     },
     "metadata": {},
     "output_type": "display_data"
    },
    {
     "data": {
      "text/html": [
       "<pre style=\"white-space:pre;overflow-x:auto;line-height:normal;font-family:Menlo,'DejaVu Sans Mono',consolas,'Courier New',monospace\"><span style=\"color: #008080; text-decoration-color: #008080; font-weight: bold\">1600</span> proposals optimized in <span style=\"color: #008080; text-decoration-color: #008080; font-weight: bold\">10.7</span> s using <span style=\"color: #008080; text-decoration-color: #008080; font-weight: bold\">4</span> CPUs\n",
       "</pre>\n"
      ],
      "text/plain": [
       "\u001b[1;36m1600\u001b[0m proposals optimized in \u001b[1;36m10.7\u001b[0m s using \u001b[1;36m4\u001b[0m CPUs\n"
      ]
     },
     "metadata": {},
     "output_type": "display_data"
    },
    {
     "data": {
      "text/html": [
       "<pre style=\"white-space:pre;overflow-x:auto;line-height:normal;font-family:Menlo,'DejaVu Sans Mono',consolas,'Courier New',monospace\"><span style=\"color: #008080; text-decoration-color: #008080; font-weight: bold\">1600</span> proposals optimized in <span style=\"color: #008080; text-decoration-color: #008080; font-weight: bold\">10.9</span> s using <span style=\"color: #008080; text-decoration-color: #008080; font-weight: bold\">4</span> CPUs\n",
       "</pre>\n"
      ],
      "text/plain": [
       "\u001b[1;36m1600\u001b[0m proposals optimized in \u001b[1;36m10.9\u001b[0m s using \u001b[1;36m4\u001b[0m CPUs\n"
      ]
     },
     "metadata": {},
     "output_type": "display_data"
    },
    {
     "data": {
      "text/html": [
       "<pre style=\"white-space:pre;overflow-x:auto;line-height:normal;font-family:Menlo,'DejaVu Sans Mono',consolas,'Courier New',monospace\">Acquisition tasks for <span style=\"color: #008080; text-decoration-color: #008080; font-weight: bold\">40</span> sampling strategies performed in <span style=\"color: #008080; text-decoration-color: #008080; font-weight: bold\">7</span> min <span style=\"color: #008080; text-decoration-color: #008080; font-weight: bold\">57</span> s\n",
       "</pre>\n"
      ],
      "text/plain": [
       "Acquisition tasks for \u001b[1;36m40\u001b[0m sampling strategies performed in \u001b[1;36m7\u001b[0m min \u001b[1;36m57\u001b[0m s\n"
      ]
     },
     "metadata": {},
     "output_type": "display_data"
    },
    {
     "data": {
      "text/html": [
       "<pre style=\"white-space:pre;overflow-x:auto;line-height:normal;font-family:Menlo,'DejaVu Sans Mono',consolas,'Courier New',monospace\"><span style=\"color: #008080; text-decoration-color: #008080; font-weight: bold\">40</span> samples selected in <span style=\"color: #008080; text-decoration-color: #008080; font-weight: bold\">1</span> min <span style=\"color: #008080; text-decoration-color: #008080; font-weight: bold\">19</span> s\n",
       "</pre>\n"
      ],
      "text/plain": [
       "\u001b[1;36m40\u001b[0m samples selected in \u001b[1;36m1\u001b[0m min \u001b[1;36m19\u001b[0m s\n"
      ]
     },
     "metadata": {},
     "output_type": "display_data"
    },
    {
     "data": {
      "text/html": [
       "<pre style=\"white-space:pre;overflow-x:auto;line-height:normal;font-family:Menlo,'DejaVu Sans Mono',consolas,'Courier New',monospace\">Memory usage: <span style=\"color: #008080; text-decoration-color: #008080; font-weight: bold\">5</span> GB, <span style=\"color: #008080; text-decoration-color: #008080; font-weight: bold\">5054</span> MB, <span style=\"color: #008080; text-decoration-color: #008080; font-weight: bold\">700</span> kB\n",
       "</pre>\n"
      ],
      "text/plain": [
       "Memory usage: \u001b[1;36m5\u001b[0m GB, \u001b[1;36m5054\u001b[0m MB, \u001b[1;36m700\u001b[0m kB\n"
      ]
     },
     "metadata": {},
     "output_type": "display_data"
    },
    {
     "data": {
      "text/html": [
       "<pre style=\"white-space:pre;overflow-x:auto;line-height:normal;font-family:Menlo,'DejaVu Sans Mono',consolas,'Courier New',monospace\">Overall time required: <span style=\"color: #008080; text-decoration-color: #008080; font-weight: bold\">10</span> min <span style=\"color: #008080; text-decoration-color: #008080; font-weight: bold\">17</span> s\n",
       "</pre>\n"
      ],
      "text/plain": [
       "Overall time required: \u001b[1;36m10\u001b[0m min \u001b[1;36m17\u001b[0m s\n"
      ]
     },
     "metadata": {},
     "output_type": "display_data"
    }
   ],
   "source": [
    "# # recommend a batch of samples\n",
    "# samples = []\n",
    "# for ix, sampling_strat in enumerate(sampling_strategies):\n",
    "    \n",
    "#     sample = gryffin.recommend(observations, sampling_strategies=[sampling_strat])\n",
    "#     print(f'\\nSAMPLING STRATEGY : {sampling_strat} SAMPLE : {sample}\\n')\n",
    "#     samples.extend(sample) \n",
    "\n",
    "samples = gryffin.recommend(observations, sampling_strategies=sampling_strategies)\n",
    "    "
   ]
  },
  {
   "cell_type": "code",
   "execution_count": 61,
   "id": "a9d5a594",
   "metadata": {
    "pycharm": {
     "name": "#%%\n"
    }
   },
   "outputs": [
    {
     "data": {
      "text/plain": [
       "(False, False)"
      ]
     },
     "execution_count": 61,
     "metadata": {},
     "output_type": "execute_result"
    }
   ],
   "source": [
    "def check_duplicates(samples, observations):\n",
    "    ''' returns True if there are duplicates, False if there are none\n",
    "    '''\n",
    "    sample_hids = [''.join([s['fragment_a'],s['fragment_b'],s['fragment_c']]) for s in samples]\n",
    "    observ_hids = [''.join([o['fragment_a'],o['fragment_b'],o['fragment_c']]) for o in observations]\n",
    "    \n",
    "    # check duplicates over previous observations \n",
    "    is_obs_dup = any(s in observ_hids for s in sample_hids)\n",
    "    \n",
    "    # check duplicates within the batch\n",
    "    is_samp_dup = len(set(sample_hids))<len(sample_hids)\n",
    "\n",
    "    # for sample in set(sample_hids):\n",
    "    #     print(sample, sample_hids.count(sample))\n",
    "    \n",
    "    return is_samp_dup, is_obs_dup\n",
    "\n",
    "check_duplicates(samples, observations)"
   ]
  },
  {
   "cell_type": "code",
   "execution_count": 62,
   "id": "d017e982",
   "metadata": {
    "pycharm": {
     "name": "#%%\n"
    }
   },
   "outputs": [
    {
     "data": {
      "text/plain": [
       "[{'fragment_a': 'A014',\n",
       "  'fragment_b': 'B033',\n",
       "  'fragment_c': 'C009',\n",
       "  'synthesis_gen': 'gen_2'},\n",
       " {'fragment_a': 'A014',\n",
       "  'fragment_b': 'B052',\n",
       "  'fragment_c': 'C009',\n",
       "  'synthesis_gen': 'gen_2'},\n",
       " {'fragment_a': 'A024',\n",
       "  'fragment_b': 'B033',\n",
       "  'fragment_c': 'C009',\n",
       "  'synthesis_gen': 'gen_2'},\n",
       " {'fragment_a': 'A022',\n",
       "  'fragment_b': 'B033',\n",
       "  'fragment_c': 'C009',\n",
       "  'synthesis_gen': 'gen_2'},\n",
       " {'fragment_a': 'A028',\n",
       "  'fragment_b': 'B033',\n",
       "  'fragment_c': 'C009',\n",
       "  'synthesis_gen': 'gen_2'},\n",
       " {'fragment_a': 'A039',\n",
       "  'fragment_b': 'B033',\n",
       "  'fragment_c': 'C009',\n",
       "  'synthesis_gen': 'gen_2'},\n",
       " {'fragment_a': 'A027',\n",
       "  'fragment_b': 'B033',\n",
       "  'fragment_c': 'C009',\n",
       "  'synthesis_gen': 'gen_2'},\n",
       " {'fragment_a': 'A026',\n",
       "  'fragment_b': 'B033',\n",
       "  'fragment_c': 'C009',\n",
       "  'synthesis_gen': 'gen_2'},\n",
       " {'fragment_a': 'A023',\n",
       "  'fragment_b': 'B033',\n",
       "  'fragment_c': 'C009',\n",
       "  'synthesis_gen': 'gen_2'},\n",
       " {'fragment_a': 'A014',\n",
       "  'fragment_b': 'B059',\n",
       "  'fragment_c': 'C009',\n",
       "  'synthesis_gen': 'gen_2'},\n",
       " {'fragment_a': 'A014',\n",
       "  'fragment_b': 'B051',\n",
       "  'fragment_c': 'C009',\n",
       "  'synthesis_gen': 'gen_2'},\n",
       " {'fragment_a': 'A014',\n",
       "  'fragment_b': 'B057',\n",
       "  'fragment_c': 'C009',\n",
       "  'synthesis_gen': 'gen_2'},\n",
       " {'fragment_a': 'A021',\n",
       "  'fragment_b': 'B033',\n",
       "  'fragment_c': 'C009',\n",
       "  'synthesis_gen': 'gen_2'},\n",
       " {'fragment_a': 'A020',\n",
       "  'fragment_b': 'B033',\n",
       "  'fragment_c': 'C009',\n",
       "  'synthesis_gen': 'gen_2'},\n",
       " {'fragment_a': 'A042',\n",
       "  'fragment_b': 'B033',\n",
       "  'fragment_c': 'C009',\n",
       "  'synthesis_gen': 'gen_2'},\n",
       " {'fragment_a': 'A018',\n",
       "  'fragment_b': 'B033',\n",
       "  'fragment_c': 'C009',\n",
       "  'synthesis_gen': 'gen_2'},\n",
       " {'fragment_a': 'A003',\n",
       "  'fragment_b': 'B049',\n",
       "  'fragment_c': 'C087',\n",
       "  'synthesis_gen': 'gen_2'},\n",
       " {'fragment_a': 'A003',\n",
       "  'fragment_b': 'B039',\n",
       "  'fragment_c': 'C151',\n",
       "  'synthesis_gen': 'gen_2'},\n",
       " {'fragment_a': 'A003',\n",
       "  'fragment_b': 'B039',\n",
       "  'fragment_c': 'C067',\n",
       "  'synthesis_gen': 'gen_2'},\n",
       " {'fragment_a': 'A003',\n",
       "  'fragment_b': 'B048',\n",
       "  'fragment_c': 'C151',\n",
       "  'synthesis_gen': 'gen_2'},\n",
       " {'fragment_a': 'A003',\n",
       "  'fragment_b': 'B035',\n",
       "  'fragment_c': 'C151',\n",
       "  'synthesis_gen': 'gen_2'},\n",
       " {'fragment_a': 'A003',\n",
       "  'fragment_b': 'B036',\n",
       "  'fragment_c': 'C151',\n",
       "  'synthesis_gen': 'gen_2'},\n",
       " {'fragment_a': 'A003',\n",
       "  'fragment_b': 'B039',\n",
       "  'fragment_c': 'C142',\n",
       "  'synthesis_gen': 'gen_2'},\n",
       " {'fragment_a': 'A038',\n",
       "  'fragment_b': 'B039',\n",
       "  'fragment_c': 'C151',\n",
       "  'synthesis_gen': 'gen_2'},\n",
       " {'fragment_a': 'A038',\n",
       "  'fragment_b': 'B055',\n",
       "  'fragment_c': 'C075',\n",
       "  'synthesis_gen': 'gen_2'},\n",
       " {'fragment_a': 'A038',\n",
       "  'fragment_b': 'B047',\n",
       "  'fragment_c': 'C075',\n",
       "  'synthesis_gen': 'gen_2'},\n",
       " {'fragment_a': 'A038',\n",
       "  'fragment_b': 'B037',\n",
       "  'fragment_c': 'C075',\n",
       "  'synthesis_gen': 'gen_2'},\n",
       " {'fragment_a': 'A038',\n",
       "  'fragment_b': 'B042',\n",
       "  'fragment_c': 'C003',\n",
       "  'synthesis_gen': 'gen_2'},\n",
       " {'fragment_a': 'A038',\n",
       "  'fragment_b': 'B040',\n",
       "  'fragment_c': 'C067',\n",
       "  'synthesis_gen': 'gen_2'},\n",
       " {'fragment_a': 'A003',\n",
       "  'fragment_b': 'B039',\n",
       "  'fragment_c': 'C046',\n",
       "  'synthesis_gen': 'gen_2'},\n",
       " {'fragment_a': 'A008',\n",
       "  'fragment_b': 'B033',\n",
       "  'fragment_c': 'C009',\n",
       "  'synthesis_gen': 'gen_2'},\n",
       " {'fragment_a': 'A034',\n",
       "  'fragment_b': 'B033',\n",
       "  'fragment_c': 'C009',\n",
       "  'synthesis_gen': 'gen_2'},\n",
       " {'fragment_a': 'A035',\n",
       "  'fragment_b': 'B033',\n",
       "  'fragment_c': 'C009',\n",
       "  'synthesis_gen': 'gen_2'},\n",
       " {'fragment_a': 'A036',\n",
       "  'fragment_b': 'B033',\n",
       "  'fragment_c': 'C009',\n",
       "  'synthesis_gen': 'gen_2'},\n",
       " {'fragment_a': 'A022',\n",
       "  'fragment_b': 'B043',\n",
       "  'fragment_c': 'C009',\n",
       "  'synthesis_gen': 'gen_2'},\n",
       " {'fragment_a': 'A014',\n",
       "  'fragment_b': 'B038',\n",
       "  'fragment_c': 'C009',\n",
       "  'synthesis_gen': 'gen_2'},\n",
       " {'fragment_a': 'A014',\n",
       "  'fragment_b': 'B032',\n",
       "  'fragment_c': 'C009',\n",
       "  'synthesis_gen': 'gen_2'},\n",
       " {'fragment_a': 'A024',\n",
       "  'fragment_b': 'B054',\n",
       "  'fragment_c': 'C009',\n",
       "  'synthesis_gen': 'gen_2'},\n",
       " {'fragment_a': 'A028',\n",
       "  'fragment_b': 'B044',\n",
       "  'fragment_c': 'C009',\n",
       "  'synthesis_gen': 'gen_2'},\n",
       " {'fragment_a': 'A035',\n",
       "  'fragment_b': 'B060',\n",
       "  'fragment_c': 'C009',\n",
       "  'synthesis_gen': 'gen_2'}]"
      ]
     },
     "execution_count": 62,
     "metadata": {},
     "output_type": "execute_result"
    }
   ],
   "source": [
    "samples"
   ]
  },
  {
   "cell_type": "code",
   "execution_count": 63,
   "id": "e5f1b511",
   "metadata": {
    "pycharm": {
     "name": "#%%\n"
    }
   },
   "outputs": [],
   "source": [
    "rxn_transmut = allchem.ReactionFromSmarts(\"[*:1][Br,I]>>[*:1][Po]\")\n",
    "rxn_b_c = allchem.ReactionFromSmarts(\n",
    "    \"[Br,I][*:1].C[N+]12CC(=O)O[B-]1([*:2])OC(=O)C2>>[*:1]-[*:2]\"\n",
    ")\n",
    "rxn_a_b_c = allchem.ReactionFromSmarts(\"CC1(C)OB([*:1])OC1(C)C.[*:2][Po]>>[*:1]-[*:2]\")\n",
    "rxn_a_b_c2 = allchem.ReactionFromSmarts(\"[*:1]B(O)O.[*:2][Po]>>[*:1]-[*:2]\")\n",
    "\n",
    "\n",
    "def assemble_fragments(hid_a, hid_b, hid_c):\n",
    "    smiles_a = db.get_molecule(hid_a, identifier_type='hid').at[0, 'smiles']\n",
    "    smiles_b = db.get_molecule(hid_b, identifier_type='hid').at[0, 'smiles']\n",
    "    smiles_c = db.get_molecule(hid_c, identifier_type='hid').at[0, 'smiles']\n",
    "\n",
    "    a = chem.MolFromSmiles(smiles_a)\n",
    "    b = chem.MolFromSmiles(smiles_b)\n",
    "    c = chem.MolFromSmiles(smiles_c)\n",
    "    if a is None or b is None or c is None:\n",
    "        raise ValueError(\"Invalid SMILES\")\n",
    "\n",
    "    # Building the molecule... there is probably a better way\n",
    "    b_transmut = rxn_transmut.RunReactants([b])[0][0]\n",
    "    b_c = rxn_b_c.RunReactants([c, b_transmut])[0][0]\n",
    "    b_c_b = rxn_b_c.RunReactants([b_c, b_transmut])[0][0]\n",
    "    try:\n",
    "        a_b_c_b = rxn_a_b_c.RunReactants([a, b_c_b])[0][0]\n",
    "        a_b_c_b_a = rxn_a_b_c.RunReactants([a, a_b_c_b])[0][0]\n",
    "    except:\n",
    "        a_b_c_b = rxn_a_b_c2.RunReactants([a, b_c_b])[0][0]\n",
    "        a_b_c_b_a = rxn_a_b_c2.RunReactants([a, a_b_c_b])[0][0]\n",
    "    return chem.MolToSmiles(a_b_c_b_a)"
   ]
  },
  {
   "cell_type": "code",
   "execution_count": 64,
   "id": "d087bea2",
   "metadata": {
    "pycharm": {
     "name": "#%%\n"
    }
   },
   "outputs": [],
   "source": [
    "molecule_smiles = []\n",
    "molecule_hids = []\n",
    "\n",
    "for sample in samples:\n",
    "    molecule_hids.append(''.join([sample['fragment_a'],sample['fragment_b'],sample['fragment_c']]))\n",
    "    molecule_smiles.append(assemble_fragments(sample['fragment_a'], sample['fragment_b'], sample['fragment_c']))\n",
    "    "
   ]
  },
  {
   "cell_type": "code",
   "execution_count": 65,
   "id": "27556cbf",
   "metadata": {
    "pycharm": {
     "name": "#%%\n"
    }
   },
   "outputs": [],
   "source": [
    "molecule_mols = [chem.MolFromSmiles(s) for s in molecule_smiles]\n",
    "\n",
    "img = chem.Draw.MolsToGridImage(\n",
    "    molecule_mols, molsPerRow=5, subImgSize=(400,400), returnPNG=False, legends=molecule_hids,\n",
    ")\n",
    "img.save('round_3_samples_all.png')"
   ]
  },
  {
   "cell_type": "code",
   "execution_count": 66,
   "metadata": {
    "collapsed": false,
    "pycharm": {
     "name": "#%%\n"
    }
   },
   "outputs": [],
   "source": [
    "with open('round_3_samples_all.txt', 'w') as f:\n",
    "    for smile, hid in zip(molecule_smiles, molecule_hids):\n",
    "        f.write(f'{smile}\\t{hid}\\n')\n"
   ]
  },
  {
   "cell_type": "markdown",
   "metadata": {
    "collapsed": false,
    "pycharm": {
     "name": "#%% md\n"
    }
   },
   "source": [
    "## Write the new target molecules/syntheses to the DB"
   ]
  },
  {
   "cell_type": "code",
   "execution_count": 67,
   "metadata": {
    "collapsed": false,
    "pycharm": {
     "name": "#%%\n"
    }
   },
   "outputs": [
    {
     "name": "stdout",
     "output_type": "stream",
     "text": [
      ">> Creating DB entry for sample A014 B033 C009...\n",
      ">> Creating DB entry for sample A014 B052 C009...\n",
      ">> Creating DB entry for sample A024 B033 C009...\n",
      ">> Creating DB entry for sample A022 B033 C009...\n",
      ">> Creating DB entry for sample A028 B033 C009...\n",
      ">> Creating DB entry for sample A039 B033 C009...\n",
      ">> Creating DB entry for sample A027 B033 C009...\n",
      ">> Creating DB entry for sample A026 B033 C009...\n",
      ">> Creating DB entry for sample A023 B033 C009...\n",
      ">> Creating DB entry for sample A014 B059 C009...\n",
      ">> Creating DB entry for sample A014 B051 C009...\n",
      ">> Creating DB entry for sample A014 B057 C009...\n",
      ">> Creating DB entry for sample A021 B033 C009...\n",
      ">> Creating DB entry for sample A020 B033 C009...\n",
      ">> Creating DB entry for sample A042 B033 C009...\n",
      ">> Creating DB entry for sample A018 B033 C009...\n",
      ">> Creating DB entry for sample A003 B049 C087...\n",
      ">> Creating DB entry for sample A003 B039 C151...\n",
      ">> Creating DB entry for sample A003 B039 C067...\n",
      ">> Creating DB entry for sample A003 B048 C151...\n",
      ">> Creating DB entry for sample A003 B035 C151...\n",
      ">> Creating DB entry for sample A003 B036 C151...\n",
      ">> Creating DB entry for sample A003 B039 C142...\n",
      ">> Creating DB entry for sample A038 B039 C151...\n",
      ">> Creating DB entry for sample A038 B055 C075...\n",
      ">> Creating DB entry for sample A038 B047 C075...\n",
      ">> Creating DB entry for sample A038 B037 C075...\n",
      ">> Creating DB entry for sample A038 B042 C003...\n",
      ">> Creating DB entry for sample A038 B040 C067...\n",
      ">> Creating DB entry for sample A003 B039 C046...\n",
      ">> Creating DB entry for sample A008 B033 C009...\n",
      ">> Creating DB entry for sample A034 B033 C009...\n",
      ">> Creating DB entry for sample A035 B033 C009...\n",
      ">> Creating DB entry for sample A036 B033 C009...\n",
      ">> Creating DB entry for sample A022 B043 C009...\n",
      ">> Creating DB entry for sample A014 B038 C009...\n",
      ">> Creating DB entry for sample A014 B032 C009...\n",
      ">> Creating DB entry for sample A024 B054 C009...\n",
      ">> Creating DB entry for sample A028 B044 C009...\n",
      ">> Creating DB entry for sample A035 B060 C009...\n"
     ]
    }
   ],
   "source": [
    "for sample, smi in zip(samples, molecule_smiles):\n",
    "    print(f'>> Creating DB entry for sample {sample[\"fragment_a\"]} {sample[\"fragment_b\"]} {sample[\"fragment_c\"]}...')\n",
    "    db.create_target_compound(\n",
    "        fragments=[sample[\"fragment_a\"], sample[\"fragment_b\"], sample[\"fragment_c\"]],\n",
    "        smiles=smi\n",
    "    )"
   ]
  }
 ],
 "metadata": {
  "kernelspec": {
   "display_name": "Python 3.7.13 ('acdc_lasers')",
   "language": "python",
   "name": "python3"
  },
  "language_info": {
   "codemirror_mode": {
    "name": "ipython",
    "version": 3
   },
   "file_extension": ".py",
   "mimetype": "text/x-python",
   "name": "python",
   "nbconvert_exporter": "python",
   "pygments_lexer": "ipython3",
   "version": "3.7.13"
  },
  "vscode": {
   "interpreter": {
    "hash": "1282b83e0cb17e60c6533d53d9f5aa1cd7e7df4ed361b2ac837ce7830e0841c2"
   }
  }
 },
 "nbformat": 4,
 "nbformat_minor": 5
}
